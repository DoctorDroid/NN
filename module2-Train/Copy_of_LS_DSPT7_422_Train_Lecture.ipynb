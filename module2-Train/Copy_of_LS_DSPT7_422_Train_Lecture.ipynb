{
  "nbformat": 4,
  "nbformat_minor": 0,
  "metadata": {
    "colab": {
      "name": "Copy of LS_DSPT7_422_Train_Lecture.ipynb",
      "provenance": [],
      "collapsed_sections": []
    },
    "kernelspec": {
      "display_name": "Python 3",
      "language": "python",
      "name": "python3"
    },
    "language_info": {
      "codemirror_mode": {
        "name": "ipython",
        "version": 3
      },
      "file_extension": ".py",
      "mimetype": "text/x-python",
      "name": "python",
      "nbconvert_exporter": "python",
      "pygments_lexer": "ipython3",
      "version": "3.7.7"
    },
    "accelerator": "GPU"
  },
  "cells": [
    {
      "cell_type": "markdown",
      "metadata": {
        "id": "aS4GZ37Wgcjr"
      },
      "source": [
        "Lambda School Data Science\n",
        "\n",
        "*Unit 4, Sprint 2, Module 2*\n",
        "\n",
        "---"
      ]
    },
    {
      "cell_type": "markdown",
      "metadata": {
        "id": "etFf1WLWgcjt",
        "toc-hr-collapsed": false
      },
      "source": [
        "# Train (Prepare)\n",
        "__*Neural Network Foundations*__"
      ]
    },
    {
      "cell_type": "markdown",
      "metadata": {
        "id": "hXB80QOhgcju"
      },
      "source": [
        "## Learning Objectives\n",
        "* <a href=\"#p1\">Part 1</a>: Student should be able to explain the intuition behind backpropagation and gradient descent\n",
        "* <a href=\"#p2\">Part 2</a>: Student should be able to discuss the importance of batch size\n",
        "* <a href=\"#p3\">Part 3</a>: Student should be able to discuss the importance of learning rate"
      ]
    },
    {
      "cell_type": "markdown",
      "metadata": {
        "id": "8YuQu2lfgcju"
      },
      "source": [
        "## Summary of Yesterday\n",
        "\n",
        "Yesterday, we learned about some of the principal components of Neural Networks: Neurons, Weights, Activation Functions, and layers (input, output, & hidden). Today, we will reinforce our understanding of those components and introduce the mechanics of training a neural network. Feed-forward neural networks, such as multi-layer perceptrons (MLPs), are almost always trained using some variation of gradient descent where the gradient has been calculated by backpropagation.\n",
        "\n",
        "  <center><img src=\"https://raw.githubusercontent.com/LambdaSchool/DS-Unit-4-Sprint-2-Neural-Networks/main/module1-Architect/IMG_0167.jpeg\" width=400></center>\n",
        "\n",
        "- There are three kinds of layers: input, hidden, and output layers.\n",
        "- Each layer is made up of **n** individual neurons (aka activation units) which have a corresponding weight and bias.\n",
        "- Signal is passed from layer to layer through a network by:\n",
        " - Taking in inputs from the training data (or previous layer)\n",
        " - Multiplying each input by its corresponding weight (think arrow/connecting line)\n",
        " - Adding a bias to this weighted some of inputs and weights\n",
        " - Activating this weighted sum + bias by squishifying it with sigmoid or some other activation function. With a single perceptron with three inputs, calculating the output from the node is done like so:\n",
        "\\begin{align}\n",
        " y = sigmoid(\\sum(weight_{1}input_{1} + weight_{2}input_{2} + weight_{3}input_{3}) + bias)\n",
        "\\end{align}\n",
        " - this final activated value is the signal that gets passed onto the next layer of the network.\n",
        " "
      ]
    },
    {
      "cell_type": "markdown",
      "metadata": {
        "id": "bpi4R03rgcjv"
      },
      "source": [
        "## Training a Neural Network: *Formal Summary*\n",
        "\n",
        "0. Pick a network architecture\n",
        "   - No. of input units = No. of features\n",
        "   - No. of output units = Number of Classes (or expected targets)\n",
        "   - Select the number of hidden layers and number of neurons within each hidden layer\n",
        "1. Randomly initialize weights\n",
        "2. Implement forward propagation to get $h_{\\theta}(x^{(i)})$ for any $x^{(i)}$\n",
        "3. Implement code to compute a cost function $J(\\theta)$\n",
        "4. Implement backpropagation to compute partial derivatives $\\frac{\\delta}{\\delta\\theta_{jk}^{l}}{J(\\theta)}$\n",
        "5. Use gradient descent (or other advanced optimizer) with backpropagation to minimize $J(\\theta)$ as a function of parameters $\\theta\\$\n",
        "6. Repeat steps 2 - 5 until cost function is 'minimized' or some other stopping criteria is met. One pass over steps 2 - 5 is called an iteration or epoch."
      ]
    },
    {
      "cell_type": "markdown",
      "metadata": {
        "id": "aM4CK1IarId4",
        "toc-hr-collapsed": false
      },
      "source": [
        "# Backpropagation & Gradient Descent (Learn)\n",
        "<a id=\"p1\"></a>"
      ]
    },
    {
      "cell_type": "markdown",
      "metadata": {
        "id": "Ktm8Fmoagcjy",
        "toc-hr-collapsed": true
      },
      "source": [
        "## Overview\n",
        "\n",
        "Backpropagation is short for [\"Backwards Propagation of errors\"](https://en.wikipedia.org/wiki/Backpropagation) and refers to a specific (rather calculus intensive) algorithm for how weights in a neural network are updated in reverse order at the end of each training epoch. Our purpose today is to demonstrate the backpropagation algorithm on a simple Feedforward Neural Network and in so doing help you get a grasp on the main process. If you want to understand all of the underlying calculus of how the gradients are calculated then you'll need to dive into it yourself, [3Blue1Brown's video is a great starting place](https://www.youtube.com/watch?v=tIeHLnjs5U8). I also highly recommend this Welch Labs series [Neural Networks Demystified](https://www.youtube.com/watch?v=bxe2T-V8XRs) if you want a rapid yet orderly walk through of the main intuitions and math behind the backpropagation algorithm. "
      ]
    },
    {
      "cell_type": "markdown",
      "metadata": {
        "id": "NXI2tEO9gcjy"
      },
      "source": [
        "### What is a Gradient?\n",
        "\n",
        "> In vector calculus, the gradient is a multi-variable generalization of the derivative. \n",
        "\n",
        "The gradients that we will deal with today will be vector representations of the derivative of the activation function. "
      ]
    },
    {
      "cell_type": "markdown",
      "metadata": {
        "id": "UZY66kiUgcjz",
        "toc-hr-collapsed": true
      },
      "source": [
        "## Follow Along\n",
        "\n",
        "In this section, we will again a simple neural network using base TensorFlow. We'll focus on using a __Feed Forward Neural Network__ to predict test scores. "
      ]
    },
    {
      "cell_type": "markdown",
      "metadata": {
        "id": "Dm2HPETcrgy6",
        "toc-hr-collapsed": true
      },
      "source": [
        "<center><img src=\"https://raw.githubusercontent.com/LambdaSchool/DS-Unit-4-Sprint-2-Neural-Networks/main/module1-Architect/IMG_99C94113202D-1.jpeg\"width=500></center>"
      ]
    },
    {
      "cell_type": "markdown",
      "metadata": {
        "id": "4d4tzpwO6B47"
      },
      "source": [
        "### Generate some Fake Data"
      ]
    },
    {
      "cell_type": "code",
      "metadata": {
        "id": "ERyVgeO_IWyV"
      },
      "source": [
        "import tensorflow as tf\n",
        "\n",
        "# Imagine that our data is drawn from a linear function\n",
        "# y = 3*hours_studying + 50\n",
        "\n",
        "TRUE_W = 3.5\n",
        "TRUE_b = 50.0\n",
        "NUM_EXAMPLES = 1000\n",
        "\n",
        "inputs = tf.random.normal(shape=[NUM_EXAMPLES])\n",
        "noise = tf.random.normal(shape=[NUM_EXAMPLES])\n",
        "\n",
        "outputs = inputs * TRUE_W + TRUE_b + noise"
      ],
      "execution_count": null,
      "outputs": []
    },
    {
      "cell_type": "markdown",
      "metadata": {
        "id": "bCJesGEUgcj4"
      },
      "source": [
        "### Loss Function\n",
        "Here we will use Mean Squared Error (MSE), because this is a regression problem. We are trying to predict a continuous target."
      ]
    },
    {
      "cell_type": "code",
      "metadata": {
        "id": "cDeUBW6k4Ri4"
      },
      "source": [
        "def loss(target_y, predicted_y):\n",
        "  \"MSE\"\n",
        "  return tf.reduce_mean(tf.square(target_y - predicted_y))"
      ],
      "execution_count": 2,
      "outputs": []
    },
    {
      "cell_type": "markdown",
      "metadata": {
        "id": "bgTf6vTS69Sw"
      },
      "source": [
        "### Neural Network Architecture\n",
        "Lets create a Neural Network class called \"Model\" to contain this functionality. Note: This is essentially a linear regression whose coefficients are trained by gradient descent. In practice, gradient descent works on much more complex function like the multi-layer networks we constructed yesterday."
      ]
    },
    {
      "cell_type": "code",
      "metadata": {
        "id": "RUI8VSR5zyBv"
      },
      "source": [
        "class Model(object):\n",
        "\n",
        "  def __init__(self):\n",
        "    self.W = tf.Variable(8.0)\n",
        "    self.b = tf.Variable(40.0)\n",
        "\n",
        "  def __call__(self, x):\n",
        "    return self.W * x + self.b\n",
        "\n",
        "model = Model()\n",
        "\n",
        "assert model(3.0).numpy() == 64.0"
      ],
      "execution_count": 3,
      "outputs": []
    },
    {
      "cell_type": "markdown",
      "metadata": {
        "id": "gbyT_FJ88IlK"
      },
      "source": [
        "### Initial Weights\n",
        "The initial weights in our model were arbitrary. In practice, weights are initialized randomly. "
      ]
    },
    {
      "cell_type": "code",
      "metadata": {
        "id": "IreIDe6P8H0H",
        "outputId": "5cf7a9dc-6821-40a3-8c80-0933b869040d",
        "colab": {
          "base_uri": "https://localhost:8080/",
          "height": 282
        }
      },
      "source": [
        "import matplotlib.pyplot as plt\n",
        "\n",
        "plt.scatter(inputs, outputs, c='b')\n",
        "plt.scatter(inputs, model(inputs), c='r')\n",
        "plt.show()\n",
        "\n",
        "print('Current loss: %1.6f' % loss(model(inputs), outputs).numpy())"
      ],
      "execution_count": 4,
      "outputs": [
        {
          "output_type": "display_data",
          "data": {
            "image/png": "[encoded data removed]",
            "text/plain": [
              "<Figure size 432x288 with 1 Axes>"
            ]
          },
          "metadata": {
            "tags": [],
            "needs_background": "light"
          }
        },
        {
          "output_type": "stream",
          "text": [
            "Current loss: 123.462173\n"
          ],
          "name": "stdout"
        }
      ]
    },
    {
      "cell_type": "markdown",
      "metadata": {
        "id": "16Ujj6vNYQyX",
        "toc-hr-collapsed": true
      },
      "source": [
        "### Update Weights Based on Gradient\n",
        "\n",
        "> *Assigning blame for bad predictions and delivering justice - repeatedly and a little bit at a time*\n",
        "\n",
        "You should also know that with neural networks it is common to have gradients that are not convex (like what we saw when we applied gradient descent to linear regression). \n",
        "\n",
        "Due to the high complexity of these models and their nonlinearity, it is common for gradient descent to get stuck in a local minimum, but there are ways to combat this:\n",
        "\n",
        "1) Stochastic Gradient Descent\n",
        "\n",
        "2) More advanced Gradient-Descent-based \"Optimizers\" - See Stretch Goals on assignment."
      ]
    },
    {
      "cell_type": "code",
      "metadata": {
        "id": "ZgaGD6YlHoid"
      },
      "source": [
        " def train(model, inputs, outputs, learning_rate):\n",
        "  with tf.GradientTape() as t: \n",
        "     current_loss = loss(outputs, model(inputs))\n",
        "  dW, db = t.gradient(current_loss, [model.W, model.b])\n",
        "  model.W.assign_sub(learning_rate * dW)\n",
        "  model.b.assign_sub(learning_rate * db)"
      ],
      "execution_count": 5,
      "outputs": []
    },
    {
      "cell_type": "markdown",
      "metadata": {
        "id": "7iziWWURgck8"
      },
      "source": [
        "### Train the Network"
      ]
    },
    {
      "cell_type": "code",
      "metadata": {
        "id": "4zn_HgFuHhTr",
        "outputId": "09a17514-d62b-401b-eb2c-7d3e26eda1bc",
        "colab": {
          "base_uri": "https://localhost:8080/"
        }
      },
      "source": [
        "model = Model()\n",
        "\n",
        "# Store Some history of weights\n",
        "Ws, bs = [], []\n",
        "epochs = range(30)\n",
        "for epoch in epochs:\n",
        "  Ws.append(model.W.numpy())\n",
        "  bs.append(model.b.numpy())\n",
        "  current_loss = loss(outputs, model(inputs))\n",
        "\n",
        "  train(model, inputs, outputs, learning_rate=0.1)\n",
        "  print('Epoch %2d: W=%1.2f b=%1.2f loss=%2.5f' % (epoch, Ws[-1], bs[-1], current_loss))"
      ],
      "execution_count": 7,
      "outputs": [
        {
          "output_type": "stream",
          "text": [
            "Epoch  0: W=8.00 b=40.00 loss=123.46217\n",
            "Epoch  1: W=7.06 b=42.03 loss=78.64680\n",
            "Epoch  2: W=6.32 b=43.64 loss=50.23962\n",
            "Epoch  3: W=5.73 b=44.93 loss=32.23246\n",
            "Epoch  4: W=5.27 b=45.96 loss=20.81739\n",
            "Epoch  5: W=4.90 b=46.78 loss=13.58095\n",
            "Epoch  6: W=4.61 b=47.43 loss=8.99328\n",
            "Epoch  7: W=4.38 b=47.95 loss=6.08474\n",
            "Epoch  8: W=4.20 b=48.37 loss=4.24067\n",
            "Epoch  9: W=4.06 b=48.70 loss=3.07145\n",
            "Epoch 10: W=3.95 b=48.96 loss=2.33008\n",
            "Epoch 11: W=3.86 b=49.17 loss=1.85998\n",
            "Epoch 12: W=3.79 b=49.34 loss=1.56187\n",
            "Epoch 13: W=3.73 b=49.48 loss=1.37283\n",
            "Epoch 14: W=3.69 b=49.58 loss=1.25294\n",
            "Epoch 15: W=3.65 b=49.67 loss=1.17690\n",
            "Epoch 16: W=3.62 b=49.74 loss=1.12867\n",
            "Epoch 17: W=3.60 b=49.79 loss=1.09809\n",
            "Epoch 18: W=3.59 b=49.83 loss=1.07868\n",
            "Epoch 19: W=3.57 b=49.87 loss=1.06637\n",
            "Epoch 20: W=3.56 b=49.90 loss=1.05856\n",
            "Epoch 21: W=3.55 b=49.92 loss=1.05361\n",
            "Epoch 22: W=3.55 b=49.94 loss=1.05047\n",
            "Epoch 23: W=3.54 b=49.95 loss=1.04847\n",
            "Epoch 24: W=3.54 b=49.96 loss=1.04721\n",
            "Epoch 25: W=3.53 b=49.97 loss=1.04640\n",
            "Epoch 26: W=3.53 b=49.98 loss=1.04589\n",
            "Epoch 27: W=3.53 b=49.98 loss=1.04557\n",
            "Epoch 28: W=3.53 b=49.99 loss=1.04537\n",
            "Epoch 29: W=3.53 b=49.99 loss=1.04523\n"
          ],
          "name": "stdout"
        }
      ]
    },
    {
      "cell_type": "code",
      "metadata": {
        "id": "FSEt07wdHvi2",
        "outputId": "1db05e8a-3c9e-4784-84ec-0a64740e6eac",
        "colab": {
          "base_uri": "https://localhost:8080/",
          "height": 265
        }
      },
      "source": [
        "import matplotlib.pyplot as plt\n",
        "\n",
        "plt.plot(epochs, Ws, 'r', epochs, bs, 'b')\n",
        "plt.plot([TRUE_W] * len(epochs), 'r--',\n",
        "         [TRUE_b] * len(epochs), 'b--')\n",
        "plt.legend(['W', 'b', 'True W', 'True b'])\n",
        "plt.show()"
      ],
      "execution_count": 8,
      "outputs": [
        {
          "output_type": "display_data",
          "data": {
            "image/png": "[encoded data removed]",
            "text/plain": [
              "<Figure size 432x288 with 1 Axes>"
            ]
          },
          "metadata": {
            "tags": [],
            "needs_background": "light"
          }
        }
      ]
    },
    {
      "cell_type": "markdown",
      "metadata": {
        "id": "iKUVGoRxgck_"
      },
      "source": [
        "## Challenge\n",
        "\n",
        "In the module project, you will be asked to explain the logic of backpropagation and gradient descent."
      ]
    },
    {
      "cell_type": "markdown",
      "metadata": {
        "id": "TRsjONxQemmp"
      },
      "source": [
        "### In the following two sections we'll look at batch size and learning rate hyperparameters in isolation. \n",
        "However, it's important to know that recent research found some interesting relationships between batch sizes and learning rates. The best available suggestion today is to scale batch size proportionally to a learning rate:\n",
        "- https://openreview.net/pdf?id=B1Yy1BxCZ\n",
        "- https://papers.nips.cc/paper/8398-control-batch-size-and-learning-rate-to-generalize-well-theoretical-and-empirical-evidence.pdf"
      ]
    },
    {
      "cell_type": "markdown",
      "metadata": {
        "id": "vTqZg-6igclA",
        "toc-hr-collapsed": true
      },
      "source": [
        "# Batch Size (Learn)"
      ]
    },
    {
      "cell_type": "markdown",
      "metadata": {
        "id": "0nrm-racgclA"
      },
      "source": [
        "## Overview\n",
        "\n",
        "The What - Stochastic Gradient Descent calculates an approximation of the gradient over the entire dataset by reviewing the predictions of a random sample. \n",
        "\n",
        "The Why - *Speed*. Calculating the gradient over the entire dataset is extremely expensive computationally. \n",
        "\n",
        "### Batch Size\n",
        "Batches are the number of observations our model is shown to make predictions and update the weights. Batches are selected randomly during epoch. All observations are considered when passing thru an epoch at some point."
      ]
    },
    {
      "cell_type": "markdown",
      "metadata": {
        "id": "oNQ2ZCi7I4i6"
      },
      "source": [
        "### Baseline Model"
      ]
    },
    {
      "cell_type": "code",
      "metadata": {
        "id": "mZjW2lYVI9Q2",
        "outputId": "d9e0d0cd-ddd5-432e-ffcf-763af5899136",
        "colab": {
          "base_uri": "https://localhost:8080/"
        }
      },
      "source": [
        "from tensorflow.keras.datasets import mnist\n",
        "\n",
        "(X_train, y_train), (X_test, y_test) = mnist.load_data()\n",
        "\n",
        "X_train = X_train / 255.\n",
        "X_test = X_test / 255.\n",
        "\n",
        "X_train = X_train.reshape((60000, 784))\n",
        "X_test = X_test.reshape((10000, 784))"
      ],
      "execution_count": 9,
      "outputs": [
        {
          "output_type": "stream",
          "text": [
            "Downloading data from https://storage.googleapis.com/tensorflow/tf-keras-datasets/mnist.npz\n",
            "11493376/11490434 [==============================] - 0s 0us/step\n"
          ],
          "name": "stdout"
        }
      ]
    },
    {
      "cell_type": "code",
      "metadata": {
        "id": "o7x17kDKJSy5"
      },
      "source": [
        "from tensorflow.keras import Sequential\n",
        "from tensorflow.keras.layers import Dense\n",
        "from tensorflow.keras.optimizers import SGD\n",
        "\n",
        "def create_model(lr = 0.01):\n",
        "  opt = SGD(learning_rate=lr)\n",
        "  model = Sequential([\n",
        "                      Dense(32, activation='relu', input_dim=784),\n",
        "                      Dense(32, activation='relu'),\n",
        "                      Dense(10, activation='softmax')\n",
        "  ])\n",
        "  model.compile(optimizer=opt,\n",
        "                loss='sparse_categorical_crossentropy',\n",
        "                metrics=['accuracy'])\n",
        "  return model"
      ],
      "execution_count": 32,
      "outputs": []
    },
    {
      "cell_type": "code",
      "metadata": {
        "id": "W74jGlO7zPsk"
      },
      "source": [
        "model = create_model()"
      ],
      "execution_count": 36,
      "outputs": []
    },
    {
      "cell_type": "code",
      "metadata": {
        "id": "2ECwcifJzPqO",
        "outputId": "1124693f-1b17-49a5-8813-a205bb5254d8",
        "colab": {
          "base_uri": "https://localhost:8080/"
        }
      },
      "source": [
        "model.summary()"
      ],
      "execution_count": 34,
      "outputs": [
        {
          "output_type": "stream",
          "text": [
            "Model: \"sequential_5\"\n",
            "_________________________________________________________________\n",
            "Layer (type)                 Output Shape              Param #   \n",
            "=================================================================\n",
            "dense_15 (Dense)             (None, 32)                25120     \n",
            "_________________________________________________________________\n",
            "dense_16 (Dense)             (None, 32)                1056      \n",
            "_________________________________________________________________\n",
            "dense_17 (Dense)             (None, 10)                330       \n",
            "=================================================================\n",
            "Total params: 26,506\n",
            "Trainable params: 26,506\n",
            "Non-trainable params: 0\n",
            "_________________________________________________________________\n"
          ],
          "name": "stdout"
        }
      ]
    },
    {
      "cell_type": "markdown",
      "metadata": {
        "id": "ZF7UE-KluPsX"
      },
      "source": [
        "## Follow Along\n",
        "Let's run a series of experiments for a default, small, and large batch size."
      ]
    },
    {
      "cell_type": "markdown",
      "metadata": {
        "id": "VhpDaVFRJl3U"
      },
      "source": [
        "### Default\n",
        "Batch Size is 32"
      ]
    },
    {
      "cell_type": "code",
      "metadata": {
        "id": "P-ChVGikgclD",
        "outputId": "c58fcb45-820f-43d2-8080-4281706616d7",
        "colab": {
          "base_uri": "https://localhost:8080/"
        }
      },
      "source": [
        "bt_default = model.fit(\n",
        "    X_train, y_train, \n",
        "    epochs=25,\n",
        "    batch_size=32,\n",
        "    validation_data=(X_test,y_test))"
      ],
      "execution_count": 35,
      "outputs": [
        {
          "output_type": "stream",
          "text": [
            "Epoch 1/25\n",
            "1875/1875 [==============================] - 4s 2ms/step - loss: 0.7560 - accuracy: 0.7892 - val_loss: 0.3701 - val_accuracy: 0.8965\n",
            "Epoch 2/25\n",
            "1875/1875 [==============================] - 4s 2ms/step - loss: 0.3378 - accuracy: 0.9044 - val_loss: 0.3034 - val_accuracy: 0.9102\n",
            "Epoch 3/25\n",
            "1875/1875 [==============================] - 4s 2ms/step - loss: 0.2867 - accuracy: 0.9182 - val_loss: 0.2621 - val_accuracy: 0.9240\n",
            "Epoch 4/25\n",
            "1875/1875 [==============================] - 4s 2ms/step - loss: 0.2540 - accuracy: 0.9271 - val_loss: 0.2492 - val_accuracy: 0.9261\n",
            "Epoch 5/25\n",
            "1875/1875 [==============================] - 4s 2ms/step - loss: 0.2302 - accuracy: 0.9340 - val_loss: 0.2164 - val_accuracy: 0.9380\n",
            "Epoch 6/25\n",
            "1875/1875 [==============================] - 4s 2ms/step - loss: 0.2097 - accuracy: 0.9401 - val_loss: 0.2016 - val_accuracy: 0.9416\n",
            "Epoch 7/25\n",
            "1875/1875 [==============================] - 4s 2ms/step - loss: 0.1937 - accuracy: 0.9448 - val_loss: 0.1907 - val_accuracy: 0.9445\n",
            "Epoch 8/25\n",
            "1875/1875 [==============================] - 4s 2ms/step - loss: 0.1797 - accuracy: 0.9485 - val_loss: 0.1766 - val_accuracy: 0.9487\n",
            "Epoch 9/25\n",
            "1875/1875 [==============================] - 4s 2ms/step - loss: 0.1679 - accuracy: 0.9520 - val_loss: 0.1673 - val_accuracy: 0.9504\n",
            "Epoch 10/25\n",
            "1875/1875 [==============================] - 4s 2ms/step - loss: 0.1570 - accuracy: 0.9549 - val_loss: 0.1592 - val_accuracy: 0.9517\n",
            "Epoch 11/25\n",
            "1875/1875 [==============================] - 4s 2ms/step - loss: 0.1474 - accuracy: 0.9580 - val_loss: 0.1499 - val_accuracy: 0.9549\n",
            "Epoch 12/25\n",
            "1875/1875 [==============================] - 4s 2ms/step - loss: 0.1399 - accuracy: 0.9597 - val_loss: 0.1491 - val_accuracy: 0.9559\n",
            "Epoch 13/25\n",
            "1875/1875 [==============================] - 4s 2ms/step - loss: 0.1323 - accuracy: 0.9615 - val_loss: 0.1405 - val_accuracy: 0.9586\n",
            "Epoch 14/25\n",
            "1875/1875 [==============================] - 4s 2ms/step - loss: 0.1263 - accuracy: 0.9635 - val_loss: 0.1374 - val_accuracy: 0.9593\n",
            "Epoch 15/25\n",
            "1875/1875 [==============================] - 4s 2ms/step - loss: 0.1206 - accuracy: 0.9650 - val_loss: 0.1312 - val_accuracy: 0.9612\n",
            "Epoch 16/25\n",
            "1875/1875 [==============================] - 4s 2ms/step - loss: 0.1160 - accuracy: 0.9664 - val_loss: 0.1300 - val_accuracy: 0.9611\n",
            "Epoch 17/25\n",
            "1875/1875 [==============================] - 4s 2ms/step - loss: 0.1111 - accuracy: 0.9678 - val_loss: 0.1279 - val_accuracy: 0.9623\n",
            "Epoch 18/25\n",
            "1875/1875 [==============================] - 4s 2ms/step - loss: 0.1071 - accuracy: 0.9688 - val_loss: 0.1243 - val_accuracy: 0.9628\n",
            "Epoch 19/25\n",
            "1875/1875 [==============================] - 4s 2ms/step - loss: 0.1033 - accuracy: 0.9703 - val_loss: 0.1229 - val_accuracy: 0.9645\n",
            "Epoch 20/25\n",
            "1875/1875 [==============================] - 4s 2ms/step - loss: 0.0997 - accuracy: 0.9711 - val_loss: 0.1203 - val_accuracy: 0.9660\n",
            "Epoch 21/25\n",
            "1875/1875 [==============================] - 4s 2ms/step - loss: 0.0962 - accuracy: 0.9721 - val_loss: 0.1222 - val_accuracy: 0.9655\n",
            "Epoch 22/25\n",
            "1875/1875 [==============================] - 4s 2ms/step - loss: 0.0931 - accuracy: 0.9731 - val_loss: 0.1205 - val_accuracy: 0.9650\n",
            "Epoch 23/25\n",
            "1875/1875 [==============================] - 4s 2ms/step - loss: 0.0901 - accuracy: 0.9743 - val_loss: 0.1151 - val_accuracy: 0.9663\n",
            "Epoch 24/25\n",
            "1875/1875 [==============================] - 4s 2ms/step - loss: 0.0876 - accuracy: 0.9749 - val_loss: 0.1155 - val_accuracy: 0.9664\n",
            "Epoch 25/25\n",
            "1875/1875 [==============================] - 4s 2ms/step - loss: 0.0850 - accuracy: 0.9747 - val_loss: 0.1163 - val_accuracy: 0.9659\n"
          ],
          "name": "stdout"
        }
      ]
    },
    {
      "cell_type": "markdown",
      "metadata": {
        "id": "KvsbOFnDJuG0"
      },
      "source": [
        "### Small Batch Size\n",
        "Batch Size is 8"
      ]
    },
    {
      "cell_type": "code",
      "metadata": {
        "id": "QnZtO3_t3G3n"
      },
      "source": [
        "model = create_model()"
      ],
      "execution_count": null,
      "outputs": []
    },
    {
      "cell_type": "code",
      "metadata": {
        "id": "diDzvb-UJ1je",
        "outputId": "4be508e2-b1bf-42ab-d559-6593de97430d",
        "colab": {
          "base_uri": "https://localhost:8080/"
        }
      },
      "source": [
        "bt_small = model.fit(\n",
        "    X_train, y_train, \n",
        "    epochs=25,\n",
        "    batch_size=8,\n",
        "    validation_data=(X_test,y_test))"
      ],
      "execution_count": 37,
      "outputs": [
        {
          "output_type": "stream",
          "text": [
            "Epoch 1/25\n",
            "7500/7500 [==============================] - 15s 2ms/step - loss: 0.4181 - accuracy: 0.8811 - val_loss: 0.2307 - val_accuracy: 0.9292\n",
            "Epoch 2/25\n",
            "7500/7500 [==============================] - 15s 2ms/step - loss: 0.2167 - accuracy: 0.9366 - val_loss: 0.1956 - val_accuracy: 0.9396\n",
            "Epoch 3/25\n",
            "7500/7500 [==============================] - 15s 2ms/step - loss: 0.1693 - accuracy: 0.9495 - val_loss: 0.1721 - val_accuracy: 0.9494\n",
            "Epoch 4/25\n",
            "7500/7500 [==============================] - 15s 2ms/step - loss: 0.1433 - accuracy: 0.9569 - val_loss: 0.1385 - val_accuracy: 0.9578\n",
            "Epoch 5/25\n",
            "7500/7500 [==============================] - 17s 2ms/step - loss: 0.1252 - accuracy: 0.9625 - val_loss: 0.1302 - val_accuracy: 0.9595\n",
            "Epoch 6/25\n",
            "7500/7500 [==============================] - 15s 2ms/step - loss: 0.1133 - accuracy: 0.9649 - val_loss: 0.1274 - val_accuracy: 0.9622\n",
            "Epoch 7/25\n",
            "7500/7500 [==============================] - 15s 2ms/step - loss: 0.1038 - accuracy: 0.9685 - val_loss: 0.1174 - val_accuracy: 0.9650\n",
            "Epoch 8/25\n",
            "7500/7500 [==============================] - 15s 2ms/step - loss: 0.0963 - accuracy: 0.9705 - val_loss: 0.1273 - val_accuracy: 0.9611\n",
            "Epoch 9/25\n",
            "7500/7500 [==============================] - 15s 2ms/step - loss: 0.0884 - accuracy: 0.9728 - val_loss: 0.1071 - val_accuracy: 0.9672\n",
            "Epoch 10/25\n",
            "7500/7500 [==============================] - 15s 2ms/step - loss: 0.0826 - accuracy: 0.9744 - val_loss: 0.1035 - val_accuracy: 0.9681\n",
            "Epoch 11/25\n",
            "7500/7500 [==============================] - 15s 2ms/step - loss: 0.0770 - accuracy: 0.9767 - val_loss: 0.1129 - val_accuracy: 0.9661\n",
            "Epoch 12/25\n",
            "7500/7500 [==============================] - 15s 2ms/step - loss: 0.0737 - accuracy: 0.9776 - val_loss: 0.1076 - val_accuracy: 0.9683\n",
            "Epoch 13/25\n",
            "7500/7500 [==============================] - 15s 2ms/step - loss: 0.0690 - accuracy: 0.9789 - val_loss: 0.1035 - val_accuracy: 0.9675\n",
            "Epoch 14/25\n",
            "7500/7500 [==============================] - 15s 2ms/step - loss: 0.0652 - accuracy: 0.9796 - val_loss: 0.1088 - val_accuracy: 0.9676\n",
            "Epoch 15/25\n",
            "7500/7500 [==============================] - 15s 2ms/step - loss: 0.0615 - accuracy: 0.9809 - val_loss: 0.1017 - val_accuracy: 0.9686\n",
            "Epoch 16/25\n",
            "7500/7500 [==============================] - 15s 2ms/step - loss: 0.0575 - accuracy: 0.9819 - val_loss: 0.0996 - val_accuracy: 0.9713\n",
            "Epoch 17/25\n",
            "7500/7500 [==============================] - 15s 2ms/step - loss: 0.0549 - accuracy: 0.9826 - val_loss: 0.1078 - val_accuracy: 0.9692\n",
            "Epoch 18/25\n",
            "7500/7500 [==============================] - 15s 2ms/step - loss: 0.0534 - accuracy: 0.9833 - val_loss: 0.1088 - val_accuracy: 0.9683\n",
            "Epoch 19/25\n",
            "7500/7500 [==============================] - 15s 2ms/step - loss: 0.0504 - accuracy: 0.9845 - val_loss: 0.1048 - val_accuracy: 0.9716\n",
            "Epoch 20/25\n",
            "7500/7500 [==============================] - 15s 2ms/step - loss: 0.0476 - accuracy: 0.9848 - val_loss: 0.1168 - val_accuracy: 0.9686\n",
            "Epoch 21/25\n",
            "7500/7500 [==============================] - 15s 2ms/step - loss: 0.0453 - accuracy: 0.9858 - val_loss: 0.1007 - val_accuracy: 0.9714\n",
            "Epoch 22/25\n",
            "7500/7500 [==============================] - 15s 2ms/step - loss: 0.0440 - accuracy: 0.9859 - val_loss: 0.1090 - val_accuracy: 0.9702\n",
            "Epoch 23/25\n",
            "7500/7500 [==============================] - 15s 2ms/step - loss: 0.0415 - accuracy: 0.9872 - val_loss: 0.1150 - val_accuracy: 0.9687\n",
            "Epoch 24/25\n",
            "7500/7500 [==============================] - 15s 2ms/step - loss: 0.0401 - accuracy: 0.9874 - val_loss: 0.1148 - val_accuracy: 0.9689\n",
            "Epoch 25/25\n",
            "7500/7500 [==============================] - 17s 2ms/step - loss: 0.0374 - accuracy: 0.9882 - val_loss: 0.1178 - val_accuracy: 0.9686\n"
          ],
          "name": "stdout"
        }
      ]
    },
    {
      "cell_type": "markdown",
      "metadata": {
        "id": "_iPvvvt5J2Xl"
      },
      "source": [
        "### Large Batch Size\n",
        "Batch Size is 512"
      ]
    },
    {
      "cell_type": "code",
      "metadata": {
        "id": "7h8Z5293KABT"
      },
      "source": [
        ""
      ],
      "execution_count": 38,
      "outputs": []
    },
    {
      "cell_type": "code",
      "metadata": {
        "id": "dq9AOFE95Zs2",
        "outputId": "8a7858f2-388b-4bb1-ef67-314c9daf2ac3",
        "colab": {
          "base_uri": "https://localhost:8080/"
        }
      },
      "source": [
        "model = create_model()\n",
        "bt_large = model.fit(\n",
        "    X_train, y_train, \n",
        "    epochs=25,\n",
        "    batch_size=512,\n",
        "    validation_data=(X_test,y_test))"
      ],
      "execution_count": 39,
      "outputs": [
        {
          "output_type": "stream",
          "text": [
            "Epoch 1/25\n",
            "118/118 [==============================] - 1s 4ms/step - loss: 2.1978 - accuracy: 0.2248 - val_loss: 2.0228 - val_accuracy: 0.3730\n",
            "Epoch 2/25\n",
            "118/118 [==============================] - 0s 4ms/step - loss: 1.8102 - accuracy: 0.4754 - val_loss: 1.5547 - val_accuracy: 0.5916\n",
            "Epoch 3/25\n",
            "118/118 [==============================] - 0s 3ms/step - loss: 1.3322 - accuracy: 0.6679 - val_loss: 1.1077 - val_accuracy: 0.7357\n",
            "Epoch 4/25\n",
            "118/118 [==============================] - 0s 3ms/step - loss: 0.9782 - accuracy: 0.7645 - val_loss: 0.8462 - val_accuracy: 0.7918\n",
            "Epoch 5/25\n",
            "118/118 [==============================] - 0s 4ms/step - loss: 0.7824 - accuracy: 0.8021 - val_loss: 0.7030 - val_accuracy: 0.8182\n",
            "Epoch 6/25\n",
            "118/118 [==============================] - 0s 3ms/step - loss: 0.6690 - accuracy: 0.8239 - val_loss: 0.6134 - val_accuracy: 0.8415\n",
            "Epoch 7/25\n",
            "118/118 [==============================] - 0s 3ms/step - loss: 0.5946 - accuracy: 0.8413 - val_loss: 0.5519 - val_accuracy: 0.8525\n",
            "Epoch 8/25\n",
            "118/118 [==============================] - 0s 3ms/step - loss: 0.5417 - accuracy: 0.8535 - val_loss: 0.5059 - val_accuracy: 0.8630\n",
            "Epoch 9/25\n",
            "118/118 [==============================] - 0s 3ms/step - loss: 0.5018 - accuracy: 0.8635 - val_loss: 0.4718 - val_accuracy: 0.8718\n",
            "Epoch 10/25\n",
            "118/118 [==============================] - 0s 3ms/step - loss: 0.4704 - accuracy: 0.8712 - val_loss: 0.4425 - val_accuracy: 0.8794\n",
            "Epoch 11/25\n",
            "118/118 [==============================] - 0s 3ms/step - loss: 0.4452 - accuracy: 0.8765 - val_loss: 0.4201 - val_accuracy: 0.8856\n",
            "Epoch 12/25\n",
            "118/118 [==============================] - 0s 3ms/step - loss: 0.4245 - accuracy: 0.8815 - val_loss: 0.4029 - val_accuracy: 0.8895\n",
            "Epoch 13/25\n",
            "118/118 [==============================] - 0s 3ms/step - loss: 0.4074 - accuracy: 0.8862 - val_loss: 0.3864 - val_accuracy: 0.8932\n",
            "Epoch 14/25\n",
            "118/118 [==============================] - 0s 3ms/step - loss: 0.3930 - accuracy: 0.8891 - val_loss: 0.3735 - val_accuracy: 0.8967\n",
            "Epoch 15/25\n",
            "118/118 [==============================] - 0s 3ms/step - loss: 0.3809 - accuracy: 0.8918 - val_loss: 0.3618 - val_accuracy: 0.8978\n",
            "Epoch 16/25\n",
            "118/118 [==============================] - 0s 3ms/step - loss: 0.3703 - accuracy: 0.8942 - val_loss: 0.3530 - val_accuracy: 0.9003\n",
            "Epoch 17/25\n",
            "118/118 [==============================] - 0s 3ms/step - loss: 0.3613 - accuracy: 0.8970 - val_loss: 0.3447 - val_accuracy: 0.9024\n",
            "Epoch 18/25\n",
            "118/118 [==============================] - 0s 3ms/step - loss: 0.3530 - accuracy: 0.8990 - val_loss: 0.3368 - val_accuracy: 0.9033\n",
            "Epoch 19/25\n",
            "118/118 [==============================] - 0s 3ms/step - loss: 0.3458 - accuracy: 0.9010 - val_loss: 0.3301 - val_accuracy: 0.9047\n",
            "Epoch 20/25\n",
            "118/118 [==============================] - 0s 4ms/step - loss: 0.3392 - accuracy: 0.9026 - val_loss: 0.3251 - val_accuracy: 0.9071\n",
            "Epoch 21/25\n",
            "118/118 [==============================] - 0s 3ms/step - loss: 0.3333 - accuracy: 0.9040 - val_loss: 0.3190 - val_accuracy: 0.9086\n",
            "Epoch 22/25\n",
            "118/118 [==============================] - 0s 4ms/step - loss: 0.3279 - accuracy: 0.9057 - val_loss: 0.3139 - val_accuracy: 0.9097\n",
            "Epoch 23/25\n",
            "118/118 [==============================] - 0s 3ms/step - loss: 0.3229 - accuracy: 0.9071 - val_loss: 0.3085 - val_accuracy: 0.9121\n",
            "Epoch 24/25\n",
            "118/118 [==============================] - 0s 3ms/step - loss: 0.3181 - accuracy: 0.9082 - val_loss: 0.3046 - val_accuracy: 0.9121\n",
            "Epoch 25/25\n",
            "118/118 [==============================] - 0s 3ms/step - loss: 0.3137 - accuracy: 0.9093 - val_loss: 0.3005 - val_accuracy: 0.9140\n"
          ],
          "name": "stdout"
        }
      ]
    },
    {
      "cell_type": "markdown",
      "metadata": {
        "id": "B0ujUz6BKUGz"
      },
      "source": [
        "### Visualization of Results"
      ]
    },
    {
      "cell_type": "code",
      "metadata": {
        "id": "o-5DOZNMKYt-",
        "outputId": "fca9a7a8-7c64-4171-f155-5e69a75af8d4",
        "colab": {
          "base_uri": "https://localhost:8080/",
          "height": 406
        }
      },
      "source": [
        "import seaborn as sns\n",
        "import pandas as pd\n",
        "batch_sizes = []\n",
        "for exp, result in zip([bt_default, bt_small, bt_large], [\"32_\", \"8_\", \"512_\"]):\n",
        "    df = pd.DataFrame.from_dict(exp.history)\n",
        "    df['epoch'] = df.index.values\n",
        "    df['Batch Size'] = result\n",
        "    batch_sizes.append(df)\n",
        "df = pd.concat(batch_sizes)\n",
        "df['Batch Size'] = df['Batch Size'].astype('str')\n",
        "df"
      ],
      "execution_count": 41,
      "outputs": [
        {
          "output_type": "execute_result",
          "data": {
            "text/html": [
              "<div>\n",
              "<style scoped>\n",
              "    .dataframe tbody tr th:only-of-type {\n",
              "        vertical-align: middle;\n",
              "    }\n",
              "\n",
              "    .dataframe tbody tr th {\n",
              "        vertical-align: top;\n",
              "    }\n",
              "\n",
              "    .dataframe thead th {\n",
              "        text-align: right;\n",
              "    }\n",
              "</style>\n",
              "<table border=\"1\" class=\"dataframe\">\n",
              "  <thead>\n",
              "    <tr style=\"text-align: right;\">\n",
              "      <th></th>\n",
              "      <th>loss</th>\n",
              "      <th>accuracy</th>\n",
              "      <th>val_loss</th>\n",
              "      <th>val_accuracy</th>\n",
              "      <th>epoch</th>\n",
              "      <th>Batch Size</th>\n",
              "    </tr>\n",
              "  </thead>\n",
              "  <tbody>\n",
              "    <tr>\n",
              "      <th>0</th>\n",
              "      <td>0.756028</td>\n",
              "      <td>0.789233</td>\n",
              "      <td>0.370060</td>\n",
              "      <td>0.8965</td>\n",
              "      <td>0</td>\n",
              "      <td>32_</td>\n",
              "    </tr>\n",
              "    <tr>\n",
              "      <th>1</th>\n",
              "      <td>0.337757</td>\n",
              "      <td>0.904400</td>\n",
              "      <td>0.303405</td>\n",
              "      <td>0.9102</td>\n",
              "      <td>1</td>\n",
              "      <td>32_</td>\n",
              "    </tr>\n",
              "    <tr>\n",
              "      <th>2</th>\n",
              "      <td>0.286692</td>\n",
              "      <td>0.918167</td>\n",
              "      <td>0.262141</td>\n",
              "      <td>0.9240</td>\n",
              "      <td>2</td>\n",
              "      <td>32_</td>\n",
              "    </tr>\n",
              "    <tr>\n",
              "      <th>3</th>\n",
              "      <td>0.254022</td>\n",
              "      <td>0.927117</td>\n",
              "      <td>0.249249</td>\n",
              "      <td>0.9261</td>\n",
              "      <td>3</td>\n",
              "      <td>32_</td>\n",
              "    </tr>\n",
              "    <tr>\n",
              "      <th>4</th>\n",
              "      <td>0.230184</td>\n",
              "      <td>0.934017</td>\n",
              "      <td>0.216431</td>\n",
              "      <td>0.9380</td>\n",
              "      <td>4</td>\n",
              "      <td>32_</td>\n",
              "    </tr>\n",
              "    <tr>\n",
              "      <th>...</th>\n",
              "      <td>...</td>\n",
              "      <td>...</td>\n",
              "      <td>...</td>\n",
              "      <td>...</td>\n",
              "      <td>...</td>\n",
              "      <td>...</td>\n",
              "    </tr>\n",
              "    <tr>\n",
              "      <th>20</th>\n",
              "      <td>0.333260</td>\n",
              "      <td>0.904000</td>\n",
              "      <td>0.319035</td>\n",
              "      <td>0.9086</td>\n",
              "      <td>20</td>\n",
              "      <td>512_</td>\n",
              "    </tr>\n",
              "    <tr>\n",
              "      <th>21</th>\n",
              "      <td>0.327864</td>\n",
              "      <td>0.905700</td>\n",
              "      <td>0.313896</td>\n",
              "      <td>0.9097</td>\n",
              "      <td>21</td>\n",
              "      <td>512_</td>\n",
              "    </tr>\n",
              "    <tr>\n",
              "      <th>22</th>\n",
              "      <td>0.322857</td>\n",
              "      <td>0.907117</td>\n",
              "      <td>0.308543</td>\n",
              "      <td>0.9121</td>\n",
              "      <td>22</td>\n",
              "      <td>512_</td>\n",
              "    </tr>\n",
              "    <tr>\n",
              "      <th>23</th>\n",
              "      <td>0.318099</td>\n",
              "      <td>0.908150</td>\n",
              "      <td>0.304578</td>\n",
              "      <td>0.9121</td>\n",
              "      <td>23</td>\n",
              "      <td>512_</td>\n",
              "    </tr>\n",
              "    <tr>\n",
              "      <th>24</th>\n",
              "      <td>0.313708</td>\n",
              "      <td>0.909283</td>\n",
              "      <td>0.300546</td>\n",
              "      <td>0.9140</td>\n",
              "      <td>24</td>\n",
              "      <td>512_</td>\n",
              "    </tr>\n",
              "  </tbody>\n",
              "</table>\n",
              "<p>75 rows × 6 columns</p>\n",
              "</div>"
            ],
            "text/plain": [
              "        loss  accuracy  val_loss  val_accuracy  epoch Batch Size\n",
              "0   0.756028  0.789233  0.370060        0.8965      0        32_\n",
              "1   0.337757  0.904400  0.303405        0.9102      1        32_\n",
              "2   0.286692  0.918167  0.262141        0.9240      2        32_\n",
              "3   0.254022  0.927117  0.249249        0.9261      3        32_\n",
              "4   0.230184  0.934017  0.216431        0.9380      4        32_\n",
              "..       ...       ...       ...           ...    ...        ...\n",
              "20  0.333260  0.904000  0.319035        0.9086     20       512_\n",
              "21  0.327864  0.905700  0.313896        0.9097     21       512_\n",
              "22  0.322857  0.907117  0.308543        0.9121     22       512_\n",
              "23  0.318099  0.908150  0.304578        0.9121     23       512_\n",
              "24  0.313708  0.909283  0.300546        0.9140     24       512_\n",
              "\n",
              "[75 rows x 6 columns]"
            ]
          },
          "metadata": {
            "tags": []
          },
          "execution_count": 41
        }
      ]
    },
    {
      "cell_type": "code",
      "metadata": {
        "id": "CEIggsi26RyB",
        "outputId": "90bcf567-c077-48a2-f099-13632f2356fa",
        "colab": {
          "base_uri": "https://localhost:8080/",
          "height": 301
        }
      },
      "source": [
        "sns.lineplot(x='epoch', y='val_accuracy', hue = 'Batch Size', data=df)"
      ],
      "execution_count": 42,
      "outputs": [
        {
          "output_type": "execute_result",
          "data": {
            "text/plain": [
              "<matplotlib.axes._subplots.AxesSubplot at 0x7f45a264ee80>"
            ]
          },
          "metadata": {
            "tags": []
          },
          "execution_count": 42
        },
        {
          "output_type": "display_data",
          "data": {
            "image/png": "[encoded data removed]",
            "text/plain": [
              "<Figure size 432x288 with 1 Axes>"
            ]
          },
          "metadata": {
            "tags": [],
            "needs_background": "light"
          }
        }
      ]
    },
    {
      "cell_type": "markdown",
      "metadata": {
        "id": "4kZ2vUYYgclS"
      },
      "source": [
        "## Challenge\n",
        "\n",
        "You will be expected to experiment with batch size on today's assignment."
      ]
    },
    {
      "cell_type": "markdown",
      "metadata": {
        "id": "46cP9Pm_gclS"
      },
      "source": [
        "# Learning Rate (Learn)"
      ]
    },
    {
      "cell_type": "markdown",
      "metadata": {
        "id": "Bna67ADZgclT",
        "toc-hr-collapsed": true
      },
      "source": [
        "## Overview\n",
        "\n",
        "Learning Rate controls the size of the update to our weights that the optimization algorithm makes. VERY IMPORTANT hyperparameter.\n",
        "\n",
        "* Too high of a learning rate causes unstable results\n",
        "* Too Low of a learning rate the model will underfit\n",
        "* Goldy Locks parameters - it needs be \"just right\"\n",
        "* Scale of 0-1"
      ]
    },
    {
      "cell_type": "markdown",
      "metadata": {
        "id": "gsVYOn7bgcle",
        "toc-hr-collapsed": true
      },
      "source": [
        "## Follow Along\n",
        "\n",
        "Same experiment with Batch but different learning rates:\n",
        "* High Learning = .75\n",
        "* Default Learning = .01\n",
        "* Low Learning Rate = .0001"
      ]
    },
    {
      "cell_type": "markdown",
      "metadata": {
        "id": "CI_H8Em1NOii"
      },
      "source": [
        "### Default Learning Rate"
      ]
    },
    {
      "cell_type": "code",
      "metadata": {
        "id": "Se8cb_ZUNVtL"
      },
      "source": [
        "model = create_model()\n",
        "lr_default = model.fit(\n",
        "    X_train, y_train, \n",
        "    epochs=25,\n",
        "    batch_size=32,\n",
        "    validation_data=(X_test,y_test))"
      ],
      "execution_count": null,
      "outputs": []
    },
    {
      "cell_type": "markdown",
      "metadata": {
        "id": "IQZ4SZdKNMRO"
      },
      "source": [
        "### High Learning Rate"
      ]
    },
    {
      "cell_type": "code",
      "metadata": {
        "id": "Ny72mU_dNWMR"
      },
      "source": [
        ""
      ],
      "execution_count": null,
      "outputs": []
    },
    {
      "cell_type": "markdown",
      "metadata": {
        "id": "kAqDmTVBNSMR"
      },
      "source": [
        "### Low Learning Rate"
      ]
    },
    {
      "cell_type": "code",
      "metadata": {
        "id": "Ech1ER64NXBn"
      },
      "source": [
        ""
      ],
      "execution_count": null,
      "outputs": []
    },
    {
      "cell_type": "markdown",
      "metadata": {
        "id": "sZe6DyhANXdU"
      },
      "source": [
        "### Visualization of Results"
      ]
    },
    {
      "cell_type": "code",
      "metadata": {
        "id": "Bn-BdFdMNph-"
      },
      "source": [
        ""
      ],
      "execution_count": null,
      "outputs": []
    },
    {
      "cell_type": "markdown",
      "metadata": {
        "id": "Kb2aiw_Sgcl7"
      },
      "source": [
        "## Challenge\n",
        "\n",
        "You will be expected to experiment with different learning rates today.\n",
        "\n",
        "---"
      ]
    }
  ]
}