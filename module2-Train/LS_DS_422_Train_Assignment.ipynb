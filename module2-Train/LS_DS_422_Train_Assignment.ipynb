{
  "nbformat": 4,
  "nbformat_minor": 0,
  "metadata": {
    "colab": {
      "name": "LS_DS_422_Train_Assignment.ipynb",
      "provenance": [],
      "collapsed_sections": []
    },
    "kernelspec": {
      "display_name": "Python 3",
      "language": "python",
      "name": "python3"
    },
    "language_info": {
      "codemirror_mode": {
        "name": "ipython",
        "version": 3
      },
      "file_extension": ".py",
      "mimetype": "text/x-python",
      "name": "python",
      "nbconvert_exporter": "python",
      "pygments_lexer": "ipython3",
      "version": "3.7.3"
    },
    "nteract": {
      "version": "0.22.4"
    }
  },
  "cells": [
    {
      "cell_type": "markdown",
      "metadata": {
        "id": "NGGrt9EYlCqY"
      },
      "source": [
        "<img align=\"left\" src=\"https://lever-client-logos.s3.amazonaws.com/864372b1-534c-480e-acd5-9711f850815c-1524247202159.png\" width=200>\n",
        "<br></br>\n",
        "<br></br>\n",
        "\n",
        "# Train Practice\n",
        "\n",
        "## *Data Science Unit 4 Sprint 2 Assignment 2*\n",
        "\n",
        "Continue to use TensorFlow Keras & a sample of the [Quickdraw dataset](https://github.com/googlecreativelab/quickdraw-dataset) to build a sketch classification model. The dataset has been sampled to only 10 classes and 10000 observations per class. Please build a baseline classification model then run a few experiments with different optimizers and learning rates. \n",
        "\n",
        "*Don't forgot to switch to GPU on Colab!*"
      ]
    },
    {
      "cell_type": "markdown",
      "metadata": {
        "id": "ptJ2b3wk62Ud"
      },
      "source": [
        "### Write a function to load your data\n",
        "\n",
        "Wrap yesterday's preprocessing steps into a function that returns four items:\n",
        "* X_train\n",
        "* y_train\n",
        "* X_test\n",
        "* y_test\n",
        "\n",
        "Your function should accept a `path` to the data as a argument."
      ]
    },
    {
      "cell_type": "code",
      "metadata": {
        "id": "Oq584L6ZSne9"
      },
      "source": [
        "import numpy as np\n",
        "import seaborn as sns\n",
        "import pandas as pd\n",
        "import matplotlib.pyplot as plt\n",
        "\n",
        "from sklearn.model_selection import train_test_split\n",
        "from tensorflow.keras import Sequential\n",
        "from tensorflow.keras.layers import Dense\n",
        "from tensorflow.keras.optimizers import SGD\n",
        "\n"
      ],
      "execution_count": 29,
      "outputs": []
    },
    {
      "cell_type": "code",
      "metadata": {
        "id": "nJsIsrvp7O3e",
        "outputId": "13d6e811-a889-431b-f087-35675b068203",
        "colab": {
          "base_uri": "https://localhost:8080/"
        }
      },
      "source": [
        "def split_zip_df(path):\n",
        "  data = np.load(path)\n",
        "  features = 'arr_0'\n",
        "  target = 'arr_1'\n",
        "  X = data[features]\n",
        "  y = data[target]\n",
        "  X_train, X_test, y_train, y_test = train_test_split(\n",
        "      X, y, test_size=0.20,\n",
        "      stratify= y,\n",
        "      random_state=17)\n",
        "  X_train, X_val, y_train, y_val = train_test_split(\n",
        "      X_train, y_train, test_size=0.20,\n",
        "      stratify= y_train,\n",
        "      random_state=17)\n",
        "\n",
        "  return X_train, y_train, X_val, y_val, X_test, y_test\n",
        "\n",
        "  \n",
        "X_train, y_train, X_val, y_val, X_test, y_test = split_zip_df('quickdraw10.npz')\n",
        "\n",
        "X_train.shape, y_train.shape, X_val.shape, y_val.shape, X_test.shape, y_test.shape"
      ],
      "execution_count": 46,
      "outputs": [
        {
          "output_type": "execute_result",
          "data": {
            "text/plain": [
              "((64000, 784), (64000,), (16000, 784), (16000,), (20000, 784), (20000,))"
            ]
          },
          "metadata": {
            "tags": []
          },
          "execution_count": 46
        }
      ]
    },
    {
      "cell_type": "markdown",
      "metadata": {
        "id": "l-6PxI6H5__2"
      },
      "source": [
        "### Write a Model Function\n",
        "Using your model from yesterday, write a function called `create_model` which returns a compiled TensorFlow Keras Sequential Model suitable for classifying the QuickDraw-10 dataset. Include parameters for the following: \n",
        "* Learning Rate\n",
        "* Optimizer"
      ]
    },
    {
      "cell_type": "code",
      "metadata": {
        "id": "nEREYT-3wI1f",
        "cellView": "code"
      },
      "source": [
        "def create_model(lr, opt): #lr = Learning rate, opt = optimizer\n",
        "  model = Sequential([\n",
        "                      Dense(32, activation='relu', input_dim=784),\n",
        "                      Dense(32, activation='relu'),\n",
        "                      Dense(16, activation='relu'),\n",
        "                      Dense(10, activation='softmax')\n",
        "  ])\n",
        "  model.compile(optimizer=opt,\n",
        "                loss='sparse_categorical_crossentropy',\n",
        "                metrics=['accuracy'])\n",
        "  return model"
      ],
      "execution_count": 47,
      "outputs": []
    },
    {
      "cell_type": "markdown",
      "metadata": {
        "id": "f0pCkh8C7eGL"
      },
      "source": [
        "### Experiment with Batch Size\n",
        "* Run 5 experiments with various batch sizes of your choice. \n",
        "* Visualize the results\n",
        "* Write up an analysis of the experiments and select the \"best\" performing model among your experiments. Make sure to compare against your model's performance yesterday. "
      ]
    },
    {
      "cell_type": "code",
      "metadata": {
        "id": "USXjs7Hk71Hy",
        "outputId": "9f0a3cc2-50c1-4bb9-c0ae-285924b65e0e",
        "colab": {
          "base_uri": "https://localhost:8080/"
        }
      },
      "source": [
        "model = create_model(lr = 0.01, opt = SGD(learning_rate=0.01))\n",
        "bt_largest = model.fit(\n",
        "    X_train, y_train, \n",
        "    epochs=25,\n",
        "    batch_size=512,\n",
        "    validation_data=(X_val,y_val))\n"
      ],
      "execution_count": 16,
      "outputs": [
        {
          "output_type": "stream",
          "text": [
            "Epoch 1/25\n",
            "125/125 [==============================] - 1s 7ms/step - loss: 7.9741 - accuracy: 0.0990 - val_loss: 2.3042 - val_accuracy: 0.1023\n",
            "Epoch 2/25\n",
            "125/125 [==============================] - 1s 6ms/step - loss: 2.2540 - accuracy: 0.1296 - val_loss: 2.1669 - val_accuracy: 0.1709\n",
            "Epoch 3/25\n",
            "125/125 [==============================] - 1s 6ms/step - loss: 2.1350 - accuracy: 0.1815 - val_loss: 2.1234 - val_accuracy: 0.1889\n",
            "Epoch 4/25\n",
            "125/125 [==============================] - 1s 6ms/step - loss: 2.1124 - accuracy: 0.1851 - val_loss: 2.1080 - val_accuracy: 0.1912\n",
            "Epoch 5/25\n",
            "125/125 [==============================] - 1s 6ms/step - loss: 2.1005 - accuracy: 0.1911 - val_loss: 2.0995 - val_accuracy: 0.1932\n",
            "Epoch 6/25\n",
            "125/125 [==============================] - 1s 6ms/step - loss: 2.0919 - accuracy: 0.1919 - val_loss: 2.0920 - val_accuracy: 0.1930\n",
            "Epoch 7/25\n",
            "125/125 [==============================] - 1s 6ms/step - loss: 2.0851 - accuracy: 0.1924 - val_loss: 2.0849 - val_accuracy: 0.1933\n",
            "Epoch 8/25\n",
            "125/125 [==============================] - 1s 6ms/step - loss: 2.0796 - accuracy: 0.1930 - val_loss: 2.0797 - val_accuracy: 0.1939\n",
            "Epoch 9/25\n",
            "125/125 [==============================] - 1s 6ms/step - loss: 2.0749 - accuracy: 0.1934 - val_loss: 2.0752 - val_accuracy: 0.1941\n",
            "Epoch 10/25\n",
            "125/125 [==============================] - 1s 6ms/step - loss: 2.0704 - accuracy: 0.1941 - val_loss: 2.0715 - val_accuracy: 0.1957\n",
            "Epoch 11/25\n",
            "125/125 [==============================] - 1s 6ms/step - loss: 2.0666 - accuracy: 0.1951 - val_loss: 2.0687 - val_accuracy: 0.1961\n",
            "Epoch 12/25\n",
            "125/125 [==============================] - 1s 6ms/step - loss: 2.0616 - accuracy: 0.2013 - val_loss: 2.0607 - val_accuracy: 0.2070\n",
            "Epoch 13/25\n",
            "125/125 [==============================] - 1s 6ms/step - loss: 2.0186 - accuracy: 0.2132 - val_loss: 2.0013 - val_accuracy: 0.2173\n",
            "Epoch 14/25\n",
            "125/125 [==============================] - 1s 6ms/step - loss: 1.9907 - accuracy: 0.2188 - val_loss: 1.9895 - val_accuracy: 0.2298\n",
            "Epoch 15/25\n",
            "125/125 [==============================] - 1s 6ms/step - loss: 1.9805 - accuracy: 0.2228 - val_loss: 1.9814 - val_accuracy: 0.2194\n",
            "Epoch 16/25\n",
            "125/125 [==============================] - 1s 6ms/step - loss: 1.9731 - accuracy: 0.2243 - val_loss: 1.9765 - val_accuracy: 0.2286\n",
            "Epoch 17/25\n",
            "125/125 [==============================] - 1s 6ms/step - loss: 1.9662 - accuracy: 0.2269 - val_loss: 1.9718 - val_accuracy: 0.2361\n",
            "Epoch 18/25\n",
            "125/125 [==============================] - 1s 6ms/step - loss: 1.9604 - accuracy: 0.2298 - val_loss: 1.9658 - val_accuracy: 0.2371\n",
            "Epoch 19/25\n",
            "125/125 [==============================] - 1s 10ms/step - loss: 1.9551 - accuracy: 0.2311 - val_loss: 1.9628 - val_accuracy: 0.2498\n",
            "Epoch 20/25\n",
            "125/125 [==============================] - 1s 10ms/step - loss: 1.9491 - accuracy: 0.2338 - val_loss: 1.9549 - val_accuracy: 0.2474\n",
            "Epoch 21/25\n",
            "125/125 [==============================] - 1s 10ms/step - loss: 1.9003 - accuracy: 0.2628 - val_loss: 1.8226 - val_accuracy: 0.3163\n",
            "Epoch 22/25\n",
            "125/125 [==============================] - 1s 10ms/step - loss: 1.7953 - accuracy: 0.3148 - val_loss: 1.7791 - val_accuracy: 0.3226\n",
            "Epoch 23/25\n",
            "125/125 [==============================] - 1s 10ms/step - loss: 1.7612 - accuracy: 0.3253 - val_loss: 1.7854 - val_accuracy: 0.3329\n",
            "Epoch 24/25\n",
            "125/125 [==============================] - 1s 10ms/step - loss: 1.7410 - accuracy: 0.3305 - val_loss: 1.7362 - val_accuracy: 0.3372\n",
            "Epoch 25/25\n",
            "125/125 [==============================] - 1s 10ms/step - loss: 1.7240 - accuracy: 0.3360 - val_loss: 1.7246 - val_accuracy: 0.3447\n"
          ],
          "name": "stdout"
        }
      ]
    },
    {
      "cell_type": "code",
      "metadata": {
        "id": "4mJR0Dqakr9b",
        "outputId": "acf780a8-3e27-4d69-8d39-9c94f8cc70aa",
        "colab": {
          "base_uri": "https://localhost:8080/"
        }
      },
      "source": [
        "model = create_model(lr = 0.01, opt = SGD(learning_rate=0.01))\n",
        "bt_large = model.fit(\n",
        "    X_train, y_train, \n",
        "    epochs=25,\n",
        "    batch_size=256,\n",
        "    validation_data=(X_val,y_val))"
      ],
      "execution_count": 17,
      "outputs": [
        {
          "output_type": "stream",
          "text": [
            "Epoch 1/25\n",
            "250/250 [==============================] - 1s 4ms/step - loss: 6.8093 - accuracy: 0.0991 - val_loss: 2.3051 - val_accuracy: 0.1001\n",
            "Epoch 2/25\n",
            "250/250 [==============================] - 1s 4ms/step - loss: 2.3040 - accuracy: 0.0998 - val_loss: 2.3038 - val_accuracy: 0.1000\n",
            "Epoch 3/25\n",
            "250/250 [==============================] - 1s 4ms/step - loss: 2.3021 - accuracy: 0.0990 - val_loss: 2.3885 - val_accuracy: 0.1017\n",
            "Epoch 4/25\n",
            "250/250 [==============================] - 1s 4ms/step - loss: 2.3034 - accuracy: 0.0986 - val_loss: 2.3036 - val_accuracy: 0.0997\n",
            "Epoch 5/25\n",
            "250/250 [==============================] - 1s 4ms/step - loss: 2.3022 - accuracy: 0.0993 - val_loss: 2.3032 - val_accuracy: 0.0997\n",
            "Epoch 6/25\n",
            "250/250 [==============================] - 1s 4ms/step - loss: 2.3008 - accuracy: 0.1006 - val_loss: 2.2945 - val_accuracy: 0.1135\n",
            "Epoch 7/25\n",
            "250/250 [==============================] - 1s 4ms/step - loss: 2.1824 - accuracy: 0.1668 - val_loss: 2.1234 - val_accuracy: 0.1834\n",
            "Epoch 8/25\n",
            "250/250 [==============================] - 1s 4ms/step - loss: 2.1116 - accuracy: 0.1870 - val_loss: 2.1000 - val_accuracy: 0.1871\n",
            "Epoch 9/25\n",
            "250/250 [==============================] - 1s 4ms/step - loss: 2.0941 - accuracy: 0.1870 - val_loss: 2.0884 - val_accuracy: 0.1934\n",
            "Epoch 10/25\n",
            "250/250 [==============================] - 1s 4ms/step - loss: 2.0829 - accuracy: 0.1885 - val_loss: 2.0784 - val_accuracy: 0.1893\n",
            "Epoch 11/25\n",
            "250/250 [==============================] - 1s 4ms/step - loss: 2.0742 - accuracy: 0.1902 - val_loss: 2.0700 - val_accuracy: 0.1897\n",
            "Epoch 12/25\n",
            "250/250 [==============================] - 1s 4ms/step - loss: 2.0678 - accuracy: 0.1895 - val_loss: 2.0653 - val_accuracy: 0.1896\n",
            "Epoch 13/25\n",
            "250/250 [==============================] - 1s 4ms/step - loss: 2.0628 - accuracy: 0.1899 - val_loss: 2.0609 - val_accuracy: 0.1902\n",
            "Epoch 14/25\n",
            "250/250 [==============================] - 1s 4ms/step - loss: 2.0589 - accuracy: 0.1896 - val_loss: 2.0572 - val_accuracy: 0.1889\n",
            "Epoch 15/25\n",
            "250/250 [==============================] - 1s 4ms/step - loss: 2.0554 - accuracy: 0.1892 - val_loss: 2.0558 - val_accuracy: 0.1905\n",
            "Epoch 16/25\n",
            "250/250 [==============================] - 1s 4ms/step - loss: 2.0524 - accuracy: 0.1893 - val_loss: 2.0561 - val_accuracy: 0.1856\n",
            "Epoch 17/25\n",
            "250/250 [==============================] - 1s 4ms/step - loss: 2.0499 - accuracy: 0.1888 - val_loss: 2.0514 - val_accuracy: 0.1865\n",
            "Epoch 18/25\n",
            "250/250 [==============================] - 1s 4ms/step - loss: 2.0471 - accuracy: 0.1882 - val_loss: 2.0507 - val_accuracy: 0.1953\n",
            "Epoch 19/25\n",
            "250/250 [==============================] - 1s 4ms/step - loss: 2.0450 - accuracy: 0.1938 - val_loss: 2.0470 - val_accuracy: 0.1968\n",
            "Epoch 20/25\n",
            "250/250 [==============================] - 1s 4ms/step - loss: 2.0430 - accuracy: 0.1954 - val_loss: 2.0456 - val_accuracy: 0.1944\n",
            "Epoch 21/25\n",
            "250/250 [==============================] - 1s 4ms/step - loss: 2.0409 - accuracy: 0.1963 - val_loss: 2.0424 - val_accuracy: 0.1971\n",
            "Epoch 22/25\n",
            "250/250 [==============================] - 1s 4ms/step - loss: 2.0325 - accuracy: 0.2024 - val_loss: 2.0060 - val_accuracy: 0.2184\n",
            "Epoch 23/25\n",
            "250/250 [==============================] - 1s 4ms/step - loss: 1.9659 - accuracy: 0.2309 - val_loss: 1.9590 - val_accuracy: 0.2282\n",
            "Epoch 24/25\n",
            "250/250 [==============================] - 1s 4ms/step - loss: 1.9465 - accuracy: 0.2408 - val_loss: 1.9491 - val_accuracy: 0.2419\n",
            "Epoch 25/25\n",
            "250/250 [==============================] - 1s 4ms/step - loss: 1.9381 - accuracy: 0.2451 - val_loss: 1.9438 - val_accuracy: 0.2509\n"
          ],
          "name": "stdout"
        }
      ]
    },
    {
      "cell_type": "code",
      "metadata": {
        "id": "h9XhNrlyksS7",
        "outputId": "12be4f01-817e-4972-a513-11dc4937f0b3",
        "colab": {
          "base_uri": "https://localhost:8080/"
        }
      },
      "source": [
        "model = create_model(lr = 0.01, opt = SGD(learning_rate=0.01))\n",
        "bt_default = model.fit(\n",
        "    X_train, y_train, \n",
        "    epochs=25,\n",
        "    batch_size=128,\n",
        "    validation_data=(X_val,y_val))"
      ],
      "execution_count": 19,
      "outputs": [
        {
          "output_type": "stream",
          "text": [
            "Epoch 1/25\n",
            "500/500 [==============================] - 1s 3ms/step - loss: 23.6279 - accuracy: 0.1162 - val_loss: 2.1687 - val_accuracy: 0.1614\n",
            "Epoch 2/25\n",
            "500/500 [==============================] - 1s 3ms/step - loss: 2.0232 - accuracy: 0.2347 - val_loss: 1.9369 - val_accuracy: 0.2597\n",
            "Epoch 3/25\n",
            "500/500 [==============================] - 1s 3ms/step - loss: 1.9090 - accuracy: 0.2747 - val_loss: 1.8795 - val_accuracy: 0.2788\n",
            "Epoch 4/25\n",
            "500/500 [==============================] - 1s 2ms/step - loss: 1.8686 - accuracy: 0.2829 - val_loss: 1.8545 - val_accuracy: 0.2835\n",
            "Epoch 5/25\n",
            "500/500 [==============================] - 1s 3ms/step - loss: 1.8391 - accuracy: 0.2958 - val_loss: 1.8265 - val_accuracy: 0.3042\n",
            "Epoch 6/25\n",
            "500/500 [==============================] - 1s 3ms/step - loss: 1.8131 - accuracy: 0.3060 - val_loss: 1.8606 - val_accuracy: 0.2949\n",
            "Epoch 7/25\n",
            "500/500 [==============================] - 1s 3ms/step - loss: 1.7954 - accuracy: 0.3091 - val_loss: 1.8126 - val_accuracy: 0.3090\n",
            "Epoch 8/25\n",
            "500/500 [==============================] - 1s 3ms/step - loss: 1.7817 - accuracy: 0.3151 - val_loss: 1.7706 - val_accuracy: 0.3216\n",
            "Epoch 9/25\n",
            "500/500 [==============================] - 1s 3ms/step - loss: 1.7525 - accuracy: 0.3296 - val_loss: 1.7302 - val_accuracy: 0.3402\n",
            "Epoch 10/25\n",
            "500/500 [==============================] - 1s 3ms/step - loss: 1.7123 - accuracy: 0.3470 - val_loss: 1.6974 - val_accuracy: 0.3509\n",
            "Epoch 11/25\n",
            "500/500 [==============================] - 1s 2ms/step - loss: 1.6889 - accuracy: 0.3590 - val_loss: 1.6742 - val_accuracy: 0.3658\n",
            "Epoch 12/25\n",
            "500/500 [==============================] - 1s 3ms/step - loss: 1.6340 - accuracy: 0.3922 - val_loss: 1.6067 - val_accuracy: 0.4064\n",
            "Epoch 13/25\n",
            "500/500 [==============================] - 1s 3ms/step - loss: 1.5857 - accuracy: 0.3990 - val_loss: 1.5872 - val_accuracy: 0.4027\n",
            "Epoch 14/25\n",
            "500/500 [==============================] - 1s 3ms/step - loss: 2.1926 - accuracy: 0.2498 - val_loss: 2.2290 - val_accuracy: 0.1846\n",
            "Epoch 15/25\n",
            "500/500 [==============================] - 1s 3ms/step - loss: 2.1898 - accuracy: 0.1892 - val_loss: 2.1468 - val_accuracy: 0.1909\n",
            "Epoch 16/25\n",
            "500/500 [==============================] - 1s 3ms/step - loss: 2.1186 - accuracy: 0.1930 - val_loss: 2.0945 - val_accuracy: 0.1890\n",
            "Epoch 17/25\n",
            "500/500 [==============================] - 1s 3ms/step - loss: 2.0662 - accuracy: 0.1960 - val_loss: 2.0436 - val_accuracy: 0.2007\n",
            "Epoch 18/25\n",
            "500/500 [==============================] - 1s 3ms/step - loss: 2.0297 - accuracy: 0.1998 - val_loss: 2.0269 - val_accuracy: 0.2045\n",
            "Epoch 19/25\n",
            "500/500 [==============================] - 2s 3ms/step - loss: 2.0043 - accuracy: 0.2019 - val_loss: 1.9925 - val_accuracy: 0.2071\n",
            "Epoch 20/25\n",
            "500/500 [==============================] - 1s 3ms/step - loss: 1.9851 - accuracy: 0.2052 - val_loss: 1.9790 - val_accuracy: 0.2024\n",
            "Epoch 21/25\n",
            "500/500 [==============================] - 1s 3ms/step - loss: 1.9716 - accuracy: 0.2056 - val_loss: 1.9722 - val_accuracy: 0.2062\n",
            "Epoch 22/25\n",
            "500/500 [==============================] - 1s 3ms/step - loss: 1.9614 - accuracy: 0.2109 - val_loss: 1.9676 - val_accuracy: 0.2129\n",
            "Epoch 23/25\n",
            "500/500 [==============================] - 1s 3ms/step - loss: 1.9539 - accuracy: 0.2132 - val_loss: 1.9558 - val_accuracy: 0.2174\n",
            "Epoch 24/25\n",
            "500/500 [==============================] - 1s 3ms/step - loss: 1.9492 - accuracy: 0.2132 - val_loss: 1.9487 - val_accuracy: 0.2235\n",
            "Epoch 25/25\n",
            "500/500 [==============================] - 1s 3ms/step - loss: 1.9438 - accuracy: 0.2199 - val_loss: 1.9431 - val_accuracy: 0.2251\n"
          ],
          "name": "stdout"
        }
      ]
    },
    {
      "cell_type": "code",
      "metadata": {
        "id": "0nqUCmulksBX",
        "outputId": "9fda9d53-a8d2-4339-b8b5-6446c7661cde",
        "colab": {
          "base_uri": "https://localhost:8080/"
        }
      },
      "source": [
        "model = create_model(lr = 0.01, opt = SGD(learning_rate=0.01))\n",
        "bt_small = model.fit(\n",
        "    X_train, y_train, \n",
        "    epochs=25,\n",
        "    batch_size=64,\n",
        "    validation_data=(X_val,y_val))"
      ],
      "execution_count": 24,
      "outputs": [
        {
          "output_type": "stream",
          "text": [
            "Epoch 1/25\n",
            "1000/1000 [==============================] - 2s 2ms/step - loss: 5.9230 - accuracy: 0.1725 - val_loss: 2.1765 - val_accuracy: 0.1860\n",
            "Epoch 2/25\n",
            "1000/1000 [==============================] - 2s 2ms/step - loss: 2.0104 - accuracy: 0.2330 - val_loss: 1.7997 - val_accuracy: 0.2952\n",
            "Epoch 3/25\n",
            "1000/1000 [==============================] - 2s 2ms/step - loss: 1.7004 - accuracy: 0.3578 - val_loss: 1.6326 - val_accuracy: 0.3801\n",
            "Epoch 4/25\n",
            "1000/1000 [==============================] - 2s 2ms/step - loss: 1.5980 - accuracy: 0.3999 - val_loss: 1.6012 - val_accuracy: 0.4018\n",
            "Epoch 5/25\n",
            "1000/1000 [==============================] - 2s 2ms/step - loss: 1.5258 - accuracy: 0.4390 - val_loss: 1.5122 - val_accuracy: 0.4349\n",
            "Epoch 6/25\n",
            "1000/1000 [==============================] - 2s 2ms/step - loss: 1.4673 - accuracy: 0.4652 - val_loss: 1.5688 - val_accuracy: 0.4354\n",
            "Epoch 7/25\n",
            "1000/1000 [==============================] - 2s 2ms/step - loss: 1.3985 - accuracy: 0.4836 - val_loss: 1.3428 - val_accuracy: 0.4956\n",
            "Epoch 8/25\n",
            "1000/1000 [==============================] - 2s 2ms/step - loss: 1.4485 - accuracy: 0.4692 - val_loss: 1.9981 - val_accuracy: 0.2406\n",
            "Epoch 9/25\n",
            "1000/1000 [==============================] - 2s 2ms/step - loss: 1.5377 - accuracy: 0.4096 - val_loss: 1.3643 - val_accuracy: 0.4894\n",
            "Epoch 10/25\n",
            "1000/1000 [==============================] - 2s 2ms/step - loss: 1.9869 - accuracy: 0.3214 - val_loss: 2.4250 - val_accuracy: 0.1000\n",
            "Epoch 11/25\n",
            "1000/1000 [==============================] - 2s 2ms/step - loss: 2.3590 - accuracy: 0.1000 - val_loss: 2.3221 - val_accuracy: 0.1000\n",
            "Epoch 12/25\n",
            "1000/1000 [==============================] - 2s 2ms/step - loss: 2.3114 - accuracy: 0.0985 - val_loss: 2.3055 - val_accuracy: 0.1000\n",
            "Epoch 13/25\n",
            "1000/1000 [==============================] - 2s 2ms/step - loss: 2.3039 - accuracy: 0.0984 - val_loss: 2.3030 - val_accuracy: 0.1000\n",
            "Epoch 14/25\n",
            "1000/1000 [==============================] - 2s 2ms/step - loss: 2.3028 - accuracy: 0.0988 - val_loss: 2.3026 - val_accuracy: 0.1000\n",
            "Epoch 15/25\n",
            "1000/1000 [==============================] - 2s 2ms/step - loss: 2.3027 - accuracy: 0.0983 - val_loss: 2.3026 - val_accuracy: 0.1000\n",
            "Epoch 16/25\n",
            "1000/1000 [==============================] - 2s 2ms/step - loss: 2.3026 - accuracy: 0.0970 - val_loss: 2.3025 - val_accuracy: 0.1000\n",
            "Epoch 17/25\n",
            "1000/1000 [==============================] - 2s 2ms/step - loss: 2.3026 - accuracy: 0.0991 - val_loss: 2.3025 - val_accuracy: 0.1000\n",
            "Epoch 18/25\n",
            "1000/1000 [==============================] - 2s 2ms/step - loss: 2.3026 - accuracy: 0.0993 - val_loss: 2.3025 - val_accuracy: 0.1000\n",
            "Epoch 19/25\n",
            "1000/1000 [==============================] - 2s 2ms/step - loss: 2.3026 - accuracy: 0.0979 - val_loss: 2.3025 - val_accuracy: 0.1000\n",
            "Epoch 20/25\n",
            "1000/1000 [==============================] - 2s 2ms/step - loss: 2.3027 - accuracy: 0.0977 - val_loss: 2.3025 - val_accuracy: 0.1000\n",
            "Epoch 21/25\n",
            "1000/1000 [==============================] - 2s 2ms/step - loss: 2.3026 - accuracy: 0.0971 - val_loss: 2.3025 - val_accuracy: 0.1000\n",
            "Epoch 22/25\n",
            "1000/1000 [==============================] - 2s 2ms/step - loss: 2.3026 - accuracy: 0.0983 - val_loss: 2.3025 - val_accuracy: 0.1000\n",
            "Epoch 23/25\n",
            "1000/1000 [==============================] - 2s 2ms/step - loss: 2.3026 - accuracy: 0.0986 - val_loss: 2.3025 - val_accuracy: 0.1000\n",
            "Epoch 24/25\n",
            "1000/1000 [==============================] - 2s 2ms/step - loss: 2.3026 - accuracy: 0.0983 - val_loss: 2.3025 - val_accuracy: 0.1000\n",
            "Epoch 25/25\n",
            "1000/1000 [==============================] - 2s 2ms/step - loss: 2.3026 - accuracy: 0.0962 - val_loss: 2.3025 - val_accuracy: 0.1000\n"
          ],
          "name": "stdout"
        }
      ]
    },
    {
      "cell_type": "code",
      "metadata": {
        "id": "GOVCeplpkr5K",
        "outputId": "8b628e15-0299-411f-bcc0-4a73a225e194",
        "colab": {
          "base_uri": "https://localhost:8080/"
        }
      },
      "source": [
        "lr = 0.01\n",
        "model = create_model(lr = lr, opt = SGD(learning_rate=lr))\n",
        "bt_smallest = model.fit(\n",
        "    X_train, y_train, \n",
        "    epochs=25,\n",
        "    batch_size=32,\n",
        "    validation_data=(X_val,y_val))"
      ],
      "execution_count": 42,
      "outputs": [
        {
          "output_type": "stream",
          "text": [
            "Epoch 1/25\n",
            "2000/2000 [==============================] - 3s 2ms/step - loss: 2.4203 - accuracy: 0.1440 - val_loss: 2.1205 - val_accuracy: 0.1922\n",
            "Epoch 2/25\n",
            "2000/2000 [==============================] - 3s 2ms/step - loss: 2.0417 - accuracy: 0.2041 - val_loss: 1.9661 - val_accuracy: 0.2336\n",
            "Epoch 3/25\n",
            "2000/2000 [==============================] - 3s 2ms/step - loss: 1.9126 - accuracy: 0.2435 - val_loss: 1.8809 - val_accuracy: 0.2676\n",
            "Epoch 4/25\n",
            "2000/2000 [==============================] - 3s 2ms/step - loss: 1.8269 - accuracy: 0.2713 - val_loss: 1.7067 - val_accuracy: 0.3311\n",
            "Epoch 5/25\n",
            "2000/2000 [==============================] - 3s 2ms/step - loss: 1.7137 - accuracy: 0.3283 - val_loss: 1.6319 - val_accuracy: 0.3697\n",
            "Epoch 6/25\n",
            "2000/2000 [==============================] - 3s 2ms/step - loss: 1.6122 - accuracy: 0.3878 - val_loss: 1.5296 - val_accuracy: 0.4298\n",
            "Epoch 7/25\n",
            "2000/2000 [==============================] - 3s 2ms/step - loss: 1.5059 - accuracy: 0.4347 - val_loss: 1.4593 - val_accuracy: 0.4698\n",
            "Epoch 8/25\n",
            "2000/2000 [==============================] - 3s 2ms/step - loss: 1.3730 - accuracy: 0.5179 - val_loss: 1.2782 - val_accuracy: 0.5612\n",
            "Epoch 9/25\n",
            "2000/2000 [==============================] - 3s 2ms/step - loss: 1.2458 - accuracy: 0.5751 - val_loss: 1.2155 - val_accuracy: 0.5838\n",
            "Epoch 10/25\n",
            "2000/2000 [==============================] - 3s 2ms/step - loss: 1.1553 - accuracy: 0.6151 - val_loss: 1.0888 - val_accuracy: 0.6610\n",
            "Epoch 11/25\n",
            "2000/2000 [==============================] - 3s 2ms/step - loss: 1.1290 - accuracy: 0.6215 - val_loss: 1.0948 - val_accuracy: 0.6406\n",
            "Epoch 12/25\n",
            "2000/2000 [==============================] - 3s 2ms/step - loss: 1.1023 - accuracy: 0.6330 - val_loss: 1.1014 - val_accuracy: 0.6502\n",
            "Epoch 13/25\n",
            "2000/2000 [==============================] - 3s 2ms/step - loss: 1.0901 - accuracy: 0.6395 - val_loss: 1.0937 - val_accuracy: 0.6501\n",
            "Epoch 14/25\n",
            "2000/2000 [==============================] - 4s 2ms/step - loss: 1.0953 - accuracy: 0.6405 - val_loss: 1.0543 - val_accuracy: 0.6799\n",
            "Epoch 15/25\n",
            "2000/2000 [==============================] - 4s 2ms/step - loss: 1.0594 - accuracy: 0.6554 - val_loss: 1.1739 - val_accuracy: 0.6071\n",
            "Epoch 16/25\n",
            "2000/2000 [==============================] - 3s 1ms/step - loss: 1.2896 - accuracy: 0.5781 - val_loss: 1.3762 - val_accuracy: 0.5060\n",
            "Epoch 17/25\n",
            "2000/2000 [==============================] - 3s 2ms/step - loss: 1.2904 - accuracy: 0.5236 - val_loss: 1.3245 - val_accuracy: 0.5451\n",
            "Epoch 18/25\n",
            "2000/2000 [==============================] - 3s 2ms/step - loss: 1.2242 - accuracy: 0.5685 - val_loss: 1.1418 - val_accuracy: 0.6239\n",
            "Epoch 19/25\n",
            "2000/2000 [==============================] - 3s 2ms/step - loss: 1.1178 - accuracy: 0.6189 - val_loss: 1.1042 - val_accuracy: 0.6282\n",
            "Epoch 20/25\n",
            "2000/2000 [==============================] - 3s 2ms/step - loss: 1.1560 - accuracy: 0.6096 - val_loss: 1.0993 - val_accuracy: 0.6387\n",
            "Epoch 21/25\n",
            "2000/2000 [==============================] - 3s 2ms/step - loss: 1.0985 - accuracy: 0.6250 - val_loss: 1.0770 - val_accuracy: 0.6286\n",
            "Epoch 22/25\n",
            "2000/2000 [==============================] - 3s 2ms/step - loss: 1.0445 - accuracy: 0.6396 - val_loss: 1.0298 - val_accuracy: 0.6507\n",
            "Epoch 23/25\n",
            "2000/2000 [==============================] - 3s 2ms/step - loss: 1.1842 - accuracy: 0.6007 - val_loss: 1.1252 - val_accuracy: 0.6229\n",
            "Epoch 24/25\n",
            "2000/2000 [==============================] - 3s 2ms/step - loss: 1.0152 - accuracy: 0.6666 - val_loss: 1.0965 - val_accuracy: 0.6438\n",
            "Epoch 25/25\n",
            "2000/2000 [==============================] - 3s 2ms/step - loss: 1.0525 - accuracy: 0.6570 - val_loss: 1.3017 - val_accuracy: 0.6208\n"
          ],
          "name": "stdout"
        }
      ]
    },
    {
      "cell_type": "code",
      "metadata": {
        "id": "hpYmdjqMktK9",
        "outputId": "6ee04c70-3197-40ca-8560-6905ef0496af",
        "colab": {
          "base_uri": "https://localhost:8080/",
          "height": 303
        }
      },
      "source": [
        "batch_sizes = []\n",
        "for exp, result in zip([bt_smallest, bt_small, bt_default, bt_large, bt_largest], [\"32\", \"64\", \"128\", \"256\", \"512\"]):\n",
        "    df = pd.DataFrame.from_dict(exp.history)\n",
        "    df['epoch'] = df.index.values\n",
        "    df['Batch Size'] = result\n",
        "    batch_sizes.append(df)\n",
        "df = pd.concat(batch_sizes)\n",
        "df['Batch Size'] = df['Batch Size'].astype('str')\n",
        "\n",
        "sns.set(style=\"darkgrid\")\n",
        "sns.lineplot(x='epoch', y='val_accuracy', hue = 'Batch Size', data=df)\n",
        "plt.legend(bbox_to_anchor=(1.05, 1), loc=2, borderaxespad=0.)"
      ],
      "execution_count": 43,
      "outputs": [
        {
          "output_type": "execute_result",
          "data": {
            "text/plain": [
              "<matplotlib.legend.Legend at 0x7f5f03e8c668>"
            ]
          },
          "metadata": {
            "tags": []
          },
          "execution_count": 43
        },
        {
          "output_type": "display_data",
          "data": {
            "image/png": "[encoded data removed]",
            "text/plain": [
              "<Figure size 432x288 with 1 Axes>"
            ]
          },
          "metadata": {
            "tags": []
          }
        }
      ]
    },
    {
      "cell_type": "markdown",
      "metadata": {
        "id": "8b-r70o8p2Dm"
      },
      "source": [
        "### Experiment with Learning Rate\n",
        "* Run 5 experiments with various learning rate magnitudes: 1, .1, .01, .001, .0001.\n",
        "* Use the \"best\" batch size from the previous experiment\n",
        "* Visualize the results\n",
        "* Write up an analysis of the experiments and select the \"best\" performing model among your experiments. Make sure to compare against the previous experiments and your model's performance yesterday. "
      ]
    },
    {
      "cell_type": "code",
      "metadata": {
        "id": "_SA144xx8Luf",
        "outputId": "1e1e4b76-1d6a-4cf3-b6b2-140d39556e44",
        "colab": {
          "base_uri": "https://localhost:8080/"
        }
      },
      "source": [
        "lr = 1\n",
        "model = create_model(lr = lr, opt = SGD(learning_rate=lr))\n",
        "lr_largest = model.fit(\n",
        "    X_train, y_train, \n",
        "    epochs=25,\n",
        "    batch_size=32,\n",
        "    validation_data=(X_val,y_val))"
      ],
      "execution_count": 48,
      "outputs": [
        {
          "output_type": "stream",
          "text": [
            "Epoch 1/25\n",
            "2000/2000 [==============================] - 3s 2ms/step - loss: 402872.0312 - accuracy: 0.0988 - val_loss: 2.3149 - val_accuracy: 0.1000\n",
            "Epoch 2/25\n",
            "2000/2000 [==============================] - 3s 2ms/step - loss: 2.3097 - accuracy: 0.1019 - val_loss: 2.3155 - val_accuracy: 0.1000\n",
            "Epoch 3/25\n",
            "2000/2000 [==============================] - 3s 2ms/step - loss: 2.3101 - accuracy: 0.0997 - val_loss: 2.3096 - val_accuracy: 0.1000\n",
            "Epoch 4/25\n",
            "2000/2000 [==============================] - 3s 2ms/step - loss: 2.3100 - accuracy: 0.0980 - val_loss: 2.3074 - val_accuracy: 0.1000\n",
            "Epoch 5/25\n",
            "2000/2000 [==============================] - 3s 2ms/step - loss: 2.3100 - accuracy: 0.0982 - val_loss: 2.3073 - val_accuracy: 0.1000\n",
            "Epoch 6/25\n",
            "2000/2000 [==============================] - 3s 2ms/step - loss: 2.3106 - accuracy: 0.1003 - val_loss: 2.3107 - val_accuracy: 0.1000\n",
            "Epoch 7/25\n",
            "2000/2000 [==============================] - 3s 2ms/step - loss: 2.3097 - accuracy: 0.1008 - val_loss: 2.3085 - val_accuracy: 0.1000\n",
            "Epoch 8/25\n",
            "2000/2000 [==============================] - 3s 2ms/step - loss: 2.3101 - accuracy: 0.0984 - val_loss: 2.3045 - val_accuracy: 0.1000\n",
            "Epoch 9/25\n",
            "2000/2000 [==============================] - 3s 2ms/step - loss: 2.3096 - accuracy: 0.1015 - val_loss: 2.3181 - val_accuracy: 0.1000\n",
            "Epoch 10/25\n",
            "2000/2000 [==============================] - 3s 2ms/step - loss: 2.3101 - accuracy: 0.1002 - val_loss: 2.3072 - val_accuracy: 0.1000\n",
            "Epoch 11/25\n",
            "2000/2000 [==============================] - 3s 2ms/step - loss: 2.3101 - accuracy: 0.0996 - val_loss: 2.3166 - val_accuracy: 0.1000\n",
            "Epoch 12/25\n",
            "2000/2000 [==============================] - 3s 2ms/step - loss: 2.3103 - accuracy: 0.0990 - val_loss: 2.3124 - val_accuracy: 0.1000\n",
            "Epoch 13/25\n",
            "2000/2000 [==============================] - 3s 2ms/step - loss: 2.3098 - accuracy: 0.0995 - val_loss: 2.3092 - val_accuracy: 0.1000\n",
            "Epoch 14/25\n",
            "2000/2000 [==============================] - 3s 2ms/step - loss: 2.3102 - accuracy: 0.1006 - val_loss: 2.3092 - val_accuracy: 0.1000\n",
            "Epoch 15/25\n",
            "2000/2000 [==============================] - 3s 2ms/step - loss: 2.3098 - accuracy: 0.1005 - val_loss: 2.3139 - val_accuracy: 0.1000\n",
            "Epoch 16/25\n",
            "2000/2000 [==============================] - 3s 2ms/step - loss: 2.3101 - accuracy: 0.1008 - val_loss: 2.3085 - val_accuracy: 0.1000\n",
            "Epoch 17/25\n",
            "2000/2000 [==============================] - 3s 2ms/step - loss: 2.3097 - accuracy: 0.1009 - val_loss: 2.3125 - val_accuracy: 0.1000\n",
            "Epoch 18/25\n",
            "2000/2000 [==============================] - 3s 2ms/step - loss: 2.3098 - accuracy: 0.1017 - val_loss: 2.3100 - val_accuracy: 0.1000\n",
            "Epoch 19/25\n",
            "2000/2000 [==============================] - 3s 2ms/step - loss: 2.3101 - accuracy: 0.1005 - val_loss: 2.3119 - val_accuracy: 0.1000\n",
            "Epoch 20/25\n",
            "2000/2000 [==============================] - 3s 2ms/step - loss: 2.3102 - accuracy: 0.1003 - val_loss: 2.3137 - val_accuracy: 0.1000\n",
            "Epoch 21/25\n",
            "2000/2000 [==============================] - 3s 2ms/step - loss: 2.3105 - accuracy: 0.0993 - val_loss: 2.3064 - val_accuracy: 0.1000\n",
            "Epoch 22/25\n",
            "2000/2000 [==============================] - 3s 2ms/step - loss: 2.3102 - accuracy: 0.1000 - val_loss: 2.3070 - val_accuracy: 0.1000\n",
            "Epoch 23/25\n",
            "2000/2000 [==============================] - 3s 2ms/step - loss: 2.3099 - accuracy: 0.1007 - val_loss: 2.3099 - val_accuracy: 0.1000\n",
            "Epoch 24/25\n",
            "2000/2000 [==============================] - 3s 2ms/step - loss: 2.3105 - accuracy: 0.0993 - val_loss: 2.3066 - val_accuracy: 0.1000\n",
            "Epoch 25/25\n",
            "2000/2000 [==============================] - 3s 2ms/step - loss: 2.3100 - accuracy: 0.0986 - val_loss: 2.3158 - val_accuracy: 0.1000\n"
          ],
          "name": "stdout"
        }
      ]
    },
    {
      "cell_type": "code",
      "metadata": {
        "id": "gv72JhJBxdY3",
        "outputId": "31c74d4e-1e09-4a32-b5c8-c5880238c00d",
        "colab": {
          "base_uri": "https://localhost:8080/"
        }
      },
      "source": [
        "lr = 0.1\n",
        "model = create_model(lr = lr, opt = SGD(learning_rate=lr))\n",
        "lr_large = model.fit(\n",
        "    X_train, y_train, \n",
        "    epochs=25,\n",
        "    batch_size=32,\n",
        "    validation_data=(X_val,y_val))"
      ],
      "execution_count": 49,
      "outputs": [
        {
          "output_type": "stream",
          "text": [
            "Epoch 1/25\n",
            "2000/2000 [==============================] - 3s 2ms/step - loss: 621.4458 - accuracy: 0.0994 - val_loss: 3334.4121 - val_accuracy: 0.0999\n",
            "Epoch 2/25\n",
            "2000/2000 [==============================] - 3s 2ms/step - loss: 2.3034 - accuracy: 0.0990 - val_loss: 3334.4021 - val_accuracy: 0.1000\n",
            "Epoch 3/25\n",
            "2000/2000 [==============================] - 3s 2ms/step - loss: 2.3033 - accuracy: 0.0995 - val_loss: 3334.4155 - val_accuracy: 0.0999\n",
            "Epoch 4/25\n",
            "2000/2000 [==============================] - 3s 2ms/step - loss: 2.3034 - accuracy: 0.0980 - val_loss: 3334.4084 - val_accuracy: 0.1000\n",
            "Epoch 5/25\n",
            "2000/2000 [==============================] - 3s 2ms/step - loss: 2.3033 - accuracy: 0.0997 - val_loss: 3334.4033 - val_accuracy: 0.1000\n",
            "Epoch 6/25\n",
            "2000/2000 [==============================] - 3s 2ms/step - loss: 2.3033 - accuracy: 0.1013 - val_loss: 3334.4016 - val_accuracy: 0.1000\n",
            "Epoch 7/25\n",
            "2000/2000 [==============================] - 3s 2ms/step - loss: 2.3033 - accuracy: 0.1008 - val_loss: 3334.3999 - val_accuracy: 0.1000\n",
            "Epoch 8/25\n",
            "2000/2000 [==============================] - 3s 2ms/step - loss: 2.3033 - accuracy: 0.0987 - val_loss: 3334.4036 - val_accuracy: 0.1000\n",
            "Epoch 9/25\n",
            "2000/2000 [==============================] - 3s 2ms/step - loss: 2.3033 - accuracy: 0.0984 - val_loss: 3334.4175 - val_accuracy: 0.0999\n",
            "Epoch 10/25\n",
            "2000/2000 [==============================] - 3s 2ms/step - loss: 2.3033 - accuracy: 0.0999 - val_loss: 3334.4131 - val_accuracy: 0.0999\n",
            "Epoch 11/25\n",
            "2000/2000 [==============================] - 3s 2ms/step - loss: 2.3034 - accuracy: 0.0987 - val_loss: 3334.4082 - val_accuracy: 0.0999\n",
            "Epoch 12/25\n",
            "2000/2000 [==============================] - 3s 2ms/step - loss: 2.3035 - accuracy: 0.0984 - val_loss: 3334.4053 - val_accuracy: 0.1000\n",
            "Epoch 13/25\n",
            "2000/2000 [==============================] - 3s 2ms/step - loss: 2.3034 - accuracy: 0.1004 - val_loss: 3334.4009 - val_accuracy: 0.1000\n",
            "Epoch 14/25\n",
            "2000/2000 [==============================] - 3s 2ms/step - loss: 2.3033 - accuracy: 0.0992 - val_loss: 3334.4099 - val_accuracy: 0.1000\n",
            "Epoch 15/25\n",
            "2000/2000 [==============================] - 3s 2ms/step - loss: 2.3034 - accuracy: 0.0986 - val_loss: 3334.4106 - val_accuracy: 0.0999\n",
            "Epoch 16/25\n",
            "2000/2000 [==============================] - 3s 2ms/step - loss: 2.3032 - accuracy: 0.1003 - val_loss: 3334.4185 - val_accuracy: 0.1000\n",
            "Epoch 17/25\n",
            "2000/2000 [==============================] - 3s 2ms/step - loss: 2.3034 - accuracy: 0.0986 - val_loss: 3334.4048 - val_accuracy: 0.1000\n",
            "Epoch 18/25\n",
            "2000/2000 [==============================] - 3s 2ms/step - loss: 2.3034 - accuracy: 0.1000 - val_loss: 3334.4028 - val_accuracy: 0.0999\n",
            "Epoch 19/25\n",
            "2000/2000 [==============================] - 3s 2ms/step - loss: 2.3034 - accuracy: 0.0995 - val_loss: 3334.4006 - val_accuracy: 0.1000\n",
            "Epoch 20/25\n",
            "2000/2000 [==============================] - 3s 2ms/step - loss: 2.3034 - accuracy: 0.0993 - val_loss: 3334.4019 - val_accuracy: 0.0999\n",
            "Epoch 21/25\n",
            "2000/2000 [==============================] - 3s 2ms/step - loss: 2.3033 - accuracy: 0.0994 - val_loss: 3334.4080 - val_accuracy: 0.1000\n",
            "Epoch 22/25\n",
            "2000/2000 [==============================] - 3s 2ms/step - loss: 2.3035 - accuracy: 0.0973 - val_loss: 3334.4102 - val_accuracy: 0.1000\n",
            "Epoch 23/25\n",
            "2000/2000 [==============================] - 3s 2ms/step - loss: 2.3034 - accuracy: 0.0975 - val_loss: 3334.4077 - val_accuracy: 0.1000\n",
            "Epoch 24/25\n",
            "2000/2000 [==============================] - 3s 2ms/step - loss: 2.3034 - accuracy: 0.1007 - val_loss: 3334.4058 - val_accuracy: 0.1000\n",
            "Epoch 25/25\n",
            "2000/2000 [==============================] - 3s 1ms/step - loss: 2.3034 - accuracy: 0.0979 - val_loss: 3334.4082 - val_accuracy: 0.0999\n"
          ],
          "name": "stdout"
        }
      ]
    },
    {
      "cell_type": "code",
      "metadata": {
        "id": "ESzJ5jzWxdp3",
        "outputId": "e5e20520-e2a3-4184-e034-833887187254",
        "colab": {
          "base_uri": "https://localhost:8080/"
        }
      },
      "source": [
        "lr = 0.01\n",
        "model = create_model(lr = lr, opt = SGD(learning_rate=lr))\n",
        "lr_default = model.fit(\n",
        "    X_train, y_train, \n",
        "    epochs=25,\n",
        "    batch_size=32,\n",
        "    validation_data=(X_val,y_val))"
      ],
      "execution_count": 50,
      "outputs": [
        {
          "output_type": "stream",
          "text": [
            "Epoch 1/25\n",
            "2000/2000 [==============================] - 3s 2ms/step - loss: 1367.0112 - accuracy: 0.0983 - val_loss: 2.2992 - val_accuracy: 0.1040\n",
            "Epoch 2/25\n",
            "2000/2000 [==============================] - 3s 1ms/step - loss: 4.4344 - accuracy: 0.1268 - val_loss: 2.3041 - val_accuracy: 0.1001\n",
            "Epoch 3/25\n",
            "2000/2000 [==============================] - 3s 1ms/step - loss: 2.3029 - accuracy: 0.0980 - val_loss: 2.3028 - val_accuracy: 0.1000\n",
            "Epoch 4/25\n",
            "2000/2000 [==============================] - 3s 2ms/step - loss: 2.3016 - accuracy: 0.0968 - val_loss: 2.2953 - val_accuracy: 0.1076\n",
            "Epoch 5/25\n",
            "2000/2000 [==============================] - 3s 1ms/step - loss: 11.2066 - accuracy: 0.1267 - val_loss: 2.3059 - val_accuracy: 0.1000\n",
            "Epoch 6/25\n",
            "2000/2000 [==============================] - 3s 2ms/step - loss: 2.2958 - accuracy: 0.1042 - val_loss: 2.2657 - val_accuracy: 0.1211\n",
            "Epoch 7/25\n",
            "2000/2000 [==============================] - 3s 2ms/step - loss: 2.2278 - accuracy: 0.1384 - val_loss: 2.1789 - val_accuracy: 0.1594\n",
            "Epoch 8/25\n",
            "2000/2000 [==============================] - 3s 2ms/step - loss: 2.1100 - accuracy: 0.1735 - val_loss: 2.0962 - val_accuracy: 0.1857\n",
            "Epoch 9/25\n",
            "2000/2000 [==============================] - 3s 2ms/step - loss: 4.6688 - accuracy: 0.1586 - val_loss: 2.3035 - val_accuracy: 0.0999\n",
            "Epoch 10/25\n",
            "2000/2000 [==============================] - 3s 2ms/step - loss: 2.3053 - accuracy: 0.0979 - val_loss: 2.3042 - val_accuracy: 0.1000\n",
            "Epoch 11/25\n",
            "2000/2000 [==============================] - 3s 2ms/step - loss: 2.3050 - accuracy: 0.0987 - val_loss: 2.3068 - val_accuracy: 0.1000\n",
            "Epoch 12/25\n",
            "2000/2000 [==============================] - 3s 2ms/step - loss: 2.3048 - accuracy: 0.1005 - val_loss: 2.3038 - val_accuracy: 0.1000\n",
            "Epoch 13/25\n",
            "2000/2000 [==============================] - 3s 2ms/step - loss: 2.3047 - accuracy: 0.0994 - val_loss: 2.3068 - val_accuracy: 0.1000\n",
            "Epoch 14/25\n",
            "2000/2000 [==============================] - 3s 2ms/step - loss: 2.3048 - accuracy: 0.1007 - val_loss: 2.3043 - val_accuracy: 0.1000\n",
            "Epoch 15/25\n",
            "2000/2000 [==============================] - 3s 2ms/step - loss: 2.3047 - accuracy: 0.0997 - val_loss: 2.3042 - val_accuracy: 0.1000\n",
            "Epoch 16/25\n",
            "2000/2000 [==============================] - 3s 2ms/step - loss: 2.3043 - accuracy: 0.0993 - val_loss: 2.3057 - val_accuracy: 0.0999\n",
            "Epoch 17/25\n",
            "2000/2000 [==============================] - 3s 2ms/step - loss: 42.8641 - accuracy: 0.1070 - val_loss: 2.3071 - val_accuracy: 0.1000\n",
            "Epoch 18/25\n",
            "2000/2000 [==============================] - 3s 2ms/step - loss: 2.3050 - accuracy: 0.0963 - val_loss: 2.3032 - val_accuracy: 0.0999\n",
            "Epoch 19/25\n",
            "2000/2000 [==============================] - 3s 2ms/step - loss: 2.3045 - accuracy: 0.0981 - val_loss: 2.3039 - val_accuracy: 0.1000\n",
            "Epoch 20/25\n",
            "2000/2000 [==============================] - 3s 2ms/step - loss: 2.3046 - accuracy: 0.0988 - val_loss: 2.3033 - val_accuracy: 0.0999\n",
            "Epoch 21/25\n",
            "2000/2000 [==============================] - 3s 2ms/step - loss: 2.3045 - accuracy: 0.0999 - val_loss: 2.3049 - val_accuracy: 0.1000\n",
            "Epoch 22/25\n",
            "2000/2000 [==============================] - 3s 1ms/step - loss: 2.3045 - accuracy: 0.0985 - val_loss: 2.3042 - val_accuracy: 0.1000\n",
            "Epoch 23/25\n",
            "2000/2000 [==============================] - 3s 1ms/step - loss: 2.3041 - accuracy: 0.1002 - val_loss: 2.3032 - val_accuracy: 0.0999\n",
            "Epoch 24/25\n",
            "2000/2000 [==============================] - 3s 1ms/step - loss: 2.3044 - accuracy: 0.0985 - val_loss: 2.3037 - val_accuracy: 0.1000\n",
            "Epoch 25/25\n",
            "2000/2000 [==============================] - 3s 1ms/step - loss: 2.3042 - accuracy: 0.1009 - val_loss: 2.3036 - val_accuracy: 0.1000\n"
          ],
          "name": "stdout"
        }
      ]
    },
    {
      "cell_type": "code",
      "metadata": {
        "id": "fE5Tn2KBxdhE",
        "outputId": "d045b605-ad5b-47a8-ba94-d164785ddfa1",
        "colab": {
          "base_uri": "https://localhost:8080/"
        }
      },
      "source": [
        "lr = 0.001\n",
        "model = create_model(lr = lr, opt = SGD(learning_rate=lr))\n",
        "lr_small = model.fit(\n",
        "    X_train, y_train, \n",
        "    epochs=25,\n",
        "    batch_size=32,\n",
        "    validation_data=(X_val,y_val))"
      ],
      "execution_count": 51,
      "outputs": [
        {
          "output_type": "stream",
          "text": [
            "Epoch 1/25\n",
            "2000/2000 [==============================] - 3s 2ms/step - loss: 2.1578 - accuracy: 0.2399 - val_loss: 1.8637 - val_accuracy: 0.3246\n",
            "Epoch 2/25\n",
            "2000/2000 [==============================] - 3s 1ms/step - loss: 1.7969 - accuracy: 0.3492 - val_loss: 1.7706 - val_accuracy: 0.3461\n",
            "Epoch 3/25\n",
            "2000/2000 [==============================] - 3s 2ms/step - loss: 1.7203 - accuracy: 0.3704 - val_loss: 1.7031 - val_accuracy: 0.3781\n",
            "Epoch 4/25\n",
            "2000/2000 [==============================] - 3s 2ms/step - loss: 1.6518 - accuracy: 0.3875 - val_loss: 1.5747 - val_accuracy: 0.3931\n",
            "Epoch 5/25\n",
            "2000/2000 [==============================] - 3s 2ms/step - loss: 1.5142 - accuracy: 0.4445 - val_loss: 1.5483 - val_accuracy: 0.4985\n",
            "Epoch 6/25\n",
            "2000/2000 [==============================] - 3s 2ms/step - loss: 1.4441 - accuracy: 0.4933 - val_loss: 1.4557 - val_accuracy: 0.4978\n",
            "Epoch 7/25\n",
            "2000/2000 [==============================] - 3s 1ms/step - loss: 1.3874 - accuracy: 0.5131 - val_loss: 1.3934 - val_accuracy: 0.5072\n",
            "Epoch 8/25\n",
            "2000/2000 [==============================] - 3s 2ms/step - loss: 1.3348 - accuracy: 0.5365 - val_loss: 1.3291 - val_accuracy: 0.5528\n",
            "Epoch 9/25\n",
            "2000/2000 [==============================] - 4s 2ms/step - loss: 1.2612 - accuracy: 0.5773 - val_loss: 1.2429 - val_accuracy: 0.6049\n",
            "Epoch 10/25\n",
            "2000/2000 [==============================] - 4s 2ms/step - loss: 1.1750 - accuracy: 0.6172 - val_loss: 1.1713 - val_accuracy: 0.6194\n",
            "Epoch 11/25\n",
            "2000/2000 [==============================] - 4s 2ms/step - loss: 1.0941 - accuracy: 0.6538 - val_loss: 1.1032 - val_accuracy: 0.6624\n",
            "Epoch 12/25\n",
            "2000/2000 [==============================] - 4s 2ms/step - loss: 1.0277 - accuracy: 0.6848 - val_loss: 1.0412 - val_accuracy: 0.6833\n",
            "Epoch 13/25\n",
            "2000/2000 [==============================] - 4s 2ms/step - loss: 0.9695 - accuracy: 0.7079 - val_loss: 1.0088 - val_accuracy: 0.7043\n",
            "Epoch 14/25\n",
            "2000/2000 [==============================] - 3s 2ms/step - loss: 0.9283 - accuracy: 0.7194 - val_loss: 0.9500 - val_accuracy: 0.7201\n",
            "Epoch 15/25\n",
            "2000/2000 [==============================] - 3s 2ms/step - loss: 0.8975 - accuracy: 0.7294 - val_loss: 0.9269 - val_accuracy: 0.7318\n",
            "Epoch 16/25\n",
            "2000/2000 [==============================] - 3s 2ms/step - loss: 0.8741 - accuracy: 0.7373 - val_loss: 0.9154 - val_accuracy: 0.7311\n",
            "Epoch 17/25\n",
            "2000/2000 [==============================] - 3s 2ms/step - loss: 0.8516 - accuracy: 0.7430 - val_loss: 0.8942 - val_accuracy: 0.7375\n",
            "Epoch 18/25\n",
            "2000/2000 [==============================] - 3s 1ms/step - loss: 0.8352 - accuracy: 0.7486 - val_loss: 0.8898 - val_accuracy: 0.7355\n",
            "Epoch 19/25\n",
            "2000/2000 [==============================] - 3s 2ms/step - loss: 0.8184 - accuracy: 0.7549 - val_loss: 0.8712 - val_accuracy: 0.7408\n",
            "Epoch 20/25\n",
            "2000/2000 [==============================] - 3s 2ms/step - loss: 0.8028 - accuracy: 0.7599 - val_loss: 0.8522 - val_accuracy: 0.7494\n",
            "Epoch 21/25\n",
            "2000/2000 [==============================] - 3s 2ms/step - loss: 0.7886 - accuracy: 0.7621 - val_loss: 0.8447 - val_accuracy: 0.7520\n",
            "Epoch 22/25\n",
            "2000/2000 [==============================] - 3s 2ms/step - loss: 0.7635 - accuracy: 0.7658 - val_loss: 0.8052 - val_accuracy: 0.7626\n",
            "Epoch 23/25\n",
            "2000/2000 [==============================] - 3s 2ms/step - loss: 0.7394 - accuracy: 0.7718 - val_loss: 0.7912 - val_accuracy: 0.7581\n",
            "Epoch 24/25\n",
            "2000/2000 [==============================] - 3s 2ms/step - loss: 0.7229 - accuracy: 0.7758 - val_loss: 0.7960 - val_accuracy: 0.7532\n",
            "Epoch 25/25\n",
            "2000/2000 [==============================] - 3s 2ms/step - loss: 0.7094 - accuracy: 0.7805 - val_loss: 0.7703 - val_accuracy: 0.7641\n"
          ],
          "name": "stdout"
        }
      ]
    },
    {
      "cell_type": "code",
      "metadata": {
        "id": "3UuM13XqxdQT",
        "outputId": "f7d22871-453e-4380-b158-6fabcf45dda4",
        "colab": {
          "base_uri": "https://localhost:8080/"
        }
      },
      "source": [
        "lr = 0.0001\n",
        "model = create_model(lr = lr, opt = SGD(learning_rate=lr))\n",
        "lr_smallest = model.fit(\n",
        "    X_train, y_train, \n",
        "    epochs=25,\n",
        "    batch_size=32,\n",
        "    validation_data=(X_val,y_val))"
      ],
      "execution_count": 52,
      "outputs": [
        {
          "output_type": "stream",
          "text": [
            "Epoch 1/25\n",
            "2000/2000 [==============================] - 3s 2ms/step - loss: 2.6976 - accuracy: 0.1037 - val_loss: 2.3141 - val_accuracy: 0.1014\n",
            "Epoch 2/25\n",
            "2000/2000 [==============================] - 3s 2ms/step - loss: 2.3078 - accuracy: 0.1011 - val_loss: 2.3085 - val_accuracy: 0.1013\n",
            "Epoch 3/25\n",
            "2000/2000 [==============================] - 3s 2ms/step - loss: 2.3045 - accuracy: 0.1015 - val_loss: 2.3072 - val_accuracy: 0.1018\n",
            "Epoch 4/25\n",
            "2000/2000 [==============================] - 3s 1ms/step - loss: 2.3008 - accuracy: 0.1035 - val_loss: 2.2986 - val_accuracy: 0.1090\n",
            "Epoch 5/25\n",
            "2000/2000 [==============================] - 3s 2ms/step - loss: 2.2497 - accuracy: 0.1345 - val_loss: 2.2257 - val_accuracy: 0.1470\n",
            "Epoch 6/25\n",
            "2000/2000 [==============================] - 3s 2ms/step - loss: 2.2116 - accuracy: 0.1501 - val_loss: 2.2082 - val_accuracy: 0.1539\n",
            "Epoch 7/25\n",
            "2000/2000 [==============================] - 3s 2ms/step - loss: 2.1988 - accuracy: 0.1549 - val_loss: 2.1996 - val_accuracy: 0.1552\n",
            "Epoch 8/25\n",
            "2000/2000 [==============================] - 3s 2ms/step - loss: 2.1896 - accuracy: 0.1580 - val_loss: 2.1928 - val_accuracy: 0.1583\n",
            "Epoch 9/25\n",
            "2000/2000 [==============================] - 3s 2ms/step - loss: 2.1836 - accuracy: 0.1595 - val_loss: 2.1886 - val_accuracy: 0.1592\n",
            "Epoch 10/25\n",
            "2000/2000 [==============================] - 3s 2ms/step - loss: 2.1794 - accuracy: 0.1601 - val_loss: 2.1871 - val_accuracy: 0.1581\n",
            "Epoch 11/25\n",
            "2000/2000 [==============================] - 3s 2ms/step - loss: 2.1765 - accuracy: 0.1609 - val_loss: 2.1830 - val_accuracy: 0.1614\n",
            "Epoch 12/25\n",
            "2000/2000 [==============================] - 3s 1ms/step - loss: 2.1732 - accuracy: 0.1626 - val_loss: 2.1810 - val_accuracy: 0.1609\n",
            "Epoch 13/25\n",
            "2000/2000 [==============================] - 3s 1ms/step - loss: 2.1703 - accuracy: 0.1628 - val_loss: 2.1784 - val_accuracy: 0.1632\n",
            "Epoch 14/25\n",
            "2000/2000 [==============================] - 3s 1ms/step - loss: 2.1676 - accuracy: 0.1640 - val_loss: 2.1763 - val_accuracy: 0.1648\n",
            "Epoch 15/25\n",
            "2000/2000 [==============================] - 3s 2ms/step - loss: 2.1643 - accuracy: 0.1658 - val_loss: 2.1750 - val_accuracy: 0.1674\n",
            "Epoch 16/25\n",
            "2000/2000 [==============================] - 3s 2ms/step - loss: 2.1617 - accuracy: 0.1667 - val_loss: 2.1713 - val_accuracy: 0.1663\n",
            "Epoch 17/25\n",
            "2000/2000 [==============================] - 3s 2ms/step - loss: 2.1583 - accuracy: 0.1681 - val_loss: 2.1687 - val_accuracy: 0.1674\n",
            "Epoch 18/25\n",
            "2000/2000 [==============================] - 3s 2ms/step - loss: 2.1554 - accuracy: 0.1689 - val_loss: 2.1671 - val_accuracy: 0.1692\n",
            "Epoch 19/25\n",
            "2000/2000 [==============================] - 3s 2ms/step - loss: 2.1523 - accuracy: 0.1701 - val_loss: 2.1646 - val_accuracy: 0.1692\n",
            "Epoch 20/25\n",
            "2000/2000 [==============================] - 3s 2ms/step - loss: 2.1499 - accuracy: 0.1708 - val_loss: 2.1630 - val_accuracy: 0.1711\n",
            "Epoch 21/25\n",
            "2000/2000 [==============================] - 3s 2ms/step - loss: 2.1476 - accuracy: 0.1719 - val_loss: 2.1605 - val_accuracy: 0.1710\n",
            "Epoch 22/25\n",
            "2000/2000 [==============================] - 3s 2ms/step - loss: 2.1446 - accuracy: 0.1735 - val_loss: 2.1586 - val_accuracy: 0.1740\n",
            "Epoch 23/25\n",
            "2000/2000 [==============================] - 3s 2ms/step - loss: 2.1397 - accuracy: 0.1766 - val_loss: 2.1555 - val_accuracy: 0.1768\n",
            "Epoch 24/25\n",
            "2000/2000 [==============================] - 3s 2ms/step - loss: 2.1334 - accuracy: 0.1805 - val_loss: 2.1512 - val_accuracy: 0.1806\n",
            "Epoch 25/25\n",
            "2000/2000 [==============================] - 3s 2ms/step - loss: 2.1242 - accuracy: 0.1872 - val_loss: 2.1406 - val_accuracy: 0.1871\n"
          ],
          "name": "stdout"
        }
      ]
    },
    {
      "cell_type": "code",
      "metadata": {
        "id": "NMld1owWzddR",
        "outputId": "93c6c763-ba6d-454d-a594-a44d3c5a495f",
        "colab": {
          "base_uri": "https://localhost:8080/",
          "height": 302
        }
      },
      "source": [
        "learning_rates = []\n",
        "for exp, result in zip([lr_smallest, lr_small, lr_default, lr_large, lr_largest], [\"0.0001\", \"0.001\", \"0.01\", \"0.1\", \"1\"]):\n",
        "    df = pd.DataFrame.from_dict(exp.history)\n",
        "    df['epoch'] = df.index.values\n",
        "    df['Learning Rate'] = result\n",
        "    learning_rates.append(df)\n",
        "df = pd.concat(learning_rates)\n",
        "df['Learning Rate'] = df['Learning Rate'].astype('str')\n",
        "\n",
        "sns.set(style=\"darkgrid\")\n",
        "sns.lineplot(x='epoch', y='val_accuracy', hue = 'Learning Rate', data=df)\n",
        "plt.legend(bbox_to_anchor=(1.05, 1), loc=2, borderaxespad=0.)"
      ],
      "execution_count": 53,
      "outputs": [
        {
          "output_type": "execute_result",
          "data": {
            "text/plain": [
              "<matplotlib.legend.Legend at 0x7f5f0d56a908>"
            ]
          },
          "metadata": {
            "tags": []
          },
          "execution_count": 53
        },
        {
          "output_type": "display_data",
          "data": {
            "image/png": "[encoded data removed]",
            "text/plain": [
              "<Figure size 432x288 with 1 Axes>"
            ]
          },
          "metadata": {
            "tags": []
          }
        }
      ]
    },
    {
      "cell_type": "markdown",
      "metadata": {
        "id": "gxMtSRhV9Q7I"
      },
      "source": [
        "### Experiment with different Optimizers\n",
        "* Run 5 experiments with various optimizers available in TensorFlow. See list [here](https://www.tensorflow.org/api_docs/python/tf/keras/optimizers)\n",
        "* Visualize the results\n",
        "* Write up an analysis of the experiments and select the \"best\" performing model among your experiments. Make sure to compare against the previous experiments and your model's performance yesterday.\n",
        "* Repeat the experiment combining Learning Rate and different optimizers. Does the best performing model change? "
      ]
    },
    {
      "cell_type": "code",
      "metadata": {
        "id": "ujLuzdNA91ip"
      },
      "source": [
        ""
      ],
      "execution_count": null,
      "outputs": []
    },
    {
      "cell_type": "markdown",
      "metadata": {
        "id": "ydAqeY9S8uHA"
      },
      "source": [
        "### Additional Written Tasks\n",
        "\n",
        "1. Describe the process of backpropagation in your own words: \n",
        "```\n",
        "Your answer goes here.\n",
        "```\n",
        "\n"
      ]
    },
    {
      "cell_type": "markdown",
      "metadata": {
        "id": "FwlRJSfBlCvy"
      },
      "source": [
        "## Stretch Goals: \n",
        "\n",
        "- Implement GridSearch on anyone of the experiments\n",
        "- On the learning rate experiments, implement [EarlyStopping](https://www.tensorflow.org/api_docs/python/tf/keras/callbacks/EarlyStopping)\n",
        "- Review material on the math behind gradient descent: \n",
        "\n",
        "  - Gradient Descent\n",
        "    - Gradient Descent, Step-by-Step  by StatQuest w/ Josh Starmer. This will help you understand the gradient descent based optimization that happens underneath the hood of neural networks. It uses a non-neural network example, which I believe is a gentler introduction. You will hear me refer to this technique as \"vanilla\" gradient descent. \n",
        "    - Stochastic Gradient Descent, Clearly Explained!!! by StatQuest w/ Josh Starmer. This builds on the techniques in the previous video.  This technique is the one that is actually implemented inside modern 'nets. \n",
        "These are great resources to help you understand tomorrow's material at a deeper level. I highly recommend watching these ahead of tomorrow.\n",
        "\n",
        "  - Background Math\n",
        "    - Dot products and duality by 3Blue1Brown. Explains the core linear algebra operation happening in today's perceptron.\n",
        "The paradox of the derivative by 3Blue1Brown. Does a great job explaining a derivative. \n",
        "    - Visualizing the chain rule and product rule by 3Blue1Brown. Explains the black magic that happens within Stochastic Gradient Descent. \n",
        "These math resources are very much optional. They can be very heady, but I encourage you to explore. Your understanding of neural networks will greatly increase if you understand this math background.\n",
        "\n",
        "\n"
      ]
    }
  ]
}