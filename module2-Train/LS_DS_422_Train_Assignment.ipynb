{
  "nbformat": 4,
  "nbformat_minor": 0,
  "metadata": {
    "colab": {
      "name": "LS_DS_422_Train_Assignment.ipynb",
      "provenance": [],
      "collapsed_sections": []
    },
    "kernelspec": {
      "display_name": "Python 3",
      "language": "python",
      "name": "python3"
    },
    "language_info": {
      "codemirror_mode": {
        "name": "ipython",
        "version": 3
      },
      "file_extension": ".py",
      "mimetype": "text/x-python",
      "name": "python",
      "nbconvert_exporter": "python",
      "pygments_lexer": "ipython3",
      "version": "3.7.3"
    },
    "nteract": {
      "version": "0.22.4"
    }
  },
  "cells": [
    {
      "cell_type": "markdown",
      "metadata": {
        "id": "NGGrt9EYlCqY"
      },
      "source": [
        "<img align=\"left\" src=\"https://lever-client-logos.s3.amazonaws.com/864372b1-534c-480e-acd5-9711f850815c-1524247202159.png\" width=200>\n",
        "<br></br>\n",
        "<br></br>\n",
        "\n",
        "# Train Practice\n",
        "\n",
        "## *Data Science Unit 4 Sprint 2 Assignment 2*\n",
        "\n",
        "Continue to use TensorFlow Keras & a sample of the [Quickdraw dataset](https://github.com/googlecreativelab/quickdraw-dataset) to build a sketch classification model. The dataset has been sampled to only 10 classes and 10000 observations per class. Please build a baseline classification model then run a few experiments with different optimizers and learning rates. \n",
        "\n",
        "*Don't forgot to switch to GPU on Colab!*"
      ]
    },
    {
      "cell_type": "markdown",
      "metadata": {
        "id": "uAkz1OqHOKsU"
      },
      "source": [
        "# Imports"
      ]
    },
    {
      "cell_type": "code",
      "metadata": {
        "id": "Oq584L6ZSne9"
      },
      "source": [
        "import numpy as np\n",
        "import seaborn as sns\n",
        "import pandas as pd\n",
        "import matplotlib.pyplot as plt\n",
        "\n",
        "from sklearn.model_selection import train_test_split\n",
        "from tensorflow.keras import Sequential\n",
        "from tensorflow.keras.layers import Dense\n",
        "from tensorflow.keras.optimizers import SGD, Adagrad, RMSprop, Ftrl, Adam\n",
        "\n"
      ],
      "execution_count": 63,
      "outputs": []
    },
    {
      "cell_type": "markdown",
      "metadata": {
        "id": "ptJ2b3wk62Ud"
      },
      "source": [
        "### Write a function to load your data\n",
        "\n",
        "Wrap yesterday's preprocessing steps into a function that returns four items:\n",
        "* X_train\n",
        "* y_train\n",
        "* X_test\n",
        "* y_test\n",
        "\n",
        "Your function should accept a `path` to the data as a argument."
      ]
    },
    {
      "cell_type": "markdown",
      "metadata": {
        "id": "IskidCsfOTxb"
      },
      "source": [
        "#### Train_Validate_Test split function for .npz (zip file)"
      ]
    },
    {
      "cell_type": "code",
      "metadata": {
        "id": "nJsIsrvp7O3e",
        "outputId": "13d6e811-a889-431b-f087-35675b068203",
        "colab": {
          "base_uri": "https://localhost:8080/"
        }
      },
      "source": [
        "def split_zip_df(path):\n",
        "  data = np.load(path)\n",
        "  features = 'arr_0'\n",
        "  target = 'arr_1'\n",
        "  X = data[features]\n",
        "  y = data[target]\n",
        "  X_train, X_test, y_train, y_test = train_test_split(\n",
        "      X, y, test_size=0.20,\n",
        "      stratify= y,\n",
        "      random_state=17)\n",
        "  X_train, X_val, y_train, y_val = train_test_split(\n",
        "      X_train, y_train, test_size=0.20,\n",
        "      stratify= y_train,\n",
        "      random_state=17)\n",
        "\n",
        "  return X_train, y_train, X_val, y_val, X_test, y_test\n",
        "\n",
        "  \n",
        "X_train, y_train, X_val, y_val, X_test, y_test = split_zip_df('quickdraw10.npz')\n",
        "\n",
        "X_train.shape, y_train.shape, X_val.shape, y_val.shape, X_test.shape, y_test.shape"
      ],
      "execution_count": 46,
      "outputs": [
        {
          "output_type": "execute_result",
          "data": {
            "text/plain": [
              "((64000, 784), (64000,), (16000, 784), (16000,), (20000, 784), (20000,))"
            ]
          },
          "metadata": {
            "tags": []
          },
          "execution_count": 46
        }
      ]
    },
    {
      "cell_type": "markdown",
      "metadata": {
        "id": "l-6PxI6H5__2"
      },
      "source": [
        "### Write a Model Function\n",
        "Using your model from yesterday, write a function called `create_model` which returns a compiled TensorFlow Keras Sequential Model suitable for classifying the QuickDraw-10 dataset. Include parameters for the following: \n",
        "* Learning Rate\n",
        "* Optimizer"
      ]
    },
    {
      "cell_type": "code",
      "metadata": {
        "id": "nEREYT-3wI1f",
        "cellView": "code"
      },
      "source": [
        "def create_model(lr, opt): #lr = Learning rate, opt = optimizer\n",
        "  model = Sequential([\n",
        "                      Dense(32, activation='relu', input_dim=784),\n",
        "                      Dense(32, activation='relu'),\n",
        "                      Dense(16, activation='relu'),\n",
        "                      Dense(10, activation='softmax')\n",
        "  ])\n",
        "  opt = opt(learning_rate = lr)\n",
        "  model.compile(optimizer=opt,\n",
        "                loss='sparse_categorical_crossentropy',\n",
        "                metrics=['accuracy'])\n",
        "  return model"
      ],
      "execution_count": 54,
      "outputs": []
    },
    {
      "cell_type": "markdown",
      "metadata": {
        "id": "f0pCkh8C7eGL"
      },
      "source": [
        "### Experiment with Batch Size\n",
        "* Run 5 experiments with various batch sizes of your choice. \n",
        "* Visualize the results\n",
        "* Write up an analysis of the experiments and select the \"best\" performing model among your experiments. Make sure to compare against your model's performance yesterday. "
      ]
    },
    {
      "cell_type": "code",
      "metadata": {
        "id": "USXjs7Hk71Hy",
        "outputId": "8b3b7590-8d93-4941-c578-b9f3d7145d4e",
        "colab": {
          "base_uri": "https://localhost:8080/"
        }
      },
      "source": [
        "model = create_model(lr = 0.01, opt = SGD)\n",
        "bt_largest = model.fit(\n",
        "    X_train, y_train, \n",
        "    epochs=25,\n",
        "    batch_size=512,\n",
        "    validation_data=(X_val,y_val))\n"
      ],
      "execution_count": 56,
      "outputs": [
        {
          "output_type": "stream",
          "text": [
            "Epoch 1/25\n",
            "125/125 [==============================] - 1s 6ms/step - loss: 7.3052 - accuracy: 0.1103 - val_loss: 2.2027 - val_accuracy: 0.1721\n",
            "Epoch 2/25\n",
            "125/125 [==============================] - 1s 5ms/step - loss: 2.1445 - accuracy: 0.1848 - val_loss: 2.1200 - val_accuracy: 0.1991\n",
            "Epoch 3/25\n",
            "125/125 [==============================] - 1s 6ms/step - loss: 2.0500 - accuracy: 0.2193 - val_loss: 2.0176 - val_accuracy: 0.2328\n",
            "Epoch 4/25\n",
            "125/125 [==============================] - 1s 6ms/step - loss: 1.9680 - accuracy: 0.2466 - val_loss: 1.9649 - val_accuracy: 0.2455\n",
            "Epoch 5/25\n",
            "125/125 [==============================] - 1s 6ms/step - loss: 1.9233 - accuracy: 0.2503 - val_loss: 1.9231 - val_accuracy: 0.2543\n",
            "Epoch 6/25\n",
            "125/125 [==============================] - 1s 6ms/step - loss: 1.8919 - accuracy: 0.2524 - val_loss: 1.8956 - val_accuracy: 0.2536\n",
            "Epoch 7/25\n",
            "125/125 [==============================] - 1s 6ms/step - loss: 1.8669 - accuracy: 0.2593 - val_loss: 1.8758 - val_accuracy: 0.2617\n",
            "Epoch 8/25\n",
            "125/125 [==============================] - 1s 5ms/step - loss: 1.8493 - accuracy: 0.2633 - val_loss: 1.8568 - val_accuracy: 0.2663\n",
            "Epoch 9/25\n",
            "125/125 [==============================] - 1s 6ms/step - loss: 1.8323 - accuracy: 0.2642 - val_loss: 1.8420 - val_accuracy: 0.2693\n",
            "Epoch 10/25\n",
            "125/125 [==============================] - 1s 6ms/step - loss: 1.8174 - accuracy: 0.2686 - val_loss: 1.8303 - val_accuracy: 0.2721\n",
            "Epoch 11/25\n",
            "125/125 [==============================] - 1s 6ms/step - loss: 1.8065 - accuracy: 0.2699 - val_loss: 1.8271 - val_accuracy: 0.2764\n",
            "Epoch 12/25\n",
            "125/125 [==============================] - 1s 6ms/step - loss: 1.7958 - accuracy: 0.2750 - val_loss: 1.8120 - val_accuracy: 0.2781\n",
            "Epoch 13/25\n",
            "125/125 [==============================] - 1s 5ms/step - loss: 1.7882 - accuracy: 0.2775 - val_loss: 1.8029 - val_accuracy: 0.2799\n",
            "Epoch 14/25\n",
            "125/125 [==============================] - 1s 6ms/step - loss: 1.7805 - accuracy: 0.2800 - val_loss: 1.7959 - val_accuracy: 0.2826\n",
            "Epoch 15/25\n",
            "125/125 [==============================] - 1s 6ms/step - loss: 1.7720 - accuracy: 0.2835 - val_loss: 1.7897 - val_accuracy: 0.2863\n",
            "Epoch 16/25\n",
            "125/125 [==============================] - 1s 6ms/step - loss: 1.7634 - accuracy: 0.2892 - val_loss: 1.7805 - val_accuracy: 0.2898\n",
            "Epoch 17/25\n",
            "125/125 [==============================] - 1s 6ms/step - loss: 1.7557 - accuracy: 0.2914 - val_loss: 1.7739 - val_accuracy: 0.3019\n",
            "Epoch 18/25\n",
            "125/125 [==============================] - 1s 6ms/step - loss: 1.7498 - accuracy: 0.2963 - val_loss: 1.7678 - val_accuracy: 0.2981\n",
            "Epoch 19/25\n",
            "125/125 [==============================] - 1s 6ms/step - loss: 1.7435 - accuracy: 0.2998 - val_loss: 1.7620 - val_accuracy: 0.3089\n",
            "Epoch 20/25\n",
            "125/125 [==============================] - 1s 6ms/step - loss: 1.7392 - accuracy: 0.3038 - val_loss: 1.7584 - val_accuracy: 0.3014\n",
            "Epoch 21/25\n",
            "125/125 [==============================] - 1s 6ms/step - loss: 1.7322 - accuracy: 0.3090 - val_loss: 1.7556 - val_accuracy: 0.3219\n",
            "Epoch 22/25\n",
            "125/125 [==============================] - 1s 6ms/step - loss: 1.7364 - accuracy: 0.3109 - val_loss: 1.7609 - val_accuracy: 0.3304\n",
            "Epoch 23/25\n",
            "125/125 [==============================] - 1s 6ms/step - loss: 1.7234 - accuracy: 0.3147 - val_loss: 1.7502 - val_accuracy: 0.3374\n",
            "Epoch 24/25\n",
            "125/125 [==============================] - 1s 6ms/step - loss: 1.7256 - accuracy: 0.3175 - val_loss: 1.7444 - val_accuracy: 0.3296\n",
            "Epoch 25/25\n",
            "125/125 [==============================] - 1s 6ms/step - loss: 1.7125 - accuracy: 0.3266 - val_loss: 1.7372 - val_accuracy: 0.3302\n"
          ],
          "name": "stdout"
        }
      ]
    },
    {
      "cell_type": "code",
      "metadata": {
        "id": "4mJR0Dqakr9b",
        "outputId": "acf780a8-3e27-4d69-8d39-9c94f8cc70aa",
        "colab": {
          "base_uri": "https://localhost:8080/"
        }
      },
      "source": [
        "model = create_model(lr = 0.01, opt = SGD)\n",
        "bt_large = model.fit(\n",
        "    X_train, y_train, \n",
        "    epochs=25,\n",
        "    batch_size=256,\n",
        "    validation_data=(X_val,y_val))"
      ],
      "execution_count": 17,
      "outputs": [
        {
          "output_type": "stream",
          "text": [
            "Epoch 1/25\n",
            "250/250 [==============================] - 1s 4ms/step - loss: 6.8093 - accuracy: 0.0991 - val_loss: 2.3051 - val_accuracy: 0.1001\n",
            "Epoch 2/25\n",
            "250/250 [==============================] - 1s 4ms/step - loss: 2.3040 - accuracy: 0.0998 - val_loss: 2.3038 - val_accuracy: 0.1000\n",
            "Epoch 3/25\n",
            "250/250 [==============================] - 1s 4ms/step - loss: 2.3021 - accuracy: 0.0990 - val_loss: 2.3885 - val_accuracy: 0.1017\n",
            "Epoch 4/25\n",
            "250/250 [==============================] - 1s 4ms/step - loss: 2.3034 - accuracy: 0.0986 - val_loss: 2.3036 - val_accuracy: 0.0997\n",
            "Epoch 5/25\n",
            "250/250 [==============================] - 1s 4ms/step - loss: 2.3022 - accuracy: 0.0993 - val_loss: 2.3032 - val_accuracy: 0.0997\n",
            "Epoch 6/25\n",
            "250/250 [==============================] - 1s 4ms/step - loss: 2.3008 - accuracy: 0.1006 - val_loss: 2.2945 - val_accuracy: 0.1135\n",
            "Epoch 7/25\n",
            "250/250 [==============================] - 1s 4ms/step - loss: 2.1824 - accuracy: 0.1668 - val_loss: 2.1234 - val_accuracy: 0.1834\n",
            "Epoch 8/25\n",
            "250/250 [==============================] - 1s 4ms/step - loss: 2.1116 - accuracy: 0.1870 - val_loss: 2.1000 - val_accuracy: 0.1871\n",
            "Epoch 9/25\n",
            "250/250 [==============================] - 1s 4ms/step - loss: 2.0941 - accuracy: 0.1870 - val_loss: 2.0884 - val_accuracy: 0.1934\n",
            "Epoch 10/25\n",
            "250/250 [==============================] - 1s 4ms/step - loss: 2.0829 - accuracy: 0.1885 - val_loss: 2.0784 - val_accuracy: 0.1893\n",
            "Epoch 11/25\n",
            "250/250 [==============================] - 1s 4ms/step - loss: 2.0742 - accuracy: 0.1902 - val_loss: 2.0700 - val_accuracy: 0.1897\n",
            "Epoch 12/25\n",
            "250/250 [==============================] - 1s 4ms/step - loss: 2.0678 - accuracy: 0.1895 - val_loss: 2.0653 - val_accuracy: 0.1896\n",
            "Epoch 13/25\n",
            "250/250 [==============================] - 1s 4ms/step - loss: 2.0628 - accuracy: 0.1899 - val_loss: 2.0609 - val_accuracy: 0.1902\n",
            "Epoch 14/25\n",
            "250/250 [==============================] - 1s 4ms/step - loss: 2.0589 - accuracy: 0.1896 - val_loss: 2.0572 - val_accuracy: 0.1889\n",
            "Epoch 15/25\n",
            "250/250 [==============================] - 1s 4ms/step - loss: 2.0554 - accuracy: 0.1892 - val_loss: 2.0558 - val_accuracy: 0.1905\n",
            "Epoch 16/25\n",
            "250/250 [==============================] - 1s 4ms/step - loss: 2.0524 - accuracy: 0.1893 - val_loss: 2.0561 - val_accuracy: 0.1856\n",
            "Epoch 17/25\n",
            "250/250 [==============================] - 1s 4ms/step - loss: 2.0499 - accuracy: 0.1888 - val_loss: 2.0514 - val_accuracy: 0.1865\n",
            "Epoch 18/25\n",
            "250/250 [==============================] - 1s 4ms/step - loss: 2.0471 - accuracy: 0.1882 - val_loss: 2.0507 - val_accuracy: 0.1953\n",
            "Epoch 19/25\n",
            "250/250 [==============================] - 1s 4ms/step - loss: 2.0450 - accuracy: 0.1938 - val_loss: 2.0470 - val_accuracy: 0.1968\n",
            "Epoch 20/25\n",
            "250/250 [==============================] - 1s 4ms/step - loss: 2.0430 - accuracy: 0.1954 - val_loss: 2.0456 - val_accuracy: 0.1944\n",
            "Epoch 21/25\n",
            "250/250 [==============================] - 1s 4ms/step - loss: 2.0409 - accuracy: 0.1963 - val_loss: 2.0424 - val_accuracy: 0.1971\n",
            "Epoch 22/25\n",
            "250/250 [==============================] - 1s 4ms/step - loss: 2.0325 - accuracy: 0.2024 - val_loss: 2.0060 - val_accuracy: 0.2184\n",
            "Epoch 23/25\n",
            "250/250 [==============================] - 1s 4ms/step - loss: 1.9659 - accuracy: 0.2309 - val_loss: 1.9590 - val_accuracy: 0.2282\n",
            "Epoch 24/25\n",
            "250/250 [==============================] - 1s 4ms/step - loss: 1.9465 - accuracy: 0.2408 - val_loss: 1.9491 - val_accuracy: 0.2419\n",
            "Epoch 25/25\n",
            "250/250 [==============================] - 1s 4ms/step - loss: 1.9381 - accuracy: 0.2451 - val_loss: 1.9438 - val_accuracy: 0.2509\n"
          ],
          "name": "stdout"
        }
      ]
    },
    {
      "cell_type": "code",
      "metadata": {
        "id": "h9XhNrlyksS7",
        "outputId": "12be4f01-817e-4972-a513-11dc4937f0b3",
        "colab": {
          "base_uri": "https://localhost:8080/"
        }
      },
      "source": [
        "model = create_model(lr = 0.01, opt = SGD)\n",
        "bt_default = model.fit(\n",
        "    X_train, y_train, \n",
        "    epochs=25,\n",
        "    batch_size=128,\n",
        "    validation_data=(X_val,y_val))"
      ],
      "execution_count": 19,
      "outputs": [
        {
          "output_type": "stream",
          "text": [
            "Epoch 1/25\n",
            "500/500 [==============================] - 1s 3ms/step - loss: 23.6279 - accuracy: 0.1162 - val_loss: 2.1687 - val_accuracy: 0.1614\n",
            "Epoch 2/25\n",
            "500/500 [==============================] - 1s 3ms/step - loss: 2.0232 - accuracy: 0.2347 - val_loss: 1.9369 - val_accuracy: 0.2597\n",
            "Epoch 3/25\n",
            "500/500 [==============================] - 1s 3ms/step - loss: 1.9090 - accuracy: 0.2747 - val_loss: 1.8795 - val_accuracy: 0.2788\n",
            "Epoch 4/25\n",
            "500/500 [==============================] - 1s 2ms/step - loss: 1.8686 - accuracy: 0.2829 - val_loss: 1.8545 - val_accuracy: 0.2835\n",
            "Epoch 5/25\n",
            "500/500 [==============================] - 1s 3ms/step - loss: 1.8391 - accuracy: 0.2958 - val_loss: 1.8265 - val_accuracy: 0.3042\n",
            "Epoch 6/25\n",
            "500/500 [==============================] - 1s 3ms/step - loss: 1.8131 - accuracy: 0.3060 - val_loss: 1.8606 - val_accuracy: 0.2949\n",
            "Epoch 7/25\n",
            "500/500 [==============================] - 1s 3ms/step - loss: 1.7954 - accuracy: 0.3091 - val_loss: 1.8126 - val_accuracy: 0.3090\n",
            "Epoch 8/25\n",
            "500/500 [==============================] - 1s 3ms/step - loss: 1.7817 - accuracy: 0.3151 - val_loss: 1.7706 - val_accuracy: 0.3216\n",
            "Epoch 9/25\n",
            "500/500 [==============================] - 1s 3ms/step - loss: 1.7525 - accuracy: 0.3296 - val_loss: 1.7302 - val_accuracy: 0.3402\n",
            "Epoch 10/25\n",
            "500/500 [==============================] - 1s 3ms/step - loss: 1.7123 - accuracy: 0.3470 - val_loss: 1.6974 - val_accuracy: 0.3509\n",
            "Epoch 11/25\n",
            "500/500 [==============================] - 1s 2ms/step - loss: 1.6889 - accuracy: 0.3590 - val_loss: 1.6742 - val_accuracy: 0.3658\n",
            "Epoch 12/25\n",
            "500/500 [==============================] - 1s 3ms/step - loss: 1.6340 - accuracy: 0.3922 - val_loss: 1.6067 - val_accuracy: 0.4064\n",
            "Epoch 13/25\n",
            "500/500 [==============================] - 1s 3ms/step - loss: 1.5857 - accuracy: 0.3990 - val_loss: 1.5872 - val_accuracy: 0.4027\n",
            "Epoch 14/25\n",
            "500/500 [==============================] - 1s 3ms/step - loss: 2.1926 - accuracy: 0.2498 - val_loss: 2.2290 - val_accuracy: 0.1846\n",
            "Epoch 15/25\n",
            "500/500 [==============================] - 1s 3ms/step - loss: 2.1898 - accuracy: 0.1892 - val_loss: 2.1468 - val_accuracy: 0.1909\n",
            "Epoch 16/25\n",
            "500/500 [==============================] - 1s 3ms/step - loss: 2.1186 - accuracy: 0.1930 - val_loss: 2.0945 - val_accuracy: 0.1890\n",
            "Epoch 17/25\n",
            "500/500 [==============================] - 1s 3ms/step - loss: 2.0662 - accuracy: 0.1960 - val_loss: 2.0436 - val_accuracy: 0.2007\n",
            "Epoch 18/25\n",
            "500/500 [==============================] - 1s 3ms/step - loss: 2.0297 - accuracy: 0.1998 - val_loss: 2.0269 - val_accuracy: 0.2045\n",
            "Epoch 19/25\n",
            "500/500 [==============================] - 2s 3ms/step - loss: 2.0043 - accuracy: 0.2019 - val_loss: 1.9925 - val_accuracy: 0.2071\n",
            "Epoch 20/25\n",
            "500/500 [==============================] - 1s 3ms/step - loss: 1.9851 - accuracy: 0.2052 - val_loss: 1.9790 - val_accuracy: 0.2024\n",
            "Epoch 21/25\n",
            "500/500 [==============================] - 1s 3ms/step - loss: 1.9716 - accuracy: 0.2056 - val_loss: 1.9722 - val_accuracy: 0.2062\n",
            "Epoch 22/25\n",
            "500/500 [==============================] - 1s 3ms/step - loss: 1.9614 - accuracy: 0.2109 - val_loss: 1.9676 - val_accuracy: 0.2129\n",
            "Epoch 23/25\n",
            "500/500 [==============================] - 1s 3ms/step - loss: 1.9539 - accuracy: 0.2132 - val_loss: 1.9558 - val_accuracy: 0.2174\n",
            "Epoch 24/25\n",
            "500/500 [==============================] - 1s 3ms/step - loss: 1.9492 - accuracy: 0.2132 - val_loss: 1.9487 - val_accuracy: 0.2235\n",
            "Epoch 25/25\n",
            "500/500 [==============================] - 1s 3ms/step - loss: 1.9438 - accuracy: 0.2199 - val_loss: 1.9431 - val_accuracy: 0.2251\n"
          ],
          "name": "stdout"
        }
      ]
    },
    {
      "cell_type": "code",
      "metadata": {
        "id": "0nqUCmulksBX",
        "outputId": "7249a102-eaec-415a-9f24-8a3d2ff83db0",
        "colab": {
          "base_uri": "https://localhost:8080/"
        }
      },
      "source": [
        "model = create_model(lr = 0.01, opt = SGD)\n",
        "bt_small = model.fit(\n",
        "    X_train, y_train, \n",
        "    epochs=25,\n",
        "    batch_size=64,\n",
        "    validation_data=(X_val,y_val))"
      ],
      "execution_count": 82,
      "outputs": [
        {
          "output_type": "stream",
          "text": [
            "Epoch 1/25\n",
            "1000/1000 [==============================] - 2s 2ms/step - loss: 9.0533 - accuracy: 0.0981 - val_loss: 2.3528 - val_accuracy: 0.1000\n",
            "Epoch 2/25\n",
            "1000/1000 [==============================] - 2s 2ms/step - loss: 2.3029 - accuracy: 0.0974 - val_loss: 2.3526 - val_accuracy: 0.1000\n",
            "Epoch 3/25\n",
            "1000/1000 [==============================] - 2s 2ms/step - loss: 2.3029 - accuracy: 0.0993 - val_loss: 2.3526 - val_accuracy: 0.1000\n",
            "Epoch 4/25\n",
            "1000/1000 [==============================] - 2s 2ms/step - loss: 2.3028 - accuracy: 0.0983 - val_loss: 2.3526 - val_accuracy: 0.1000\n",
            "Epoch 5/25\n",
            "1000/1000 [==============================] - 2s 2ms/step - loss: 2.3028 - accuracy: 0.0966 - val_loss: 2.3520 - val_accuracy: 0.1000\n",
            "Epoch 6/25\n",
            "1000/1000 [==============================] - 2s 2ms/step - loss: 2.3032 - accuracy: 0.0970 - val_loss: 2.3502 - val_accuracy: 0.0999\n",
            "Epoch 7/25\n",
            "1000/1000 [==============================] - 2s 2ms/step - loss: 2.3039 - accuracy: 0.0976 - val_loss: 2.3492 - val_accuracy: 0.1000\n",
            "Epoch 8/25\n",
            "1000/1000 [==============================] - 2s 2ms/step - loss: 2.3044 - accuracy: 0.0969 - val_loss: 2.3491 - val_accuracy: 0.1000\n",
            "Epoch 9/25\n",
            "1000/1000 [==============================] - 2s 2ms/step - loss: 2.3031 - accuracy: 0.0970 - val_loss: 2.3491 - val_accuracy: 0.0999\n",
            "Epoch 10/25\n",
            "1000/1000 [==============================] - 2s 2ms/step - loss: 2.3027 - accuracy: 0.0981 - val_loss: 2.3492 - val_accuracy: 0.1000\n",
            "Epoch 11/25\n",
            "1000/1000 [==============================] - 2s 2ms/step - loss: 2.3027 - accuracy: 0.0989 - val_loss: 2.3492 - val_accuracy: 0.0999\n",
            "Epoch 12/25\n",
            "1000/1000 [==============================] - 2s 2ms/step - loss: 2.3027 - accuracy: 0.0966 - val_loss: 2.3492 - val_accuracy: 0.0999\n",
            "Epoch 13/25\n",
            "1000/1000 [==============================] - 2s 2ms/step - loss: 2.3026 - accuracy: 0.1003 - val_loss: 2.3492 - val_accuracy: 0.1000\n",
            "Epoch 14/25\n",
            "1000/1000 [==============================] - 2s 2ms/step - loss: 2.3026 - accuracy: 0.0974 - val_loss: 2.3492 - val_accuracy: 0.0999\n",
            "Epoch 15/25\n",
            "1000/1000 [==============================] - 2s 2ms/step - loss: 2.3026 - accuracy: 0.0984 - val_loss: 2.3492 - val_accuracy: 0.1000\n",
            "Epoch 16/25\n",
            "1000/1000 [==============================] - 2s 2ms/step - loss: 2.3026 - accuracy: 0.0979 - val_loss: 2.3492 - val_accuracy: 0.1000\n",
            "Epoch 17/25\n",
            "1000/1000 [==============================] - 2s 2ms/step - loss: 2.3026 - accuracy: 0.0969 - val_loss: 2.3492 - val_accuracy: 0.1000\n",
            "Epoch 18/25\n",
            "1000/1000 [==============================] - 2s 2ms/step - loss: 2.3026 - accuracy: 0.0989 - val_loss: 2.3492 - val_accuracy: 0.0999\n",
            "Epoch 19/25\n",
            "1000/1000 [==============================] - 2s 2ms/step - loss: 2.3026 - accuracy: 0.0974 - val_loss: 2.3492 - val_accuracy: 0.1000\n",
            "Epoch 20/25\n",
            "1000/1000 [==============================] - 2s 2ms/step - loss: 2.3026 - accuracy: 0.0989 - val_loss: 2.3492 - val_accuracy: 0.1000\n",
            "Epoch 21/25\n",
            "1000/1000 [==============================] - 2s 2ms/step - loss: 2.3026 - accuracy: 0.0985 - val_loss: 2.3492 - val_accuracy: 0.1000\n",
            "Epoch 22/25\n",
            "1000/1000 [==============================] - 2s 2ms/step - loss: 2.3026 - accuracy: 0.0980 - val_loss: 2.3492 - val_accuracy: 0.1000\n",
            "Epoch 23/25\n",
            "1000/1000 [==============================] - 2s 2ms/step - loss: 2.3026 - accuracy: 0.0984 - val_loss: 2.3492 - val_accuracy: 0.1000\n",
            "Epoch 24/25\n",
            "1000/1000 [==============================] - 2s 2ms/step - loss: 2.3026 - accuracy: 0.0984 - val_loss: 2.3492 - val_accuracy: 0.0999\n",
            "Epoch 25/25\n",
            "1000/1000 [==============================] - 2s 2ms/step - loss: 2.3026 - accuracy: 0.0984 - val_loss: 2.3492 - val_accuracy: 0.1000\n"
          ],
          "name": "stdout"
        }
      ]
    },
    {
      "cell_type": "code",
      "metadata": {
        "id": "GOVCeplpkr5K",
        "outputId": "479d1822-8240-47e4-86ba-348ef40851a2",
        "colab": {
          "base_uri": "https://localhost:8080/"
        }
      },
      "source": [
        "lr = 0.01\n",
        "model = create_model(lr = lr, opt = SGD)\n",
        "bt_smallest = model.fit(\n",
        "    X_train, y_train, \n",
        "    epochs=25,\n",
        "    batch_size=32,\n",
        "    validation_data=(X_val,y_val))"
      ],
      "execution_count": 81,
      "outputs": [
        {
          "output_type": "stream",
          "text": [
            "Epoch 1/25\n",
            "2000/2000 [==============================] - 3s 2ms/step - loss: 2.4312 - accuracy: 0.1485 - val_loss: 2.0374 - val_accuracy: 0.2107\n",
            "Epoch 2/25\n",
            "2000/2000 [==============================] - 3s 1ms/step - loss: 1.9583 - accuracy: 0.2303 - val_loss: 1.9252 - val_accuracy: 0.2016\n",
            "Epoch 3/25\n",
            "2000/2000 [==============================] - 3s 1ms/step - loss: 1.8257 - accuracy: 0.2783 - val_loss: 1.8021 - val_accuracy: 0.3173\n",
            "Epoch 4/25\n",
            "2000/2000 [==============================] - 3s 1ms/step - loss: 1.9838 - accuracy: 0.2637 - val_loss: 2.0709 - val_accuracy: 0.1867\n",
            "Epoch 5/25\n",
            "2000/2000 [==============================] - 3s 2ms/step - loss: 2.2284 - accuracy: 0.1465 - val_loss: 2.2875 - val_accuracy: 0.1308\n",
            "Epoch 6/25\n",
            "2000/2000 [==============================] - 3s 1ms/step - loss: 2.2739 - accuracy: 0.1318 - val_loss: 2.2646 - val_accuracy: 0.1283\n",
            "Epoch 7/25\n",
            "2000/2000 [==============================] - 3s 1ms/step - loss: 2.2573 - accuracy: 0.1278 - val_loss: 2.2446 - val_accuracy: 0.1312\n",
            "Epoch 8/25\n",
            "2000/2000 [==============================] - 3s 1ms/step - loss: 2.2435 - accuracy: 0.1326 - val_loss: 2.2402 - val_accuracy: 0.1308\n",
            "Epoch 9/25\n",
            "2000/2000 [==============================] - 3s 2ms/step - loss: 2.2434 - accuracy: 0.1282 - val_loss: 2.2488 - val_accuracy: 0.1513\n",
            "Epoch 10/25\n",
            "2000/2000 [==============================] - 3s 1ms/step - loss: 2.2242 - accuracy: 0.1406 - val_loss: 2.2107 - val_accuracy: 0.1471\n",
            "Epoch 11/25\n",
            "2000/2000 [==============================] - 3s 1ms/step - loss: 2.2195 - accuracy: 0.1511 - val_loss: 2.2143 - val_accuracy: 0.1544\n",
            "Epoch 12/25\n",
            "2000/2000 [==============================] - 3s 2ms/step - loss: 2.2107 - accuracy: 0.1455 - val_loss: 2.2043 - val_accuracy: 0.1460\n",
            "Epoch 13/25\n",
            "2000/2000 [==============================] - 3s 2ms/step - loss: 2.2039 - accuracy: 0.1493 - val_loss: 2.1998 - val_accuracy: 0.1575\n",
            "Epoch 14/25\n",
            "2000/2000 [==============================] - 3s 2ms/step - loss: 2.2124 - accuracy: 0.1462 - val_loss: 2.1975 - val_accuracy: 0.1513\n",
            "Epoch 15/25\n",
            "2000/2000 [==============================] - 3s 1ms/step - loss: 2.1985 - accuracy: 0.1537 - val_loss: 2.2128 - val_accuracy: 0.1429\n",
            "Epoch 16/25\n",
            "2000/2000 [==============================] - 3s 1ms/step - loss: 2.2019 - accuracy: 0.1453 - val_loss: 2.1975 - val_accuracy: 0.1508\n",
            "Epoch 17/25\n",
            "2000/2000 [==============================] - 3s 1ms/step - loss: 2.1904 - accuracy: 0.1562 - val_loss: 2.1944 - val_accuracy: 0.1597\n",
            "Epoch 18/25\n",
            "2000/2000 [==============================] - 3s 1ms/step - loss: 2.1903 - accuracy: 0.1584 - val_loss: 2.1988 - val_accuracy: 0.1628\n",
            "Epoch 19/25\n",
            "2000/2000 [==============================] - 3s 1ms/step - loss: 2.1887 - accuracy: 0.1588 - val_loss: 2.1870 - val_accuracy: 0.1646\n",
            "Epoch 20/25\n",
            "2000/2000 [==============================] - 3s 1ms/step - loss: 2.1999 - accuracy: 0.1638 - val_loss: 2.1986 - val_accuracy: 0.1655\n",
            "Epoch 21/25\n",
            "2000/2000 [==============================] - 3s 1ms/step - loss: 2.1967 - accuracy: 0.1667 - val_loss: 2.1919 - val_accuracy: 0.1601\n",
            "Epoch 22/25\n",
            "2000/2000 [==============================] - 3s 1ms/step - loss: 2.1830 - accuracy: 0.1597 - val_loss: 2.1825 - val_accuracy: 0.1593\n",
            "Epoch 23/25\n",
            "2000/2000 [==============================] - 3s 2ms/step - loss: 2.1825 - accuracy: 0.1593 - val_loss: 2.1761 - val_accuracy: 0.1614\n",
            "Epoch 24/25\n",
            "2000/2000 [==============================] - 3s 2ms/step - loss: 2.1846 - accuracy: 0.1600 - val_loss: 2.2051 - val_accuracy: 0.1457\n",
            "Epoch 25/25\n",
            "2000/2000 [==============================] - 3s 1ms/step - loss: 2.1847 - accuracy: 0.1602 - val_loss: 2.1826 - val_accuracy: 0.1660\n"
          ],
          "name": "stdout"
        }
      ]
    },
    {
      "cell_type": "code",
      "metadata": {
        "id": "hpYmdjqMktK9",
        "outputId": "7af2a61f-89f9-44aa-8c32-797ee9dfed90",
        "colab": {
          "base_uri": "https://localhost:8080/",
          "height": 302
        }
      },
      "source": [
        "batch_sizes = []\n",
        "for exp, result in zip([bt_smallest, bt_small, bt_default, bt_large, bt_largest], [\"32\", \"64\", \"128\", \"256\", \"512\"]):\n",
        "    df = pd.DataFrame.from_dict(exp.history)\n",
        "    df['epoch'] = df.index.values\n",
        "    df['Batch Size'] = result\n",
        "    batch_sizes.append(df)\n",
        "df = pd.concat(batch_sizes)\n",
        "df['Batch Size'] = df['Batch Size'].astype('str')\n",
        "\n",
        "sns.set(style=\"darkgrid\")\n",
        "sns.lineplot(x='epoch', y='val_accuracy', hue = 'Batch Size', data=df)\n",
        "plt.legend(bbox_to_anchor=(1.05, 1), loc=2, borderaxespad=0, title = 'Batch Sizes')"
      ],
      "execution_count": 83,
      "outputs": [
        {
          "output_type": "execute_result",
          "data": {
            "text/plain": [
              "<matplotlib.legend.Legend at 0x7f5f0d56a748>"
            ]
          },
          "metadata": {
            "tags": []
          },
          "execution_count": 83
        },
        {
          "output_type": "display_data",
          "data": {
            "image/png": "[encoded data removed]",
            "text/plain": [
              "<Figure size 432x288 with 1 Axes>"
            ]
          },
          "metadata": {
            "tags": []
          }
        }
      ]
    },
    {
      "cell_type": "markdown",
      "metadata": {
        "id": "4uyiAGagLOct"
      },
      "source": [
        "After experimentation with several batch sizes, I have concluded that 32 is the best \n",
        "batch size of the 5 values tried. The largest batch sizes increased accuracy consistantly \n",
        "but at a much slower rate. The others both dropped off in their performance over the \n",
        "later epochs and never reached the accuracy levels of batch siz 32. Even smaller batch \n",
        "sizes could yeild better results."
      ]
    },
    {
      "cell_type": "code",
      "metadata": {
        "id": "E_vKgWKCK5Pe"
      },
      "source": [
        ""
      ],
      "execution_count": null,
      "outputs": []
    },
    {
      "cell_type": "markdown",
      "metadata": {
        "id": "8b-r70o8p2Dm"
      },
      "source": [
        "### Experiment with Learning Rate\n",
        "* Run 5 experiments with various learning rate magnitudes: 1, .1, .01, .001, .0001.\n",
        "* Use the \"best\" batch size from the previous experiment\n",
        "* Visualize the results\n",
        "* Write up an analysis of the experiments and select the \"best\" performing model among your experiments. Make sure to compare against the previous experiments and your model's performance yesterday. "
      ]
    },
    {
      "cell_type": "code",
      "metadata": {
        "id": "_SA144xx8Luf",
        "outputId": "50686c5a-67b3-4111-ebc5-5d3818a88cdf",
        "colab": {
          "base_uri": "https://localhost:8080/"
        }
      },
      "source": [
        "lr = 1\n",
        "model = create_model(lr = lr, opt = SGD)\n",
        "lr_largest = model.fit(\n",
        "    X_train, y_train, \n",
        "    epochs=25,\n",
        "    batch_size=32,\n",
        "    validation_data=(X_val,y_val))"
      ],
      "execution_count": 58,
      "outputs": [
        {
          "output_type": "stream",
          "text": [
            "Epoch 1/25\n",
            "2000/2000 [==============================] - 3s 2ms/step - loss: 979412518031794896896.0000 - accuracy: 0.0987 - val_loss: 2.3090 - val_accuracy: 0.1000\n",
            "Epoch 2/25\n",
            "2000/2000 [==============================] - 3s 1ms/step - loss: 2.3101 - accuracy: 0.1001 - val_loss: 2.3093 - val_accuracy: 0.1000\n",
            "Epoch 3/25\n",
            "2000/2000 [==============================] - 3s 1ms/step - loss: 2.3101 - accuracy: 0.0972 - val_loss: 2.3098 - val_accuracy: 0.1000\n",
            "Epoch 4/25\n",
            "2000/2000 [==============================] - 3s 2ms/step - loss: 2.3104 - accuracy: 0.0989 - val_loss: 2.3101 - val_accuracy: 0.1000\n",
            "Epoch 5/25\n",
            "2000/2000 [==============================] - 3s 1ms/step - loss: 2.3100 - accuracy: 0.1003 - val_loss: 2.3126 - val_accuracy: 0.1000\n",
            "Epoch 6/25\n",
            "2000/2000 [==============================] - 3s 1ms/step - loss: 2.3098 - accuracy: 0.0991 - val_loss: 2.3117 - val_accuracy: 0.1000\n",
            "Epoch 7/25\n",
            "2000/2000 [==============================] - 3s 2ms/step - loss: 2.3098 - accuracy: 0.0998 - val_loss: 2.3151 - val_accuracy: 0.1000\n",
            "Epoch 8/25\n",
            "2000/2000 [==============================] - 3s 2ms/step - loss: 2.3102 - accuracy: 0.0988 - val_loss: 2.3050 - val_accuracy: 0.1000\n",
            "Epoch 9/25\n",
            "2000/2000 [==============================] - 3s 2ms/step - loss: 2.3098 - accuracy: 0.1003 - val_loss: 2.3103 - val_accuracy: 0.1000\n",
            "Epoch 10/25\n",
            "2000/2000 [==============================] - 3s 1ms/step - loss: 2.3102 - accuracy: 0.0992 - val_loss: 2.3067 - val_accuracy: 0.1000\n",
            "Epoch 11/25\n",
            "2000/2000 [==============================] - 3s 1ms/step - loss: 2.3100 - accuracy: 0.0994 - val_loss: 2.3114 - val_accuracy: 0.1000\n",
            "Epoch 12/25\n",
            "2000/2000 [==============================] - 3s 1ms/step - loss: 2.3101 - accuracy: 0.0994 - val_loss: 2.3092 - val_accuracy: 0.1000\n",
            "Epoch 13/25\n",
            "2000/2000 [==============================] - 3s 2ms/step - loss: 2.3102 - accuracy: 0.0995 - val_loss: 2.3076 - val_accuracy: 0.1000\n",
            "Epoch 14/25\n",
            "2000/2000 [==============================] - 3s 1ms/step - loss: 2.3102 - accuracy: 0.1009 - val_loss: 2.3111 - val_accuracy: 0.1000\n",
            "Epoch 15/25\n",
            "2000/2000 [==============================] - 3s 1ms/step - loss: 2.3099 - accuracy: 0.1005 - val_loss: 2.3058 - val_accuracy: 0.1000\n",
            "Epoch 16/25\n",
            "2000/2000 [==============================] - 3s 2ms/step - loss: 2.3097 - accuracy: 0.1011 - val_loss: 2.3145 - val_accuracy: 0.1000\n",
            "Epoch 17/25\n",
            "2000/2000 [==============================] - 3s 1ms/step - loss: 2.3098 - accuracy: 0.1007 - val_loss: 2.3134 - val_accuracy: 0.1000\n",
            "Epoch 18/25\n",
            "2000/2000 [==============================] - 3s 1ms/step - loss: 2.3099 - accuracy: 0.1010 - val_loss: 2.3178 - val_accuracy: 0.1000\n",
            "Epoch 19/25\n",
            "2000/2000 [==============================] - 3s 1ms/step - loss: 2.3102 - accuracy: 0.0991 - val_loss: 2.3140 - val_accuracy: 0.1000\n",
            "Epoch 20/25\n",
            "2000/2000 [==============================] - 3s 1ms/step - loss: 2.3100 - accuracy: 0.1003 - val_loss: 2.3127 - val_accuracy: 0.1000\n",
            "Epoch 21/25\n",
            "2000/2000 [==============================] - 3s 2ms/step - loss: 2.3099 - accuracy: 0.0962 - val_loss: 2.3072 - val_accuracy: 0.1000\n",
            "Epoch 22/25\n",
            "2000/2000 [==============================] - 3s 1ms/step - loss: 2.3097 - accuracy: 0.1005 - val_loss: 2.3164 - val_accuracy: 0.1000\n",
            "Epoch 23/25\n",
            "2000/2000 [==============================] - 3s 2ms/step - loss: 2.3102 - accuracy: 0.1003 - val_loss: 2.3079 - val_accuracy: 0.1000\n",
            "Epoch 24/25\n",
            "2000/2000 [==============================] - 3s 2ms/step - loss: 2.3102 - accuracy: 0.0984 - val_loss: 2.3059 - val_accuracy: 0.1000\n",
            "Epoch 25/25\n",
            "2000/2000 [==============================] - 3s 2ms/step - loss: 2.3101 - accuracy: 0.1005 - val_loss: 2.3131 - val_accuracy: 0.1000\n"
          ],
          "name": "stdout"
        }
      ]
    },
    {
      "cell_type": "code",
      "metadata": {
        "id": "gv72JhJBxdY3",
        "outputId": "31c74d4e-1e09-4a32-b5c8-c5880238c00d",
        "colab": {
          "base_uri": "https://localhost:8080/"
        }
      },
      "source": [
        "lr = 0.1\n",
        "model = create_model(lr = lr, opt = SGD)\n",
        "lr_large = model.fit(\n",
        "    X_train, y_train, \n",
        "    epochs=25,\n",
        "    batch_size=32,\n",
        "    validation_data=(X_val,y_val))"
      ],
      "execution_count": 49,
      "outputs": [
        {
          "output_type": "stream",
          "text": [
            "Epoch 1/25\n",
            "2000/2000 [==============================] - 3s 2ms/step - loss: 621.4458 - accuracy: 0.0994 - val_loss: 3334.4121 - val_accuracy: 0.0999\n",
            "Epoch 2/25\n",
            "2000/2000 [==============================] - 3s 2ms/step - loss: 2.3034 - accuracy: 0.0990 - val_loss: 3334.4021 - val_accuracy: 0.1000\n",
            "Epoch 3/25\n",
            "2000/2000 [==============================] - 3s 2ms/step - loss: 2.3033 - accuracy: 0.0995 - val_loss: 3334.4155 - val_accuracy: 0.0999\n",
            "Epoch 4/25\n",
            "2000/2000 [==============================] - 3s 2ms/step - loss: 2.3034 - accuracy: 0.0980 - val_loss: 3334.4084 - val_accuracy: 0.1000\n",
            "Epoch 5/25\n",
            "2000/2000 [==============================] - 3s 2ms/step - loss: 2.3033 - accuracy: 0.0997 - val_loss: 3334.4033 - val_accuracy: 0.1000\n",
            "Epoch 6/25\n",
            "2000/2000 [==============================] - 3s 2ms/step - loss: 2.3033 - accuracy: 0.1013 - val_loss: 3334.4016 - val_accuracy: 0.1000\n",
            "Epoch 7/25\n",
            "2000/2000 [==============================] - 3s 2ms/step - loss: 2.3033 - accuracy: 0.1008 - val_loss: 3334.3999 - val_accuracy: 0.1000\n",
            "Epoch 8/25\n",
            "2000/2000 [==============================] - 3s 2ms/step - loss: 2.3033 - accuracy: 0.0987 - val_loss: 3334.4036 - val_accuracy: 0.1000\n",
            "Epoch 9/25\n",
            "2000/2000 [==============================] - 3s 2ms/step - loss: 2.3033 - accuracy: 0.0984 - val_loss: 3334.4175 - val_accuracy: 0.0999\n",
            "Epoch 10/25\n",
            "2000/2000 [==============================] - 3s 2ms/step - loss: 2.3033 - accuracy: 0.0999 - val_loss: 3334.4131 - val_accuracy: 0.0999\n",
            "Epoch 11/25\n",
            "2000/2000 [==============================] - 3s 2ms/step - loss: 2.3034 - accuracy: 0.0987 - val_loss: 3334.4082 - val_accuracy: 0.0999\n",
            "Epoch 12/25\n",
            "2000/2000 [==============================] - 3s 2ms/step - loss: 2.3035 - accuracy: 0.0984 - val_loss: 3334.4053 - val_accuracy: 0.1000\n",
            "Epoch 13/25\n",
            "2000/2000 [==============================] - 3s 2ms/step - loss: 2.3034 - accuracy: 0.1004 - val_loss: 3334.4009 - val_accuracy: 0.1000\n",
            "Epoch 14/25\n",
            "2000/2000 [==============================] - 3s 2ms/step - loss: 2.3033 - accuracy: 0.0992 - val_loss: 3334.4099 - val_accuracy: 0.1000\n",
            "Epoch 15/25\n",
            "2000/2000 [==============================] - 3s 2ms/step - loss: 2.3034 - accuracy: 0.0986 - val_loss: 3334.4106 - val_accuracy: 0.0999\n",
            "Epoch 16/25\n",
            "2000/2000 [==============================] - 3s 2ms/step - loss: 2.3032 - accuracy: 0.1003 - val_loss: 3334.4185 - val_accuracy: 0.1000\n",
            "Epoch 17/25\n",
            "2000/2000 [==============================] - 3s 2ms/step - loss: 2.3034 - accuracy: 0.0986 - val_loss: 3334.4048 - val_accuracy: 0.1000\n",
            "Epoch 18/25\n",
            "2000/2000 [==============================] - 3s 2ms/step - loss: 2.3034 - accuracy: 0.1000 - val_loss: 3334.4028 - val_accuracy: 0.0999\n",
            "Epoch 19/25\n",
            "2000/2000 [==============================] - 3s 2ms/step - loss: 2.3034 - accuracy: 0.0995 - val_loss: 3334.4006 - val_accuracy: 0.1000\n",
            "Epoch 20/25\n",
            "2000/2000 [==============================] - 3s 2ms/step - loss: 2.3034 - accuracy: 0.0993 - val_loss: 3334.4019 - val_accuracy: 0.0999\n",
            "Epoch 21/25\n",
            "2000/2000 [==============================] - 3s 2ms/step - loss: 2.3033 - accuracy: 0.0994 - val_loss: 3334.4080 - val_accuracy: 0.1000\n",
            "Epoch 22/25\n",
            "2000/2000 [==============================] - 3s 2ms/step - loss: 2.3035 - accuracy: 0.0973 - val_loss: 3334.4102 - val_accuracy: 0.1000\n",
            "Epoch 23/25\n",
            "2000/2000 [==============================] - 3s 2ms/step - loss: 2.3034 - accuracy: 0.0975 - val_loss: 3334.4077 - val_accuracy: 0.1000\n",
            "Epoch 24/25\n",
            "2000/2000 [==============================] - 3s 2ms/step - loss: 2.3034 - accuracy: 0.1007 - val_loss: 3334.4058 - val_accuracy: 0.1000\n",
            "Epoch 25/25\n",
            "2000/2000 [==============================] - 3s 1ms/step - loss: 2.3034 - accuracy: 0.0979 - val_loss: 3334.4082 - val_accuracy: 0.0999\n"
          ],
          "name": "stdout"
        }
      ]
    },
    {
      "cell_type": "code",
      "metadata": {
        "id": "ESzJ5jzWxdp3",
        "outputId": "e5e20520-e2a3-4184-e034-833887187254",
        "colab": {
          "base_uri": "https://localhost:8080/"
        }
      },
      "source": [
        "lr = 0.01\n",
        "model = create_model(lr = lr, opt = SGD)\n",
        "lr_default = model.fit(\n",
        "    X_train, y_train, \n",
        "    epochs=25,\n",
        "    batch_size=32,\n",
        "    validation_data=(X_val,y_val))"
      ],
      "execution_count": 50,
      "outputs": [
        {
          "output_type": "stream",
          "text": [
            "Epoch 1/25\n",
            "2000/2000 [==============================] - 3s 2ms/step - loss: 1367.0112 - accuracy: 0.0983 - val_loss: 2.2992 - val_accuracy: 0.1040\n",
            "Epoch 2/25\n",
            "2000/2000 [==============================] - 3s 1ms/step - loss: 4.4344 - accuracy: 0.1268 - val_loss: 2.3041 - val_accuracy: 0.1001\n",
            "Epoch 3/25\n",
            "2000/2000 [==============================] - 3s 1ms/step - loss: 2.3029 - accuracy: 0.0980 - val_loss: 2.3028 - val_accuracy: 0.1000\n",
            "Epoch 4/25\n",
            "2000/2000 [==============================] - 3s 2ms/step - loss: 2.3016 - accuracy: 0.0968 - val_loss: 2.2953 - val_accuracy: 0.1076\n",
            "Epoch 5/25\n",
            "2000/2000 [==============================] - 3s 1ms/step - loss: 11.2066 - accuracy: 0.1267 - val_loss: 2.3059 - val_accuracy: 0.1000\n",
            "Epoch 6/25\n",
            "2000/2000 [==============================] - 3s 2ms/step - loss: 2.2958 - accuracy: 0.1042 - val_loss: 2.2657 - val_accuracy: 0.1211\n",
            "Epoch 7/25\n",
            "2000/2000 [==============================] - 3s 2ms/step - loss: 2.2278 - accuracy: 0.1384 - val_loss: 2.1789 - val_accuracy: 0.1594\n",
            "Epoch 8/25\n",
            "2000/2000 [==============================] - 3s 2ms/step - loss: 2.1100 - accuracy: 0.1735 - val_loss: 2.0962 - val_accuracy: 0.1857\n",
            "Epoch 9/25\n",
            "2000/2000 [==============================] - 3s 2ms/step - loss: 4.6688 - accuracy: 0.1586 - val_loss: 2.3035 - val_accuracy: 0.0999\n",
            "Epoch 10/25\n",
            "2000/2000 [==============================] - 3s 2ms/step - loss: 2.3053 - accuracy: 0.0979 - val_loss: 2.3042 - val_accuracy: 0.1000\n",
            "Epoch 11/25\n",
            "2000/2000 [==============================] - 3s 2ms/step - loss: 2.3050 - accuracy: 0.0987 - val_loss: 2.3068 - val_accuracy: 0.1000\n",
            "Epoch 12/25\n",
            "2000/2000 [==============================] - 3s 2ms/step - loss: 2.3048 - accuracy: 0.1005 - val_loss: 2.3038 - val_accuracy: 0.1000\n",
            "Epoch 13/25\n",
            "2000/2000 [==============================] - 3s 2ms/step - loss: 2.3047 - accuracy: 0.0994 - val_loss: 2.3068 - val_accuracy: 0.1000\n",
            "Epoch 14/25\n",
            "2000/2000 [==============================] - 3s 2ms/step - loss: 2.3048 - accuracy: 0.1007 - val_loss: 2.3043 - val_accuracy: 0.1000\n",
            "Epoch 15/25\n",
            "2000/2000 [==============================] - 3s 2ms/step - loss: 2.3047 - accuracy: 0.0997 - val_loss: 2.3042 - val_accuracy: 0.1000\n",
            "Epoch 16/25\n",
            "2000/2000 [==============================] - 3s 2ms/step - loss: 2.3043 - accuracy: 0.0993 - val_loss: 2.3057 - val_accuracy: 0.0999\n",
            "Epoch 17/25\n",
            "2000/2000 [==============================] - 3s 2ms/step - loss: 42.8641 - accuracy: 0.1070 - val_loss: 2.3071 - val_accuracy: 0.1000\n",
            "Epoch 18/25\n",
            "2000/2000 [==============================] - 3s 2ms/step - loss: 2.3050 - accuracy: 0.0963 - val_loss: 2.3032 - val_accuracy: 0.0999\n",
            "Epoch 19/25\n",
            "2000/2000 [==============================] - 3s 2ms/step - loss: 2.3045 - accuracy: 0.0981 - val_loss: 2.3039 - val_accuracy: 0.1000\n",
            "Epoch 20/25\n",
            "2000/2000 [==============================] - 3s 2ms/step - loss: 2.3046 - accuracy: 0.0988 - val_loss: 2.3033 - val_accuracy: 0.0999\n",
            "Epoch 21/25\n",
            "2000/2000 [==============================] - 3s 2ms/step - loss: 2.3045 - accuracy: 0.0999 - val_loss: 2.3049 - val_accuracy: 0.1000\n",
            "Epoch 22/25\n",
            "2000/2000 [==============================] - 3s 1ms/step - loss: 2.3045 - accuracy: 0.0985 - val_loss: 2.3042 - val_accuracy: 0.1000\n",
            "Epoch 23/25\n",
            "2000/2000 [==============================] - 3s 1ms/step - loss: 2.3041 - accuracy: 0.1002 - val_loss: 2.3032 - val_accuracy: 0.0999\n",
            "Epoch 24/25\n",
            "2000/2000 [==============================] - 3s 1ms/step - loss: 2.3044 - accuracy: 0.0985 - val_loss: 2.3037 - val_accuracy: 0.1000\n",
            "Epoch 25/25\n",
            "2000/2000 [==============================] - 3s 1ms/step - loss: 2.3042 - accuracy: 0.1009 - val_loss: 2.3036 - val_accuracy: 0.1000\n"
          ],
          "name": "stdout"
        }
      ]
    },
    {
      "cell_type": "code",
      "metadata": {
        "id": "fE5Tn2KBxdhE",
        "outputId": "d045b605-ad5b-47a8-ba94-d164785ddfa1",
        "colab": {
          "base_uri": "https://localhost:8080/"
        }
      },
      "source": [
        "lr = 0.001\n",
        "model = create_model(lr = lr, opt = SGD)\n",
        "lr_small = model.fit(\n",
        "    X_train, y_train, \n",
        "    epochs=25,\n",
        "    batch_size=32,\n",
        "    validation_data=(X_val,y_val))"
      ],
      "execution_count": 51,
      "outputs": [
        {
          "output_type": "stream",
          "text": [
            "Epoch 1/25\n",
            "2000/2000 [==============================] - 3s 2ms/step - loss: 2.1578 - accuracy: 0.2399 - val_loss: 1.8637 - val_accuracy: 0.3246\n",
            "Epoch 2/25\n",
            "2000/2000 [==============================] - 3s 1ms/step - loss: 1.7969 - accuracy: 0.3492 - val_loss: 1.7706 - val_accuracy: 0.3461\n",
            "Epoch 3/25\n",
            "2000/2000 [==============================] - 3s 2ms/step - loss: 1.7203 - accuracy: 0.3704 - val_loss: 1.7031 - val_accuracy: 0.3781\n",
            "Epoch 4/25\n",
            "2000/2000 [==============================] - 3s 2ms/step - loss: 1.6518 - accuracy: 0.3875 - val_loss: 1.5747 - val_accuracy: 0.3931\n",
            "Epoch 5/25\n",
            "2000/2000 [==============================] - 3s 2ms/step - loss: 1.5142 - accuracy: 0.4445 - val_loss: 1.5483 - val_accuracy: 0.4985\n",
            "Epoch 6/25\n",
            "2000/2000 [==============================] - 3s 2ms/step - loss: 1.4441 - accuracy: 0.4933 - val_loss: 1.4557 - val_accuracy: 0.4978\n",
            "Epoch 7/25\n",
            "2000/2000 [==============================] - 3s 1ms/step - loss: 1.3874 - accuracy: 0.5131 - val_loss: 1.3934 - val_accuracy: 0.5072\n",
            "Epoch 8/25\n",
            "2000/2000 [==============================] - 3s 2ms/step - loss: 1.3348 - accuracy: 0.5365 - val_loss: 1.3291 - val_accuracy: 0.5528\n",
            "Epoch 9/25\n",
            "2000/2000 [==============================] - 4s 2ms/step - loss: 1.2612 - accuracy: 0.5773 - val_loss: 1.2429 - val_accuracy: 0.6049\n",
            "Epoch 10/25\n",
            "2000/2000 [==============================] - 4s 2ms/step - loss: 1.1750 - accuracy: 0.6172 - val_loss: 1.1713 - val_accuracy: 0.6194\n",
            "Epoch 11/25\n",
            "2000/2000 [==============================] - 4s 2ms/step - loss: 1.0941 - accuracy: 0.6538 - val_loss: 1.1032 - val_accuracy: 0.6624\n",
            "Epoch 12/25\n",
            "2000/2000 [==============================] - 4s 2ms/step - loss: 1.0277 - accuracy: 0.6848 - val_loss: 1.0412 - val_accuracy: 0.6833\n",
            "Epoch 13/25\n",
            "2000/2000 [==============================] - 4s 2ms/step - loss: 0.9695 - accuracy: 0.7079 - val_loss: 1.0088 - val_accuracy: 0.7043\n",
            "Epoch 14/25\n",
            "2000/2000 [==============================] - 3s 2ms/step - loss: 0.9283 - accuracy: 0.7194 - val_loss: 0.9500 - val_accuracy: 0.7201\n",
            "Epoch 15/25\n",
            "2000/2000 [==============================] - 3s 2ms/step - loss: 0.8975 - accuracy: 0.7294 - val_loss: 0.9269 - val_accuracy: 0.7318\n",
            "Epoch 16/25\n",
            "2000/2000 [==============================] - 3s 2ms/step - loss: 0.8741 - accuracy: 0.7373 - val_loss: 0.9154 - val_accuracy: 0.7311\n",
            "Epoch 17/25\n",
            "2000/2000 [==============================] - 3s 2ms/step - loss: 0.8516 - accuracy: 0.7430 - val_loss: 0.8942 - val_accuracy: 0.7375\n",
            "Epoch 18/25\n",
            "2000/2000 [==============================] - 3s 1ms/step - loss: 0.8352 - accuracy: 0.7486 - val_loss: 0.8898 - val_accuracy: 0.7355\n",
            "Epoch 19/25\n",
            "2000/2000 [==============================] - 3s 2ms/step - loss: 0.8184 - accuracy: 0.7549 - val_loss: 0.8712 - val_accuracy: 0.7408\n",
            "Epoch 20/25\n",
            "2000/2000 [==============================] - 3s 2ms/step - loss: 0.8028 - accuracy: 0.7599 - val_loss: 0.8522 - val_accuracy: 0.7494\n",
            "Epoch 21/25\n",
            "2000/2000 [==============================] - 3s 2ms/step - loss: 0.7886 - accuracy: 0.7621 - val_loss: 0.8447 - val_accuracy: 0.7520\n",
            "Epoch 22/25\n",
            "2000/2000 [==============================] - 3s 2ms/step - loss: 0.7635 - accuracy: 0.7658 - val_loss: 0.8052 - val_accuracy: 0.7626\n",
            "Epoch 23/25\n",
            "2000/2000 [==============================] - 3s 2ms/step - loss: 0.7394 - accuracy: 0.7718 - val_loss: 0.7912 - val_accuracy: 0.7581\n",
            "Epoch 24/25\n",
            "2000/2000 [==============================] - 3s 2ms/step - loss: 0.7229 - accuracy: 0.7758 - val_loss: 0.7960 - val_accuracy: 0.7532\n",
            "Epoch 25/25\n",
            "2000/2000 [==============================] - 3s 2ms/step - loss: 0.7094 - accuracy: 0.7805 - val_loss: 0.7703 - val_accuracy: 0.7641\n"
          ],
          "name": "stdout"
        }
      ]
    },
    {
      "cell_type": "code",
      "metadata": {
        "id": "3UuM13XqxdQT",
        "outputId": "f7d22871-453e-4380-b158-6fabcf45dda4",
        "colab": {
          "base_uri": "https://localhost:8080/"
        }
      },
      "source": [
        "lr = 0.0001\n",
        "model = create_model(lr = lr, opt = SGD)\n",
        "lr_smallest = model.fit(\n",
        "    X_train, y_train, \n",
        "    epochs=25,\n",
        "    batch_size=32,\n",
        "    validation_data=(X_val,y_val))"
      ],
      "execution_count": 52,
      "outputs": [
        {
          "output_type": "stream",
          "text": [
            "Epoch 1/25\n",
            "2000/2000 [==============================] - 3s 2ms/step - loss: 2.6976 - accuracy: 0.1037 - val_loss: 2.3141 - val_accuracy: 0.1014\n",
            "Epoch 2/25\n",
            "2000/2000 [==============================] - 3s 2ms/step - loss: 2.3078 - accuracy: 0.1011 - val_loss: 2.3085 - val_accuracy: 0.1013\n",
            "Epoch 3/25\n",
            "2000/2000 [==============================] - 3s 2ms/step - loss: 2.3045 - accuracy: 0.1015 - val_loss: 2.3072 - val_accuracy: 0.1018\n",
            "Epoch 4/25\n",
            "2000/2000 [==============================] - 3s 1ms/step - loss: 2.3008 - accuracy: 0.1035 - val_loss: 2.2986 - val_accuracy: 0.1090\n",
            "Epoch 5/25\n",
            "2000/2000 [==============================] - 3s 2ms/step - loss: 2.2497 - accuracy: 0.1345 - val_loss: 2.2257 - val_accuracy: 0.1470\n",
            "Epoch 6/25\n",
            "2000/2000 [==============================] - 3s 2ms/step - loss: 2.2116 - accuracy: 0.1501 - val_loss: 2.2082 - val_accuracy: 0.1539\n",
            "Epoch 7/25\n",
            "2000/2000 [==============================] - 3s 2ms/step - loss: 2.1988 - accuracy: 0.1549 - val_loss: 2.1996 - val_accuracy: 0.1552\n",
            "Epoch 8/25\n",
            "2000/2000 [==============================] - 3s 2ms/step - loss: 2.1896 - accuracy: 0.1580 - val_loss: 2.1928 - val_accuracy: 0.1583\n",
            "Epoch 9/25\n",
            "2000/2000 [==============================] - 3s 2ms/step - loss: 2.1836 - accuracy: 0.1595 - val_loss: 2.1886 - val_accuracy: 0.1592\n",
            "Epoch 10/25\n",
            "2000/2000 [==============================] - 3s 2ms/step - loss: 2.1794 - accuracy: 0.1601 - val_loss: 2.1871 - val_accuracy: 0.1581\n",
            "Epoch 11/25\n",
            "2000/2000 [==============================] - 3s 2ms/step - loss: 2.1765 - accuracy: 0.1609 - val_loss: 2.1830 - val_accuracy: 0.1614\n",
            "Epoch 12/25\n",
            "2000/2000 [==============================] - 3s 1ms/step - loss: 2.1732 - accuracy: 0.1626 - val_loss: 2.1810 - val_accuracy: 0.1609\n",
            "Epoch 13/25\n",
            "2000/2000 [==============================] - 3s 1ms/step - loss: 2.1703 - accuracy: 0.1628 - val_loss: 2.1784 - val_accuracy: 0.1632\n",
            "Epoch 14/25\n",
            "2000/2000 [==============================] - 3s 1ms/step - loss: 2.1676 - accuracy: 0.1640 - val_loss: 2.1763 - val_accuracy: 0.1648\n",
            "Epoch 15/25\n",
            "2000/2000 [==============================] - 3s 2ms/step - loss: 2.1643 - accuracy: 0.1658 - val_loss: 2.1750 - val_accuracy: 0.1674\n",
            "Epoch 16/25\n",
            "2000/2000 [==============================] - 3s 2ms/step - loss: 2.1617 - accuracy: 0.1667 - val_loss: 2.1713 - val_accuracy: 0.1663\n",
            "Epoch 17/25\n",
            "2000/2000 [==============================] - 3s 2ms/step - loss: 2.1583 - accuracy: 0.1681 - val_loss: 2.1687 - val_accuracy: 0.1674\n",
            "Epoch 18/25\n",
            "2000/2000 [==============================] - 3s 2ms/step - loss: 2.1554 - accuracy: 0.1689 - val_loss: 2.1671 - val_accuracy: 0.1692\n",
            "Epoch 19/25\n",
            "2000/2000 [==============================] - 3s 2ms/step - loss: 2.1523 - accuracy: 0.1701 - val_loss: 2.1646 - val_accuracy: 0.1692\n",
            "Epoch 20/25\n",
            "2000/2000 [==============================] - 3s 2ms/step - loss: 2.1499 - accuracy: 0.1708 - val_loss: 2.1630 - val_accuracy: 0.1711\n",
            "Epoch 21/25\n",
            "2000/2000 [==============================] - 3s 2ms/step - loss: 2.1476 - accuracy: 0.1719 - val_loss: 2.1605 - val_accuracy: 0.1710\n",
            "Epoch 22/25\n",
            "2000/2000 [==============================] - 3s 2ms/step - loss: 2.1446 - accuracy: 0.1735 - val_loss: 2.1586 - val_accuracy: 0.1740\n",
            "Epoch 23/25\n",
            "2000/2000 [==============================] - 3s 2ms/step - loss: 2.1397 - accuracy: 0.1766 - val_loss: 2.1555 - val_accuracy: 0.1768\n",
            "Epoch 24/25\n",
            "2000/2000 [==============================] - 3s 2ms/step - loss: 2.1334 - accuracy: 0.1805 - val_loss: 2.1512 - val_accuracy: 0.1806\n",
            "Epoch 25/25\n",
            "2000/2000 [==============================] - 3s 2ms/step - loss: 2.1242 - accuracy: 0.1872 - val_loss: 2.1406 - val_accuracy: 0.1871\n"
          ],
          "name": "stdout"
        }
      ]
    },
    {
      "cell_type": "code",
      "metadata": {
        "id": "NMld1owWzddR",
        "outputId": "65697b54-d130-45f6-ad98-99e81f8f2588",
        "colab": {
          "base_uri": "https://localhost:8080/",
          "height": 302
        }
      },
      "source": [
        "learning_rates = []\n",
        "for exp, result in zip([lr_smallest, lr_small, lr_default, lr_large, lr_largest], [\"0.0001\", \"0.001\", \"0.01\", \"0.1\", \"1\"]):\n",
        "    df = pd.DataFrame.from_dict(exp.history)\n",
        "    df['epoch'] = df.index.values\n",
        "    df['Learning Rate'] = result\n",
        "    learning_rates.append(df)\n",
        "df = pd.concat(learning_rates)\n",
        "df['Learning Rate'] = df['Learning Rate'].astype('str')\n",
        "\n",
        "sns.set(style=\"darkgrid\")\n",
        "sns.lineplot(x='epoch', y='val_accuracy', hue = 'Learning Rate', data=df)\n",
        "plt.legend(bbox_to_anchor=(1.05, 1), loc=2, borderaxespad=0, title = 'Learning Rates')"
      ],
      "execution_count": 80,
      "outputs": [
        {
          "output_type": "execute_result",
          "data": {
            "text/plain": [
              "<matplotlib.legend.Legend at 0x7f5f005d1630>"
            ]
          },
          "metadata": {
            "tags": []
          },
          "execution_count": 80
        },
        {
          "output_type": "display_data",
          "data": {
            "image/png": "[encoded data removed]",
            "text/plain": [
              "<Figure size 432x288 with 1 Axes>"
            ]
          },
          "metadata": {
            "tags": []
          }
        }
      ]
    },
    {
      "cell_type": "markdown",
      "metadata": {
        "id": "aboVir5dHGtr"
      },
      "source": [
        "The learning rate 0.001 yeilds the best results by far with the SGD optimizer. The\n",
        " lower learning rate steps up entirerly too slowly, and higher learning rates seem to \n",
        " reverse their positive effects on accuracy or have no influence at all on accuracy. I found \n",
        " these results to be consistant over several runs of these tests. "
      ]
    },
    {
      "cell_type": "markdown",
      "metadata": {
        "id": "gxMtSRhV9Q7I"
      },
      "source": [
        "### Experiment with different Optimizers\n",
        "* Run 5 experiments with various optimizers available in TensorFlow. See list [here](https://www.tensorflow.org/api_docs/python/tf/keras/optimizers)\n",
        "* Visualize the results\n",
        "* Write up an analysis of the experiments and select the \"best\" performing model among your experiments. Make sure to compare against the previous experiments and your model's performance yesterday.\n",
        "* Repeat the experiment combining Learning Rate and different optimizers. Does the best performing model change? "
      ]
    },
    {
      "cell_type": "code",
      "metadata": {
        "id": "ujLuzdNA91ip",
        "outputId": "c55c60c4-d0f2-4a03-e5ee-a4ab980eda85",
        "colab": {
          "base_uri": "https://localhost:8080/"
        }
      },
      "source": [
        "lr = 0.001\n",
        "model = create_model(lr = lr, opt = Adam)\n",
        "opt_Adam = model.fit(\n",
        "    X_train, y_train, \n",
        "    epochs=25,\n",
        "    batch_size=32,\n",
        "    validation_data=(X_val,y_val))"
      ],
      "execution_count": 69,
      "outputs": [
        {
          "output_type": "stream",
          "text": [
            "Epoch 1/25\n",
            "2000/2000 [==============================] - 4s 2ms/step - loss: 2.0933 - accuracy: 0.3520 - val_loss: 1.4035 - val_accuracy: 0.4755\n",
            "Epoch 2/25\n",
            "2000/2000 [==============================] - 4s 2ms/step - loss: 1.1818 - accuracy: 0.5820 - val_loss: 1.0077 - val_accuracy: 0.6549\n",
            "Epoch 3/25\n",
            "2000/2000 [==============================] - 4s 2ms/step - loss: 0.9481 - accuracy: 0.6748 - val_loss: 0.8859 - val_accuracy: 0.7241\n",
            "Epoch 4/25\n",
            "2000/2000 [==============================] - 4s 2ms/step - loss: 0.8303 - accuracy: 0.7339 - val_loss: 0.7972 - val_accuracy: 0.7418\n",
            "Epoch 5/25\n",
            "2000/2000 [==============================] - 5s 3ms/step - loss: 0.7604 - accuracy: 0.7519 - val_loss: 0.7577 - val_accuracy: 0.7614\n",
            "Epoch 6/25\n",
            "2000/2000 [==============================] - 4s 2ms/step - loss: 0.7222 - accuracy: 0.7630 - val_loss: 0.7436 - val_accuracy: 0.7529\n",
            "Epoch 7/25\n",
            "2000/2000 [==============================] - 4s 2ms/step - loss: 0.6937 - accuracy: 0.7759 - val_loss: 0.7219 - val_accuracy: 0.7709\n",
            "Epoch 8/25\n",
            "2000/2000 [==============================] - 4s 2ms/step - loss: 0.6705 - accuracy: 0.7884 - val_loss: 0.7030 - val_accuracy: 0.7868\n",
            "Epoch 9/25\n",
            "2000/2000 [==============================] - 4s 2ms/step - loss: 0.6430 - accuracy: 0.8012 - val_loss: 0.6986 - val_accuracy: 0.7847\n",
            "Epoch 10/25\n",
            "2000/2000 [==============================] - 4s 2ms/step - loss: 0.6205 - accuracy: 0.8103 - val_loss: 0.6879 - val_accuracy: 0.7980\n",
            "Epoch 11/25\n",
            "2000/2000 [==============================] - 4s 2ms/step - loss: 0.6015 - accuracy: 0.8187 - val_loss: 0.6667 - val_accuracy: 0.8016\n",
            "Epoch 12/25\n",
            "2000/2000 [==============================] - 4s 2ms/step - loss: 0.5847 - accuracy: 0.8229 - val_loss: 0.6688 - val_accuracy: 0.8061\n",
            "Epoch 13/25\n",
            "2000/2000 [==============================] - 4s 2ms/step - loss: 0.5749 - accuracy: 0.8267 - val_loss: 0.6825 - val_accuracy: 0.7986\n",
            "Epoch 14/25\n",
            "2000/2000 [==============================] - 4s 2ms/step - loss: 0.5621 - accuracy: 0.8309 - val_loss: 0.6662 - val_accuracy: 0.8049\n",
            "Epoch 15/25\n",
            "2000/2000 [==============================] - 4s 2ms/step - loss: 0.5525 - accuracy: 0.8354 - val_loss: 0.7027 - val_accuracy: 0.8037\n",
            "Epoch 16/25\n",
            "2000/2000 [==============================] - 4s 2ms/step - loss: 0.5428 - accuracy: 0.8366 - val_loss: 0.6710 - val_accuracy: 0.8131\n",
            "Epoch 17/25\n",
            "2000/2000 [==============================] - 4s 2ms/step - loss: 0.5359 - accuracy: 0.8395 - val_loss: 0.6746 - val_accuracy: 0.8129\n",
            "Epoch 18/25\n",
            "2000/2000 [==============================] - 4s 2ms/step - loss: 0.5255 - accuracy: 0.8424 - val_loss: 0.6681 - val_accuracy: 0.8159\n",
            "Epoch 19/25\n",
            "2000/2000 [==============================] - 4s 2ms/step - loss: 0.5157 - accuracy: 0.8457 - val_loss: 0.6950 - val_accuracy: 0.7988\n",
            "Epoch 20/25\n",
            "2000/2000 [==============================] - 3s 2ms/step - loss: 0.5106 - accuracy: 0.8473 - val_loss: 0.6945 - val_accuracy: 0.8089\n",
            "Epoch 21/25\n",
            "2000/2000 [==============================] - 4s 2ms/step - loss: 0.5048 - accuracy: 0.8478 - val_loss: 0.6610 - val_accuracy: 0.8111\n",
            "Epoch 22/25\n",
            "2000/2000 [==============================] - 4s 2ms/step - loss: 0.4983 - accuracy: 0.8500 - val_loss: 0.6761 - val_accuracy: 0.8135\n",
            "Epoch 23/25\n",
            "2000/2000 [==============================] - 4s 2ms/step - loss: 0.4971 - accuracy: 0.8497 - val_loss: 0.7085 - val_accuracy: 0.8114\n",
            "Epoch 24/25\n",
            "2000/2000 [==============================] - 4s 2ms/step - loss: 0.4914 - accuracy: 0.8520 - val_loss: 0.6605 - val_accuracy: 0.8106\n",
            "Epoch 25/25\n",
            "2000/2000 [==============================] - 4s 2ms/step - loss: 0.4833 - accuracy: 0.8552 - val_loss: 0.6931 - val_accuracy: 0.8149\n"
          ],
          "name": "stdout"
        }
      ]
    },
    {
      "cell_type": "code",
      "metadata": {
        "id": "wDlO70bQ47vY",
        "outputId": "ff0346bb-9f47-4323-cbf9-08b4f5f6d385",
        "colab": {
          "base_uri": "https://localhost:8080/"
        }
      },
      "source": [
        "lr = 0.001\n",
        "model = create_model(lr = lr, opt = Ftrl)\n",
        "opt_Ftrl = model.fit(\n",
        "    X_train, y_train, \n",
        "    epochs=25,\n",
        "    batch_size=32,\n",
        "    validation_data=(X_val,y_val))"
      ],
      "execution_count": 66,
      "outputs": [
        {
          "output_type": "stream",
          "text": [
            "Epoch 1/25\n",
            "2000/2000 [==============================] - 4s 2ms/step - loss: 2.6709 - accuracy: 0.3451 - val_loss: 1.7656 - val_accuracy: 0.4244\n",
            "Epoch 2/25\n",
            "2000/2000 [==============================] - 5s 3ms/step - loss: 1.6554 - accuracy: 0.4567 - val_loss: 1.5672 - val_accuracy: 0.4820\n",
            "Epoch 3/25\n",
            "2000/2000 [==============================] - 4s 2ms/step - loss: 1.5096 - accuracy: 0.4982 - val_loss: 1.4568 - val_accuracy: 0.5138\n",
            "Epoch 4/25\n",
            "2000/2000 [==============================] - 4s 2ms/step - loss: 1.4179 - accuracy: 0.5276 - val_loss: 1.3827 - val_accuracy: 0.5421\n",
            "Epoch 5/25\n",
            "2000/2000 [==============================] - 4s 2ms/step - loss: 1.3525 - accuracy: 0.5553 - val_loss: 1.3271 - val_accuracy: 0.5667\n",
            "Epoch 6/25\n",
            "2000/2000 [==============================] - 4s 2ms/step - loss: 1.3005 - accuracy: 0.5802 - val_loss: 1.2835 - val_accuracy: 0.5898\n",
            "Epoch 7/25\n",
            "2000/2000 [==============================] - 4s 2ms/step - loss: 1.2577 - accuracy: 0.6017 - val_loss: 1.2471 - val_accuracy: 0.6089\n",
            "Epoch 8/25\n",
            "2000/2000 [==============================] - 4s 2ms/step - loss: 1.2215 - accuracy: 0.6161 - val_loss: 1.2155 - val_accuracy: 0.6221\n",
            "Epoch 9/25\n",
            "2000/2000 [==============================] - 4s 2ms/step - loss: 1.1908 - accuracy: 0.6274 - val_loss: 1.1898 - val_accuracy: 0.6311\n",
            "Epoch 10/25\n",
            "2000/2000 [==============================] - 4s 2ms/step - loss: 1.1637 - accuracy: 0.6381 - val_loss: 1.1663 - val_accuracy: 0.6413\n",
            "Epoch 11/25\n",
            "2000/2000 [==============================] - 4s 2ms/step - loss: 1.1401 - accuracy: 0.6468 - val_loss: 1.1470 - val_accuracy: 0.6491\n",
            "Epoch 12/25\n",
            "2000/2000 [==============================] - 4s 2ms/step - loss: 1.1189 - accuracy: 0.6549 - val_loss: 1.1276 - val_accuracy: 0.6565\n",
            "Epoch 13/25\n",
            "2000/2000 [==============================] - 4s 2ms/step - loss: 1.1001 - accuracy: 0.6606 - val_loss: 1.1102 - val_accuracy: 0.6633\n",
            "Epoch 14/25\n",
            "2000/2000 [==============================] - 4s 2ms/step - loss: 1.0827 - accuracy: 0.6661 - val_loss: 1.0957 - val_accuracy: 0.6687\n",
            "Epoch 15/25\n",
            "2000/2000 [==============================] - 4s 2ms/step - loss: 1.0674 - accuracy: 0.6712 - val_loss: 1.0819 - val_accuracy: 0.6731\n",
            "Epoch 16/25\n",
            "2000/2000 [==============================] - 4s 2ms/step - loss: 1.0530 - accuracy: 0.6754 - val_loss: 1.0687 - val_accuracy: 0.6791\n",
            "Epoch 17/25\n",
            "2000/2000 [==============================] - 4s 2ms/step - loss: 1.0401 - accuracy: 0.6802 - val_loss: 1.0568 - val_accuracy: 0.6831\n",
            "Epoch 18/25\n",
            "2000/2000 [==============================] - 4s 2ms/step - loss: 1.0278 - accuracy: 0.6837 - val_loss: 1.0457 - val_accuracy: 0.6863\n",
            "Epoch 19/25\n",
            "2000/2000 [==============================] - 4s 2ms/step - loss: 1.0163 - accuracy: 0.6883 - val_loss: 1.0359 - val_accuracy: 0.6889\n",
            "Epoch 20/25\n",
            "2000/2000 [==============================] - 4s 2ms/step - loss: 1.0060 - accuracy: 0.6908 - val_loss: 1.0263 - val_accuracy: 0.6914\n",
            "Epoch 21/25\n",
            "2000/2000 [==============================] - 4s 2ms/step - loss: 0.9960 - accuracy: 0.6948 - val_loss: 1.0176 - val_accuracy: 0.6946\n",
            "Epoch 22/25\n",
            "2000/2000 [==============================] - 4s 2ms/step - loss: 0.9864 - accuracy: 0.6983 - val_loss: 1.0091 - val_accuracy: 0.6957\n",
            "Epoch 23/25\n",
            "2000/2000 [==============================] - 4s 2ms/step - loss: 0.9776 - accuracy: 0.7011 - val_loss: 1.0016 - val_accuracy: 0.7003\n",
            "Epoch 24/25\n",
            "2000/2000 [==============================] - 4s 2ms/step - loss: 0.9691 - accuracy: 0.7037 - val_loss: 0.9936 - val_accuracy: 0.7004\n",
            "Epoch 25/25\n",
            "2000/2000 [==============================] - 4s 2ms/step - loss: 0.9610 - accuracy: 0.7068 - val_loss: 0.9870 - val_accuracy: 0.7055\n"
          ],
          "name": "stdout"
        }
      ]
    },
    {
      "cell_type": "code",
      "metadata": {
        "id": "01l1AlRw48Xz",
        "outputId": "8414ba20-d1f8-4a92-f99b-d1f744d816fe",
        "colab": {
          "base_uri": "https://localhost:8080/"
        }
      },
      "source": [
        "lr = 0.001\n",
        "model = create_model(lr = lr, opt = RMSprop)\n",
        "opt_RMSprop = model.fit(\n",
        "    X_train, y_train, \n",
        "    epochs=25,\n",
        "    batch_size=32,\n",
        "    validation_data=(X_val,y_val))"
      ],
      "execution_count": 65,
      "outputs": [
        {
          "output_type": "stream",
          "text": [
            "Epoch 1/25\n",
            "2000/2000 [==============================] - 4s 2ms/step - loss: 1.8020 - accuracy: 0.5025 - val_loss: 1.0831 - val_accuracy: 0.7108\n",
            "Epoch 2/25\n",
            "2000/2000 [==============================] - 4s 2ms/step - loss: 0.9590 - accuracy: 0.7269 - val_loss: 0.8579 - val_accuracy: 0.7445\n",
            "Epoch 3/25\n",
            "2000/2000 [==============================] - 4s 2ms/step - loss: 0.8793 - accuracy: 0.7467 - val_loss: 0.8985 - val_accuracy: 0.7522\n",
            "Epoch 4/25\n",
            "2000/2000 [==============================] - 4s 2ms/step - loss: 0.8626 - accuracy: 0.7461 - val_loss: 0.9093 - val_accuracy: 0.7190\n",
            "Epoch 5/25\n",
            "2000/2000 [==============================] - 4s 2ms/step - loss: 0.8775 - accuracy: 0.7495 - val_loss: 0.9499 - val_accuracy: 0.7684\n",
            "Epoch 6/25\n",
            "2000/2000 [==============================] - 4s 2ms/step - loss: 0.8966 - accuracy: 0.7552 - val_loss: 0.9481 - val_accuracy: 0.7566\n",
            "Epoch 7/25\n",
            "2000/2000 [==============================] - 4s 2ms/step - loss: 0.9211 - accuracy: 0.7465 - val_loss: 0.9902 - val_accuracy: 0.7291\n",
            "Epoch 8/25\n",
            "2000/2000 [==============================] - 4s 2ms/step - loss: 0.8770 - accuracy: 0.7527 - val_loss: 0.9674 - val_accuracy: 0.7500\n",
            "Epoch 9/25\n",
            "2000/2000 [==============================] - 4s 2ms/step - loss: 0.8536 - accuracy: 0.7561 - val_loss: 0.9343 - val_accuracy: 0.7282\n",
            "Epoch 10/25\n",
            "2000/2000 [==============================] - 4s 2ms/step - loss: 0.8481 - accuracy: 0.7579 - val_loss: 0.9133 - val_accuracy: 0.7452\n",
            "Epoch 11/25\n",
            "2000/2000 [==============================] - 4s 2ms/step - loss: 0.8522 - accuracy: 0.7631 - val_loss: 1.0435 - val_accuracy: 0.7803\n",
            "Epoch 12/25\n",
            "2000/2000 [==============================] - 4s 2ms/step - loss: 0.8454 - accuracy: 0.7698 - val_loss: 0.9332 - val_accuracy: 0.7433\n",
            "Epoch 13/25\n",
            "2000/2000 [==============================] - 5s 2ms/step - loss: 0.8268 - accuracy: 0.7777 - val_loss: 1.0187 - val_accuracy: 0.7601\n",
            "Epoch 14/25\n",
            "2000/2000 [==============================] - 5s 2ms/step - loss: 0.8097 - accuracy: 0.7795 - val_loss: 0.9781 - val_accuracy: 0.7622\n",
            "Epoch 15/25\n",
            "2000/2000 [==============================] - 4s 2ms/step - loss: 0.8169 - accuracy: 0.7839 - val_loss: 1.1761 - val_accuracy: 0.7563\n",
            "Epoch 16/25\n",
            "2000/2000 [==============================] - 4s 2ms/step - loss: 0.8315 - accuracy: 0.7867 - val_loss: 1.0224 - val_accuracy: 0.7836\n",
            "Epoch 17/25\n",
            "2000/2000 [==============================] - 4s 2ms/step - loss: 0.8430 - accuracy: 0.7939 - val_loss: 1.1878 - val_accuracy: 0.7689\n",
            "Epoch 18/25\n",
            "2000/2000 [==============================] - 4s 2ms/step - loss: 0.8217 - accuracy: 0.7967 - val_loss: 1.1388 - val_accuracy: 0.7703\n",
            "Epoch 19/25\n",
            "2000/2000 [==============================] - 4s 2ms/step - loss: 0.8203 - accuracy: 0.8005 - val_loss: 1.1561 - val_accuracy: 0.7946\n",
            "Epoch 20/25\n",
            "2000/2000 [==============================] - 4s 2ms/step - loss: 0.8211 - accuracy: 0.8029 - val_loss: 1.2889 - val_accuracy: 0.8014\n",
            "Epoch 21/25\n",
            "2000/2000 [==============================] - 4s 2ms/step - loss: 0.8020 - accuracy: 0.8032 - val_loss: 1.2977 - val_accuracy: 0.7830\n",
            "Epoch 22/25\n",
            "2000/2000 [==============================] - 4s 2ms/step - loss: 0.8148 - accuracy: 0.8063 - val_loss: 1.0838 - val_accuracy: 0.7828\n",
            "Epoch 23/25\n",
            "2000/2000 [==============================] - 4s 2ms/step - loss: 0.7948 - accuracy: 0.8089 - val_loss: 1.3324 - val_accuracy: 0.7850\n",
            "Epoch 24/25\n",
            "2000/2000 [==============================] - 4s 2ms/step - loss: 0.8215 - accuracy: 0.8101 - val_loss: 1.0804 - val_accuracy: 0.7759\n",
            "Epoch 25/25\n",
            "2000/2000 [==============================] - 4s 2ms/step - loss: 0.8093 - accuracy: 0.8093 - val_loss: 1.1324 - val_accuracy: 0.8004\n"
          ],
          "name": "stdout"
        }
      ]
    },
    {
      "cell_type": "code",
      "metadata": {
        "id": "KlHoN9P048OC",
        "outputId": "ef028905-307e-473e-fe56-58b23e225547",
        "colab": {
          "base_uri": "https://localhost:8080/"
        }
      },
      "source": [
        "lr = 0.001\n",
        "model = create_model(lr = lr, opt = Adagrad)\n",
        "opt_Adagrad = model.fit(\n",
        "    X_train, y_train, \n",
        "    epochs=25,\n",
        "    batch_size=32,\n",
        "    validation_data=(X_val,y_val))"
      ],
      "execution_count": 64,
      "outputs": [
        {
          "output_type": "stream",
          "text": [
            "Epoch 1/25\n",
            "2000/2000 [==============================] - 3s 2ms/step - loss: 3.5831 - accuracy: 0.1894 - val_loss: 2.2504 - val_accuracy: 0.2024\n",
            "Epoch 2/25\n",
            "2000/2000 [==============================] - 3s 2ms/step - loss: 2.1598 - accuracy: 0.2299 - val_loss: 2.1006 - val_accuracy: 0.2529\n",
            "Epoch 3/25\n",
            "2000/2000 [==============================] - 3s 2ms/step - loss: 2.0535 - accuracy: 0.2655 - val_loss: 2.0319 - val_accuracy: 0.2750\n",
            "Epoch 4/25\n",
            "2000/2000 [==============================] - 3s 2ms/step - loss: 1.9993 - accuracy: 0.2832 - val_loss: 1.9917 - val_accuracy: 0.2891\n",
            "Epoch 5/25\n",
            "2000/2000 [==============================] - 3s 2ms/step - loss: 1.9587 - accuracy: 0.2962 - val_loss: 1.9581 - val_accuracy: 0.3039\n",
            "Epoch 6/25\n",
            "2000/2000 [==============================] - 3s 2ms/step - loss: 1.9184 - accuracy: 0.3292 - val_loss: 1.9177 - val_accuracy: 0.3411\n",
            "Epoch 7/25\n",
            "2000/2000 [==============================] - 3s 2ms/step - loss: 1.8715 - accuracy: 0.3563 - val_loss: 1.8725 - val_accuracy: 0.3589\n",
            "Epoch 8/25\n",
            "2000/2000 [==============================] - 3s 2ms/step - loss: 1.8298 - accuracy: 0.3714 - val_loss: 1.8391 - val_accuracy: 0.3688\n",
            "Epoch 9/25\n",
            "2000/2000 [==============================] - 3s 2ms/step - loss: 1.7974 - accuracy: 0.3804 - val_loss: 1.8150 - val_accuracy: 0.3784\n",
            "Epoch 10/25\n",
            "2000/2000 [==============================] - 3s 2ms/step - loss: 1.7713 - accuracy: 0.3894 - val_loss: 1.7941 - val_accuracy: 0.3850\n",
            "Epoch 11/25\n",
            "2000/2000 [==============================] - 3s 2ms/step - loss: 1.7490 - accuracy: 0.3949 - val_loss: 1.7758 - val_accuracy: 0.3920\n",
            "Epoch 12/25\n",
            "2000/2000 [==============================] - 3s 2ms/step - loss: 1.7305 - accuracy: 0.4006 - val_loss: 1.7596 - val_accuracy: 0.3959\n",
            "Epoch 13/25\n",
            "2000/2000 [==============================] - 3s 2ms/step - loss: 1.7141 - accuracy: 0.4045 - val_loss: 1.7448 - val_accuracy: 0.4008\n",
            "Epoch 14/25\n",
            "2000/2000 [==============================] - 3s 2ms/step - loss: 1.6994 - accuracy: 0.4084 - val_loss: 1.7299 - val_accuracy: 0.4047\n",
            "Epoch 15/25\n",
            "2000/2000 [==============================] - 3s 2ms/step - loss: 1.6858 - accuracy: 0.4129 - val_loss: 1.7175 - val_accuracy: 0.4088\n",
            "Epoch 16/25\n",
            "2000/2000 [==============================] - 3s 2ms/step - loss: 1.6733 - accuracy: 0.4165 - val_loss: 1.7055 - val_accuracy: 0.4109\n",
            "Epoch 17/25\n",
            "2000/2000 [==============================] - 3s 2ms/step - loss: 1.6613 - accuracy: 0.4187 - val_loss: 1.6937 - val_accuracy: 0.4154\n",
            "Epoch 18/25\n",
            "2000/2000 [==============================] - 3s 2ms/step - loss: 1.6504 - accuracy: 0.4227 - val_loss: 1.6834 - val_accuracy: 0.4179\n",
            "Epoch 19/25\n",
            "2000/2000 [==============================] - 3s 2ms/step - loss: 1.6399 - accuracy: 0.4257 - val_loss: 1.6737 - val_accuracy: 0.4198\n",
            "Epoch 20/25\n",
            "2000/2000 [==============================] - 3s 2ms/step - loss: 1.6302 - accuracy: 0.4285 - val_loss: 1.6647 - val_accuracy: 0.4236\n",
            "Epoch 21/25\n",
            "2000/2000 [==============================] - 3s 2ms/step - loss: 1.6210 - accuracy: 0.4307 - val_loss: 1.6569 - val_accuracy: 0.4263\n",
            "Epoch 22/25\n",
            "2000/2000 [==============================] - 3s 2ms/step - loss: 1.6126 - accuracy: 0.4337 - val_loss: 1.6485 - val_accuracy: 0.4286\n",
            "Epoch 23/25\n",
            "2000/2000 [==============================] - 3s 2ms/step - loss: 1.6047 - accuracy: 0.4362 - val_loss: 1.6415 - val_accuracy: 0.4294\n",
            "Epoch 24/25\n",
            "2000/2000 [==============================] - 3s 2ms/step - loss: 1.5973 - accuracy: 0.4373 - val_loss: 1.6337 - val_accuracy: 0.4320\n",
            "Epoch 25/25\n",
            "2000/2000 [==============================] - 3s 2ms/step - loss: 1.5901 - accuracy: 0.4397 - val_loss: 1.6282 - val_accuracy: 0.4355\n"
          ],
          "name": "stdout"
        }
      ]
    },
    {
      "cell_type": "code",
      "metadata": {
        "id": "s9GTZ7yY47kg",
        "outputId": "593cf9b3-b062-4296-de0c-9399b4c31e9f",
        "colab": {
          "base_uri": "https://localhost:8080/"
        }
      },
      "source": [
        "lr = 0.001\n",
        "model = create_model(lr = lr, opt = SGD)\n",
        "opt_SGD = model.fit(\n",
        "    X_train, y_train, \n",
        "    epochs=25,\n",
        "    batch_size=32,\n",
        "    validation_data=(X_val,y_val))"
      ],
      "execution_count": 59,
      "outputs": [
        {
          "output_type": "stream",
          "text": [
            "Epoch 1/25\n",
            "2000/2000 [==============================] - 3s 2ms/step - loss: 2.0336 - accuracy: 0.3436 - val_loss: 1.6211 - val_accuracy: 0.4624\n",
            "Epoch 2/25\n",
            "2000/2000 [==============================] - 3s 2ms/step - loss: 1.5132 - accuracy: 0.5076 - val_loss: 1.4165 - val_accuracy: 0.5476\n",
            "Epoch 3/25\n",
            "2000/2000 [==============================] - 3s 2ms/step - loss: 1.3375 - accuracy: 0.5864 - val_loss: 1.2520 - val_accuracy: 0.6185\n",
            "Epoch 4/25\n",
            "2000/2000 [==============================] - 3s 2ms/step - loss: 1.2065 - accuracy: 0.6354 - val_loss: 1.1731 - val_accuracy: 0.6471\n",
            "Epoch 5/25\n",
            "2000/2000 [==============================] - 3s 2ms/step - loss: 1.1334 - accuracy: 0.6587 - val_loss: 1.1357 - val_accuracy: 0.6556\n",
            "Epoch 6/25\n",
            "2000/2000 [==============================] - 3s 2ms/step - loss: 1.0848 - accuracy: 0.6713 - val_loss: 1.0873 - val_accuracy: 0.6729\n",
            "Epoch 7/25\n",
            "2000/2000 [==============================] - 3s 2ms/step - loss: 1.0496 - accuracy: 0.6802 - val_loss: 1.0549 - val_accuracy: 0.6781\n",
            "Epoch 8/25\n",
            "2000/2000 [==============================] - 3s 2ms/step - loss: 1.0183 - accuracy: 0.6867 - val_loss: 1.0290 - val_accuracy: 0.6849\n",
            "Epoch 9/25\n",
            "2000/2000 [==============================] - 3s 2ms/step - loss: 0.9954 - accuracy: 0.6920 - val_loss: 1.0081 - val_accuracy: 0.6888\n",
            "Epoch 10/25\n",
            "2000/2000 [==============================] - 3s 2ms/step - loss: 0.9721 - accuracy: 0.6970 - val_loss: 0.9953 - val_accuracy: 0.6936\n",
            "Epoch 11/25\n",
            "2000/2000 [==============================] - 3s 2ms/step - loss: 0.9538 - accuracy: 0.7018 - val_loss: 0.9771 - val_accuracy: 0.6968\n",
            "Epoch 12/25\n",
            "2000/2000 [==============================] - 3s 2ms/step - loss: 0.9368 - accuracy: 0.7066 - val_loss: 0.9656 - val_accuracy: 0.6996\n",
            "Epoch 13/25\n",
            "2000/2000 [==============================] - 3s 2ms/step - loss: 0.9228 - accuracy: 0.7123 - val_loss: 0.9516 - val_accuracy: 0.6993\n",
            "Epoch 14/25\n",
            "2000/2000 [==============================] - 3s 2ms/step - loss: 0.9107 - accuracy: 0.7138 - val_loss: 0.9345 - val_accuracy: 0.7065\n",
            "Epoch 15/25\n",
            "2000/2000 [==============================] - 3s 2ms/step - loss: 0.9014 - accuracy: 0.7165 - val_loss: 0.9402 - val_accuracy: 0.7074\n",
            "Epoch 16/25\n",
            "2000/2000 [==============================] - 3s 2ms/step - loss: 0.8905 - accuracy: 0.7195 - val_loss: 0.9285 - val_accuracy: 0.7102\n",
            "Epoch 17/25\n",
            "2000/2000 [==============================] - 3s 2ms/step - loss: 0.8819 - accuracy: 0.7225 - val_loss: 0.9206 - val_accuracy: 0.7093\n",
            "Epoch 18/25\n",
            "2000/2000 [==============================] - 3s 2ms/step - loss: 0.8742 - accuracy: 0.7244 - val_loss: 0.9224 - val_accuracy: 0.7085\n",
            "Epoch 19/25\n",
            "2000/2000 [==============================] - 3s 2ms/step - loss: 0.8666 - accuracy: 0.7270 - val_loss: 0.9144 - val_accuracy: 0.7151\n",
            "Epoch 20/25\n",
            "2000/2000 [==============================] - 3s 2ms/step - loss: 0.8600 - accuracy: 0.7283 - val_loss: 0.9045 - val_accuracy: 0.7116\n",
            "Epoch 21/25\n",
            "2000/2000 [==============================] - 3s 2ms/step - loss: 0.8529 - accuracy: 0.7307 - val_loss: 0.8998 - val_accuracy: 0.7193\n",
            "Epoch 22/25\n",
            "2000/2000 [==============================] - 3s 2ms/step - loss: 0.8473 - accuracy: 0.7326 - val_loss: 0.9127 - val_accuracy: 0.7118\n",
            "Epoch 23/25\n",
            "2000/2000 [==============================] - 3s 2ms/step - loss: 0.8422 - accuracy: 0.7334 - val_loss: 0.9031 - val_accuracy: 0.7183\n",
            "Epoch 24/25\n",
            "2000/2000 [==============================] - 3s 2ms/step - loss: 0.8361 - accuracy: 0.7370 - val_loss: 0.8879 - val_accuracy: 0.7237\n",
            "Epoch 25/25\n",
            "2000/2000 [==============================] - 3s 2ms/step - loss: 0.8318 - accuracy: 0.7373 - val_loss: 0.8987 - val_accuracy: 0.7184\n"
          ],
          "name": "stdout"
        }
      ]
    },
    {
      "cell_type": "code",
      "metadata": {
        "id": "wspnPdQHAAUc",
        "outputId": "0a8371b4-9609-4579-8842-df0eed966685",
        "colab": {
          "base_uri": "https://localhost:8080/",
          "height": 302
        }
      },
      "source": [
        "optimizers = []\n",
        "for exp, result in zip([opt_SGD, opt_Adagrad, opt_Ftrl, opt_Adam, opt_RMSprop], [\"SGD\", \"Adagrad\", \"Ftrl\", \"Adam\", \"RMSprop\"]):\n",
        "    df = pd.DataFrame.from_dict(exp.history)\n",
        "    df['epoch'] = df.index.values\n",
        "    df['Optimizer'] = result\n",
        "    optimizers.append(df)\n",
        "df = pd.concat(optimizers)\n",
        "df['Optimizer'] = df['Optimizer'].astype('str')\n",
        "\n",
        "sns.set(style=\"darkgrid\")\n",
        "sns.lineplot(x='epoch', y='val_accuracy', hue = 'Optimizer', data=df)\n",
        "plt.legend(bbox_to_anchor=(1.05, 1), loc=2, borderaxespad=0, title = 'Optimizers')"
      ],
      "execution_count": 84,
      "outputs": [
        {
          "output_type": "execute_result",
          "data": {
            "text/plain": [
              "<matplotlib.legend.Legend at 0x7f5f015bb320>"
            ]
          },
          "metadata": {
            "tags": []
          },
          "execution_count": 84
        },
        {
          "output_type": "display_data",
          "data": {
            "image/png": "[encoded data removed]",
            "text/plain": [
              "<Figure size 432x288 with 1 Axes>"
            ]
          },
          "metadata": {
            "tags": []
          }
        }
      ]
    },
    {
      "cell_type": "markdown",
      "metadata": {
        "id": "KZFbWOuLGVpP"
      },
      "source": [
        "The Adam optimizer yeilds the highest accuracy afte 25 epochs with a learning rate of 0.001 and a batch size of 32. Now I will try a couple more itertations with Adam with larger and smaller batches and a higher and lower learning rate."
      ]
    },
    {
      "cell_type": "markdown",
      "metadata": {
        "id": "O1xyYMAZN6Xh"
      },
      "source": [
        "## Adam with lower and higher learning rates"
      ]
    },
    {
      "cell_type": "code",
      "metadata": {
        "id": "hdPT0rusNVWo",
        "outputId": "2b4accb5-4788-4847-c903-779d7697c97b",
        "colab": {
          "base_uri": "https://localhost:8080/"
        }
      },
      "source": [
        "lr = 0.01\n",
        "model = create_model(lr = lr, opt = Adam)\n",
        "lr_big = model.fit(\n",
        "    X_train, y_train, \n",
        "    epochs=25,\n",
        "    batch_size=32,\n",
        "    validation_data=(X_val,y_val))"
      ],
      "execution_count": 75,
      "outputs": [
        {
          "output_type": "stream",
          "text": [
            "Epoch 1/25\n",
            "2000/2000 [==============================] - 4s 2ms/step - loss: 2.3522 - accuracy: 0.0985 - val_loss: 2.3047 - val_accuracy: 0.1000\n",
            "Epoch 2/25\n",
            "2000/2000 [==============================] - 4s 2ms/step - loss: 2.3047 - accuracy: 0.1014 - val_loss: 2.3033 - val_accuracy: 0.1000\n",
            "Epoch 3/25\n",
            "2000/2000 [==============================] - 4s 2ms/step - loss: 2.3040 - accuracy: 0.0995 - val_loss: 2.3042 - val_accuracy: 0.1000\n",
            "Epoch 4/25\n",
            "2000/2000 [==============================] - 4s 2ms/step - loss: 2.3039 - accuracy: 0.1017 - val_loss: 2.3032 - val_accuracy: 0.1000\n",
            "Epoch 5/25\n",
            "2000/2000 [==============================] - 4s 2ms/step - loss: 2.3040 - accuracy: 0.0990 - val_loss: 2.3037 - val_accuracy: 0.1000\n",
            "Epoch 6/25\n",
            "2000/2000 [==============================] - 4s 2ms/step - loss: 2.3040 - accuracy: 0.0987 - val_loss: 2.3035 - val_accuracy: 0.1000\n",
            "Epoch 7/25\n",
            "2000/2000 [==============================] - 3s 2ms/step - loss: 2.3039 - accuracy: 0.1008 - val_loss: 2.3036 - val_accuracy: 0.1000\n",
            "Epoch 8/25\n",
            "2000/2000 [==============================] - 4s 2ms/step - loss: 2.3038 - accuracy: 0.1022 - val_loss: 2.3046 - val_accuracy: 0.1000\n",
            "Epoch 9/25\n",
            "2000/2000 [==============================] - 4s 2ms/step - loss: 2.3040 - accuracy: 0.0994 - val_loss: 2.3030 - val_accuracy: 0.1000\n",
            "Epoch 10/25\n",
            "2000/2000 [==============================] - 4s 2ms/step - loss: 2.3040 - accuracy: 0.0989 - val_loss: 2.3037 - val_accuracy: 0.1000\n",
            "Epoch 11/25\n",
            "2000/2000 [==============================] - 4s 2ms/step - loss: 2.3038 - accuracy: 0.0991 - val_loss: 2.3045 - val_accuracy: 0.1000\n",
            "Epoch 12/25\n",
            "2000/2000 [==============================] - 4s 2ms/step - loss: 2.3040 - accuracy: 0.0980 - val_loss: 2.3040 - val_accuracy: 0.1000\n",
            "Epoch 13/25\n",
            "2000/2000 [==============================] - 4s 2ms/step - loss: 2.3041 - accuracy: 0.0986 - val_loss: 2.3032 - val_accuracy: 0.1000\n",
            "Epoch 14/25\n",
            "2000/2000 [==============================] - 4s 2ms/step - loss: 2.3039 - accuracy: 0.1016 - val_loss: 2.3038 - val_accuracy: 0.1000\n",
            "Epoch 15/25\n",
            "2000/2000 [==============================] - 4s 2ms/step - loss: 2.3039 - accuracy: 0.1005 - val_loss: 2.3043 - val_accuracy: 0.1000\n",
            "Epoch 16/25\n",
            "2000/2000 [==============================] - 4s 2ms/step - loss: 2.3040 - accuracy: 0.0989 - val_loss: 2.3035 - val_accuracy: 0.1000\n",
            "Epoch 17/25\n",
            "2000/2000 [==============================] - 4s 2ms/step - loss: 2.3038 - accuracy: 0.1013 - val_loss: 2.3039 - val_accuracy: 0.1000\n",
            "Epoch 18/25\n",
            "2000/2000 [==============================] - 4s 2ms/step - loss: 2.3042 - accuracy: 0.0968 - val_loss: 2.3044 - val_accuracy: 0.1000\n",
            "Epoch 19/25\n",
            "2000/2000 [==============================] - 4s 2ms/step - loss: 2.3039 - accuracy: 0.0987 - val_loss: 2.3038 - val_accuracy: 0.1000\n",
            "Epoch 20/25\n",
            "2000/2000 [==============================] - 4s 2ms/step - loss: 2.3039 - accuracy: 0.1017 - val_loss: 2.3039 - val_accuracy: 0.1000\n",
            "Epoch 21/25\n",
            "2000/2000 [==============================] - 4s 2ms/step - loss: 2.3041 - accuracy: 0.0972 - val_loss: 2.3035 - val_accuracy: 0.1000\n",
            "Epoch 22/25\n",
            "2000/2000 [==============================] - 4s 2ms/step - loss: 2.3040 - accuracy: 0.0988 - val_loss: 2.3034 - val_accuracy: 0.1000\n",
            "Epoch 23/25\n",
            "2000/2000 [==============================] - 4s 2ms/step - loss: 2.3041 - accuracy: 0.0980 - val_loss: 2.3033 - val_accuracy: 0.1000\n",
            "Epoch 24/25\n",
            "2000/2000 [==============================] - 4s 2ms/step - loss: 2.3038 - accuracy: 0.1011 - val_loss: 2.3036 - val_accuracy: 0.1000\n",
            "Epoch 25/25\n",
            "2000/2000 [==============================] - 4s 2ms/step - loss: 2.3040 - accuracy: 0.1000 - val_loss: 2.3043 - val_accuracy: 0.1000\n"
          ],
          "name": "stdout"
        }
      ]
    },
    {
      "cell_type": "code",
      "metadata": {
        "id": "LxM1ECJqNnOx",
        "outputId": "52901c6a-2d46-4bf0-8871-f34054bc372f",
        "colab": {
          "base_uri": "https://localhost:8080/"
        }
      },
      "source": [
        "lr = 0.0001\n",
        "model = create_model(lr = lr, opt = Adam)\n",
        "lr_tiny = model.fit(\n",
        "    X_train, y_train, \n",
        "    epochs=25,\n",
        "    batch_size=32,\n",
        "    validation_data=(X_val,y_val))"
      ],
      "execution_count": 76,
      "outputs": [
        {
          "output_type": "stream",
          "text": [
            "Epoch 1/25\n",
            "2000/2000 [==============================] - 4s 2ms/step - loss: 3.6881 - accuracy: 0.1282 - val_loss: 2.1937 - val_accuracy: 0.1877\n",
            "Epoch 2/25\n",
            "2000/2000 [==============================] - 4s 2ms/step - loss: 2.0463 - accuracy: 0.2443 - val_loss: 1.9471 - val_accuracy: 0.2898\n",
            "Epoch 3/25\n",
            "2000/2000 [==============================] - 4s 2ms/step - loss: 1.8633 - accuracy: 0.3153 - val_loss: 1.8055 - val_accuracy: 0.3287\n",
            "Epoch 4/25\n",
            "2000/2000 [==============================] - 4s 2ms/step - loss: 1.7579 - accuracy: 0.3441 - val_loss: 1.7325 - val_accuracy: 0.3581\n",
            "Epoch 5/25\n",
            "2000/2000 [==============================] - 4s 2ms/step - loss: 1.6865 - accuracy: 0.3624 - val_loss: 1.6775 - val_accuracy: 0.3730\n",
            "Epoch 6/25\n",
            "2000/2000 [==============================] - 4s 2ms/step - loss: 1.5102 - accuracy: 0.4496 - val_loss: 1.4476 - val_accuracy: 0.4729\n",
            "Epoch 7/25\n",
            "2000/2000 [==============================] - 4s 2ms/step - loss: 1.3876 - accuracy: 0.4910 - val_loss: 1.3750 - val_accuracy: 0.4977\n",
            "Epoch 8/25\n",
            "2000/2000 [==============================] - 3s 2ms/step - loss: 1.3201 - accuracy: 0.5106 - val_loss: 1.3192 - val_accuracy: 0.5126\n",
            "Epoch 9/25\n",
            "2000/2000 [==============================] - 4s 2ms/step - loss: 1.2681 - accuracy: 0.5255 - val_loss: 1.2805 - val_accuracy: 0.5341\n",
            "Epoch 10/25\n",
            "2000/2000 [==============================] - 4s 2ms/step - loss: 1.2084 - accuracy: 0.5587 - val_loss: 1.2129 - val_accuracy: 0.5677\n",
            "Epoch 11/25\n",
            "2000/2000 [==============================] - 4s 2ms/step - loss: 1.1476 - accuracy: 0.5817 - val_loss: 1.1738 - val_accuracy: 0.5921\n",
            "Epoch 12/25\n",
            "2000/2000 [==============================] - 4s 2ms/step - loss: 1.1031 - accuracy: 0.6175 - val_loss: 1.1393 - val_accuracy: 0.6265\n",
            "Epoch 13/25\n",
            "2000/2000 [==============================] - 4s 2ms/step - loss: 1.0601 - accuracy: 0.6376 - val_loss: 1.0982 - val_accuracy: 0.6442\n",
            "Epoch 14/25\n",
            "2000/2000 [==============================] - 4s 2ms/step - loss: 1.0212 - accuracy: 0.6501 - val_loss: 1.0687 - val_accuracy: 0.6557\n",
            "Epoch 15/25\n",
            "2000/2000 [==============================] - 4s 2ms/step - loss: 0.9698 - accuracy: 0.6612 - val_loss: 1.0033 - val_accuracy: 0.6909\n",
            "Epoch 16/25\n",
            "2000/2000 [==============================] - 4s 2ms/step - loss: 0.9099 - accuracy: 0.7060 - val_loss: 0.9704 - val_accuracy: 0.7038\n",
            "Epoch 17/25\n",
            "2000/2000 [==============================] - 4s 2ms/step - loss: 0.8706 - accuracy: 0.7226 - val_loss: 0.9397 - val_accuracy: 0.7159\n",
            "Epoch 18/25\n",
            "2000/2000 [==============================] - 4s 2ms/step - loss: 0.8384 - accuracy: 0.7355 - val_loss: 0.9090 - val_accuracy: 0.7304\n",
            "Epoch 19/25\n",
            "2000/2000 [==============================] - 4s 2ms/step - loss: 0.8097 - accuracy: 0.7481 - val_loss: 0.9011 - val_accuracy: 0.7408\n",
            "Epoch 20/25\n",
            "2000/2000 [==============================] - 4s 2ms/step - loss: 0.7852 - accuracy: 0.7583 - val_loss: 0.8793 - val_accuracy: 0.7470\n",
            "Epoch 21/25\n",
            "2000/2000 [==============================] - 4s 2ms/step - loss: 0.7633 - accuracy: 0.7654 - val_loss: 0.8714 - val_accuracy: 0.7520\n",
            "Epoch 22/25\n",
            "2000/2000 [==============================] - 4s 2ms/step - loss: 0.7438 - accuracy: 0.7721 - val_loss: 0.8555 - val_accuracy: 0.7559\n",
            "Epoch 23/25\n",
            "2000/2000 [==============================] - 4s 2ms/step - loss: 0.7280 - accuracy: 0.7780 - val_loss: 0.8474 - val_accuracy: 0.7642\n",
            "Epoch 24/25\n",
            "2000/2000 [==============================] - 4s 2ms/step - loss: 0.7137 - accuracy: 0.7829 - val_loss: 0.8415 - val_accuracy: 0.7628\n",
            "Epoch 25/25\n",
            "2000/2000 [==============================] - 4s 2ms/step - loss: 0.6997 - accuracy: 0.7866 - val_loss: 0.8384 - val_accuracy: 0.7576\n"
          ],
          "name": "stdout"
        }
      ]
    },
    {
      "cell_type": "markdown",
      "metadata": {
        "id": "DdzJwjbjPst4"
      },
      "source": [
        "Neither attempt at adjusting the learnign rate yeided a better accuruacy. Now I will try with smaller batch sizes. "
      ]
    },
    {
      "cell_type": "code",
      "metadata": {
        "id": "-s3W_PA8RWxe",
        "outputId": "5850e381-7571-40c1-8f6a-63b47e26f6fa",
        "colab": {
          "base_uri": "https://localhost:8080/"
        }
      },
      "source": [
        "lr = 0.001\n",
        "model = create_model(lr = lr, opt = Adam)\n",
        "bt_tiny = model.fit(\n",
        "    X_train, y_train, \n",
        "    epochs=25,\n",
        "    batch_size=16,\n",
        "    validation_data=(X_val,y_val))"
      ],
      "execution_count": 78,
      "outputs": [
        {
          "output_type": "stream",
          "text": [
            "Epoch 1/25\n",
            "4000/4000 [==============================] - 7s 2ms/step - loss: 1.9945 - accuracy: 0.2859 - val_loss: 1.5496 - val_accuracy: 0.4244\n",
            "Epoch 2/25\n",
            "4000/4000 [==============================] - 6s 2ms/step - loss: 1.3684 - accuracy: 0.4944 - val_loss: 1.2348 - val_accuracy: 0.5855\n",
            "Epoch 3/25\n",
            "4000/4000 [==============================] - 6s 2ms/step - loss: 1.0954 - accuracy: 0.6417 - val_loss: 0.9871 - val_accuracy: 0.6891\n",
            "Epoch 4/25\n",
            "4000/4000 [==============================] - 6s 2ms/step - loss: 0.8760 - accuracy: 0.7267 - val_loss: 0.7867 - val_accuracy: 0.7573\n",
            "Epoch 5/25\n",
            "4000/4000 [==============================] - 6s 2ms/step - loss: 0.7571 - accuracy: 0.7704 - val_loss: 0.7460 - val_accuracy: 0.7719\n",
            "Epoch 6/25\n",
            "4000/4000 [==============================] - 6s 2ms/step - loss: 0.7021 - accuracy: 0.7885 - val_loss: 0.7245 - val_accuracy: 0.7833\n",
            "Epoch 7/25\n",
            "4000/4000 [==============================] - 6s 2ms/step - loss: 0.6642 - accuracy: 0.8006 - val_loss: 0.6840 - val_accuracy: 0.7972\n",
            "Epoch 8/25\n",
            "4000/4000 [==============================] - 6s 2ms/step - loss: 0.6374 - accuracy: 0.8098 - val_loss: 0.6769 - val_accuracy: 0.7876\n",
            "Epoch 9/25\n",
            "4000/4000 [==============================] - 6s 2ms/step - loss: 0.6096 - accuracy: 0.8173 - val_loss: 0.6653 - val_accuracy: 0.8089\n",
            "Epoch 10/25\n",
            "4000/4000 [==============================] - 6s 2ms/step - loss: 0.5928 - accuracy: 0.8231 - val_loss: 0.6641 - val_accuracy: 0.8095\n",
            "Epoch 11/25\n",
            "4000/4000 [==============================] - 6s 2ms/step - loss: 0.5799 - accuracy: 0.8278 - val_loss: 0.6617 - val_accuracy: 0.8117\n",
            "Epoch 12/25\n",
            "4000/4000 [==============================] - 6s 2ms/step - loss: 0.5675 - accuracy: 0.8298 - val_loss: 0.6494 - val_accuracy: 0.8161\n",
            "Epoch 13/25\n",
            "4000/4000 [==============================] - 6s 2ms/step - loss: 0.5546 - accuracy: 0.8349 - val_loss: 0.6571 - val_accuracy: 0.8106\n",
            "Epoch 14/25\n",
            "4000/4000 [==============================] - 6s 2ms/step - loss: 0.5504 - accuracy: 0.8356 - val_loss: 0.6450 - val_accuracy: 0.8172\n",
            "Epoch 15/25\n",
            "4000/4000 [==============================] - 6s 2ms/step - loss: 0.5382 - accuracy: 0.8389 - val_loss: 0.6632 - val_accuracy: 0.8134\n",
            "Epoch 16/25\n",
            "4000/4000 [==============================] - 6s 2ms/step - loss: 0.5317 - accuracy: 0.8405 - val_loss: 0.6919 - val_accuracy: 0.8173\n",
            "Epoch 17/25\n",
            "4000/4000 [==============================] - 6s 2ms/step - loss: 0.5300 - accuracy: 0.8422 - val_loss: 0.6547 - val_accuracy: 0.8183\n",
            "Epoch 18/25\n",
            "4000/4000 [==============================] - 6s 2ms/step - loss: 0.5216 - accuracy: 0.8449 - val_loss: 0.6787 - val_accuracy: 0.8176\n",
            "Epoch 19/25\n",
            "4000/4000 [==============================] - 6s 2ms/step - loss: 0.5217 - accuracy: 0.8452 - val_loss: 0.6884 - val_accuracy: 0.8140\n",
            "Epoch 20/25\n",
            "4000/4000 [==============================] - 6s 2ms/step - loss: 0.5085 - accuracy: 0.8503 - val_loss: 0.6646 - val_accuracy: 0.8196\n",
            "Epoch 21/25\n",
            "4000/4000 [==============================] - 6s 2ms/step - loss: 0.5085 - accuracy: 0.8500 - val_loss: 0.6902 - val_accuracy: 0.8185\n",
            "Epoch 22/25\n",
            "4000/4000 [==============================] - 6s 2ms/step - loss: 0.5004 - accuracy: 0.8510 - val_loss: 0.6987 - val_accuracy: 0.8127\n",
            "Epoch 23/25\n",
            "4000/4000 [==============================] - 6s 2ms/step - loss: 0.4973 - accuracy: 0.8537 - val_loss: 0.7103 - val_accuracy: 0.8129\n",
            "Epoch 24/25\n",
            "4000/4000 [==============================] - 6s 2ms/step - loss: 0.4929 - accuracy: 0.8532 - val_loss: 0.6769 - val_accuracy: 0.8141\n",
            "Epoch 25/25\n",
            "4000/4000 [==============================] - 6s 2ms/step - loss: 0.4907 - accuracy: 0.8549 - val_loss: 0.6828 - val_accuracy: 0.8098\n"
          ],
          "name": "stdout"
        }
      ]
    },
    {
      "cell_type": "code",
      "metadata": {
        "id": "XBqPe8JeRdOC",
        "outputId": "6e2ad59c-6c86-48b6-e5d3-e0d843241727",
        "colab": {
          "base_uri": "https://localhost:8080/"
        }
      },
      "source": [
        "lr = 0.001\n",
        "model = create_model(lr = lr, opt = Adam)\n",
        "bt_itty_bitty = model.fit(\n",
        "    X_train, y_train, \n",
        "    epochs=25,\n",
        "    batch_size=8,\n",
        "    validation_data=(X_val,y_val))"
      ],
      "execution_count": 79,
      "outputs": [
        {
          "output_type": "stream",
          "text": [
            "Epoch 1/25\n",
            "8000/8000 [==============================] - 13s 2ms/step - loss: 2.2576 - accuracy: 0.2065 - val_loss: 1.8068 - val_accuracy: 0.3152\n",
            "Epoch 2/25\n",
            "8000/8000 [==============================] - 13s 2ms/step - loss: 1.6369 - accuracy: 0.3769 - val_loss: 1.3805 - val_accuracy: 0.5026\n",
            "Epoch 3/25\n",
            "8000/8000 [==============================] - 12s 2ms/step - loss: 1.2071 - accuracy: 0.5858 - val_loss: 1.0554 - val_accuracy: 0.6604\n",
            "Epoch 4/25\n",
            "8000/8000 [==============================] - 12s 2ms/step - loss: 1.0240 - accuracy: 0.6695 - val_loss: 0.9926 - val_accuracy: 0.6927\n",
            "Epoch 5/25\n",
            "8000/8000 [==============================] - 12s 2ms/step - loss: 0.9575 - accuracy: 0.7011 - val_loss: 0.9631 - val_accuracy: 0.7107\n",
            "Epoch 6/25\n",
            "8000/8000 [==============================] - 12s 2ms/step - loss: 0.9006 - accuracy: 0.7281 - val_loss: 0.8973 - val_accuracy: 0.7351\n",
            "Epoch 7/25\n",
            "8000/8000 [==============================] - 13s 2ms/step - loss: 0.8544 - accuracy: 0.7504 - val_loss: 0.9193 - val_accuracy: 0.7392\n",
            "Epoch 8/25\n",
            "8000/8000 [==============================] - 13s 2ms/step - loss: 0.8296 - accuracy: 0.7589 - val_loss: 0.8435 - val_accuracy: 0.7652\n",
            "Epoch 9/25\n",
            "8000/8000 [==============================] - 13s 2ms/step - loss: 0.8098 - accuracy: 0.7636 - val_loss: 0.8699 - val_accuracy: 0.7634\n",
            "Epoch 10/25\n",
            "8000/8000 [==============================] - 12s 2ms/step - loss: 0.7927 - accuracy: 0.7728 - val_loss: 0.8335 - val_accuracy: 0.7716\n",
            "Epoch 11/25\n",
            "8000/8000 [==============================] - 13s 2ms/step - loss: 0.7858 - accuracy: 0.7758 - val_loss: 0.8556 - val_accuracy: 0.7523\n",
            "Epoch 12/25\n",
            "8000/8000 [==============================] - 16s 2ms/step - loss: 0.7772 - accuracy: 0.7793 - val_loss: 0.8605 - val_accuracy: 0.7734\n",
            "Epoch 13/25\n",
            "8000/8000 [==============================] - 14s 2ms/step - loss: 0.7661 - accuracy: 0.7818 - val_loss: 0.8557 - val_accuracy: 0.7609\n",
            "Epoch 14/25\n",
            "8000/8000 [==============================] - 12s 2ms/step - loss: 0.7617 - accuracy: 0.7830 - val_loss: 0.8314 - val_accuracy: 0.7781\n",
            "Epoch 15/25\n",
            "8000/8000 [==============================] - 12s 2ms/step - loss: 0.7486 - accuracy: 0.7884 - val_loss: 0.8298 - val_accuracy: 0.7684\n",
            "Epoch 16/25\n",
            "8000/8000 [==============================] - 13s 2ms/step - loss: 0.7454 - accuracy: 0.7887 - val_loss: 0.8314 - val_accuracy: 0.7717\n",
            "Epoch 17/25\n",
            "8000/8000 [==============================] - 12s 2ms/step - loss: 0.7348 - accuracy: 0.7916 - val_loss: 0.8526 - val_accuracy: 0.7702\n",
            "Epoch 18/25\n",
            "8000/8000 [==============================] - 12s 2ms/step - loss: 0.7371 - accuracy: 0.7906 - val_loss: 0.8512 - val_accuracy: 0.7642\n",
            "Epoch 19/25\n",
            "8000/8000 [==============================] - 12s 2ms/step - loss: 0.7312 - accuracy: 0.7933 - val_loss: 0.8496 - val_accuracy: 0.7756\n",
            "Epoch 20/25\n",
            "8000/8000 [==============================] - 12s 2ms/step - loss: 0.7265 - accuracy: 0.7948 - val_loss: 0.8550 - val_accuracy: 0.7799\n",
            "Epoch 21/25\n",
            "8000/8000 [==============================] - 13s 2ms/step - loss: 0.7218 - accuracy: 0.7956 - val_loss: 0.8369 - val_accuracy: 0.7786\n",
            "Epoch 22/25\n",
            "8000/8000 [==============================] - 12s 2ms/step - loss: 0.7211 - accuracy: 0.7970 - val_loss: 0.8363 - val_accuracy: 0.7734\n",
            "Epoch 23/25\n",
            "8000/8000 [==============================] - 12s 2ms/step - loss: 0.7151 - accuracy: 0.7957 - val_loss: 0.8499 - val_accuracy: 0.7791\n",
            "Epoch 24/25\n",
            "8000/8000 [==============================] - 12s 2ms/step - loss: 0.7116 - accuracy: 0.7975 - val_loss: 0.8555 - val_accuracy: 0.7718\n",
            "Epoch 25/25\n",
            "8000/8000 [==============================] - 12s 2ms/step - loss: 0.7068 - accuracy: 0.7987 - val_loss: 0.8847 - val_accuracy: 0.7745\n"
          ],
          "name": "stdout"
        }
      ]
    },
    {
      "cell_type": "markdown",
      "metadata": {
        "id": "9zX3cVIZRueH"
      },
      "source": [
        "No improvement on overall model accuracy was found. Also, the fitting of these models were \n",
        "considerably slower than previous iterations. \n",
        "Lastly, I will try to increase the number of \n",
        "epochs to see what peak accuracy can be found with the best parameters found. "
      ]
    },
    {
      "cell_type": "code",
      "metadata": {
        "id": "DeajoKidU7cf",
        "outputId": "c35bb77f-8c0e-4ef6-b456-b904c8c16563",
        "colab": {
          "base_uri": "https://localhost:8080/"
        }
      },
      "source": [
        "lr = 0.001\n",
        "model = create_model(lr = lr, opt = Adam)\n",
        "opt_Adam = model.fit(\n",
        "    X_train, y_train, \n",
        "    epochs=25,\n",
        "    batch_size=32,\n",
        "    validation_data=(X_val,y_val))"
      ],
      "execution_count": 85,
      "outputs": [
        {
          "output_type": "stream",
          "text": [
            "Epoch 1/40\n",
            "2000/2000 [==============================] - 4s 2ms/step - loss: 2.2594 - accuracy: 0.2375 - val_loss: 1.8959 - val_accuracy: 0.2592\n",
            "Epoch 2/40\n",
            "2000/2000 [==============================] - 4s 2ms/step - loss: 1.7709 - accuracy: 0.3186 - val_loss: 1.6479 - val_accuracy: 0.3672\n",
            "Epoch 3/40\n",
            "2000/2000 [==============================] - 4s 2ms/step - loss: 1.4259 - accuracy: 0.4789 - val_loss: 1.1711 - val_accuracy: 0.6096\n",
            "Epoch 4/40\n",
            "2000/2000 [==============================] - 4s 2ms/step - loss: 1.0035 - accuracy: 0.6729 - val_loss: 0.8839 - val_accuracy: 0.7224\n",
            "Epoch 5/40\n",
            "2000/2000 [==============================] - 3s 2ms/step - loss: 0.8178 - accuracy: 0.7519 - val_loss: 0.7775 - val_accuracy: 0.7679\n",
            "Epoch 6/40\n",
            "2000/2000 [==============================] - 4s 2ms/step - loss: 0.7270 - accuracy: 0.7833 - val_loss: 0.7589 - val_accuracy: 0.7707\n",
            "Epoch 7/40\n",
            "2000/2000 [==============================] - 4s 2ms/step - loss: 0.6920 - accuracy: 0.7943 - val_loss: 0.7092 - val_accuracy: 0.7956\n",
            "Epoch 8/40\n",
            "2000/2000 [==============================] - 4s 2ms/step - loss: 0.6638 - accuracy: 0.8022 - val_loss: 0.6974 - val_accuracy: 0.8009\n",
            "Epoch 9/40\n",
            "2000/2000 [==============================] - 4s 2ms/step - loss: 0.6432 - accuracy: 0.8093 - val_loss: 0.7166 - val_accuracy: 0.7954\n",
            "Epoch 10/40\n",
            "2000/2000 [==============================] - 4s 2ms/step - loss: 0.6238 - accuracy: 0.8131 - val_loss: 0.7050 - val_accuracy: 0.8006\n",
            "Epoch 11/40\n",
            "2000/2000 [==============================] - 4s 2ms/step - loss: 0.6120 - accuracy: 0.8165 - val_loss: 0.7016 - val_accuracy: 0.7982\n",
            "Epoch 12/40\n",
            "2000/2000 [==============================] - 4s 2ms/step - loss: 0.6020 - accuracy: 0.8195 - val_loss: 0.6909 - val_accuracy: 0.8064\n",
            "Epoch 13/40\n",
            "2000/2000 [==============================] - 4s 2ms/step - loss: 0.5895 - accuracy: 0.8232 - val_loss: 0.6786 - val_accuracy: 0.8048\n",
            "Epoch 14/40\n",
            "2000/2000 [==============================] - 4s 2ms/step - loss: 0.5832 - accuracy: 0.8246 - val_loss: 0.7100 - val_accuracy: 0.7983\n",
            "Epoch 15/40\n",
            "2000/2000 [==============================] - 4s 2ms/step - loss: 0.5711 - accuracy: 0.8276 - val_loss: 0.6909 - val_accuracy: 0.8043\n",
            "Epoch 16/40\n",
            "2000/2000 [==============================] - 4s 2ms/step - loss: 0.5663 - accuracy: 0.8294 - val_loss: 0.6913 - val_accuracy: 0.8067\n",
            "Epoch 17/40\n",
            "2000/2000 [==============================] - 4s 2ms/step - loss: 0.5596 - accuracy: 0.8325 - val_loss: 0.6784 - val_accuracy: 0.8096\n",
            "Epoch 18/40\n",
            "2000/2000 [==============================] - 4s 2ms/step - loss: 0.5539 - accuracy: 0.8322 - val_loss: 0.6865 - val_accuracy: 0.8119\n",
            "Epoch 19/40\n",
            "2000/2000 [==============================] - 4s 2ms/step - loss: 0.5486 - accuracy: 0.8353 - val_loss: 0.7074 - val_accuracy: 0.8061\n",
            "Epoch 20/40\n",
            "2000/2000 [==============================] - 4s 2ms/step - loss: 0.5406 - accuracy: 0.8380 - val_loss: 0.7016 - val_accuracy: 0.8056\n",
            "Epoch 21/40\n",
            "2000/2000 [==============================] - 3s 2ms/step - loss: 0.5398 - accuracy: 0.8369 - val_loss: 0.7135 - val_accuracy: 0.8025\n",
            "Epoch 22/40\n",
            "2000/2000 [==============================] - 4s 2ms/step - loss: 0.5334 - accuracy: 0.8389 - val_loss: 0.6818 - val_accuracy: 0.8085\n",
            "Epoch 23/40\n",
            "2000/2000 [==============================] - 4s 2ms/step - loss: 0.5279 - accuracy: 0.8406 - val_loss: 0.6976 - val_accuracy: 0.8051\n",
            "Epoch 24/40\n",
            "2000/2000 [==============================] - 4s 2ms/step - loss: 0.5230 - accuracy: 0.8420 - val_loss: 0.6964 - val_accuracy: 0.8047\n",
            "Epoch 25/40\n",
            "2000/2000 [==============================] - 4s 2ms/step - loss: 0.5195 - accuracy: 0.8426 - val_loss: 0.6945 - val_accuracy: 0.8086\n",
            "Epoch 26/40\n",
            "2000/2000 [==============================] - 4s 2ms/step - loss: 0.5165 - accuracy: 0.8447 - val_loss: 0.7177 - val_accuracy: 0.8054\n",
            "Epoch 27/40\n",
            "2000/2000 [==============================] - 4s 2ms/step - loss: 0.5117 - accuracy: 0.8449 - val_loss: 0.7231 - val_accuracy: 0.8061\n",
            "Epoch 28/40\n",
            "2000/2000 [==============================] - 4s 2ms/step - loss: 0.5093 - accuracy: 0.8456 - val_loss: 0.6993 - val_accuracy: 0.8089\n",
            "Epoch 29/40\n",
            "2000/2000 [==============================] - 4s 2ms/step - loss: 0.5052 - accuracy: 0.8466 - val_loss: 0.6909 - val_accuracy: 0.8071\n",
            "Epoch 30/40\n",
            "2000/2000 [==============================] - 4s 2ms/step - loss: 0.5022 - accuracy: 0.8474 - val_loss: 0.7119 - val_accuracy: 0.8046\n",
            "Epoch 31/40\n",
            "2000/2000 [==============================] - 4s 2ms/step - loss: 0.5024 - accuracy: 0.8475 - val_loss: 0.7199 - val_accuracy: 0.8063\n",
            "Epoch 32/40\n",
            "2000/2000 [==============================] - 4s 2ms/step - loss: 0.4954 - accuracy: 0.8481 - val_loss: 0.7605 - val_accuracy: 0.8080\n",
            "Epoch 33/40\n",
            "2000/2000 [==============================] - 4s 2ms/step - loss: 0.4960 - accuracy: 0.8501 - val_loss: 0.7248 - val_accuracy: 0.8073\n",
            "Epoch 34/40\n",
            "2000/2000 [==============================] - 4s 2ms/step - loss: 0.4917 - accuracy: 0.8498 - val_loss: 0.7339 - val_accuracy: 0.8043\n",
            "Epoch 35/40\n",
            "2000/2000 [==============================] - 4s 2ms/step - loss: 0.4906 - accuracy: 0.8504 - val_loss: 0.7275 - val_accuracy: 0.8053\n",
            "Epoch 36/40\n",
            "2000/2000 [==============================] - 4s 2ms/step - loss: 0.4892 - accuracy: 0.8526 - val_loss: 0.7173 - val_accuracy: 0.8015\n",
            "Epoch 37/40\n",
            "2000/2000 [==============================] - 4s 2ms/step - loss: 0.4857 - accuracy: 0.8517 - val_loss: 0.7454 - val_accuracy: 0.8069\n",
            "Epoch 38/40\n",
            "2000/2000 [==============================] - 4s 2ms/step - loss: 0.4834 - accuracy: 0.8522 - val_loss: 0.7717 - val_accuracy: 0.8059\n",
            "Epoch 39/40\n",
            "2000/2000 [==============================] - 4s 2ms/step - loss: 0.4807 - accuracy: 0.8538 - val_loss: 0.7636 - val_accuracy: 0.8049\n",
            "Epoch 40/40\n",
            "2000/2000 [==============================] - 4s 2ms/step - loss: 0.4791 - accuracy: 0.8533 - val_loss: 0.7425 - val_accuracy: 0.8039\n"
          ],
          "name": "stdout"
        }
      ]
    },
    {
      "cell_type": "markdown",
      "metadata": {
        "id": "VlRdNwFV_CSE"
      },
      "source": [
        "No major improvements found. 30 epochs is slightly better than 25, but after 30 it pretty much treads water"
      ]
    },
    {
      "cell_type": "code",
      "metadata": {
        "id": "OIN1p5AfA_bm",
        "outputId": "1c566b99-1188-46b6-e879-9591e23dbb32",
        "colab": {
          "base_uri": "https://localhost:8080/"
        }
      },
      "source": [
        "model.summary()"
      ],
      "execution_count": 87,
      "outputs": [
        {
          "output_type": "stream",
          "text": [
            "Model: \"sequential_48\"\n",
            "_________________________________________________________________\n",
            "Layer (type)                 Output Shape              Param #   \n",
            "=================================================================\n",
            "dense_188 (Dense)            (None, 32)                25120     \n",
            "_________________________________________________________________\n",
            "dense_189 (Dense)            (None, 32)                1056      \n",
            "_________________________________________________________________\n",
            "dense_190 (Dense)            (None, 16)                528       \n",
            "_________________________________________________________________\n",
            "dense_191 (Dense)            (None, 10)                170       \n",
            "=================================================================\n",
            "Total params: 26,874\n",
            "Trainable params: 26,874\n",
            "Non-trainable params: 0\n",
            "_________________________________________________________________\n"
          ],
          "name": "stdout"
        }
      ]
    },
    {
      "cell_type": "code",
      "metadata": {
        "id": "3_4hZz0hBtVy",
        "outputId": "a2746eb0-ae13-4216-b6e8-19f45cb64507",
        "colab": {
          "base_uri": "https://localhost:8080/",
          "height": 284
        }
      },
      "source": [
        "df = pd.DataFrame.from_records(opt_Adam.history)\n",
        "df['epoch'] = [i for i in range(df.shape[0])]\n",
        "sns.set(style=\"darkgrid\")\n",
        "ax = sns.lineplot(x='epoch', y='accuracy', data=df)\n",
        "ax = sns.lineplot(x='epoch', y='loss', data=df)\n",
        "plt.show()"
      ],
      "execution_count": 89,
      "outputs": [
        {
          "output_type": "display_data",
          "data": {
            "image/png": "[encoded data removed]",
            "text/plain": [
              "<Figure size 432x288 with 1 Axes>"
            ]
          },
          "metadata": {
            "tags": []
          }
        }
      ]
    },
    {
      "cell_type": "markdown",
      "metadata": {
        "id": "t4nI4ara_CNH"
      },
      "source": [
        ""
      ]
    },
    {
      "cell_type": "markdown",
      "metadata": {
        "id": "ydAqeY9S8uHA"
      },
      "source": [
        "### Additional Written Tasks\n",
        "\n",
        "1. Describe the process of backpropagation in your own words: \n",
        "```\n",
        "As part of the neural network optimization process, the model wil run through forwards,\n",
        " evaluate the errors, and step backwards through the network adjusting the weights \n",
        " between the neurons incrementally to reduce the error for the next run until the best set\n",
        "  of wieghts is found. each run forwards and backwards making adjustments to the network is \n",
        "  known as an 'epoch'. The amount of change performed on each weight is independant of the\n",
        "  others. The entire process of tuning these weights is known as 'backpropagation'.\n",
        "```\n",
        "\n"
      ]
    },
    {
      "cell_type": "markdown",
      "metadata": {
        "id": "FwlRJSfBlCvy"
      },
      "source": [
        "## Stretch Goals: \n",
        "\n",
        "- Implement GridSearch on anyone of the experiments\n",
        "- On the learning rate experiments, implement [EarlyStopping](https://www.tensorflow.org/api_docs/python/tf/keras/callbacks/EarlyStopping)\n",
        "- Review material on the math behind gradient descent: \n",
        "\n",
        "  - Gradient Descent\n",
        "    - Gradient Descent, Step-by-Step  by StatQuest w/ Josh Starmer. This will help you understand the gradient descent based optimization that happens underneath the hood of neural networks. It uses a non-neural network example, which I believe is a gentler introduction. You will hear me refer to this technique as \"vanilla\" gradient descent. \n",
        "    - Stochastic Gradient Descent, Clearly Explained!!! by StatQuest w/ Josh Starmer. This builds on the techniques in the previous video.  This technique is the one that is actually implemented inside modern 'nets. \n",
        "These are great resources to help you understand tomorrow's material at a deeper level. I highly recommend watching these ahead of tomorrow.\n",
        "\n",
        "  - Background Math\n",
        "    - Dot products and duality by 3Blue1Brown. Explains the core linear algebra operation happening in today's perceptron.\n",
        "The paradox of the derivative by 3Blue1Brown. Does a great job explaining a derivative. \n",
        "    - Visualizing the chain rule and product rule by 3Blue1Brown. Explains the black magic that happens within Stochastic Gradient Descent. \n",
        "These math resources are very much optional. They can be very heady, but I encourage you to explore. Your understanding of neural networks will greatly increase if you understand this math background.\n",
        "\n",
        "\n"
      ]
    }
  ]
}