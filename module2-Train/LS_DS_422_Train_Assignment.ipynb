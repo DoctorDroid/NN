{
  "nbformat": 4,
  "nbformat_minor": 0,
  "metadata": {
    "accelerator": "GPU",
    "colab": {
      "name": "LS_DS_422_Train_Assignment.ipynb",
      "provenance": [],
      "collapsed_sections": []
    },
    "kernelspec": {
      "display_name": "Python 3",
      "language": "python",
      "name": "python3"
    },
    "language_info": {
      "codemirror_mode": {
        "name": "ipython",
        "version": 3
      },
      "file_extension": ".py",
      "mimetype": "text/x-python",
      "name": "python",
      "nbconvert_exporter": "python",
      "pygments_lexer": "ipython3",
      "version": "3.7.3"
    },
    "nteract": {
      "version": "0.22.4"
    }
  },
  "cells": [
    {
      "cell_type": "markdown",
      "metadata": {
        "id": "NGGrt9EYlCqY"
      },
      "source": [
        "<img align=\"left\" src=\"https://lever-client-logos.s3.amazonaws.com/864372b1-534c-480e-acd5-9711f850815c-1524247202159.png\" width=200>\n",
        "<br></br>\n",
        "<br></br>\n",
        "\n",
        "# Train Practice\n",
        "\n",
        "## *Data Science Unit 4 Sprint 2 Assignment 2*\n",
        "\n",
        "Continue to use TensorFlow Keras & a sample of the [Quickdraw dataset](https://github.com/googlecreativelab/quickdraw-dataset) to build a sketch classification model. The dataset has been sampled to only 10 classes and 10000 observations per class. Please build a baseline classification model then run a few experiments with different optimizers and learning rates. \n",
        "\n",
        "*Don't forgot to switch to GPU on Colab!*"
      ]
    },
    {
      "cell_type": "markdown",
      "metadata": {
        "id": "uAkz1OqHOKsU"
      },
      "source": [
        "# Imports"
      ]
    },
    {
      "cell_type": "code",
      "metadata": {
        "id": "Oq584L6ZSne9"
      },
      "source": [
        "import numpy as np\n",
        "import seaborn as sns\n",
        "import pandas as pd\n",
        "import matplotlib.pyplot as plt\n",
        "\n",
        "from sklearn.model_selection import train_test_split\n",
        "from tensorflow.keras import Sequential\n",
        "from tensorflow.keras.layers import Dense\n",
        "from tensorflow.keras.optimizers import SGD, Adagrad, RMSprop, Ftrl, Adam\n",
        "\n"
      ],
      "execution_count": 1,
      "outputs": []
    },
    {
      "cell_type": "markdown",
      "metadata": {
        "id": "ptJ2b3wk62Ud"
      },
      "source": [
        "### Write a function to load your data\n",
        "\n",
        "Wrap yesterday's preprocessing steps into a function that returns four items:\n",
        "* X_train\n",
        "* y_train\n",
        "* X_test\n",
        "* y_test\n",
        "\n",
        "Your function should accept a `path` to the data as a argument."
      ]
    },
    {
      "cell_type": "markdown",
      "metadata": {
        "id": "IskidCsfOTxb"
      },
      "source": [
        "#### Train_Validate_Test split function for .npz (zip file)"
      ]
    },
    {
      "cell_type": "code",
      "metadata": {
        "id": "nJsIsrvp7O3e",
        "outputId": "1171ae6d-e902-4bd2-e571-c161d8d115e9",
        "colab": {
          "base_uri": "https://localhost:8080/"
        }
      },
      "source": [
        "def split_zip_df(path):\n",
        "  data = np.load(path)\n",
        "  features = 'arr_0'\n",
        "  target = 'arr_1'\n",
        "  X = data[features]\n",
        "  y = data[target]\n",
        "  X_train, X_test, y_train, y_test = train_test_split(\n",
        "      X, y, test_size=0.20,\n",
        "      stratify= y,\n",
        "      random_state=17)\n",
        "  X_train, X_val, y_train, y_val = train_test_split(\n",
        "      X_train, y_train, test_size=0.20,\n",
        "      stratify= y_train,\n",
        "      random_state=17)\n",
        "\n",
        "  return X_train, y_train, X_val, y_val, X_test, y_test\n",
        "\n",
        "  \n",
        "X_train, y_train, X_val, y_val, X_test, y_test = split_zip_df('quickdraw10.npz')\n",
        "\n",
        "X_train.shape, y_train.shape, X_val.shape, y_val.shape, X_test.shape, y_test.shape"
      ],
      "execution_count": 2,
      "outputs": [
        {
          "output_type": "execute_result",
          "data": {
            "text/plain": [
              "((64000, 784), (64000,), (16000, 784), (16000,), (20000, 784), (20000,))"
            ]
          },
          "metadata": {
            "tags": []
          },
          "execution_count": 2
        }
      ]
    },
    {
      "cell_type": "markdown",
      "metadata": {
        "id": "l-6PxI6H5__2"
      },
      "source": [
        "### Write a Model Function\n",
        "Using your model from yesterday, write a function called `create_model` which returns a compiled TensorFlow Keras Sequential Model suitable for classifying the QuickDraw-10 dataset. Include parameters for the following: \n",
        "* Learning Rate\n",
        "* Optimizer"
      ]
    },
    {
      "cell_type": "code",
      "metadata": {
        "cellView": "code",
        "id": "nEREYT-3wI1f"
      },
      "source": [
        "def create_model(lr, opt): #lr = Learning rate, opt = optimizer\n",
        "  model = Sequential([\n",
        "                      Dense(32, activation='relu', input_dim=784),\n",
        "                      Dense(32, activation='relu'),\n",
        "                      Dense(16, activation='relu'),\n",
        "                      Dense(10, activation='softmax')\n",
        "  ])\n",
        "  opt = opt(learning_rate = lr)\n",
        "  model.compile(optimizer=opt,\n",
        "                loss='sparse_categorical_crossentropy',\n",
        "                metrics=['accuracy'])\n",
        "  return model"
      ],
      "execution_count": 3,
      "outputs": []
    },
    {
      "cell_type": "markdown",
      "metadata": {
        "id": "f0pCkh8C7eGL"
      },
      "source": [
        "### Experiment with Batch Size\n",
        "* Run 5 experiments with various batch sizes of your choice. \n",
        "* Visualize the results\n",
        "* Write up an analysis of the experiments and select the \"best\" performing model among your experiments. Make sure to compare against your model's performance yesterday. "
      ]
    },
    {
      "cell_type": "code",
      "metadata": {
        "id": "USXjs7Hk71Hy",
        "outputId": "ae2280dd-6712-476c-a505-4278575e1875",
        "colab": {
          "base_uri": "https://localhost:8080/"
        }
      },
      "source": [
        "model = create_model(lr = 0.01, opt = SGD)\n",
        "bt_largest = model.fit(\n",
        "    X_train, y_train, \n",
        "    epochs=25,\n",
        "    batch_size=512,\n",
        "    validation_data=(X_val,y_val))\n"
      ],
      "execution_count": 4,
      "outputs": [
        {
          "output_type": "stream",
          "text": [
            "Epoch 1/25\n",
            "125/125 [==============================] - 0s 4ms/step - loss: 23.7900 - accuracy: 0.0990 - val_loss: 2.3427 - val_accuracy: 0.0991\n",
            "Epoch 2/25\n",
            "125/125 [==============================] - 0s 3ms/step - loss: 2.3013 - accuracy: 0.0980 - val_loss: 2.3237 - val_accuracy: 0.0999\n",
            "Epoch 3/25\n",
            "125/125 [==============================] - 0s 3ms/step - loss: 2.1930 - accuracy: 0.1588 - val_loss: 2.1697 - val_accuracy: 0.1829\n",
            "Epoch 4/25\n",
            "125/125 [==============================] - 0s 3ms/step - loss: 2.1304 - accuracy: 0.1848 - val_loss: 2.1189 - val_accuracy: 0.1934\n",
            "Epoch 5/25\n",
            "125/125 [==============================] - 0s 3ms/step - loss: 2.1012 - accuracy: 0.1881 - val_loss: 2.1005 - val_accuracy: 0.1935\n",
            "Epoch 6/25\n",
            "125/125 [==============================] - 0s 3ms/step - loss: 2.0480 - accuracy: 0.1945 - val_loss: 2.0625 - val_accuracy: 0.1901\n",
            "Epoch 7/25\n",
            "125/125 [==============================] - 0s 3ms/step - loss: 2.0203 - accuracy: 0.1978 - val_loss: 2.0478 - val_accuracy: 0.1902\n",
            "Epoch 8/25\n",
            "125/125 [==============================] - 0s 3ms/step - loss: 2.0067 - accuracy: 0.1978 - val_loss: 2.0374 - val_accuracy: 0.1901\n",
            "Epoch 9/25\n",
            "125/125 [==============================] - 0s 3ms/step - loss: 1.9966 - accuracy: 0.1979 - val_loss: 2.0288 - val_accuracy: 0.2015\n",
            "Epoch 10/25\n",
            "125/125 [==============================] - 0s 3ms/step - loss: 1.9884 - accuracy: 0.2000 - val_loss: 2.0220 - val_accuracy: 0.1953\n",
            "Epoch 11/25\n",
            "125/125 [==============================] - 0s 3ms/step - loss: 1.9821 - accuracy: 0.2027 - val_loss: 2.0172 - val_accuracy: 0.1939\n",
            "Epoch 12/25\n",
            "125/125 [==============================] - 0s 3ms/step - loss: 1.9748 - accuracy: 0.2032 - val_loss: 2.0129 - val_accuracy: 0.2149\n",
            "Epoch 13/25\n",
            "125/125 [==============================] - 0s 3ms/step - loss: 1.9688 - accuracy: 0.2060 - val_loss: 2.0091 - val_accuracy: 0.1973\n",
            "Epoch 14/25\n",
            "125/125 [==============================] - 0s 3ms/step - loss: 1.9637 - accuracy: 0.2077 - val_loss: 2.0088 - val_accuracy: 0.2409\n",
            "Epoch 15/25\n",
            "125/125 [==============================] - 0s 3ms/step - loss: 1.9588 - accuracy: 0.2108 - val_loss: 2.0016 - val_accuracy: 0.2025\n",
            "Epoch 16/25\n",
            "125/125 [==============================] - 0s 3ms/step - loss: 1.9554 - accuracy: 0.2127 - val_loss: 1.9974 - val_accuracy: 0.2243\n",
            "Epoch 17/25\n",
            "125/125 [==============================] - 0s 3ms/step - loss: 1.9507 - accuracy: 0.2146 - val_loss: 1.9965 - val_accuracy: 0.2420\n",
            "Epoch 18/25\n",
            "125/125 [==============================] - 0s 3ms/step - loss: 1.9472 - accuracy: 0.2176 - val_loss: 1.9922 - val_accuracy: 0.2046\n",
            "Epoch 19/25\n",
            "125/125 [==============================] - 0s 3ms/step - loss: 1.9442 - accuracy: 0.2189 - val_loss: 1.9886 - val_accuracy: 0.2356\n",
            "Epoch 20/25\n",
            "125/125 [==============================] - 0s 3ms/step - loss: 1.9410 - accuracy: 0.2203 - val_loss: 1.9876 - val_accuracy: 0.2427\n",
            "Epoch 21/25\n",
            "125/125 [==============================] - 0s 3ms/step - loss: 1.9390 - accuracy: 0.2234 - val_loss: 1.9901 - val_accuracy: 0.1992\n",
            "Epoch 22/25\n",
            "125/125 [==============================] - 0s 3ms/step - loss: 1.9352 - accuracy: 0.2255 - val_loss: 1.9819 - val_accuracy: 0.2299\n",
            "Epoch 23/25\n",
            "125/125 [==============================] - 0s 3ms/step - loss: 1.9352 - accuracy: 0.2243 - val_loss: 1.9795 - val_accuracy: 0.2212\n",
            "Epoch 24/25\n",
            "125/125 [==============================] - 0s 3ms/step - loss: 1.9313 - accuracy: 0.2272 - val_loss: 1.9832 - val_accuracy: 0.2434\n",
            "Epoch 25/25\n",
            "125/125 [==============================] - 0s 3ms/step - loss: 1.9300 - accuracy: 0.2304 - val_loss: 1.9856 - val_accuracy: 0.2074\n"
          ],
          "name": "stdout"
        }
      ]
    },
    {
      "cell_type": "code",
      "metadata": {
        "id": "4mJR0Dqakr9b",
        "outputId": "8bb527c7-6a80-4d9d-eb9c-49ba55ae0c72",
        "colab": {
          "base_uri": "https://localhost:8080/"
        }
      },
      "source": [
        "model = create_model(lr = 0.01, opt = SGD)\n",
        "bt_large = model.fit(\n",
        "    X_train, y_train, \n",
        "    epochs=25,\n",
        "    batch_size=256,\n",
        "    validation_data=(X_val,y_val))"
      ],
      "execution_count": 30,
      "outputs": [
        {
          "output_type": "stream",
          "text": [
            "Epoch 1/25\n",
            "250/250 [==============================] - 1s 3ms/step - loss: 6.7108 - accuracy: 0.0979 - val_loss: 2.3031 - val_accuracy: 0.1002\n",
            "Epoch 2/25\n",
            "250/250 [==============================] - 1s 2ms/step - loss: 2.3028 - accuracy: 0.0969 - val_loss: 2.3027 - val_accuracy: 0.1004\n",
            "Epoch 3/25\n",
            "250/250 [==============================] - 1s 2ms/step - loss: 2.3023 - accuracy: 0.0978 - val_loss: 2.3023 - val_accuracy: 0.1006\n",
            "Epoch 4/25\n",
            "250/250 [==============================] - 1s 2ms/step - loss: 2.3006 - accuracy: 0.1005 - val_loss: 2.2971 - val_accuracy: 0.1044\n",
            "Epoch 5/25\n",
            "250/250 [==============================] - 1s 2ms/step - loss: 2.2855 - accuracy: 0.1131 - val_loss: 2.2623 - val_accuracy: 0.1356\n",
            "Epoch 6/25\n",
            "250/250 [==============================] - 1s 2ms/step - loss: 2.2241 - accuracy: 0.1547 - val_loss: 2.1885 - val_accuracy: 0.1706\n",
            "Epoch 7/25\n",
            "250/250 [==============================] - 1s 2ms/step - loss: 2.1515 - accuracy: 0.1787 - val_loss: 2.1187 - val_accuracy: 0.1848\n",
            "Epoch 8/25\n",
            "250/250 [==============================] - 1s 2ms/step - loss: 2.0925 - accuracy: 0.1918 - val_loss: 2.0795 - val_accuracy: 0.1932\n",
            "Epoch 9/25\n",
            "250/250 [==============================] - 1s 2ms/step - loss: 2.0615 - accuracy: 0.1947 - val_loss: 2.0490 - val_accuracy: 0.2011\n",
            "Epoch 10/25\n",
            "250/250 [==============================] - 1s 2ms/step - loss: 2.0116 - accuracy: 0.1951 - val_loss: 1.9016 - val_accuracy: 0.2615\n",
            "Epoch 11/25\n",
            "250/250 [==============================] - 1s 2ms/step - loss: 1.8696 - accuracy: 0.2718 - val_loss: 1.8472 - val_accuracy: 0.2680\n",
            "Epoch 12/25\n",
            "250/250 [==============================] - 1s 2ms/step - loss: 1.8352 - accuracy: 0.2757 - val_loss: 1.8284 - val_accuracy: 0.2974\n",
            "Epoch 13/25\n",
            "250/250 [==============================] - 1s 2ms/step - loss: 1.8131 - accuracy: 0.2806 - val_loss: 1.8079 - val_accuracy: 0.2763\n",
            "Epoch 14/25\n",
            "250/250 [==============================] - 1s 2ms/step - loss: 1.7972 - accuracy: 0.2814 - val_loss: 1.7992 - val_accuracy: 0.2707\n",
            "Epoch 15/25\n",
            "250/250 [==============================] - 1s 2ms/step - loss: 1.7808 - accuracy: 0.2846 - val_loss: 1.7746 - val_accuracy: 0.2826\n",
            "Epoch 16/25\n",
            "250/250 [==============================] - 1s 2ms/step - loss: 1.7661 - accuracy: 0.2863 - val_loss: 1.7601 - val_accuracy: 0.2856\n",
            "Epoch 17/25\n",
            "250/250 [==============================] - 1s 2ms/step - loss: 1.7537 - accuracy: 0.2926 - val_loss: 1.7469 - val_accuracy: 0.3014\n",
            "Epoch 18/25\n",
            "250/250 [==============================] - 1s 2ms/step - loss: 1.7430 - accuracy: 0.2983 - val_loss: 1.7397 - val_accuracy: 0.2994\n",
            "Epoch 19/25\n",
            "250/250 [==============================] - 1s 2ms/step - loss: 1.7332 - accuracy: 0.3012 - val_loss: 1.7433 - val_accuracy: 0.2881\n",
            "Epoch 20/25\n",
            "250/250 [==============================] - 1s 2ms/step - loss: 1.7178 - accuracy: 0.3101 - val_loss: 1.7155 - val_accuracy: 0.3150\n",
            "Epoch 21/25\n",
            "250/250 [==============================] - 1s 2ms/step - loss: 1.7036 - accuracy: 0.3121 - val_loss: 1.7020 - val_accuracy: 0.3108\n",
            "Epoch 22/25\n",
            "250/250 [==============================] - 1s 2ms/step - loss: 1.6936 - accuracy: 0.3157 - val_loss: 1.6974 - val_accuracy: 0.3189\n",
            "Epoch 23/25\n",
            "250/250 [==============================] - 1s 2ms/step - loss: 1.6836 - accuracy: 0.3214 - val_loss: 1.6874 - val_accuracy: 0.3228\n",
            "Epoch 24/25\n",
            "250/250 [==============================] - 1s 2ms/step - loss: 1.6817 - accuracy: 0.3216 - val_loss: 1.6869 - val_accuracy: 0.3226\n",
            "Epoch 25/25\n",
            "250/250 [==============================] - 1s 2ms/step - loss: 1.6707 - accuracy: 0.3290 - val_loss: 1.6785 - val_accuracy: 0.3364\n"
          ],
          "name": "stdout"
        }
      ]
    },
    {
      "cell_type": "code",
      "metadata": {
        "id": "h9XhNrlyksS7",
        "outputId": "c71c5779-b166-4a3d-b836-79b59aa0f58c",
        "colab": {
          "base_uri": "https://localhost:8080/"
        }
      },
      "source": [
        "model = create_model(lr = 0.01, opt = SGD)\n",
        "bt_default = model.fit(\n",
        "    X_train, y_train, \n",
        "    epochs=25,\n",
        "    batch_size=128,\n",
        "    validation_data=(X_val,y_val))"
      ],
      "execution_count": 6,
      "outputs": [
        {
          "output_type": "stream",
          "text": [
            "Epoch 1/25\n",
            "500/500 [==============================] - 1s 2ms/step - loss: 5.1392 - accuracy: 0.1117 - val_loss: 2.2979 - val_accuracy: 0.1298\n",
            "Epoch 2/25\n",
            "500/500 [==============================] - 1s 2ms/step - loss: 2.2930 - accuracy: 0.1334 - val_loss: 2.2881 - val_accuracy: 0.1398\n",
            "Epoch 3/25\n",
            "500/500 [==============================] - 1s 2ms/step - loss: 2.1849 - accuracy: 0.1916 - val_loss: 2.0636 - val_accuracy: 0.2412\n",
            "Epoch 4/25\n",
            "500/500 [==============================] - 1s 2ms/step - loss: 1.9921 - accuracy: 0.2679 - val_loss: 1.8209 - val_accuracy: 0.3278\n",
            "Epoch 5/25\n",
            "500/500 [==============================] - 1s 2ms/step - loss: 1.7851 - accuracy: 0.3379 - val_loss: 1.7311 - val_accuracy: 0.3461\n",
            "Epoch 6/25\n",
            "500/500 [==============================] - 1s 2ms/step - loss: 1.7044 - accuracy: 0.3556 - val_loss: 1.6639 - val_accuracy: 0.3689\n",
            "Epoch 7/25\n",
            "500/500 [==============================] - 1s 2ms/step - loss: 1.6529 - accuracy: 0.3706 - val_loss: 1.6608 - val_accuracy: 0.3557\n",
            "Epoch 8/25\n",
            "500/500 [==============================] - 1s 2ms/step - loss: 1.6177 - accuracy: 0.3840 - val_loss: 1.6085 - val_accuracy: 0.3906\n",
            "Epoch 9/25\n",
            "500/500 [==============================] - 1s 2ms/step - loss: 1.5819 - accuracy: 0.3939 - val_loss: 1.5565 - val_accuracy: 0.3993\n",
            "Epoch 10/25\n",
            "500/500 [==============================] - 1s 2ms/step - loss: 1.5500 - accuracy: 0.4106 - val_loss: 1.5345 - val_accuracy: 0.4181\n",
            "Epoch 11/25\n",
            "500/500 [==============================] - 1s 2ms/step - loss: 1.5307 - accuracy: 0.4196 - val_loss: 1.5190 - val_accuracy: 0.4238\n",
            "Epoch 12/25\n",
            "500/500 [==============================] - 1s 2ms/step - loss: 1.5202 - accuracy: 0.4187 - val_loss: 1.5589 - val_accuracy: 0.3844\n",
            "Epoch 13/25\n",
            "500/500 [==============================] - 1s 2ms/step - loss: 1.5144 - accuracy: 0.4191 - val_loss: 1.4943 - val_accuracy: 0.4349\n",
            "Epoch 14/25\n",
            "500/500 [==============================] - 1s 2ms/step - loss: 1.4852 - accuracy: 0.4322 - val_loss: 1.5243 - val_accuracy: 0.4236\n",
            "Epoch 15/25\n",
            "500/500 [==============================] - 1s 2ms/step - loss: 1.4738 - accuracy: 0.4365 - val_loss: 1.4785 - val_accuracy: 0.4358\n",
            "Epoch 16/25\n",
            "500/500 [==============================] - 1s 2ms/step - loss: 1.4505 - accuracy: 0.4536 - val_loss: 1.4359 - val_accuracy: 0.4798\n",
            "Epoch 17/25\n",
            "500/500 [==============================] - 1s 2ms/step - loss: 1.3767 - accuracy: 0.4978 - val_loss: 1.3924 - val_accuracy: 0.5058\n",
            "Epoch 18/25\n",
            "500/500 [==============================] - 1s 2ms/step - loss: 1.3178 - accuracy: 0.5179 - val_loss: 1.3833 - val_accuracy: 0.5209\n",
            "Epoch 19/25\n",
            "500/500 [==============================] - 1s 2ms/step - loss: 1.2597 - accuracy: 0.5261 - val_loss: 1.2408 - val_accuracy: 0.5317\n",
            "Epoch 20/25\n",
            "500/500 [==============================] - 1s 2ms/step - loss: 1.2604 - accuracy: 0.5239 - val_loss: 1.5151 - val_accuracy: 0.4759\n",
            "Epoch 21/25\n",
            "500/500 [==============================] - 1s 2ms/step - loss: 1.2433 - accuracy: 0.5238 - val_loss: 1.2051 - val_accuracy: 0.5304\n",
            "Epoch 22/25\n",
            "500/500 [==============================] - 1s 2ms/step - loss: 1.1894 - accuracy: 0.5318 - val_loss: 1.1864 - val_accuracy: 0.5334\n",
            "Epoch 23/25\n",
            "500/500 [==============================] - 1s 2ms/step - loss: 1.4494 - accuracy: 0.4751 - val_loss: 1.3719 - val_accuracy: 0.4848\n",
            "Epoch 24/25\n",
            "500/500 [==============================] - 1s 2ms/step - loss: 1.3361 - accuracy: 0.4870 - val_loss: 1.3038 - val_accuracy: 0.5052\n",
            "Epoch 25/25\n",
            "500/500 [==============================] - 1s 2ms/step - loss: 1.2718 - accuracy: 0.5073 - val_loss: 1.2789 - val_accuracy: 0.5060\n"
          ],
          "name": "stdout"
        }
      ]
    },
    {
      "cell_type": "code",
      "metadata": {
        "id": "0nqUCmulksBX",
        "outputId": "63be2dd9-b566-4b20-b56e-6043d354fd0f",
        "colab": {
          "base_uri": "https://localhost:8080/"
        }
      },
      "source": [
        "model = create_model(lr = 0.01, opt = SGD)\n",
        "bt_small = model.fit(\n",
        "    X_train, y_train, \n",
        "    epochs=25,\n",
        "    batch_size=64,\n",
        "    validation_data=(X_val,y_val))"
      ],
      "execution_count": 7,
      "outputs": [
        {
          "output_type": "stream",
          "text": [
            "Epoch 1/25\n",
            "1000/1000 [==============================] - 2s 2ms/step - loss: 3.1309 - accuracy: 0.1080 - val_loss: 2.2597 - val_accuracy: 0.1254\n",
            "Epoch 2/25\n",
            "1000/1000 [==============================] - 2s 2ms/step - loss: 2.2047 - accuracy: 0.1531 - val_loss: 2.0481 - val_accuracy: 0.2296\n",
            "Epoch 3/25\n",
            "1000/1000 [==============================] - 2s 2ms/step - loss: 1.9567 - accuracy: 0.2572 - val_loss: 1.8926 - val_accuracy: 0.2743\n",
            "Epoch 4/25\n",
            "1000/1000 [==============================] - 2s 2ms/step - loss: 1.6458 - accuracy: 0.3879 - val_loss: 1.4187 - val_accuracy: 0.5087\n",
            "Epoch 5/25\n",
            "1000/1000 [==============================] - 2s 2ms/step - loss: 1.3194 - accuracy: 0.5224 - val_loss: 1.2741 - val_accuracy: 0.5344\n",
            "Epoch 6/25\n",
            "1000/1000 [==============================] - 2s 2ms/step - loss: 1.2158 - accuracy: 0.5694 - val_loss: 1.1975 - val_accuracy: 0.6095\n",
            "Epoch 7/25\n",
            "1000/1000 [==============================] - 2s 2ms/step - loss: 1.1506 - accuracy: 0.6050 - val_loss: 1.1534 - val_accuracy: 0.6009\n",
            "Epoch 8/25\n",
            "1000/1000 [==============================] - 2s 2ms/step - loss: 1.0983 - accuracy: 0.6276 - val_loss: 1.0861 - val_accuracy: 0.6278\n",
            "Epoch 9/25\n",
            "1000/1000 [==============================] - 2s 2ms/step - loss: 1.0466 - accuracy: 0.6537 - val_loss: 1.0315 - val_accuracy: 0.6722\n",
            "Epoch 10/25\n",
            "1000/1000 [==============================] - 2s 2ms/step - loss: 0.9854 - accuracy: 0.6858 - val_loss: 0.9860 - val_accuracy: 0.6961\n",
            "Epoch 11/25\n",
            "1000/1000 [==============================] - 2s 2ms/step - loss: 1.0042 - accuracy: 0.6837 - val_loss: 1.0371 - val_accuracy: 0.6518\n",
            "Epoch 12/25\n",
            "1000/1000 [==============================] - 2s 2ms/step - loss: 0.9737 - accuracy: 0.6761 - val_loss: 0.9545 - val_accuracy: 0.6915\n",
            "Epoch 13/25\n",
            "1000/1000 [==============================] - 2s 2ms/step - loss: 0.9216 - accuracy: 0.6965 - val_loss: 0.9384 - val_accuracy: 0.6914\n",
            "Epoch 14/25\n",
            "1000/1000 [==============================] - 2s 2ms/step - loss: 0.9013 - accuracy: 0.7089 - val_loss: 0.9012 - val_accuracy: 0.7106\n",
            "Epoch 15/25\n",
            "1000/1000 [==============================] - 2s 2ms/step - loss: 0.9213 - accuracy: 0.7025 - val_loss: 0.9383 - val_accuracy: 0.6901\n",
            "Epoch 16/25\n",
            "1000/1000 [==============================] - 2s 2ms/step - loss: 0.8935 - accuracy: 0.7102 - val_loss: 0.9071 - val_accuracy: 0.7154\n",
            "Epoch 17/25\n",
            "1000/1000 [==============================] - 2s 2ms/step - loss: 0.8652 - accuracy: 0.7206 - val_loss: 0.8913 - val_accuracy: 0.7130\n",
            "Epoch 18/25\n",
            "1000/1000 [==============================] - 2s 2ms/step - loss: 0.8490 - accuracy: 0.7285 - val_loss: 0.8898 - val_accuracy: 0.7123\n",
            "Epoch 19/25\n",
            "1000/1000 [==============================] - 2s 2ms/step - loss: 0.8320 - accuracy: 0.7341 - val_loss: 0.8543 - val_accuracy: 0.7305\n",
            "Epoch 20/25\n",
            "1000/1000 [==============================] - 2s 2ms/step - loss: 0.8216 - accuracy: 0.7380 - val_loss: 0.8541 - val_accuracy: 0.7344\n",
            "Epoch 21/25\n",
            "1000/1000 [==============================] - 2s 2ms/step - loss: 0.8153 - accuracy: 0.7418 - val_loss: 0.8438 - val_accuracy: 0.7430\n",
            "Epoch 22/25\n",
            "1000/1000 [==============================] - 2s 2ms/step - loss: 0.8063 - accuracy: 0.7465 - val_loss: 0.8560 - val_accuracy: 0.7358\n",
            "Epoch 23/25\n",
            "1000/1000 [==============================] - 2s 2ms/step - loss: 0.7972 - accuracy: 0.7495 - val_loss: 0.8498 - val_accuracy: 0.7371\n",
            "Epoch 24/25\n",
            "1000/1000 [==============================] - 2s 2ms/step - loss: 0.7906 - accuracy: 0.7529 - val_loss: 0.8423 - val_accuracy: 0.7417\n",
            "Epoch 25/25\n",
            "1000/1000 [==============================] - 2s 2ms/step - loss: 0.7834 - accuracy: 0.7545 - val_loss: 0.8310 - val_accuracy: 0.7489\n"
          ],
          "name": "stdout"
        }
      ]
    },
    {
      "cell_type": "code",
      "metadata": {
        "id": "GOVCeplpkr5K",
        "outputId": "2e666b92-3e68-4613-c070-7a5f9a353d73",
        "colab": {
          "base_uri": "https://localhost:8080/"
        }
      },
      "source": [
        "lr = 0.01\n",
        "model = create_model(lr = lr, opt = SGD)\n",
        "bt_smallest = model.fit(\n",
        "    X_train, y_train, \n",
        "    epochs=25,\n",
        "    batch_size=32,\n",
        "    validation_data=(X_val,y_val))"
      ],
      "execution_count": 32,
      "outputs": [
        {
          "output_type": "stream",
          "text": [
            "Epoch 1/25\n",
            "2000/2000 [==============================] - 4s 2ms/step - loss: 2.7200 - accuracy: 0.1193 - val_loss: 2.2830 - val_accuracy: 0.1114\n",
            "Epoch 2/25\n",
            "2000/2000 [==============================] - 4s 2ms/step - loss: 2.2527 - accuracy: 0.1297 - val_loss: 2.2065 - val_accuracy: 0.1480\n",
            "Epoch 3/25\n",
            "2000/2000 [==============================] - 4s 2ms/step - loss: 2.1579 - accuracy: 0.1842 - val_loss: 2.1334 - val_accuracy: 0.1951\n",
            "Epoch 4/25\n",
            "2000/2000 [==============================] - 4s 2ms/step - loss: 2.1360 - accuracy: 0.2006 - val_loss: 2.1639 - val_accuracy: 0.1699\n",
            "Epoch 5/25\n",
            "2000/2000 [==============================] - 4s 2ms/step - loss: 2.1315 - accuracy: 0.1754 - val_loss: 2.0921 - val_accuracy: 0.1909\n",
            "Epoch 6/25\n",
            "2000/2000 [==============================] - 4s 2ms/step - loss: 2.0112 - accuracy: 0.2020 - val_loss: 1.9437 - val_accuracy: 0.2067\n",
            "Epoch 7/25\n",
            "2000/2000 [==============================] - 4s 2ms/step - loss: 1.9241 - accuracy: 0.2053 - val_loss: 1.9068 - val_accuracy: 0.2174\n",
            "Epoch 8/25\n",
            "2000/2000 [==============================] - 4s 2ms/step - loss: 1.8730 - accuracy: 0.2336 - val_loss: 1.8098 - val_accuracy: 0.2598\n",
            "Epoch 9/25\n",
            "2000/2000 [==============================] - 4s 2ms/step - loss: 1.7834 - accuracy: 0.2980 - val_loss: 1.7624 - val_accuracy: 0.3209\n",
            "Epoch 10/25\n",
            "2000/2000 [==============================] - 4s 2ms/step - loss: 1.7479 - accuracy: 0.3260 - val_loss: 1.7534 - val_accuracy: 0.3207\n",
            "Epoch 11/25\n",
            "2000/2000 [==============================] - 4s 2ms/step - loss: 1.7376 - accuracy: 0.3400 - val_loss: 1.8354 - val_accuracy: 0.3174\n",
            "Epoch 12/25\n",
            "2000/2000 [==============================] - 4s 2ms/step - loss: 1.6405 - accuracy: 0.4004 - val_loss: 1.6113 - val_accuracy: 0.4147\n",
            "Epoch 13/25\n",
            "2000/2000 [==============================] - 4s 2ms/step - loss: 1.5157 - accuracy: 0.4443 - val_loss: 1.4975 - val_accuracy: 0.4533\n",
            "Epoch 14/25\n",
            "2000/2000 [==============================] - 4s 2ms/step - loss: 1.4749 - accuracy: 0.4564 - val_loss: 1.4494 - val_accuracy: 0.4499\n",
            "Epoch 15/25\n",
            "2000/2000 [==============================] - 4s 2ms/step - loss: 1.4686 - accuracy: 0.4563 - val_loss: 1.4536 - val_accuracy: 0.4616\n",
            "Epoch 16/25\n",
            "2000/2000 [==============================] - 4s 2ms/step - loss: 1.4432 - accuracy: 0.4635 - val_loss: 1.5176 - val_accuracy: 0.4036\n",
            "Epoch 17/25\n",
            "2000/2000 [==============================] - 4s 2ms/step - loss: 1.4147 - accuracy: 0.4701 - val_loss: 1.4176 - val_accuracy: 0.4743\n",
            "Epoch 18/25\n",
            "2000/2000 [==============================] - 4s 2ms/step - loss: 1.4084 - accuracy: 0.4730 - val_loss: 1.4056 - val_accuracy: 0.4626\n",
            "Epoch 19/25\n",
            "2000/2000 [==============================] - 4s 2ms/step - loss: 1.3977 - accuracy: 0.4745 - val_loss: 1.4027 - val_accuracy: 0.4765\n",
            "Epoch 20/25\n",
            "2000/2000 [==============================] - 4s 2ms/step - loss: 1.4057 - accuracy: 0.4708 - val_loss: 1.4919 - val_accuracy: 0.4596\n",
            "Epoch 21/25\n",
            "2000/2000 [==============================] - 4s 2ms/step - loss: 1.3974 - accuracy: 0.4756 - val_loss: 1.3983 - val_accuracy: 0.4832\n",
            "Epoch 22/25\n",
            "2000/2000 [==============================] - 4s 2ms/step - loss: 1.3983 - accuracy: 0.4745 - val_loss: 1.4182 - val_accuracy: 0.4737\n",
            "Epoch 23/25\n",
            "2000/2000 [==============================] - 4s 2ms/step - loss: 1.3905 - accuracy: 0.4747 - val_loss: 1.3761 - val_accuracy: 0.4716\n",
            "Epoch 24/25\n",
            "2000/2000 [==============================] - 4s 2ms/step - loss: 1.5310 - accuracy: 0.4175 - val_loss: 1.7419 - val_accuracy: 0.3377\n",
            "Epoch 25/25\n",
            "2000/2000 [==============================] - 4s 2ms/step - loss: 1.6403 - accuracy: 0.3517 - val_loss: 1.5217 - val_accuracy: 0.4201\n"
          ],
          "name": "stdout"
        }
      ]
    },
    {
      "cell_type": "code",
      "metadata": {
        "id": "hpYmdjqMktK9",
        "outputId": "f38b9644-915c-466c-e21d-0d355192401b",
        "colab": {
          "base_uri": "https://localhost:8080/",
          "height": 302
        }
      },
      "source": [
        "batch_sizes = []\n",
        "for exp, result in zip([bt_smallest, bt_small, bt_default, bt_large, bt_largest], [\"32\", \"64\", \"128\", \"256\", \"512\"]):\n",
        "    df = pd.DataFrame.from_dict(exp.history)\n",
        "    df['epoch'] = df.index.values\n",
        "    df['Batch Size'] = result\n",
        "    batch_sizes.append(df)\n",
        "df = pd.concat(batch_sizes)\n",
        "df['Batch Size'] = df['Batch Size'].astype('str')\n",
        "\n",
        "sns.set(style=\"darkgrid\")\n",
        "sns.lineplot(x='epoch', y='val_accuracy', hue = 'Batch Size', data=df)\n",
        "plt.legend(bbox_to_anchor=(1.05, 1), loc=2, borderaxespad=0, title = 'Batch Sizes')"
      ],
      "execution_count": 33,
      "outputs": [
        {
          "output_type": "execute_result",
          "data": {
            "text/plain": [
              "<matplotlib.legend.Legend at 0x7ff532b68470>"
            ]
          },
          "metadata": {
            "tags": []
          },
          "execution_count": 33
        },
        {
          "output_type": "display_data",
          "data": {
            "image/png": "[encoded data removed]",
            "text/plain": [
              "<Figure size 432x288 with 1 Axes>"
            ]
          },
          "metadata": {
            "tags": []
          }
        }
      ]
    },
    {
      "cell_type": "markdown",
      "metadata": {
        "id": "4uyiAGagLOct"
      },
      "source": [
        "After experimentation with several batch sizes, I have concluded that 32 is the best \n",
        "batch size of the 5 values tried. The largest batch sizes increased accuracy consistantly \n",
        "but at a much slower rate. The others both dropped off in their performance over the \n",
        "later epochs and never reached the accuracy levels of batch siz 32. Even smaller batch \n",
        "sizes could yeild better results."
      ]
    },
    {
      "cell_type": "code",
      "metadata": {
        "id": "E_vKgWKCK5Pe"
      },
      "source": [
        ""
      ],
      "execution_count": 9,
      "outputs": []
    },
    {
      "cell_type": "markdown",
      "metadata": {
        "id": "8b-r70o8p2Dm"
      },
      "source": [
        "### Experiment with Learning Rate\n",
        "* Run 5 experiments with various learning rate magnitudes: 1, .1, .01, .001, .0001.\n",
        "* Use the \"best\" batch size from the previous experiment\n",
        "* Visualize the results\n",
        "* Write up an analysis of the experiments and select the \"best\" performing model among your experiments. Make sure to compare against the previous experiments and your model's performance yesterday. "
      ]
    },
    {
      "cell_type": "code",
      "metadata": {
        "id": "_SA144xx8Luf",
        "outputId": "1be85e39-4350-4b86-d017-edd00930f8cf",
        "colab": {
          "base_uri": "https://localhost:8080/"
        }
      },
      "source": [
        "lr = 1\n",
        "model = create_model(lr = lr, opt = SGD)\n",
        "lr_largest = model.fit(\n",
        "    X_train, y_train, \n",
        "    epochs=25,\n",
        "    batch_size=32,\n",
        "    validation_data=(X_val,y_val))"
      ],
      "execution_count": 10,
      "outputs": [
        {
          "output_type": "stream",
          "text": [
            "Epoch 1/25\n",
            "2000/2000 [==============================] - 5s 2ms/step - loss: 57176795645570715746304.0000 - accuracy: 0.1004 - val_loss: 2.3136 - val_accuracy: 0.1000\n",
            "Epoch 2/25\n",
            "2000/2000 [==============================] - 4s 2ms/step - loss: 2.3103 - accuracy: 0.0997 - val_loss: 2.3078 - val_accuracy: 0.1000\n",
            "Epoch 3/25\n",
            "2000/2000 [==============================] - 4s 2ms/step - loss: 2.3103 - accuracy: 0.1004 - val_loss: 2.3102 - val_accuracy: 0.1000\n",
            "Epoch 4/25\n",
            "2000/2000 [==============================] - 4s 2ms/step - loss: 2.3097 - accuracy: 0.0995 - val_loss: 2.3094 - val_accuracy: 0.1000\n",
            "Epoch 5/25\n",
            "2000/2000 [==============================] - 4s 2ms/step - loss: 2.3096 - accuracy: 0.1025 - val_loss: 2.3071 - val_accuracy: 0.1000\n",
            "Epoch 6/25\n",
            "2000/2000 [==============================] - 4s 2ms/step - loss: 2.3099 - accuracy: 0.1001 - val_loss: 2.3091 - val_accuracy: 0.1000\n",
            "Epoch 7/25\n",
            "2000/2000 [==============================] - 4s 2ms/step - loss: 2.3106 - accuracy: 0.0978 - val_loss: 2.3192 - val_accuracy: 0.1000\n",
            "Epoch 8/25\n",
            "2000/2000 [==============================] - 4s 2ms/step - loss: 2.3104 - accuracy: 0.0981 - val_loss: 2.3047 - val_accuracy: 0.1000\n",
            "Epoch 9/25\n",
            "2000/2000 [==============================] - 4s 2ms/step - loss: 2.3099 - accuracy: 0.0999 - val_loss: 2.3147 - val_accuracy: 0.1000\n",
            "Epoch 10/25\n",
            "2000/2000 [==============================] - 4s 2ms/step - loss: 2.3104 - accuracy: 0.0996 - val_loss: 2.3074 - val_accuracy: 0.1000\n",
            "Epoch 11/25\n",
            "2000/2000 [==============================] - 5s 2ms/step - loss: 2.3104 - accuracy: 0.0998 - val_loss: 2.3101 - val_accuracy: 0.1000\n",
            "Epoch 12/25\n",
            "2000/2000 [==============================] - 5s 2ms/step - loss: 2.3099 - accuracy: 0.1014 - val_loss: 2.3110 - val_accuracy: 0.1000\n",
            "Epoch 13/25\n",
            "2000/2000 [==============================] - 5s 2ms/step - loss: 2.3105 - accuracy: 0.0965 - val_loss: 2.3106 - val_accuracy: 0.1000\n",
            "Epoch 14/25\n",
            "2000/2000 [==============================] - 4s 2ms/step - loss: 2.3099 - accuracy: 0.0997 - val_loss: 2.3089 - val_accuracy: 0.1000\n",
            "Epoch 15/25\n",
            "2000/2000 [==============================] - 4s 2ms/step - loss: 2.3100 - accuracy: 0.0994 - val_loss: 2.3089 - val_accuracy: 0.1000\n",
            "Epoch 16/25\n",
            "2000/2000 [==============================] - 4s 2ms/step - loss: 2.3095 - accuracy: 0.1022 - val_loss: 2.3137 - val_accuracy: 0.1000\n",
            "Epoch 17/25\n",
            "2000/2000 [==============================] - 4s 2ms/step - loss: 2.3105 - accuracy: 0.0993 - val_loss: 2.3059 - val_accuracy: 0.1000\n",
            "Epoch 18/25\n",
            "2000/2000 [==============================] - 4s 2ms/step - loss: 2.3097 - accuracy: 0.1005 - val_loss: 2.3086 - val_accuracy: 0.1000\n",
            "Epoch 19/25\n",
            "2000/2000 [==============================] - 4s 2ms/step - loss: 2.3099 - accuracy: 0.0997 - val_loss: 2.3099 - val_accuracy: 0.1000\n",
            "Epoch 20/25\n",
            "2000/2000 [==============================] - 4s 2ms/step - loss: 2.3100 - accuracy: 0.1018 - val_loss: 2.3152 - val_accuracy: 0.1000\n",
            "Epoch 21/25\n",
            "2000/2000 [==============================] - 4s 2ms/step - loss: 2.3095 - accuracy: 0.1028 - val_loss: 2.3111 - val_accuracy: 0.1000\n",
            "Epoch 22/25\n",
            "2000/2000 [==============================] - 4s 2ms/step - loss: 2.3105 - accuracy: 0.0981 - val_loss: 2.3112 - val_accuracy: 0.1000\n",
            "Epoch 23/25\n",
            "2000/2000 [==============================] - 5s 2ms/step - loss: 2.3101 - accuracy: 0.0980 - val_loss: 2.3111 - val_accuracy: 0.1000\n",
            "Epoch 24/25\n",
            "2000/2000 [==============================] - 4s 2ms/step - loss: 2.3105 - accuracy: 0.0991 - val_loss: 2.3087 - val_accuracy: 0.1000\n",
            "Epoch 25/25\n",
            "2000/2000 [==============================] - 4s 2ms/step - loss: 2.3095 - accuracy: 0.1022 - val_loss: 2.3083 - val_accuracy: 0.1000\n"
          ],
          "name": "stdout"
        }
      ]
    },
    {
      "cell_type": "code",
      "metadata": {
        "id": "gv72JhJBxdY3",
        "outputId": "673ae385-dd25-4282-f17a-d975f57601d7",
        "colab": {
          "base_uri": "https://localhost:8080/"
        }
      },
      "source": [
        "lr = 0.1\n",
        "model = create_model(lr = lr, opt = SGD)\n",
        "lr_large = model.fit(\n",
        "    X_train, y_train, \n",
        "    epochs=25,\n",
        "    batch_size=32,\n",
        "    validation_data=(X_val,y_val))"
      ],
      "execution_count": 11,
      "outputs": [
        {
          "output_type": "stream",
          "text": [
            "Epoch 1/25\n",
            "2000/2000 [==============================] - 4s 2ms/step - loss: 1943443615099167600289478743162880.0000 - accuracy: 0.0983 - val_loss: 2.3029 - val_accuracy: 0.1000\n",
            "Epoch 2/25\n",
            "2000/2000 [==============================] - 4s 2ms/step - loss: 2.3032 - accuracy: 0.1011 - val_loss: 2.3028 - val_accuracy: 0.1000\n",
            "Epoch 3/25\n",
            "2000/2000 [==============================] - 4s 2ms/step - loss: 2.3032 - accuracy: 0.1001 - val_loss: 2.3029 - val_accuracy: 0.1000\n",
            "Epoch 4/25\n",
            "2000/2000 [==============================] - 4s 2ms/step - loss: 2.3032 - accuracy: 0.0988 - val_loss: 2.3031 - val_accuracy: 0.1000\n",
            "Epoch 5/25\n",
            "2000/2000 [==============================] - 4s 2ms/step - loss: 2.3035 - accuracy: 0.0966 - val_loss: 2.3028 - val_accuracy: 0.1000\n",
            "Epoch 6/25\n",
            "2000/2000 [==============================] - 4s 2ms/step - loss: 2.3033 - accuracy: 0.1000 - val_loss: 2.3037 - val_accuracy: 0.1000\n",
            "Epoch 7/25\n",
            "2000/2000 [==============================] - 4s 2ms/step - loss: 2.3034 - accuracy: 0.0990 - val_loss: 2.3035 - val_accuracy: 0.1000\n",
            "Epoch 8/25\n",
            "2000/2000 [==============================] - 4s 2ms/step - loss: 2.3033 - accuracy: 0.0985 - val_loss: 2.3030 - val_accuracy: 0.1000\n",
            "Epoch 9/25\n",
            "2000/2000 [==============================] - 4s 2ms/step - loss: 2.3034 - accuracy: 0.0990 - val_loss: 2.3033 - val_accuracy: 0.1000\n",
            "Epoch 10/25\n",
            "2000/2000 [==============================] - 4s 2ms/step - loss: 2.3034 - accuracy: 0.1006 - val_loss: 2.3029 - val_accuracy: 0.1000\n",
            "Epoch 11/25\n",
            "2000/2000 [==============================] - 4s 2ms/step - loss: 2.3033 - accuracy: 0.1000 - val_loss: 2.3032 - val_accuracy: 0.1000\n",
            "Epoch 12/25\n",
            "2000/2000 [==============================] - 4s 2ms/step - loss: 2.3034 - accuracy: 0.0971 - val_loss: 2.3028 - val_accuracy: 0.1000\n",
            "Epoch 13/25\n",
            "2000/2000 [==============================] - 4s 2ms/step - loss: 2.3033 - accuracy: 0.0988 - val_loss: 2.3043 - val_accuracy: 0.1000\n",
            "Epoch 14/25\n",
            "2000/2000 [==============================] - 4s 2ms/step - loss: 2.3035 - accuracy: 0.0971 - val_loss: 2.3035 - val_accuracy: 0.1000\n",
            "Epoch 15/25\n",
            "2000/2000 [==============================] - 4s 2ms/step - loss: 2.3034 - accuracy: 0.0994 - val_loss: 2.3030 - val_accuracy: 0.1000\n",
            "Epoch 16/25\n",
            "2000/2000 [==============================] - 4s 2ms/step - loss: 2.3033 - accuracy: 0.1001 - val_loss: 2.3033 - val_accuracy: 0.1000\n",
            "Epoch 17/25\n",
            "2000/2000 [==============================] - 4s 2ms/step - loss: 2.3034 - accuracy: 0.0996 - val_loss: 2.3033 - val_accuracy: 0.1000\n",
            "Epoch 18/25\n",
            "2000/2000 [==============================] - 4s 2ms/step - loss: 2.3033 - accuracy: 0.0997 - val_loss: 2.3027 - val_accuracy: 0.1000\n",
            "Epoch 19/25\n",
            "2000/2000 [==============================] - 4s 2ms/step - loss: 2.3034 - accuracy: 0.0980 - val_loss: 2.3036 - val_accuracy: 0.1000\n",
            "Epoch 20/25\n",
            "2000/2000 [==============================] - 4s 2ms/step - loss: 2.3034 - accuracy: 0.0988 - val_loss: 2.3030 - val_accuracy: 0.1000\n",
            "Epoch 21/25\n",
            "2000/2000 [==============================] - 4s 2ms/step - loss: 2.3033 - accuracy: 0.1000 - val_loss: 2.3032 - val_accuracy: 0.1000\n",
            "Epoch 22/25\n",
            "2000/2000 [==============================] - 4s 2ms/step - loss: 2.3034 - accuracy: 0.0991 - val_loss: 2.3032 - val_accuracy: 0.1000\n",
            "Epoch 23/25\n",
            "2000/2000 [==============================] - 4s 2ms/step - loss: 2.3034 - accuracy: 0.0992 - val_loss: 2.3032 - val_accuracy: 0.1000\n",
            "Epoch 24/25\n",
            "2000/2000 [==============================] - 4s 2ms/step - loss: 2.3033 - accuracy: 0.1001 - val_loss: 2.3027 - val_accuracy: 0.1000\n",
            "Epoch 25/25\n",
            "2000/2000 [==============================] - 4s 2ms/step - loss: 2.3034 - accuracy: 0.0975 - val_loss: 2.3032 - val_accuracy: 0.1000\n"
          ],
          "name": "stdout"
        }
      ]
    },
    {
      "cell_type": "code",
      "metadata": {
        "id": "ESzJ5jzWxdp3",
        "outputId": "8e9a3d4a-5e9b-4876-86f7-4445b9c2282d",
        "colab": {
          "base_uri": "https://localhost:8080/"
        }
      },
      "source": [
        "lr = 0.01\n",
        "model = create_model(lr = lr, opt = SGD)\n",
        "lr_default = model.fit(\n",
        "    X_train, y_train, \n",
        "    epochs=25,\n",
        "    batch_size=32,\n",
        "    validation_data=(X_val,y_val))"
      ],
      "execution_count": 12,
      "outputs": [
        {
          "output_type": "stream",
          "text": [
            "Epoch 1/25\n",
            "2000/2000 [==============================] - 4s 2ms/step - loss: 8.0172 - accuracy: 0.0984 - val_loss: 2.3026 - val_accuracy: 0.1000\n",
            "Epoch 2/25\n",
            "2000/2000 [==============================] - 4s 2ms/step - loss: 2.3027 - accuracy: 0.0991 - val_loss: 2.3026 - val_accuracy: 0.1000\n",
            "Epoch 3/25\n",
            "2000/2000 [==============================] - 4s 2ms/step - loss: 2.3027 - accuracy: 0.0987 - val_loss: 2.3026 - val_accuracy: 0.1000\n",
            "Epoch 4/25\n",
            "2000/2000 [==============================] - 4s 2ms/step - loss: 2.3027 - accuracy: 0.0996 - val_loss: 2.3026 - val_accuracy: 0.1000\n",
            "Epoch 5/25\n",
            "2000/2000 [==============================] - 4s 2ms/step - loss: 2.3027 - accuracy: 0.0980 - val_loss: 2.3026 - val_accuracy: 0.1000\n",
            "Epoch 6/25\n",
            "2000/2000 [==============================] - 4s 2ms/step - loss: 2.3027 - accuracy: 0.0977 - val_loss: 2.3026 - val_accuracy: 0.1000\n",
            "Epoch 7/25\n",
            "2000/2000 [==============================] - 4s 2ms/step - loss: 2.3027 - accuracy: 0.0978 - val_loss: 2.3026 - val_accuracy: 0.1000\n",
            "Epoch 8/25\n",
            "2000/2000 [==============================] - 4s 2ms/step - loss: 2.3027 - accuracy: 0.0978 - val_loss: 2.3026 - val_accuracy: 0.1000\n",
            "Epoch 9/25\n",
            "2000/2000 [==============================] - 4s 2ms/step - loss: 2.3027 - accuracy: 0.1006 - val_loss: 2.3026 - val_accuracy: 0.1000\n",
            "Epoch 10/25\n",
            "2000/2000 [==============================] - 4s 2ms/step - loss: 2.3027 - accuracy: 0.0964 - val_loss: 2.3026 - val_accuracy: 0.1000\n",
            "Epoch 11/25\n",
            "2000/2000 [==============================] - 4s 2ms/step - loss: 2.3027 - accuracy: 0.0982 - val_loss: 2.3026 - val_accuracy: 0.1000\n",
            "Epoch 12/25\n",
            "2000/2000 [==============================] - 4s 2ms/step - loss: 2.3027 - accuracy: 0.0971 - val_loss: 2.3026 - val_accuracy: 0.1000\n",
            "Epoch 13/25\n",
            "2000/2000 [==============================] - 4s 2ms/step - loss: 2.3027 - accuracy: 0.0976 - val_loss: 2.3026 - val_accuracy: 0.1000\n",
            "Epoch 14/25\n",
            "2000/2000 [==============================] - 4s 2ms/step - loss: 2.3027 - accuracy: 0.0967 - val_loss: 2.3026 - val_accuracy: 0.1000\n",
            "Epoch 15/25\n",
            "2000/2000 [==============================] - 4s 2ms/step - loss: 2.3027 - accuracy: 0.0983 - val_loss: 2.3026 - val_accuracy: 0.1000\n",
            "Epoch 16/25\n",
            "2000/2000 [==============================] - 4s 2ms/step - loss: 2.3027 - accuracy: 0.0990 - val_loss: 2.3026 - val_accuracy: 0.1000\n",
            "Epoch 17/25\n",
            "2000/2000 [==============================] - 4s 2ms/step - loss: 2.3027 - accuracy: 0.0975 - val_loss: 2.3026 - val_accuracy: 0.1000\n",
            "Epoch 18/25\n",
            "2000/2000 [==============================] - 4s 2ms/step - loss: 2.3027 - accuracy: 0.0988 - val_loss: 2.3026 - val_accuracy: 0.1000\n",
            "Epoch 19/25\n",
            "2000/2000 [==============================] - 4s 2ms/step - loss: 2.3027 - accuracy: 0.0970 - val_loss: 2.3026 - val_accuracy: 0.1000\n",
            "Epoch 20/25\n",
            "2000/2000 [==============================] - 4s 2ms/step - loss: 2.3027 - accuracy: 0.0999 - val_loss: 2.3026 - val_accuracy: 0.1000\n",
            "Epoch 21/25\n",
            "2000/2000 [==============================] - 4s 2ms/step - loss: 2.3027 - accuracy: 0.0976 - val_loss: 2.3026 - val_accuracy: 0.1000\n",
            "Epoch 22/25\n",
            "2000/2000 [==============================] - 4s 2ms/step - loss: 2.3027 - accuracy: 0.0978 - val_loss: 2.3026 - val_accuracy: 0.1000\n",
            "Epoch 23/25\n",
            "2000/2000 [==============================] - 4s 2ms/step - loss: 2.3027 - accuracy: 0.0988 - val_loss: 2.3026 - val_accuracy: 0.1000\n",
            "Epoch 24/25\n",
            "2000/2000 [==============================] - 4s 2ms/step - loss: 2.3027 - accuracy: 0.0981 - val_loss: 2.3026 - val_accuracy: 0.1000\n",
            "Epoch 25/25\n",
            "2000/2000 [==============================] - 4s 2ms/step - loss: 2.3027 - accuracy: 0.0989 - val_loss: 2.3026 - val_accuracy: 0.1000\n"
          ],
          "name": "stdout"
        }
      ]
    },
    {
      "cell_type": "code",
      "metadata": {
        "id": "fE5Tn2KBxdhE",
        "outputId": "c6cc1c23-c631-4f52-ba88-484aa73b49c8",
        "colab": {
          "base_uri": "https://localhost:8080/"
        }
      },
      "source": [
        "lr = 0.001\n",
        "model = create_model(lr = lr, opt = SGD)\n",
        "lr_small = model.fit(\n",
        "    X_train, y_train, \n",
        "    epochs=25,\n",
        "    batch_size=32,\n",
        "    validation_data=(X_val,y_val))"
      ],
      "execution_count": 13,
      "outputs": [
        {
          "output_type": "stream",
          "text": [
            "Epoch 1/25\n",
            "2000/2000 [==============================] - 4s 2ms/step - loss: 2.2750 - accuracy: 0.1747 - val_loss: 2.0572 - val_accuracy: 0.2356\n",
            "Epoch 2/25\n",
            "2000/2000 [==============================] - 4s 2ms/step - loss: 1.9820 - accuracy: 0.2586 - val_loss: 1.9382 - val_accuracy: 0.2804\n",
            "Epoch 3/25\n",
            "2000/2000 [==============================] - 4s 2ms/step - loss: 1.8756 - accuracy: 0.3038 - val_loss: 1.8227 - val_accuracy: 0.3267\n",
            "Epoch 4/25\n",
            "2000/2000 [==============================] - 4s 2ms/step - loss: 1.7987 - accuracy: 0.3286 - val_loss: 1.7836 - val_accuracy: 0.3331\n",
            "Epoch 5/25\n",
            "2000/2000 [==============================] - 4s 2ms/step - loss: 1.7584 - accuracy: 0.3368 - val_loss: 1.7558 - val_accuracy: 0.3404\n",
            "Epoch 6/25\n",
            "2000/2000 [==============================] - 4s 2ms/step - loss: 1.7189 - accuracy: 0.3526 - val_loss: 1.6893 - val_accuracy: 0.3747\n",
            "Epoch 7/25\n",
            "2000/2000 [==============================] - 5s 2ms/step - loss: 1.6409 - accuracy: 0.3903 - val_loss: 1.6131 - val_accuracy: 0.4141\n",
            "Epoch 8/25\n",
            "2000/2000 [==============================] - 5s 2ms/step - loss: 1.5450 - accuracy: 0.4222 - val_loss: 1.4558 - val_accuracy: 0.4697\n",
            "Epoch 9/25\n",
            "2000/2000 [==============================] - 5s 2ms/step - loss: 1.3925 - accuracy: 0.4873 - val_loss: 1.3679 - val_accuracy: 0.4943\n",
            "Epoch 10/25\n",
            "2000/2000 [==============================] - 4s 2ms/step - loss: 1.3173 - accuracy: 0.5145 - val_loss: 1.3043 - val_accuracy: 0.5500\n",
            "Epoch 11/25\n",
            "2000/2000 [==============================] - 4s 2ms/step - loss: 1.2511 - accuracy: 0.5603 - val_loss: 1.2593 - val_accuracy: 0.5651\n",
            "Epoch 12/25\n",
            "2000/2000 [==============================] - 4s 2ms/step - loss: 1.1986 - accuracy: 0.5824 - val_loss: 1.2036 - val_accuracy: 0.5974\n",
            "Epoch 13/25\n",
            "2000/2000 [==============================] - 4s 2ms/step - loss: 1.1444 - accuracy: 0.6095 - val_loss: 1.1708 - val_accuracy: 0.6181\n",
            "Epoch 14/25\n",
            "2000/2000 [==============================] - 4s 2ms/step - loss: 1.0826 - accuracy: 0.6473 - val_loss: 1.0945 - val_accuracy: 0.6528\n",
            "Epoch 15/25\n",
            "2000/2000 [==============================] - 4s 2ms/step - loss: 1.0223 - accuracy: 0.6761 - val_loss: 1.0376 - val_accuracy: 0.6829\n",
            "Epoch 16/25\n",
            "2000/2000 [==============================] - 4s 2ms/step - loss: 0.9754 - accuracy: 0.6905 - val_loss: 0.9831 - val_accuracy: 0.6947\n",
            "Epoch 17/25\n",
            "2000/2000 [==============================] - 4s 2ms/step - loss: 0.9321 - accuracy: 0.6998 - val_loss: 0.9362 - val_accuracy: 0.7044\n",
            "Epoch 18/25\n",
            "2000/2000 [==============================] - 5s 2ms/step - loss: 0.8801 - accuracy: 0.7168 - val_loss: 0.8895 - val_accuracy: 0.7264\n",
            "Epoch 19/25\n",
            "2000/2000 [==============================] - 4s 2ms/step - loss: 0.8418 - accuracy: 0.7294 - val_loss: 0.9023 - val_accuracy: 0.7184\n",
            "Epoch 20/25\n",
            "2000/2000 [==============================] - 4s 2ms/step - loss: 0.8134 - accuracy: 0.7394 - val_loss: 0.8406 - val_accuracy: 0.7352\n",
            "Epoch 21/25\n",
            "2000/2000 [==============================] - 4s 2ms/step - loss: 0.7895 - accuracy: 0.7486 - val_loss: 0.8215 - val_accuracy: 0.7446\n",
            "Epoch 22/25\n",
            "2000/2000 [==============================] - 4s 2ms/step - loss: 0.7716 - accuracy: 0.7543 - val_loss: 0.8124 - val_accuracy: 0.7528\n",
            "Epoch 23/25\n",
            "2000/2000 [==============================] - 4s 2ms/step - loss: 0.7566 - accuracy: 0.7612 - val_loss: 0.8107 - val_accuracy: 0.7519\n",
            "Epoch 24/25\n",
            "2000/2000 [==============================] - 4s 2ms/step - loss: 0.7423 - accuracy: 0.7653 - val_loss: 0.7916 - val_accuracy: 0.7586\n",
            "Epoch 25/25\n",
            "2000/2000 [==============================] - 4s 2ms/step - loss: 0.7309 - accuracy: 0.7696 - val_loss: 0.7865 - val_accuracy: 0.7581\n"
          ],
          "name": "stdout"
        }
      ]
    },
    {
      "cell_type": "code",
      "metadata": {
        "id": "3UuM13XqxdQT",
        "outputId": "01e11593-cb1f-4b4f-bbb3-91cd18812b24",
        "colab": {
          "base_uri": "https://localhost:8080/"
        }
      },
      "source": [
        "lr = 0.0001\n",
        "model = create_model(lr = lr, opt = SGD)\n",
        "lr_smallest = model.fit(\n",
        "    X_train, y_train, \n",
        "    epochs=25,\n",
        "    batch_size=32,\n",
        "    validation_data=(X_val,y_val))"
      ],
      "execution_count": 14,
      "outputs": [
        {
          "output_type": "stream",
          "text": [
            "Epoch 1/25\n",
            "2000/2000 [==============================] - 4s 2ms/step - loss: 3.0708 - accuracy: 0.1310 - val_loss: 2.2429 - val_accuracy: 0.1542\n",
            "Epoch 2/25\n",
            "2000/2000 [==============================] - 4s 2ms/step - loss: 2.2020 - accuracy: 0.1760 - val_loss: 2.1871 - val_accuracy: 0.1869\n",
            "Epoch 3/25\n",
            "2000/2000 [==============================] - 4s 2ms/step - loss: 2.1556 - accuracy: 0.1936 - val_loss: 2.1608 - val_accuracy: 0.1899\n",
            "Epoch 4/25\n",
            "2000/2000 [==============================] - 4s 2ms/step - loss: 2.1313 - accuracy: 0.1998 - val_loss: 2.1427 - val_accuracy: 0.2018\n",
            "Epoch 5/25\n",
            "2000/2000 [==============================] - 4s 2ms/step - loss: 2.1109 - accuracy: 0.2120 - val_loss: 2.1248 - val_accuracy: 0.2177\n",
            "Epoch 6/25\n",
            "2000/2000 [==============================] - 4s 2ms/step - loss: 2.0922 - accuracy: 0.2220 - val_loss: 2.1078 - val_accuracy: 0.2253\n",
            "Epoch 7/25\n",
            "2000/2000 [==============================] - 4s 2ms/step - loss: 2.0737 - accuracy: 0.2290 - val_loss: 2.0910 - val_accuracy: 0.2323\n",
            "Epoch 8/25\n",
            "2000/2000 [==============================] - 4s 2ms/step - loss: 2.0582 - accuracy: 0.2345 - val_loss: 2.0743 - val_accuracy: 0.2369\n",
            "Epoch 9/25\n",
            "2000/2000 [==============================] - 4s 2ms/step - loss: 2.0442 - accuracy: 0.2410 - val_loss: 2.0594 - val_accuracy: 0.2435\n",
            "Epoch 10/25\n",
            "2000/2000 [==============================] - 4s 2ms/step - loss: 2.0309 - accuracy: 0.2464 - val_loss: 2.0462 - val_accuracy: 0.2484\n",
            "Epoch 11/25\n",
            "2000/2000 [==============================] - 4s 2ms/step - loss: 2.0188 - accuracy: 0.2517 - val_loss: 2.0329 - val_accuracy: 0.2542\n",
            "Epoch 12/25\n",
            "2000/2000 [==============================] - 4s 2ms/step - loss: 2.0061 - accuracy: 0.2561 - val_loss: 2.0237 - val_accuracy: 0.2590\n",
            "Epoch 13/25\n",
            "2000/2000 [==============================] - 4s 2ms/step - loss: 1.9935 - accuracy: 0.2630 - val_loss: 2.0069 - val_accuracy: 0.2698\n",
            "Epoch 14/25\n",
            "2000/2000 [==============================] - 4s 2ms/step - loss: 1.9791 - accuracy: 0.2685 - val_loss: 1.9950 - val_accuracy: 0.2758\n",
            "Epoch 15/25\n",
            "2000/2000 [==============================] - 4s 2ms/step - loss: 1.9634 - accuracy: 0.2759 - val_loss: 1.9805 - val_accuracy: 0.2778\n",
            "Epoch 16/25\n",
            "2000/2000 [==============================] - 4s 2ms/step - loss: 1.9459 - accuracy: 0.2831 - val_loss: 1.9605 - val_accuracy: 0.2864\n",
            "Epoch 17/25\n",
            "2000/2000 [==============================] - 4s 2ms/step - loss: 1.9300 - accuracy: 0.2880 - val_loss: 1.9450 - val_accuracy: 0.2885\n",
            "Epoch 18/25\n",
            "2000/2000 [==============================] - 4s 2ms/step - loss: 1.9138 - accuracy: 0.2930 - val_loss: 1.9309 - val_accuracy: 0.2903\n",
            "Epoch 19/25\n",
            "2000/2000 [==============================] - 4s 2ms/step - loss: 1.8991 - accuracy: 0.2966 - val_loss: 1.9207 - val_accuracy: 0.2971\n",
            "Epoch 20/25\n",
            "2000/2000 [==============================] - 4s 2ms/step - loss: 1.8859 - accuracy: 0.2992 - val_loss: 1.9063 - val_accuracy: 0.3024\n",
            "Epoch 21/25\n",
            "2000/2000 [==============================] - 4s 2ms/step - loss: 1.8733 - accuracy: 0.3041 - val_loss: 1.8939 - val_accuracy: 0.3072\n",
            "Epoch 22/25\n",
            "2000/2000 [==============================] - 4s 2ms/step - loss: 1.8594 - accuracy: 0.3084 - val_loss: 1.8794 - val_accuracy: 0.3109\n",
            "Epoch 23/25\n",
            "2000/2000 [==============================] - 4s 2ms/step - loss: 1.8439 - accuracy: 0.3141 - val_loss: 1.8635 - val_accuracy: 0.3138\n",
            "Epoch 24/25\n",
            "2000/2000 [==============================] - 4s 2ms/step - loss: 1.8237 - accuracy: 0.3147 - val_loss: 1.8448 - val_accuracy: 0.3158\n",
            "Epoch 25/25\n",
            "2000/2000 [==============================] - 4s 2ms/step - loss: 1.7960 - accuracy: 0.3008 - val_loss: 1.8106 - val_accuracy: 0.2972\n"
          ],
          "name": "stdout"
        }
      ]
    },
    {
      "cell_type": "code",
      "metadata": {
        "id": "NMld1owWzddR",
        "outputId": "96fac4a7-3cfd-4d50-b808-bde374e7f643",
        "colab": {
          "base_uri": "https://localhost:8080/",
          "height": 302
        }
      },
      "source": [
        "learning_rates = []\n",
        "for exp, result in zip([lr_smallest, lr_small, lr_default, lr_large, lr_largest], [\"0.0001\", \"0.001\", \"0.01\", \"0.1\", \"1\"]):\n",
        "    df = pd.DataFrame.from_dict(exp.history)\n",
        "    df['epoch'] = df.index.values\n",
        "    df['Learning Rate'] = result\n",
        "    learning_rates.append(df)\n",
        "df = pd.concat(learning_rates)\n",
        "df['Learning Rate'] = df['Learning Rate'].astype('str')\n",
        "\n",
        "sns.set(style=\"darkgrid\")\n",
        "sns.lineplot(x='epoch', y='val_accuracy', hue = 'Learning Rate', data=df)\n",
        "plt.legend(bbox_to_anchor=(1.05, 1), loc=2, borderaxespad=0, title = 'Learning Rates')"
      ],
      "execution_count": 15,
      "outputs": [
        {
          "output_type": "execute_result",
          "data": {
            "text/plain": [
              "<matplotlib.legend.Legend at 0x7ff468161780>"
            ]
          },
          "metadata": {
            "tags": []
          },
          "execution_count": 15
        },
        {
          "output_type": "display_data",
          "data": {
            "image/png": "[encoded data removed]",
            "text/plain": [
              "<Figure size 432x288 with 1 Axes>"
            ]
          },
          "metadata": {
            "tags": []
          }
        }
      ]
    },
    {
      "cell_type": "markdown",
      "metadata": {
        "id": "aboVir5dHGtr"
      },
      "source": [
        "The learning rate 0.001 yeilds the best results by far with the SGD optimizer. The\n",
        " lower learning rate steps up entirerly too slowly, and higher learning rates seem to \n",
        " reverse their positive effects on accuracy or have no influence at all on accuracy. I found \n",
        " these results to be consistant over several runs of these tests. "
      ]
    },
    {
      "cell_type": "markdown",
      "metadata": {
        "id": "gxMtSRhV9Q7I"
      },
      "source": [
        "### Experiment with different Optimizers\n",
        "* Run 5 experiments with various optimizers available in TensorFlow. See list [here](https://www.tensorflow.org/api_docs/python/tf/keras/optimizers)\n",
        "* Visualize the results\n",
        "* Write up an analysis of the experiments and select the \"best\" performing model among your experiments. Make sure to compare against the previous experiments and your model's performance yesterday.\n",
        "* Repeat the experiment combining Learning Rate and different optimizers. Does the best performing model change? "
      ]
    },
    {
      "cell_type": "code",
      "metadata": {
        "id": "ujLuzdNA91ip",
        "outputId": "9dc952ec-2cb7-4bd3-a8f8-ca97fb6383dc",
        "colab": {
          "base_uri": "https://localhost:8080/"
        }
      },
      "source": [
        "lr = 0.001\n",
        "model = create_model(lr = lr, opt = Adam)\n",
        "opt_Adam = model.fit(\n",
        "    X_train, y_train, \n",
        "    epochs=25,\n",
        "    batch_size=64, #changed from 32 for fastrer speeds and similar results)\n",
        "    validation_data=(X_val,y_val))"
      ],
      "execution_count": 34,
      "outputs": [
        {
          "output_type": "stream",
          "text": [
            "Epoch 1/25\n",
            "1000/1000 [==============================] - 2s 2ms/step - loss: 2.1458 - accuracy: 0.4798 - val_loss: 1.1881 - val_accuracy: 0.6126\n",
            "Epoch 2/25\n",
            "1000/1000 [==============================] - 2s 2ms/step - loss: 1.0632 - accuracy: 0.6445 - val_loss: 0.9918 - val_accuracy: 0.6775\n",
            "Epoch 3/25\n",
            "1000/1000 [==============================] - 2s 2ms/step - loss: 0.9194 - accuracy: 0.6982 - val_loss: 0.8713 - val_accuracy: 0.7236\n",
            "Epoch 4/25\n",
            "1000/1000 [==============================] - 2s 2ms/step - loss: 0.8119 - accuracy: 0.7472 - val_loss: 0.7996 - val_accuracy: 0.7520\n",
            "Epoch 5/25\n",
            "1000/1000 [==============================] - 2s 2ms/step - loss: 0.7482 - accuracy: 0.7710 - val_loss: 0.7536 - val_accuracy: 0.7724\n",
            "Epoch 6/25\n",
            "1000/1000 [==============================] - 2s 2ms/step - loss: 0.7062 - accuracy: 0.7855 - val_loss: 0.7314 - val_accuracy: 0.7785\n",
            "Epoch 7/25\n",
            "1000/1000 [==============================] - 2s 2ms/step - loss: 0.6812 - accuracy: 0.7938 - val_loss: 0.7160 - val_accuracy: 0.7864\n",
            "Epoch 8/25\n",
            "1000/1000 [==============================] - 2s 2ms/step - loss: 0.6615 - accuracy: 0.7997 - val_loss: 0.7046 - val_accuracy: 0.7899\n",
            "Epoch 9/25\n",
            "1000/1000 [==============================] - 2s 2ms/step - loss: 0.6457 - accuracy: 0.8047 - val_loss: 0.6894 - val_accuracy: 0.7952\n",
            "Epoch 10/25\n",
            "1000/1000 [==============================] - 2s 2ms/step - loss: 0.6293 - accuracy: 0.8079 - val_loss: 0.6915 - val_accuracy: 0.7903\n",
            "Epoch 11/25\n",
            "1000/1000 [==============================] - 2s 2ms/step - loss: 0.6223 - accuracy: 0.8098 - val_loss: 0.6749 - val_accuracy: 0.7996\n",
            "Epoch 12/25\n",
            "1000/1000 [==============================] - 2s 2ms/step - loss: 0.6099 - accuracy: 0.8148 - val_loss: 0.6695 - val_accuracy: 0.7965\n",
            "Epoch 13/25\n",
            "1000/1000 [==============================] - 2s 2ms/step - loss: 0.5989 - accuracy: 0.8176 - val_loss: 0.6612 - val_accuracy: 0.8028\n",
            "Epoch 14/25\n",
            "1000/1000 [==============================] - 2s 2ms/step - loss: 0.5925 - accuracy: 0.8187 - val_loss: 0.6688 - val_accuracy: 0.8056\n",
            "Epoch 15/25\n",
            "1000/1000 [==============================] - 2s 2ms/step - loss: 0.5844 - accuracy: 0.8223 - val_loss: 0.6656 - val_accuracy: 0.7972\n",
            "Epoch 16/25\n",
            "1000/1000 [==============================] - 2s 2ms/step - loss: 0.5747 - accuracy: 0.8240 - val_loss: 0.6703 - val_accuracy: 0.8016\n",
            "Epoch 17/25\n",
            "1000/1000 [==============================] - 2s 2ms/step - loss: 0.5707 - accuracy: 0.8258 - val_loss: 0.6632 - val_accuracy: 0.8027\n",
            "Epoch 18/25\n",
            "1000/1000 [==============================] - 2s 2ms/step - loss: 0.5643 - accuracy: 0.8283 - val_loss: 0.6884 - val_accuracy: 0.7967\n",
            "Epoch 19/25\n",
            "1000/1000 [==============================] - 2s 2ms/step - loss: 0.5584 - accuracy: 0.8298 - val_loss: 0.6578 - val_accuracy: 0.8042\n",
            "Epoch 20/25\n",
            "1000/1000 [==============================] - 2s 2ms/step - loss: 0.5516 - accuracy: 0.8314 - val_loss: 0.6613 - val_accuracy: 0.8038\n",
            "Epoch 21/25\n",
            "1000/1000 [==============================] - 2s 2ms/step - loss: 0.5470 - accuracy: 0.8320 - val_loss: 0.6631 - val_accuracy: 0.8039\n",
            "Epoch 22/25\n",
            "1000/1000 [==============================] - 2s 2ms/step - loss: 0.5417 - accuracy: 0.8343 - val_loss: 0.6663 - val_accuracy: 0.8049\n",
            "Epoch 23/25\n",
            "1000/1000 [==============================] - 2s 2ms/step - loss: 0.5371 - accuracy: 0.8367 - val_loss: 0.6657 - val_accuracy: 0.8061\n",
            "Epoch 24/25\n",
            "1000/1000 [==============================] - 2s 2ms/step - loss: 0.5344 - accuracy: 0.8377 - val_loss: 0.6765 - val_accuracy: 0.8023\n",
            "Epoch 25/25\n",
            "1000/1000 [==============================] - 2s 2ms/step - loss: 0.5314 - accuracy: 0.8374 - val_loss: 0.6619 - val_accuracy: 0.8056\n"
          ],
          "name": "stdout"
        }
      ]
    },
    {
      "cell_type": "code",
      "metadata": {
        "id": "wDlO70bQ47vY",
        "outputId": "3262fd2d-a5b9-443c-cdde-79b5108d56b9",
        "colab": {
          "base_uri": "https://localhost:8080/"
        }
      },
      "source": [
        "lr = 0.001\n",
        "model = create_model(lr = lr, opt = Ftrl)\n",
        "opt_Ftrl = model.fit(\n",
        "    X_train, y_train, \n",
        "    epochs=25,\n",
        "    batch_size=32,\n",
        "    validation_data=(X_val,y_val))"
      ],
      "execution_count": 17,
      "outputs": [
        {
          "output_type": "stream",
          "text": [
            "Epoch 1/25\n",
            "2000/2000 [==============================] - 5s 2ms/step - loss: 2.7152 - accuracy: 0.1867 - val_loss: 1.9920 - val_accuracy: 0.2615\n",
            "Epoch 2/25\n",
            "2000/2000 [==============================] - 5s 2ms/step - loss: 1.9301 - accuracy: 0.2758 - val_loss: 1.8886 - val_accuracy: 0.2867\n",
            "Epoch 3/25\n",
            "2000/2000 [==============================] - 5s 2ms/step - loss: 1.8559 - accuracy: 0.2895 - val_loss: 1.8330 - val_accuracy: 0.2949\n",
            "Epoch 4/25\n",
            "2000/2000 [==============================] - 5s 3ms/step - loss: 1.7910 - accuracy: 0.3130 - val_loss: 1.7611 - val_accuracy: 0.3307\n",
            "Epoch 5/25\n",
            "2000/2000 [==============================] - 5s 2ms/step - loss: 1.7264 - accuracy: 0.3513 - val_loss: 1.7022 - val_accuracy: 0.3780\n",
            "Epoch 6/25\n",
            "2000/2000 [==============================] - 5s 2ms/step - loss: 1.6595 - accuracy: 0.4177 - val_loss: 1.6174 - val_accuracy: 0.4579\n",
            "Epoch 7/25\n",
            "2000/2000 [==============================] - 4s 2ms/step - loss: 1.5725 - accuracy: 0.4751 - val_loss: 1.5378 - val_accuracy: 0.4914\n",
            "Epoch 8/25\n",
            "2000/2000 [==============================] - 4s 2ms/step - loss: 1.5012 - accuracy: 0.4977 - val_loss: 1.4764 - val_accuracy: 0.5088\n",
            "Epoch 9/25\n",
            "2000/2000 [==============================] - 4s 2ms/step - loss: 1.4443 - accuracy: 0.5113 - val_loss: 1.4265 - val_accuracy: 0.5184\n",
            "Epoch 10/25\n",
            "2000/2000 [==============================] - 4s 2ms/step - loss: 1.3967 - accuracy: 0.5243 - val_loss: 1.3826 - val_accuracy: 0.5292\n",
            "Epoch 11/25\n",
            "2000/2000 [==============================] - 4s 2ms/step - loss: 1.3547 - accuracy: 0.5366 - val_loss: 1.3430 - val_accuracy: 0.5412\n",
            "Epoch 12/25\n",
            "2000/2000 [==============================] - 5s 2ms/step - loss: 1.3167 - accuracy: 0.5471 - val_loss: 1.3081 - val_accuracy: 0.5498\n",
            "Epoch 13/25\n",
            "2000/2000 [==============================] - 5s 2ms/step - loss: 1.2828 - accuracy: 0.5572 - val_loss: 1.2752 - val_accuracy: 0.5603\n",
            "Epoch 14/25\n",
            "2000/2000 [==============================] - 4s 2ms/step - loss: 1.2526 - accuracy: 0.5664 - val_loss: 1.2458 - val_accuracy: 0.5707\n",
            "Epoch 15/25\n",
            "2000/2000 [==============================] - 4s 2ms/step - loss: 1.2255 - accuracy: 0.5755 - val_loss: 1.2202 - val_accuracy: 0.5789\n",
            "Epoch 16/25\n",
            "2000/2000 [==============================] - 4s 2ms/step - loss: 1.2004 - accuracy: 0.5831 - val_loss: 1.1968 - val_accuracy: 0.5885\n",
            "Epoch 17/25\n",
            "2000/2000 [==============================] - 4s 2ms/step - loss: 1.1775 - accuracy: 0.5908 - val_loss: 1.1741 - val_accuracy: 0.5956\n",
            "Epoch 18/25\n",
            "2000/2000 [==============================] - 4s 2ms/step - loss: 1.1565 - accuracy: 0.5987 - val_loss: 1.1538 - val_accuracy: 0.6012\n",
            "Epoch 19/25\n",
            "2000/2000 [==============================] - 4s 2ms/step - loss: 1.1371 - accuracy: 0.6071 - val_loss: 1.1346 - val_accuracy: 0.6097\n",
            "Epoch 20/25\n",
            "2000/2000 [==============================] - 4s 2ms/step - loss: 1.1193 - accuracy: 0.6163 - val_loss: 1.1171 - val_accuracy: 0.6181\n",
            "Epoch 21/25\n",
            "2000/2000 [==============================] - 4s 2ms/step - loss: 1.1030 - accuracy: 0.6260 - val_loss: 1.1006 - val_accuracy: 0.6253\n",
            "Epoch 22/25\n",
            "2000/2000 [==============================] - 4s 2ms/step - loss: 1.0878 - accuracy: 0.6350 - val_loss: 1.0857 - val_accuracy: 0.6358\n",
            "Epoch 23/25\n",
            "2000/2000 [==============================] - 4s 2ms/step - loss: 1.0736 - accuracy: 0.6429 - val_loss: 1.0726 - val_accuracy: 0.6424\n",
            "Epoch 24/25\n",
            "2000/2000 [==============================] - 4s 2ms/step - loss: 1.0603 - accuracy: 0.6500 - val_loss: 1.0588 - val_accuracy: 0.6501\n",
            "Epoch 25/25\n",
            "2000/2000 [==============================] - 4s 2ms/step - loss: 1.0479 - accuracy: 0.6574 - val_loss: 1.0463 - val_accuracy: 0.6566\n"
          ],
          "name": "stdout"
        }
      ]
    },
    {
      "cell_type": "code",
      "metadata": {
        "id": "01l1AlRw48Xz",
        "outputId": "0a10cc41-78c2-43f2-995d-02fe0b99ffc9",
        "colab": {
          "base_uri": "https://localhost:8080/"
        }
      },
      "source": [
        "lr = 0.001\n",
        "model = create_model(lr = lr, opt = RMSprop)\n",
        "opt_RMSprop = model.fit(\n",
        "    X_train, y_train, \n",
        "    epochs=25,\n",
        "    batch_size=32,\n",
        "    validation_data=(X_val,y_val))"
      ],
      "execution_count": 18,
      "outputs": [
        {
          "output_type": "stream",
          "text": [
            "Epoch 1/25\n",
            "2000/2000 [==============================] - 5s 3ms/step - loss: 1.9140 - accuracy: 0.4293 - val_loss: 1.3600 - val_accuracy: 0.5070\n",
            "Epoch 2/25\n",
            "2000/2000 [==============================] - 5s 3ms/step - loss: 1.3189 - accuracy: 0.5491 - val_loss: 1.2576 - val_accuracy: 0.5702\n",
            "Epoch 3/25\n",
            "2000/2000 [==============================] - 5s 3ms/step - loss: 1.2337 - accuracy: 0.5862 - val_loss: 1.2224 - val_accuracy: 0.6193\n",
            "Epoch 4/25\n",
            "2000/2000 [==============================] - 5s 3ms/step - loss: 1.1787 - accuracy: 0.6096 - val_loss: 1.1912 - val_accuracy: 0.6251\n",
            "Epoch 5/25\n",
            "2000/2000 [==============================] - 5s 3ms/step - loss: 1.1398 - accuracy: 0.6211 - val_loss: 1.2472 - val_accuracy: 0.6467\n",
            "Epoch 6/25\n",
            "2000/2000 [==============================] - 5s 3ms/step - loss: 1.1017 - accuracy: 0.6363 - val_loss: 1.1624 - val_accuracy: 0.6349\n",
            "Epoch 7/25\n",
            "2000/2000 [==============================] - 5s 3ms/step - loss: 1.0854 - accuracy: 0.6444 - val_loss: 1.3029 - val_accuracy: 0.6529\n",
            "Epoch 8/25\n",
            "2000/2000 [==============================] - 5s 3ms/step - loss: 1.0820 - accuracy: 0.6479 - val_loss: 1.1909 - val_accuracy: 0.6489\n",
            "Epoch 9/25\n",
            "2000/2000 [==============================] - 5s 3ms/step - loss: 1.0902 - accuracy: 0.6497 - val_loss: 1.3444 - val_accuracy: 0.6502\n",
            "Epoch 10/25\n",
            "2000/2000 [==============================] - 5s 3ms/step - loss: 1.0730 - accuracy: 0.6563 - val_loss: 1.2015 - val_accuracy: 0.6626\n",
            "Epoch 11/25\n",
            "2000/2000 [==============================] - 5s 3ms/step - loss: 1.0860 - accuracy: 0.6585 - val_loss: 1.2767 - val_accuracy: 0.6666\n",
            "Epoch 12/25\n",
            "2000/2000 [==============================] - 5s 3ms/step - loss: 1.0826 - accuracy: 0.6576 - val_loss: 1.2361 - val_accuracy: 0.6361\n",
            "Epoch 13/25\n",
            "2000/2000 [==============================] - 5s 3ms/step - loss: 1.1174 - accuracy: 0.6558 - val_loss: 1.3169 - val_accuracy: 0.6541\n",
            "Epoch 14/25\n",
            "2000/2000 [==============================] - 5s 3ms/step - loss: 1.1367 - accuracy: 0.6539 - val_loss: 1.2889 - val_accuracy: 0.6292\n",
            "Epoch 15/25\n",
            "2000/2000 [==============================] - 5s 3ms/step - loss: 1.1193 - accuracy: 0.6514 - val_loss: 1.3161 - val_accuracy: 0.6461\n",
            "Epoch 16/25\n",
            "2000/2000 [==============================] - 5s 3ms/step - loss: 1.1426 - accuracy: 0.6477 - val_loss: 1.3308 - val_accuracy: 0.6329\n",
            "Epoch 17/25\n",
            "2000/2000 [==============================] - 5s 3ms/step - loss: 1.1622 - accuracy: 0.6435 - val_loss: 1.5402 - val_accuracy: 0.6446\n",
            "Epoch 18/25\n",
            "2000/2000 [==============================] - 5s 3ms/step - loss: 1.1914 - accuracy: 0.6387 - val_loss: 1.5767 - val_accuracy: 0.6332\n",
            "Epoch 19/25\n",
            "2000/2000 [==============================] - 5s 3ms/step - loss: 1.2058 - accuracy: 0.6329 - val_loss: 1.6134 - val_accuracy: 0.6463\n",
            "Epoch 20/25\n",
            "2000/2000 [==============================] - 5s 3ms/step - loss: 1.2324 - accuracy: 0.6320 - val_loss: 1.3875 - val_accuracy: 0.6029\n",
            "Epoch 21/25\n",
            "2000/2000 [==============================] - 5s 3ms/step - loss: 1.2134 - accuracy: 0.6296 - val_loss: 1.5193 - val_accuracy: 0.6195\n",
            "Epoch 22/25\n",
            "2000/2000 [==============================] - 5s 3ms/step - loss: 1.2616 - accuracy: 0.6223 - val_loss: 1.6495 - val_accuracy: 0.6045\n",
            "Epoch 23/25\n",
            "2000/2000 [==============================] - 5s 3ms/step - loss: 1.3073 - accuracy: 0.6125 - val_loss: 2.1429 - val_accuracy: 0.6634\n",
            "Epoch 24/25\n",
            "2000/2000 [==============================] - 5s 3ms/step - loss: 1.2912 - accuracy: 0.6205 - val_loss: 1.5142 - val_accuracy: 0.5797\n",
            "Epoch 25/25\n",
            "2000/2000 [==============================] - 5s 3ms/step - loss: 1.2405 - accuracy: 0.6119 - val_loss: 2.8478 - val_accuracy: 0.6381\n"
          ],
          "name": "stdout"
        }
      ]
    },
    {
      "cell_type": "code",
      "metadata": {
        "id": "KlHoN9P048OC",
        "outputId": "86bf9b1b-fbbf-4bca-ff9b-2cffa44db88d",
        "colab": {
          "base_uri": "https://localhost:8080/"
        }
      },
      "source": [
        "lr = 0.001\n",
        "model = create_model(lr = lr, opt = Adagrad)\n",
        "opt_Adagrad = model.fit(\n",
        "    X_train, y_train, \n",
        "    epochs=25,\n",
        "    batch_size=32,\n",
        "    validation_data=(X_val,y_val))"
      ],
      "execution_count": 19,
      "outputs": [
        {
          "output_type": "stream",
          "text": [
            "Epoch 1/25\n",
            "2000/2000 [==============================] - 4s 2ms/step - loss: 3.6024 - accuracy: 0.1102 - val_loss: 2.3524 - val_accuracy: 0.1072\n",
            "Epoch 2/25\n",
            "2000/2000 [==============================] - 4s 2ms/step - loss: 2.3177 - accuracy: 0.1115 - val_loss: 2.3202 - val_accuracy: 0.1119\n",
            "Epoch 3/25\n",
            "2000/2000 [==============================] - 4s 2ms/step - loss: 2.2956 - accuracy: 0.1165 - val_loss: 2.3031 - val_accuracy: 0.1193\n",
            "Epoch 4/25\n",
            "2000/2000 [==============================] - 4s 2ms/step - loss: 2.2805 - accuracy: 0.1244 - val_loss: 2.2922 - val_accuracy: 0.1278\n",
            "Epoch 5/25\n",
            "2000/2000 [==============================] - 4s 2ms/step - loss: 2.2663 - accuracy: 0.1321 - val_loss: 2.2807 - val_accuracy: 0.1276\n",
            "Epoch 6/25\n",
            "2000/2000 [==============================] - 4s 2ms/step - loss: 2.2544 - accuracy: 0.1354 - val_loss: 2.2696 - val_accuracy: 0.1394\n",
            "Epoch 7/25\n",
            "2000/2000 [==============================] - 4s 2ms/step - loss: 2.2434 - accuracy: 0.1426 - val_loss: 2.2575 - val_accuracy: 0.1449\n",
            "Epoch 8/25\n",
            "2000/2000 [==============================] - 4s 2ms/step - loss: 2.2325 - accuracy: 0.1464 - val_loss: 2.2490 - val_accuracy: 0.1487\n",
            "Epoch 9/25\n",
            "2000/2000 [==============================] - 4s 2ms/step - loss: 2.2229 - accuracy: 0.1496 - val_loss: 2.2404 - val_accuracy: 0.1488\n",
            "Epoch 10/25\n",
            "2000/2000 [==============================] - 4s 2ms/step - loss: 2.2155 - accuracy: 0.1526 - val_loss: 2.2361 - val_accuracy: 0.1544\n",
            "Epoch 11/25\n",
            "2000/2000 [==============================] - 4s 2ms/step - loss: 2.2080 - accuracy: 0.1558 - val_loss: 2.2285 - val_accuracy: 0.1557\n",
            "Epoch 12/25\n",
            "2000/2000 [==============================] - 4s 2ms/step - loss: 2.2012 - accuracy: 0.1582 - val_loss: 2.2233 - val_accuracy: 0.1594\n",
            "Epoch 13/25\n",
            "2000/2000 [==============================] - 4s 2ms/step - loss: 2.1940 - accuracy: 0.1626 - val_loss: 2.2177 - val_accuracy: 0.1616\n",
            "Epoch 14/25\n",
            "2000/2000 [==============================] - 4s 2ms/step - loss: 2.1875 - accuracy: 0.1644 - val_loss: 2.2135 - val_accuracy: 0.1626\n",
            "Epoch 15/25\n",
            "2000/2000 [==============================] - 4s 2ms/step - loss: 2.1821 - accuracy: 0.1664 - val_loss: 2.2106 - val_accuracy: 0.1669\n",
            "Epoch 16/25\n",
            "2000/2000 [==============================] - 4s 2ms/step - loss: 2.1773 - accuracy: 0.1683 - val_loss: 2.2064 - val_accuracy: 0.1680\n",
            "Epoch 17/25\n",
            "2000/2000 [==============================] - 4s 2ms/step - loss: 2.1724 - accuracy: 0.1705 - val_loss: 2.2025 - val_accuracy: 0.1683\n",
            "Epoch 18/25\n",
            "2000/2000 [==============================] - 4s 2ms/step - loss: 2.1685 - accuracy: 0.1715 - val_loss: 2.1998 - val_accuracy: 0.1697\n",
            "Epoch 19/25\n",
            "2000/2000 [==============================] - 5s 2ms/step - loss: 2.1646 - accuracy: 0.1727 - val_loss: 2.1966 - val_accuracy: 0.1700\n",
            "Epoch 20/25\n",
            "2000/2000 [==============================] - 5s 2ms/step - loss: 2.1611 - accuracy: 0.1741 - val_loss: 2.1935 - val_accuracy: 0.1726\n",
            "Epoch 21/25\n",
            "2000/2000 [==============================] - 4s 2ms/step - loss: 2.1572 - accuracy: 0.1760 - val_loss: 2.1902 - val_accuracy: 0.1739\n",
            "Epoch 22/25\n",
            "2000/2000 [==============================] - 4s 2ms/step - loss: 2.1540 - accuracy: 0.1779 - val_loss: 2.1874 - val_accuracy: 0.1744\n",
            "Epoch 23/25\n",
            "2000/2000 [==============================] - 4s 2ms/step - loss: 2.1509 - accuracy: 0.1789 - val_loss: 2.1851 - val_accuracy: 0.1765\n",
            "Epoch 24/25\n",
            "2000/2000 [==============================] - 4s 2ms/step - loss: 2.1480 - accuracy: 0.1799 - val_loss: 2.1825 - val_accuracy: 0.1769\n",
            "Epoch 25/25\n",
            "2000/2000 [==============================] - 4s 2ms/step - loss: 2.1454 - accuracy: 0.1811 - val_loss: 2.1807 - val_accuracy: 0.1788\n"
          ],
          "name": "stdout"
        }
      ]
    },
    {
      "cell_type": "code",
      "metadata": {
        "id": "s9GTZ7yY47kg",
        "outputId": "491cba5a-b63f-4bf1-9db7-c7696704f397",
        "colab": {
          "base_uri": "https://localhost:8080/"
        }
      },
      "source": [
        "lr = 0.001\n",
        "model = create_model(lr = lr, opt = SGD)\n",
        "opt_SGD = model.fit(\n",
        "    X_train, y_train, \n",
        "    epochs=25,\n",
        "    batch_size=32,\n",
        "    validation_data=(X_val,y_val))"
      ],
      "execution_count": 20,
      "outputs": [
        {
          "output_type": "stream",
          "text": [
            "Epoch 1/25\n",
            "2000/2000 [==============================] - 5s 2ms/step - loss: 2.2964 - accuracy: 0.1634 - val_loss: 2.1590 - val_accuracy: 0.1716\n",
            "Epoch 2/25\n",
            "2000/2000 [==============================] - 4s 2ms/step - loss: 2.0717 - accuracy: 0.2189 - val_loss: 1.9983 - val_accuracy: 0.2494\n",
            "Epoch 3/25\n",
            "2000/2000 [==============================] - 4s 2ms/step - loss: 1.9565 - accuracy: 0.2639 - val_loss: 1.9418 - val_accuracy: 0.2633\n",
            "Epoch 4/25\n",
            "2000/2000 [==============================] - 4s 2ms/step - loss: 1.9057 - accuracy: 0.2792 - val_loss: 1.8960 - val_accuracy: 0.2801\n",
            "Epoch 5/25\n",
            "2000/2000 [==============================] - 4s 2ms/step - loss: 1.8706 - accuracy: 0.2869 - val_loss: 1.8740 - val_accuracy: 0.2862\n",
            "Epoch 6/25\n",
            "2000/2000 [==============================] - 4s 2ms/step - loss: 1.8472 - accuracy: 0.2915 - val_loss: 1.8539 - val_accuracy: 0.2978\n",
            "Epoch 7/25\n",
            "2000/2000 [==============================] - 4s 2ms/step - loss: 1.8265 - accuracy: 0.2980 - val_loss: 1.8368 - val_accuracy: 0.3005\n",
            "Epoch 8/25\n",
            "2000/2000 [==============================] - 4s 2ms/step - loss: 1.8012 - accuracy: 0.3062 - val_loss: 1.8118 - val_accuracy: 0.3041\n",
            "Epoch 9/25\n",
            "2000/2000 [==============================] - 4s 2ms/step - loss: 1.7711 - accuracy: 0.3165 - val_loss: 1.7842 - val_accuracy: 0.3187\n",
            "Epoch 10/25\n",
            "2000/2000 [==============================] - 4s 2ms/step - loss: 1.7264 - accuracy: 0.3354 - val_loss: 1.7310 - val_accuracy: 0.3414\n",
            "Epoch 11/25\n",
            "2000/2000 [==============================] - 4s 2ms/step - loss: 1.6940 - accuracy: 0.3470 - val_loss: 1.7037 - val_accuracy: 0.3483\n",
            "Epoch 12/25\n",
            "2000/2000 [==============================] - 4s 2ms/step - loss: 1.6556 - accuracy: 0.3667 - val_loss: 1.5945 - val_accuracy: 0.4129\n",
            "Epoch 13/25\n",
            "2000/2000 [==============================] - 4s 2ms/step - loss: 1.5219 - accuracy: 0.4296 - val_loss: 1.5147 - val_accuracy: 0.4345\n",
            "Epoch 14/25\n",
            "2000/2000 [==============================] - 4s 2ms/step - loss: 1.4586 - accuracy: 0.4454 - val_loss: 1.4784 - val_accuracy: 0.4398\n",
            "Epoch 15/25\n",
            "2000/2000 [==============================] - 4s 2ms/step - loss: 1.4249 - accuracy: 0.4524 - val_loss: 1.4477 - val_accuracy: 0.4551\n",
            "Epoch 16/25\n",
            "2000/2000 [==============================] - 4s 2ms/step - loss: 1.3951 - accuracy: 0.4658 - val_loss: 1.4061 - val_accuracy: 0.4762\n",
            "Epoch 17/25\n",
            "2000/2000 [==============================] - 4s 2ms/step - loss: 1.3637 - accuracy: 0.4791 - val_loss: 1.3936 - val_accuracy: 0.4809\n",
            "Epoch 18/25\n",
            "2000/2000 [==============================] - 4s 2ms/step - loss: 1.3357 - accuracy: 0.4877 - val_loss: 1.3572 - val_accuracy: 0.4897\n",
            "Epoch 19/25\n",
            "2000/2000 [==============================] - 4s 2ms/step - loss: 1.3033 - accuracy: 0.4995 - val_loss: 1.3117 - val_accuracy: 0.5034\n",
            "Epoch 20/25\n",
            "2000/2000 [==============================] - 4s 2ms/step - loss: 1.2455 - accuracy: 0.5211 - val_loss: 1.2588 - val_accuracy: 0.5226\n",
            "Epoch 21/25\n",
            "2000/2000 [==============================] - 4s 2ms/step - loss: 1.1979 - accuracy: 0.5530 - val_loss: 1.2146 - val_accuracy: 0.5573\n",
            "Epoch 22/25\n",
            "2000/2000 [==============================] - 4s 2ms/step - loss: 1.1606 - accuracy: 0.5657 - val_loss: 1.1871 - val_accuracy: 0.5660\n",
            "Epoch 23/25\n",
            "2000/2000 [==============================] - 4s 2ms/step - loss: 1.1323 - accuracy: 0.5761 - val_loss: 1.1775 - val_accuracy: 0.5721\n",
            "Epoch 24/25\n",
            "2000/2000 [==============================] - 4s 2ms/step - loss: 1.1093 - accuracy: 0.5860 - val_loss: 1.1477 - val_accuracy: 0.5815\n",
            "Epoch 25/25\n",
            "2000/2000 [==============================] - 4s 2ms/step - loss: 1.0890 - accuracy: 0.5922 - val_loss: 1.1301 - val_accuracy: 0.5855\n"
          ],
          "name": "stdout"
        }
      ]
    },
    {
      "cell_type": "code",
      "metadata": {
        "id": "wspnPdQHAAUc",
        "outputId": "43a7fb42-be41-45f7-8c03-70ddba8b0304",
        "colab": {
          "base_uri": "https://localhost:8080/",
          "height": 302
        }
      },
      "source": [
        "optimizers = []\n",
        "for exp, result in zip([opt_SGD, opt_Adagrad, opt_Ftrl, opt_Adam, opt_RMSprop], [\"SGD\", \"Adagrad\", \"Ftrl\", \"Adam\", \"RMSprop\"]):\n",
        "    df = pd.DataFrame.from_dict(exp.history)\n",
        "    df['epoch'] = df.index.values\n",
        "    df['Optimizer'] = result\n",
        "    optimizers.append(df)\n",
        "df = pd.concat(optimizers)\n",
        "df['Optimizer'] = df['Optimizer'].astype('str')\n",
        "\n",
        "sns.set(style=\"darkgrid\")\n",
        "sns.lineplot(x='epoch', y='val_accuracy', hue = 'Optimizer', data=df)\n",
        "plt.legend(bbox_to_anchor=(1.05, 1), loc=2, borderaxespad=0, title = 'Optimizers')"
      ],
      "execution_count": 35,
      "outputs": [
        {
          "output_type": "execute_result",
          "data": {
            "text/plain": [
              "<matplotlib.legend.Legend at 0x7ff4681615c0>"
            ]
          },
          "metadata": {
            "tags": []
          },
          "execution_count": 35
        },
        {
          "output_type": "display_data",
          "data": {
            "image/png": "[encoded data removed]",
            "text/plain": [
              "<Figure size 432x288 with 1 Axes>"
            ]
          },
          "metadata": {
            "tags": []
          }
        }
      ]
    },
    {
      "cell_type": "markdown",
      "metadata": {
        "id": "KZFbWOuLGVpP"
      },
      "source": [
        "The Adam optimizer yeilds the highest accuracy afte 25 epochs with a learning rate of 0.001 and a batch size of 32. Now I will try a couple more itertations with Adam with larger and smaller batches and a higher and lower learning rate."
      ]
    },
    {
      "cell_type": "markdown",
      "metadata": {
        "id": "O1xyYMAZN6Xh"
      },
      "source": [
        "## Adam with lower and higher learning rates"
      ]
    },
    {
      "cell_type": "code",
      "metadata": {
        "id": "hdPT0rusNVWo",
        "outputId": "c35e91fe-fea8-43df-b926-3dee3c89579c",
        "colab": {
          "base_uri": "https://localhost:8080/"
        }
      },
      "source": [
        "lr = 0.01\n",
        "model = create_model(lr = lr, opt = Adam)\n",
        "lr_big = model.fit(\n",
        "    X_train, y_train, \n",
        "    epochs=25,\n",
        "    batch_size=32,\n",
        "    validation_data=(X_val,y_val))"
      ],
      "execution_count": 22,
      "outputs": [
        {
          "output_type": "stream",
          "text": [
            "Epoch 1/25\n",
            "2000/2000 [==============================] - 4s 2ms/step - loss: 2.5067 - accuracy: 0.0996 - val_loss: 2.3035 - val_accuracy: 0.1001\n",
            "Epoch 2/25\n",
            "2000/2000 [==============================] - 4s 2ms/step - loss: 2.3040 - accuracy: 0.0982 - val_loss: 2.3031 - val_accuracy: 0.1001\n",
            "Epoch 3/25\n",
            "2000/2000 [==============================] - 4s 2ms/step - loss: 2.3040 - accuracy: 0.1005 - val_loss: 2.3030 - val_accuracy: 0.1001\n",
            "Epoch 4/25\n",
            "2000/2000 [==============================] - 4s 2ms/step - loss: 2.3042 - accuracy: 0.0994 - val_loss: 2.3031 - val_accuracy: 0.1001\n",
            "Epoch 5/25\n",
            "2000/2000 [==============================] - 4s 2ms/step - loss: 2.3040 - accuracy: 0.1005 - val_loss: 2.3041 - val_accuracy: 0.1001\n",
            "Epoch 6/25\n",
            "2000/2000 [==============================] - 4s 2ms/step - loss: 2.3041 - accuracy: 0.0979 - val_loss: 2.3035 - val_accuracy: 0.1000\n",
            "Epoch 7/25\n",
            "2000/2000 [==============================] - 4s 2ms/step - loss: 2.3040 - accuracy: 0.0989 - val_loss: 2.3038 - val_accuracy: 0.1001\n",
            "Epoch 8/25\n",
            "2000/2000 [==============================] - 4s 2ms/step - loss: 2.3040 - accuracy: 0.0988 - val_loss: 2.3054 - val_accuracy: 0.1001\n",
            "Epoch 9/25\n",
            "2000/2000 [==============================] - 4s 2ms/step - loss: 2.3040 - accuracy: 0.0997 - val_loss: 2.3035 - val_accuracy: 0.1001\n",
            "Epoch 10/25\n",
            "2000/2000 [==============================] - 4s 2ms/step - loss: 2.3040 - accuracy: 0.0991 - val_loss: 2.3038 - val_accuracy: 0.1001\n",
            "Epoch 11/25\n",
            "2000/2000 [==============================] - 4s 2ms/step - loss: 2.3040 - accuracy: 0.0986 - val_loss: 2.3034 - val_accuracy: 0.1001\n",
            "Epoch 12/25\n",
            "2000/2000 [==============================] - 4s 2ms/step - loss: 2.3039 - accuracy: 0.1011 - val_loss: 2.3041 - val_accuracy: 0.1001\n",
            "Epoch 13/25\n",
            "2000/2000 [==============================] - 4s 2ms/step - loss: 2.3039 - accuracy: 0.0987 - val_loss: 2.3033 - val_accuracy: 0.1001\n",
            "Epoch 14/25\n",
            "2000/2000 [==============================] - 4s 2ms/step - loss: 2.3038 - accuracy: 0.0997 - val_loss: 2.3057 - val_accuracy: 0.1000\n",
            "Epoch 15/25\n",
            "2000/2000 [==============================] - 4s 2ms/step - loss: 2.3041 - accuracy: 0.0992 - val_loss: 2.3034 - val_accuracy: 0.1001\n",
            "Epoch 16/25\n",
            "2000/2000 [==============================] - 4s 2ms/step - loss: 2.3042 - accuracy: 0.0994 - val_loss: 2.3033 - val_accuracy: 0.1000\n",
            "Epoch 17/25\n",
            "2000/2000 [==============================] - 4s 2ms/step - loss: 2.3039 - accuracy: 0.0987 - val_loss: 2.3041 - val_accuracy: 0.1001\n",
            "Epoch 18/25\n",
            "2000/2000 [==============================] - 4s 2ms/step - loss: 2.3042 - accuracy: 0.0986 - val_loss: 2.3029 - val_accuracy: 0.1001\n",
            "Epoch 19/25\n",
            "2000/2000 [==============================] - 4s 2ms/step - loss: 2.3041 - accuracy: 0.0992 - val_loss: 2.3030 - val_accuracy: 0.1001\n",
            "Epoch 20/25\n",
            "2000/2000 [==============================] - 4s 2ms/step - loss: 2.3039 - accuracy: 0.1006 - val_loss: 2.3036 - val_accuracy: 0.1001\n",
            "Epoch 21/25\n",
            "2000/2000 [==============================] - 4s 2ms/step - loss: 2.3039 - accuracy: 0.1005 - val_loss: 2.3031 - val_accuracy: 0.1001\n",
            "Epoch 22/25\n",
            "2000/2000 [==============================] - 4s 2ms/step - loss: 2.3038 - accuracy: 0.0990 - val_loss: 2.3040 - val_accuracy: 0.1001\n",
            "Epoch 23/25\n",
            "2000/2000 [==============================] - 4s 2ms/step - loss: 2.3041 - accuracy: 0.0962 - val_loss: 2.3031 - val_accuracy: 0.1000\n",
            "Epoch 24/25\n",
            "2000/2000 [==============================] - 4s 2ms/step - loss: 2.3040 - accuracy: 0.0996 - val_loss: 2.3031 - val_accuracy: 0.1001\n",
            "Epoch 25/25\n",
            "2000/2000 [==============================] - 4s 2ms/step - loss: 2.3039 - accuracy: 0.0991 - val_loss: 2.3034 - val_accuracy: 0.1001\n"
          ],
          "name": "stdout"
        }
      ]
    },
    {
      "cell_type": "code",
      "metadata": {
        "id": "LxM1ECJqNnOx",
        "outputId": "9e7aa521-8bf2-4ad5-d933-d241688706b0",
        "colab": {
          "base_uri": "https://localhost:8080/"
        }
      },
      "source": [
        "lr = 0.0001\n",
        "model = create_model(lr = lr, opt = Adam)\n",
        "lr_tiny = model.fit(\n",
        "    X_train, y_train, \n",
        "    epochs=25,\n",
        "    batch_size=32,\n",
        "    validation_data=(X_val,y_val))"
      ],
      "execution_count": 23,
      "outputs": [
        {
          "output_type": "stream",
          "text": [
            "Epoch 1/25\n",
            "2000/2000 [==============================] - 5s 2ms/step - loss: 4.2894 - accuracy: 0.1433 - val_loss: 2.2226 - val_accuracy: 0.1579\n",
            "Epoch 2/25\n",
            "2000/2000 [==============================] - 4s 2ms/step - loss: 2.1666 - accuracy: 0.1755 - val_loss: 2.1312 - val_accuracy: 0.1937\n",
            "Epoch 3/25\n",
            "2000/2000 [==============================] - 4s 2ms/step - loss: 2.0143 - accuracy: 0.2459 - val_loss: 1.9524 - val_accuracy: 0.2752\n",
            "Epoch 4/25\n",
            "2000/2000 [==============================] - 4s 2ms/step - loss: 1.8798 - accuracy: 0.3069 - val_loss: 1.8302 - val_accuracy: 0.3621\n",
            "Epoch 5/25\n",
            "2000/2000 [==============================] - 4s 2ms/step - loss: 1.7228 - accuracy: 0.3828 - val_loss: 1.6840 - val_accuracy: 0.4112\n",
            "Epoch 6/25\n",
            "2000/2000 [==============================] - 4s 2ms/step - loss: 1.5866 - accuracy: 0.4399 - val_loss: 1.5637 - val_accuracy: 0.4510\n",
            "Epoch 7/25\n",
            "2000/2000 [==============================] - 4s 2ms/step - loss: 1.4606 - accuracy: 0.4880 - val_loss: 1.4615 - val_accuracy: 0.5009\n",
            "Epoch 8/25\n",
            "2000/2000 [==============================] - 4s 2ms/step - loss: 1.3667 - accuracy: 0.5201 - val_loss: 1.3877 - val_accuracy: 0.5322\n",
            "Epoch 9/25\n",
            "2000/2000 [==============================] - 4s 2ms/step - loss: 1.2841 - accuracy: 0.5446 - val_loss: 1.3222 - val_accuracy: 0.5419\n",
            "Epoch 10/25\n",
            "2000/2000 [==============================] - 4s 2ms/step - loss: 1.1825 - accuracy: 0.5866 - val_loss: 1.2075 - val_accuracy: 0.6399\n",
            "Epoch 11/25\n",
            "2000/2000 [==============================] - 4s 2ms/step - loss: 1.0797 - accuracy: 0.6542 - val_loss: 1.1284 - val_accuracy: 0.6564\n",
            "Epoch 12/25\n",
            "2000/2000 [==============================] - 4s 2ms/step - loss: 1.0147 - accuracy: 0.6703 - val_loss: 1.0943 - val_accuracy: 0.6699\n",
            "Epoch 13/25\n",
            "2000/2000 [==============================] - 4s 2ms/step - loss: 0.9654 - accuracy: 0.6842 - val_loss: 1.0404 - val_accuracy: 0.6799\n",
            "Epoch 14/25\n",
            "2000/2000 [==============================] - 4s 2ms/step - loss: 0.9250 - accuracy: 0.6970 - val_loss: 1.0131 - val_accuracy: 0.6871\n",
            "Epoch 15/25\n",
            "2000/2000 [==============================] - 5s 2ms/step - loss: 0.8912 - accuracy: 0.7075 - val_loss: 0.9828 - val_accuracy: 0.6971\n",
            "Epoch 16/25\n",
            "2000/2000 [==============================] - 5s 3ms/step - loss: 0.8605 - accuracy: 0.7201 - val_loss: 0.9511 - val_accuracy: 0.7121\n",
            "Epoch 17/25\n",
            "2000/2000 [==============================] - 5s 2ms/step - loss: 0.8320 - accuracy: 0.7329 - val_loss: 0.9423 - val_accuracy: 0.7155\n",
            "Epoch 18/25\n",
            "2000/2000 [==============================] - 4s 2ms/step - loss: 0.8053 - accuracy: 0.7471 - val_loss: 0.9106 - val_accuracy: 0.7320\n",
            "Epoch 19/25\n",
            "2000/2000 [==============================] - 4s 2ms/step - loss: 0.7811 - accuracy: 0.7576 - val_loss: 0.8851 - val_accuracy: 0.7458\n",
            "Epoch 20/25\n",
            "2000/2000 [==============================] - 4s 2ms/step - loss: 0.7581 - accuracy: 0.7689 - val_loss: 0.8764 - val_accuracy: 0.7569\n",
            "Epoch 21/25\n",
            "2000/2000 [==============================] - 5s 2ms/step - loss: 0.7374 - accuracy: 0.7755 - val_loss: 0.8601 - val_accuracy: 0.7611\n",
            "Epoch 22/25\n",
            "2000/2000 [==============================] - 5s 2ms/step - loss: 0.7180 - accuracy: 0.7827 - val_loss: 0.8411 - val_accuracy: 0.7660\n",
            "Epoch 23/25\n",
            "2000/2000 [==============================] - 4s 2ms/step - loss: 0.7012 - accuracy: 0.7889 - val_loss: 0.8308 - val_accuracy: 0.7714\n",
            "Epoch 24/25\n",
            "2000/2000 [==============================] - 4s 2ms/step - loss: 0.6851 - accuracy: 0.7941 - val_loss: 0.8212 - val_accuracy: 0.7699\n",
            "Epoch 25/25\n",
            "2000/2000 [==============================] - 4s 2ms/step - loss: 0.6714 - accuracy: 0.7983 - val_loss: 0.8127 - val_accuracy: 0.7779\n"
          ],
          "name": "stdout"
        }
      ]
    },
    {
      "cell_type": "markdown",
      "metadata": {
        "id": "DdzJwjbjPst4"
      },
      "source": [
        "Neither attempt at adjusting the learnign rate yeided a better accuruacy. Now I will try with smaller batch sizes. "
      ]
    },
    {
      "cell_type": "code",
      "metadata": {
        "id": "-s3W_PA8RWxe",
        "outputId": "706a3387-27bc-42f5-f2aa-f3f383180d6d",
        "colab": {
          "base_uri": "https://localhost:8080/"
        }
      },
      "source": [
        "lr = 0.001\n",
        "model = create_model(lr = lr, opt = Adam)\n",
        "bt_tiny = model.fit(\n",
        "    X_train, y_train, \n",
        "    epochs=25,\n",
        "    batch_size=16,\n",
        "    validation_data=(X_val,y_val))"
      ],
      "execution_count": 24,
      "outputs": [
        {
          "output_type": "stream",
          "text": [
            "Epoch 1/25\n",
            "4000/4000 [==============================] - 9s 2ms/step - loss: 1.5984 - accuracy: 0.5232 - val_loss: 1.1048 - val_accuracy: 0.6395\n",
            "Epoch 2/25\n",
            "4000/4000 [==============================] - 9s 2ms/step - loss: 0.9803 - accuracy: 0.6954 - val_loss: 0.8301 - val_accuracy: 0.7492\n",
            "Epoch 3/25\n",
            "4000/4000 [==============================] - 9s 2ms/step - loss: 0.8208 - accuracy: 0.7521 - val_loss: 0.7922 - val_accuracy: 0.7663\n",
            "Epoch 4/25\n",
            "4000/4000 [==============================] - 9s 2ms/step - loss: 0.7581 - accuracy: 0.7746 - val_loss: 0.7504 - val_accuracy: 0.7785\n",
            "Epoch 5/25\n",
            "4000/4000 [==============================] - 9s 2ms/step - loss: 0.7267 - accuracy: 0.7845 - val_loss: 0.7216 - val_accuracy: 0.7889\n",
            "Epoch 6/25\n",
            "4000/4000 [==============================] - 9s 2ms/step - loss: 0.6984 - accuracy: 0.7934 - val_loss: 0.7167 - val_accuracy: 0.7897\n",
            "Epoch 7/25\n",
            "4000/4000 [==============================] - 9s 2ms/step - loss: 0.6721 - accuracy: 0.8004 - val_loss: 0.6962 - val_accuracy: 0.7941\n",
            "Epoch 8/25\n",
            "4000/4000 [==============================] - 9s 2ms/step - loss: 0.6565 - accuracy: 0.8060 - val_loss: 0.7050 - val_accuracy: 0.7889\n",
            "Epoch 9/25\n",
            "4000/4000 [==============================] - 8s 2ms/step - loss: 0.6397 - accuracy: 0.8098 - val_loss: 0.6870 - val_accuracy: 0.7947\n",
            "Epoch 10/25\n",
            "4000/4000 [==============================] - 9s 2ms/step - loss: 0.6272 - accuracy: 0.8128 - val_loss: 0.6754 - val_accuracy: 0.8026\n",
            "Epoch 11/25\n",
            "4000/4000 [==============================] - 9s 2ms/step - loss: 0.6149 - accuracy: 0.8172 - val_loss: 0.6673 - val_accuracy: 0.8011\n",
            "Epoch 12/25\n",
            "4000/4000 [==============================] - 9s 2ms/step - loss: 0.6029 - accuracy: 0.8200 - val_loss: 0.6869 - val_accuracy: 0.7979\n",
            "Epoch 13/25\n",
            "4000/4000 [==============================] - 9s 2ms/step - loss: 0.5938 - accuracy: 0.8218 - val_loss: 0.6620 - val_accuracy: 0.8018\n",
            "Epoch 14/25\n",
            "4000/4000 [==============================] - 9s 2ms/step - loss: 0.5896 - accuracy: 0.8234 - val_loss: 0.6576 - val_accuracy: 0.8062\n",
            "Epoch 15/25\n",
            "4000/4000 [==============================] - 9s 2ms/step - loss: 0.5818 - accuracy: 0.8272 - val_loss: 0.6775 - val_accuracy: 0.8014\n",
            "Epoch 16/25\n",
            "4000/4000 [==============================] - 9s 2ms/step - loss: 0.5750 - accuracy: 0.8280 - val_loss: 0.6561 - val_accuracy: 0.8018\n",
            "Epoch 17/25\n",
            "4000/4000 [==============================] - 9s 2ms/step - loss: 0.5692 - accuracy: 0.8295 - val_loss: 0.6741 - val_accuracy: 0.8061\n",
            "Epoch 18/25\n",
            "4000/4000 [==============================] - 9s 2ms/step - loss: 0.5653 - accuracy: 0.8307 - val_loss: 0.6495 - val_accuracy: 0.8106\n",
            "Epoch 19/25\n",
            "4000/4000 [==============================] - 9s 2ms/step - loss: 0.5588 - accuracy: 0.8315 - val_loss: 0.6639 - val_accuracy: 0.8056\n",
            "Epoch 20/25\n",
            "4000/4000 [==============================] - 9s 2ms/step - loss: 0.5556 - accuracy: 0.8334 - val_loss: 0.6751 - val_accuracy: 0.8025\n",
            "Epoch 21/25\n",
            "4000/4000 [==============================] - 9s 2ms/step - loss: 0.5508 - accuracy: 0.8346 - val_loss: 0.6568 - val_accuracy: 0.8073\n",
            "Epoch 22/25\n",
            "4000/4000 [==============================] - 9s 2ms/step - loss: 0.5483 - accuracy: 0.8357 - val_loss: 0.6570 - val_accuracy: 0.8081\n",
            "Epoch 23/25\n",
            "4000/4000 [==============================] - 9s 2ms/step - loss: 0.5454 - accuracy: 0.8362 - val_loss: 0.6689 - val_accuracy: 0.8063\n",
            "Epoch 24/25\n",
            "4000/4000 [==============================] - 8s 2ms/step - loss: 0.5435 - accuracy: 0.8367 - val_loss: 0.6817 - val_accuracy: 0.8036\n",
            "Epoch 25/25\n",
            "4000/4000 [==============================] - 9s 2ms/step - loss: 0.5371 - accuracy: 0.8400 - val_loss: 0.7007 - val_accuracy: 0.8006\n"
          ],
          "name": "stdout"
        }
      ]
    },
    {
      "cell_type": "code",
      "metadata": {
        "id": "XBqPe8JeRdOC",
        "outputId": "636698e6-beca-416c-a25f-248c32e151df",
        "colab": {
          "base_uri": "https://localhost:8080/"
        }
      },
      "source": [
        "lr = 0.001\n",
        "model = create_model(lr = lr, opt = Adam)\n",
        "bt_itty_bitty = model.fit(\n",
        "    X_train, y_train, \n",
        "    epochs=25,\n",
        "    batch_size=8,\n",
        "    validation_data=(X_val,y_val))"
      ],
      "execution_count": 25,
      "outputs": [
        {
          "output_type": "stream",
          "text": [
            "Epoch 1/25\n",
            "8000/8000 [==============================] - 17s 2ms/step - loss: 1.6262 - accuracy: 0.4650 - val_loss: 1.1443 - val_accuracy: 0.6107\n",
            "Epoch 2/25\n",
            "8000/8000 [==============================] - 17s 2ms/step - loss: 1.0585 - accuracy: 0.6419 - val_loss: 1.0127 - val_accuracy: 0.6534\n",
            "Epoch 3/25\n",
            "8000/8000 [==============================] - 19s 2ms/step - loss: 0.9732 - accuracy: 0.6744 - val_loss: 0.9907 - val_accuracy: 0.6728\n",
            "Epoch 4/25\n",
            "8000/8000 [==============================] - 18s 2ms/step - loss: 0.9303 - accuracy: 0.6919 - val_loss: 0.9192 - val_accuracy: 0.6988\n",
            "Epoch 5/25\n",
            "8000/8000 [==============================] - 17s 2ms/step - loss: 0.8915 - accuracy: 0.7072 - val_loss: 0.8498 - val_accuracy: 0.7199\n",
            "Epoch 6/25\n",
            "8000/8000 [==============================] - 17s 2ms/step - loss: 0.8371 - accuracy: 0.7257 - val_loss: 0.8467 - val_accuracy: 0.7272\n",
            "Epoch 7/25\n",
            "8000/8000 [==============================] - 17s 2ms/step - loss: 0.8143 - accuracy: 0.7358 - val_loss: 0.8500 - val_accuracy: 0.7346\n",
            "Epoch 8/25\n",
            "8000/8000 [==============================] - 17s 2ms/step - loss: 0.7941 - accuracy: 0.7434 - val_loss: 0.8242 - val_accuracy: 0.7397\n",
            "Epoch 9/25\n",
            "8000/8000 [==============================] - 17s 2ms/step - loss: 0.7773 - accuracy: 0.7515 - val_loss: 0.8085 - val_accuracy: 0.7453\n",
            "Epoch 10/25\n",
            "8000/8000 [==============================] - 17s 2ms/step - loss: 0.7647 - accuracy: 0.7605 - val_loss: 0.7928 - val_accuracy: 0.7613\n",
            "Epoch 11/25\n",
            "8000/8000 [==============================] - 17s 2ms/step - loss: 0.7403 - accuracy: 0.7744 - val_loss: 0.7727 - val_accuracy: 0.7601\n",
            "Epoch 12/25\n",
            "8000/8000 [==============================] - 17s 2ms/step - loss: 0.7253 - accuracy: 0.7814 - val_loss: 0.7663 - val_accuracy: 0.7653\n",
            "Epoch 13/25\n",
            "8000/8000 [==============================] - 17s 2ms/step - loss: 0.7085 - accuracy: 0.7863 - val_loss: 0.7567 - val_accuracy: 0.7706\n",
            "Epoch 14/25\n",
            "8000/8000 [==============================] - 17s 2ms/step - loss: 0.7048 - accuracy: 0.7885 - val_loss: 0.7549 - val_accuracy: 0.7769\n",
            "Epoch 15/25\n",
            "8000/8000 [==============================] - 17s 2ms/step - loss: 0.6915 - accuracy: 0.7956 - val_loss: 0.7714 - val_accuracy: 0.7761\n",
            "Epoch 16/25\n",
            "8000/8000 [==============================] - 17s 2ms/step - loss: 0.6779 - accuracy: 0.7986 - val_loss: 0.7542 - val_accuracy: 0.7793\n",
            "Epoch 17/25\n",
            "8000/8000 [==============================] - 17s 2ms/step - loss: 0.6735 - accuracy: 0.8016 - val_loss: 0.7387 - val_accuracy: 0.7849\n",
            "Epoch 18/25\n",
            "8000/8000 [==============================] - 17s 2ms/step - loss: 0.6644 - accuracy: 0.8046 - val_loss: 0.7550 - val_accuracy: 0.7872\n",
            "Epoch 19/25\n",
            "8000/8000 [==============================] - 17s 2ms/step - loss: 0.6626 - accuracy: 0.8055 - val_loss: 0.7445 - val_accuracy: 0.7856\n",
            "Epoch 20/25\n",
            "8000/8000 [==============================] - 17s 2ms/step - loss: 0.6589 - accuracy: 0.8070 - val_loss: 0.7310 - val_accuracy: 0.7916\n",
            "Epoch 21/25\n",
            "8000/8000 [==============================] - 18s 2ms/step - loss: 0.6513 - accuracy: 0.8105 - val_loss: 0.7421 - val_accuracy: 0.7841\n",
            "Epoch 22/25\n",
            "8000/8000 [==============================] - 18s 2ms/step - loss: 0.6489 - accuracy: 0.8107 - val_loss: 0.7355 - val_accuracy: 0.7877\n",
            "Epoch 23/25\n",
            "8000/8000 [==============================] - 17s 2ms/step - loss: 0.6483 - accuracy: 0.8121 - val_loss: 0.7635 - val_accuracy: 0.7893\n",
            "Epoch 24/25\n",
            "8000/8000 [==============================] - 17s 2ms/step - loss: 0.6456 - accuracy: 0.8125 - val_loss: 0.7401 - val_accuracy: 0.7880\n",
            "Epoch 25/25\n",
            "8000/8000 [==============================] - 17s 2ms/step - loss: 0.6409 - accuracy: 0.8142 - val_loss: 0.7363 - val_accuracy: 0.7940\n"
          ],
          "name": "stdout"
        }
      ]
    },
    {
      "cell_type": "markdown",
      "metadata": {
        "id": "9zX3cVIZRueH"
      },
      "source": [
        "No improvement on overall model accuracy was found. Also, the fitting of these models were \n",
        "considerably slower than previous iterations. \n",
        "Lastly, I will try to increase the number of \n",
        "epochs to see what peak accuracy can be found with the best parameters found. "
      ]
    },
    {
      "cell_type": "code",
      "metadata": {
        "id": "DeajoKidU7cf",
        "outputId": "76539e3c-1698-4a5f-9347-64238daa8691",
        "colab": {
          "base_uri": "https://localhost:8080/"
        }
      },
      "source": [
        "lr = 0.001\n",
        "model = create_model(lr = lr, opt = Adam)\n",
        "opt_Adam_30 = model.fit(\n",
        "    X_train, y_train, \n",
        "    epochs=30,\n",
        "    batch_size=64,\n",
        "    validation_data=(X_val,y_val))"
      ],
      "execution_count": 36,
      "outputs": [
        {
          "output_type": "stream",
          "text": [
            "Epoch 1/30\n",
            "1000/1000 [==============================] - 2s 2ms/step - loss: 2.1122 - accuracy: 0.3899 - val_loss: 1.3675 - val_accuracy: 0.5527\n",
            "Epoch 2/30\n",
            "1000/1000 [==============================] - 2s 2ms/step - loss: 1.1960 - accuracy: 0.5820 - val_loss: 1.0956 - val_accuracy: 0.6244\n",
            "Epoch 3/30\n",
            "1000/1000 [==============================] - 2s 2ms/step - loss: 1.0247 - accuracy: 0.6589 - val_loss: 0.9211 - val_accuracy: 0.6953\n",
            "Epoch 4/30\n",
            "1000/1000 [==============================] - 2s 2ms/step - loss: 0.8873 - accuracy: 0.7073 - val_loss: 0.8470 - val_accuracy: 0.7176\n",
            "Epoch 5/30\n",
            "1000/1000 [==============================] - 2s 2ms/step - loss: 0.8134 - accuracy: 0.7366 - val_loss: 0.7911 - val_accuracy: 0.7426\n",
            "Epoch 6/30\n",
            "1000/1000 [==============================] - 2s 2ms/step - loss: 0.7693 - accuracy: 0.7520 - val_loss: 0.7706 - val_accuracy: 0.7556\n",
            "Epoch 7/30\n",
            "1000/1000 [==============================] - 2s 2ms/step - loss: 0.7371 - accuracy: 0.7660 - val_loss: 0.7618 - val_accuracy: 0.7578\n",
            "Epoch 8/30\n",
            "1000/1000 [==============================] - 2s 2ms/step - loss: 0.7173 - accuracy: 0.7735 - val_loss: 0.7446 - val_accuracy: 0.7679\n",
            "Epoch 9/30\n",
            "1000/1000 [==============================] - 2s 2ms/step - loss: 0.6807 - accuracy: 0.7864 - val_loss: 0.7138 - val_accuracy: 0.7838\n",
            "Epoch 10/30\n",
            "1000/1000 [==============================] - 2s 2ms/step - loss: 0.6483 - accuracy: 0.7983 - val_loss: 0.6855 - val_accuracy: 0.7911\n",
            "Epoch 11/30\n",
            "1000/1000 [==============================] - 2s 2ms/step - loss: 0.6253 - accuracy: 0.8064 - val_loss: 0.6764 - val_accuracy: 0.7985\n",
            "Epoch 12/30\n",
            "1000/1000 [==============================] - 2s 2ms/step - loss: 0.6024 - accuracy: 0.8146 - val_loss: 0.6722 - val_accuracy: 0.7967\n",
            "Epoch 13/30\n",
            "1000/1000 [==============================] - 2s 2ms/step - loss: 0.5876 - accuracy: 0.8202 - val_loss: 0.6530 - val_accuracy: 0.8004\n",
            "Epoch 14/30\n",
            "1000/1000 [==============================] - 2s 2ms/step - loss: 0.5710 - accuracy: 0.8271 - val_loss: 0.6478 - val_accuracy: 0.8024\n",
            "Epoch 15/30\n",
            "1000/1000 [==============================] - 2s 2ms/step - loss: 0.5605 - accuracy: 0.8300 - val_loss: 0.6370 - val_accuracy: 0.8109\n",
            "Epoch 16/30\n",
            "1000/1000 [==============================] - 2s 2ms/step - loss: 0.5481 - accuracy: 0.8340 - val_loss: 0.6464 - val_accuracy: 0.8059\n",
            "Epoch 17/30\n",
            "1000/1000 [==============================] - 2s 2ms/step - loss: 0.5408 - accuracy: 0.8366 - val_loss: 0.6399 - val_accuracy: 0.8083\n",
            "Epoch 18/30\n",
            "1000/1000 [==============================] - 2s 2ms/step - loss: 0.5315 - accuracy: 0.8389 - val_loss: 0.6440 - val_accuracy: 0.8114\n",
            "Epoch 19/30\n",
            "1000/1000 [==============================] - 2s 2ms/step - loss: 0.5255 - accuracy: 0.8406 - val_loss: 0.6436 - val_accuracy: 0.8107\n",
            "Epoch 20/30\n",
            "1000/1000 [==============================] - 2s 2ms/step - loss: 0.5175 - accuracy: 0.8437 - val_loss: 0.6473 - val_accuracy: 0.8129\n",
            "Epoch 21/30\n",
            "1000/1000 [==============================] - 2s 2ms/step - loss: 0.5112 - accuracy: 0.8443 - val_loss: 0.6475 - val_accuracy: 0.8096\n",
            "Epoch 22/30\n",
            "1000/1000 [==============================] - 2s 2ms/step - loss: 0.5057 - accuracy: 0.8464 - val_loss: 0.6506 - val_accuracy: 0.8124\n",
            "Epoch 23/30\n",
            "1000/1000 [==============================] - 2s 2ms/step - loss: 0.4994 - accuracy: 0.8495 - val_loss: 0.6554 - val_accuracy: 0.8134\n",
            "Epoch 24/30\n",
            "1000/1000 [==============================] - 2s 2ms/step - loss: 0.4943 - accuracy: 0.8505 - val_loss: 0.6746 - val_accuracy: 0.8069\n",
            "Epoch 25/30\n",
            "1000/1000 [==============================] - 2s 2ms/step - loss: 0.4901 - accuracy: 0.8510 - val_loss: 0.6536 - val_accuracy: 0.8126\n",
            "Epoch 26/30\n",
            "1000/1000 [==============================] - 2s 2ms/step - loss: 0.4867 - accuracy: 0.8532 - val_loss: 0.6492 - val_accuracy: 0.8123\n",
            "Epoch 27/30\n",
            "1000/1000 [==============================] - 2s 2ms/step - loss: 0.4808 - accuracy: 0.8545 - val_loss: 0.6615 - val_accuracy: 0.8102\n",
            "Epoch 28/30\n",
            "1000/1000 [==============================] - 2s 2ms/step - loss: 0.4757 - accuracy: 0.8562 - val_loss: 0.6528 - val_accuracy: 0.8130\n",
            "Epoch 29/30\n",
            "1000/1000 [==============================] - 2s 2ms/step - loss: 0.4739 - accuracy: 0.8559 - val_loss: 0.6620 - val_accuracy: 0.8078\n",
            "Epoch 30/30\n",
            "1000/1000 [==============================] - 2s 2ms/step - loss: 0.4700 - accuracy: 0.8581 - val_loss: 0.6696 - val_accuracy: 0.8098\n"
          ],
          "name": "stdout"
        }
      ]
    },
    {
      "cell_type": "markdown",
      "metadata": {
        "id": "VlRdNwFV_CSE"
      },
      "source": [
        "No major improvements found. 30 epochs is slightly better than 25, but after 30 it pretty much treads water"
      ]
    },
    {
      "cell_type": "code",
      "metadata": {
        "id": "OIN1p5AfA_bm",
        "outputId": "19e7da3b-8a69-47c0-c605-fec68180d8ef",
        "colab": {
          "base_uri": "https://localhost:8080/"
        }
      },
      "source": [
        "model.summary()"
      ],
      "execution_count": 37,
      "outputs": [
        {
          "output_type": "stream",
          "text": [
            "Model: \"sequential_24\"\n",
            "_________________________________________________________________\n",
            "Layer (type)                 Output Shape              Param #   \n",
            "=================================================================\n",
            "dense_96 (Dense)             (None, 32)                25120     \n",
            "_________________________________________________________________\n",
            "dense_97 (Dense)             (None, 32)                1056      \n",
            "_________________________________________________________________\n",
            "dense_98 (Dense)             (None, 16)                528       \n",
            "_________________________________________________________________\n",
            "dense_99 (Dense)             (None, 10)                170       \n",
            "=================================================================\n",
            "Total params: 26,874\n",
            "Trainable params: 26,874\n",
            "Non-trainable params: 0\n",
            "_________________________________________________________________\n"
          ],
          "name": "stdout"
        }
      ]
    },
    {
      "cell_type": "code",
      "metadata": {
        "id": "3_4hZz0hBtVy",
        "outputId": "7e547231-17be-469a-97e3-a58afdcd7ca3",
        "colab": {
          "base_uri": "https://localhost:8080/",
          "height": 284
        }
      },
      "source": [
        "df = pd.DataFrame.from_records(opt_Adam.history)\n",
        "df['epoch'] = [i for i in range(df.shape[0])]\n",
        "sns.set(style=\"darkgrid\")\n",
        "ax = sns.lineplot(x='epoch', y='accuracy', data=df)\n",
        "ax = sns.lineplot(x='epoch', y='loss', data=df)\n",
        "plt.show()"
      ],
      "execution_count": 38,
      "outputs": [
        {
          "output_type": "display_data",
          "data": {
            "image/png": "[encoded data removed]",
            "text/plain": [
              "<Figure size 432x288 with 1 Axes>"
            ]
          },
          "metadata": {
            "tags": []
          }
        }
      ]
    },
    {
      "cell_type": "code",
      "metadata": {
        "id": "Tsd86A-MNaaK",
        "outputId": "b27471bf-f3fe-4372-daf2-bf5aec1055fe",
        "colab": {
          "base_uri": "https://localhost:8080/"
        }
      },
      "source": [
        "model.evaluate(X_test, y_test)"
      ],
      "execution_count": 39,
      "outputs": [
        {
          "output_type": "stream",
          "text": [
            "625/625 [==============================] - 1s 2ms/step - loss: 0.6638 - accuracy: 0.8140\n"
          ],
          "name": "stdout"
        },
        {
          "output_type": "execute_result",
          "data": {
            "text/plain": [
              "[0.6637628674507141, 0.8139500021934509]"
            ]
          },
          "metadata": {
            "tags": []
          },
          "execution_count": 39
        }
      ]
    },
    {
      "cell_type": "markdown",
      "metadata": {
        "id": "ydAqeY9S8uHA"
      },
      "source": [
        "### Additional Written Tasks\n",
        "\n",
        "1. Describe the process of backpropagation in your own words: \n",
        "```\n",
        "As part of the neural network optimization process, the model wil run through forwards,\n",
        " evaluate the errors, and step backwards through the network adjusting the weights \n",
        " between the neurons incrementally to reduce the error for the next run until the best set\n",
        "  of wieghts is found. each run forwards and backwards making adjustments to the network is \n",
        "  known as an 'epoch'. The amount of change performed on each weight is independant of the\n",
        "  others. The entire process of tuning these weights is known as 'backpropagation'.\n",
        "```\n",
        "\n"
      ]
    },
    {
      "cell_type": "markdown",
      "metadata": {
        "id": "FwlRJSfBlCvy"
      },
      "source": [
        "## Stretch Goals: \n",
        "\n",
        "- Implement GridSearch on anyone of the experiments\n",
        "- On the learning rate experiments, implement [EarlyStopping](https://www.tensorflow.org/api_docs/python/tf/keras/callbacks/EarlyStopping)\n",
        "- Review material on the math behind gradient descent: \n",
        "\n",
        "  - Gradient Descent\n",
        "    - Gradient Descent, Step-by-Step  by StatQuest w/ Josh Starmer. This will help you understand the gradient descent based optimization that happens underneath the hood of neural networks. It uses a non-neural network example, which I believe is a gentler introduction. You will hear me refer to this technique as \"vanilla\" gradient descent. \n",
        "    - Stochastic Gradient Descent, Clearly Explained!!! by StatQuest w/ Josh Starmer. This builds on the techniques in the previous video.  This technique is the one that is actually implemented inside modern 'nets. \n",
        "These are great resources to help you understand tomorrow's material at a deeper level. I highly recommend watching these ahead of tomorrow.\n",
        "\n",
        "  - Background Math\n",
        "    - Dot products and duality by 3Blue1Brown. Explains the core linear algebra operation happening in today's perceptron.\n",
        "The paradox of the derivative by 3Blue1Brown. Does a great job explaining a derivative. \n",
        "    - Visualizing the chain rule and product rule by 3Blue1Brown. Explains the black magic that happens within Stochastic Gradient Descent. \n",
        "These math resources are very much optional. They can be very heady, but I encourage you to explore. Your understanding of neural networks will greatly increase if you understand this math background.\n",
        "\n",
        "\n"
      ]
    }
  ]
}